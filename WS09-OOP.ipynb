{
  "nbformat": 4,
  "nbformat_minor": 0,
  "metadata": {
    "kernelspec": {
      "display_name": "Python 3",
      "language": "python",
      "name": "python3"
    },
    "language_info": {
      "codemirror_mode": {
        "name": "ipython",
        "version": 3
      },
      "file_extension": ".py",
      "mimetype": "text/x-python",
      "name": "python",
      "nbconvert_exporter": "python",
      "pygments_lexer": "ipython3",
      "version": "3.8.5"
    },
    "toc": {
      "base_numbering": 1,
      "nav_menu": {},
      "number_sections": true,
      "sideBar": true,
      "skip_h1_title": false,
      "title_cell": "Table of Contents",
      "title_sidebar": "Contents",
      "toc_cell": false,
      "toc_position": {},
      "toc_section_display": true,
      "toc_window_display": true
    },
    "varInspector": {
      "cols": {
        "lenName": 16,
        "lenType": 16,
        "lenVar": 40
      },
      "kernels_config": {
        "python": {
          "delete_cmd_postfix": "",
          "delete_cmd_prefix": "del ",
          "library": "var_list.py",
          "varRefreshCmd": "print(var_dic_list())"
        },
        "r": {
          "delete_cmd_postfix": ") ",
          "delete_cmd_prefix": "rm(",
          "library": "var_list.r",
          "varRefreshCmd": "cat(var_dic_list()) "
        }
      },
      "types_to_exclude": [
        "module",
        "function",
        "builtin_function_or_method",
        "instance",
        "_Feature"
      ],
      "window_display": false
    },
    "colab": {
      "provenance": []
    }
  },
  "cells": [
    {
      "cell_type": "markdown",
      "source": [
        "Напишите программу, которая посчитает количество смайликов в заданном тексте. Смайликом будем считать последовательность символов, удовлетворяющую условиям:\n",
        "1. первым символом является либо ; (точка с запятой) либо : (двоеточие) ровно один раз;\n",
        "2. далее может идти символ – (минус) сколько угодно раз (в том числе символ минус может идти ноль раз);\n",
        "3. в конце обязательно идет некоторое количество (не меньше одной) одинаковых скобок из следующего набора: (, ), [, ];\n",
        "4. внутри смайлика не может встречаться никаких других символов.\n",
        "\n",
        "Например, нижеприведенные последовательности являются смайликами:\n",
        ":)\n",
        ";———[[[[[[[[\n",
        "в то время как эти последовательности смайликами не являются (хотя некоторые из них содержат смайлики):\n",
        ":-)]\n",
        ";–\n",
        "-)\n",
        "::-(\n",
        ":-()\n",
        "\n",
        "В этой задаче надо будет посчитать количество смайликов, содержащихся в данном тексте."
      ],
      "metadata": {
        "id": "06dKNyklId4C"
      }
    },
    {
      "cell_type": "code",
      "source": [
        "s = input()\n",
        "i = 0\n",
        "amount = 0\n",
        "while i < len(s):\n",
        "  if s[i] == ':' or s[i] == ';':\n",
        "    j = i + 1\n",
        "    while s[j] == '-' and j < len(s):\n",
        "      j += 1\n",
        "    if j < len(s) and '()[]'.count(s[j]) > 0:\n",
        "      j += 1\n",
        "      while s[j] == s[j - 1] and j < len(s):\n",
        "        j += 1\n",
        "      amount += 1\n",
        "    i = j\n",
        "  else:\n",
        "    i += 1\n",
        "\n",
        "print(amount)"
      ],
      "metadata": {
        "id": "JJuCZzSeIbqp"
      },
      "execution_count": null,
      "outputs": []
    },
    {
      "cell_type": "code",
      "source": [
        "s = '1;2:3;4::5:6;7;;;8'\n",
        "s = s.split(';')\n",
        "#s = ''.join(x for x in s)\n",
        "res_split = []\n",
        "for sub_s in s:\n",
        "   res = sub_s.split(':')\n",
        "   res_split += res"
      ],
      "metadata": {
        "id": "I0L7SqL7Nk5G"
      },
      "execution_count": 8,
      "outputs": []
    },
    {
      "cell_type": "code",
      "source": [
        "res_split"
      ],
      "metadata": {
        "id": "gwvbkfjOOEGD",
        "outputId": "fc37fb8a-c794-4ddf-d6d2-77671bb5a374",
        "colab": {
          "base_uri": "https://localhost:8080/"
        }
      },
      "execution_count": 9,
      "outputs": [
        {
          "output_type": "execute_result",
          "data": {
            "text/plain": [
              "['1', '2', '3', '4', '', '5', '6', '7', '', '', '8']"
            ]
          },
          "metadata": {},
          "execution_count": 9
        }
      ]
    },
    {
      "cell_type": "code",
      "source": [
        "s = input().split('-')\n",
        "s = ''.join(x for x in s if x != '')\n",
        "\n",
        "k = 0\n",
        "\n",
        "for i in range(len(s)-1):\n",
        "    if s[i] in [':',';'] and s[i+1] in [')','(','[',']']:\n",
        "        k += 1\n",
        "print(k)"
      ],
      "metadata": {
        "id": "7f4WfFLMLuJq"
      },
      "execution_count": null,
      "outputs": []
    },
    {
      "cell_type": "markdown",
      "source": [
        "В генеалогическом древе у каждого человека, кроме родоначальника, есть ровно один родитель.\n",
        "\n",
        "Для каждого элемента дерева определите число всех его потомков (не считая его самого)."
      ],
      "metadata": {
        "id": "v8O69dPYNZY0"
      }
    },
    {
      "cell_type": "markdown",
      "source": [
        "Программа получает на вход число элементов в генеалогическом древе N (N <= 1000). Далее следует N−1 строка, задающие родителя для каждого элемента древа, кроме родоначальника. Каждая строка имеет вид имя_потомка имя_родителя."
      ],
      "metadata": {
        "id": "urECvHexPIzF"
      }
    },
    {
      "cell_type": "markdown",
      "source": [
        "Выведите список всех элементов в лексикографическом порядке, для каждого элемента выводите количество всех его потомков."
      ],
      "metadata": {
        "id": "t2a82sgGPKMg"
      }
    },
    {
      "cell_type": "code",
      "source": [
        "import sys\n",
        "sys.setrecursionlimit(100000)"
      ],
      "metadata": {
        "id": "VrCZ25wSPjKy"
      },
      "execution_count": 10,
      "outputs": []
    },
    {
      "cell_type": "code",
      "source": [
        "[1, 2, 3] + [4, 5, 6]"
      ],
      "metadata": {
        "id": "RXVWV2bqSdns",
        "outputId": "4c243f0d-d555-4ea8-abf6-e3b5295cbfa1",
        "colab": {
          "base_uri": "https://localhost:8080/"
        }
      },
      "execution_count": 11,
      "outputs": [
        {
          "output_type": "execute_result",
          "data": {
            "text/plain": [
              "[1, 2, 3, 4, 5, 6]"
            ]
          },
          "metadata": {},
          "execution_count": 11
        }
      ]
    },
    {
      "cell_type": "code",
      "source": [
        "a = [1, 2, 3]\n",
        "a.extend(range(10, 20, 2))\n",
        "a"
      ],
      "metadata": {
        "id": "TwMwVH0DSirp",
        "outputId": "8015684f-a397-4685-d05f-8e5243ad75ba",
        "colab": {
          "base_uri": "https://localhost:8080/"
        }
      },
      "execution_count": 14,
      "outputs": [
        {
          "output_type": "execute_result",
          "data": {
            "text/plain": [
              "[1, 2, 3, 10, 12, 14, 16, 18]"
            ]
          },
          "metadata": {},
          "execution_count": 14
        }
      ]
    },
    {
      "cell_type": "code",
      "source": [
        "def collector(d, key):\n",
        "  if d[key] == []:\n",
        "    return 0\n",
        "  else:\n",
        "    res = 0\n",
        "    for elem in d[key]:\n",
        "      res += collector(d, elem) + 1\n",
        "    return res\n",
        "\n",
        "\n",
        "n = int(input())\n",
        "d = {}\n",
        "for i in range(n - 1):\n",
        "  ancestor, parent = input().split()\n",
        "  d[ancestor] = d.get(ancestor, [])\n",
        "  d[parent] = d.get(parent, []) + [ancestor]\n",
        "\n",
        "for k in sorted(d.keys()):\n",
        "  print(k, collector(d, k))"
      ],
      "metadata": {
        "id": "ZmB1UsnYPIjp"
      },
      "execution_count": null,
      "outputs": []
    },
    {
      "cell_type": "markdown",
      "metadata": {
        "collapsed": false,
        "id": "qrN7lJzWDI6V"
      },
      "source": [
        "## 0. Объектно-ориентированное программирование в Python."
      ]
    },
    {
      "cell_type": "markdown",
      "metadata": {
        "collapsed": false,
        "id": "57byHXhMDI6V"
      },
      "source": [
        "Бывает, что вам нужно написать программу, которую вы запустите один раз и которая просто должна решить некоторую задачу. В этом случае все средства хороши, и можно оформлять код так, как вам удобно. Есть и другая ситуация: вам надо запрограммировать что-то, что потом вы будете использовать много раз, а ещё этот код могут захотеть редактировать другие люди. Тут надо задуматься о правильном оформлении кода.\n",
        "\n",
        "В машинном обучении главное — это модели, их обучение, применение, подсчёт качества и прочие связанные операции. Допустим, вы собрались запрограммировать обучение и применение метода k ближайших соседей и выложить в открытый доступ. Тогда будет логично потребовать от вашего кода следующее:\n",
        "1. Вы можете что-то улучшить в нём, не поменяв логику работы, и это не сломает ничего у пользователей. Будет странно, если вы, скажем, замените циклы на векторные операции в numpy, опубликуете новую версию, и любой код, зависящий от вашего, перестанет работать. Ведь суть того, что делает ваш код, не поменялась!\n",
        "2. Достаточно легко можно сделать расширенные версии kNN на основе вашего кода — например, запрограммировать kNN с весами.\n",
        "3. От пользователей скрыты все детали вашей реализации — чтобы пользоваться вашим кодом для kNN, им не нужно вникать, как вы храните данные, как ищете ближайших соседей и т.д. Они просто вызывают нужные функции, и всё работает.\n",
        "\n",
        "Объектно-ориентированное программирование (ООП) — это подход к организации кода, который (наверное) лучше всего подходит для оформления операций из машинного обучения. В его основе лежат классы и объекты, а также три важных свойства: инкапсуляция, наследование и полиморфизм. Ниже мы разберёмся со всем этим.\n",
        "\n",
        "Программист может создать класс, своеобразный чертёж, который будет определять поведение объектов этого класса: какие данные они могут хранить и какой код исполнять. После этого можно создавать объекты класса с ожидаемым поведением.\n",
        "\n",
        "Поломать голову над формальными определениями ООП можно [на вики](https://ru.wikipedia.org/wiki/%D0%9E%D0%B1%D1%8A%D0%B5%D0%BA%D1%82%D0%BD%D0%BE-%D0%BE%D1%80%D0%B8%D0%B5%D0%BD%D1%82%D0%B8%D1%80%D0%BE%D0%B2%D0%B0%D0%BD%D0%BD%D0%BE%D0%B5_%D0%BF%D1%80%D0%BE%D0%B3%D1%80%D0%B0%D0%BC%D0%BC%D0%B8%D1%80%D0%BE%D0%B2%D0%B0%D0%BD%D0%B8%D0%B5)."
      ]
    }
  ]
}