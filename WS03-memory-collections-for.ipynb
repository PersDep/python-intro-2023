{
  "nbformat": 4,
  "nbformat_minor": 0,
  "metadata": {
    "kernelspec": {
      "display_name": "Python 3",
      "language": "python",
      "name": "python3"
    },
    "language_info": {
      "codemirror_mode": {
        "name": "ipython",
        "version": 3
      },
      "file_extension": ".py",
      "mimetype": "text/x-python",
      "name": "python",
      "nbconvert_exporter": "python",
      "pygments_lexer": "ipython3",
      "version": "3.8.5"
    },
    "toc": {
      "base_numbering": 1,
      "nav_menu": {},
      "number_sections": true,
      "sideBar": true,
      "skip_h1_title": false,
      "title_cell": "Table of Contents",
      "title_sidebar": "Contents",
      "toc_cell": false,
      "toc_position": {},
      "toc_section_display": true,
      "toc_window_display": true
    },
    "varInspector": {
      "cols": {
        "lenName": 16,
        "lenType": 16,
        "lenVar": 40
      },
      "kernels_config": {
        "python": {
          "delete_cmd_postfix": "",
          "delete_cmd_prefix": "del ",
          "library": "var_list.py",
          "varRefreshCmd": "print(var_dic_list())"
        },
        "r": {
          "delete_cmd_postfix": ") ",
          "delete_cmd_prefix": "rm(",
          "library": "var_list.r",
          "varRefreshCmd": "cat(var_dic_list()) "
        }
      },
      "types_to_exclude": [
        "module",
        "function",
        "builtin_function_or_method",
        "instance",
        "_Feature"
      ],
      "window_display": false
    },
    "colab": {
      "name": "Copy of WS2-basics.ipynb",
      "provenance": []
    }
  },
  "cells": [
    {
      "cell_type": "markdown",
      "metadata": {
        "id": "Dd-3r8P9TQ_G"
      },
      "source": [
        "## 0. Вещественные числа и погрешности\n",
        "\n",
        "Вещественные числа в программировании не так просты. Вот, например, посчитаем синус числа $\\pi$:"
      ]
    },
    {
      "cell_type": "code",
      "metadata": {
        "id": "OBACHtO-TQ_G",
        "colab": {
          "base_uri": "https://localhost:8080/"
        },
        "outputId": "8afe0395-a4b5-4275-ecfc-67fad471d5d0"
      },
      "source": [
        "from math import pi, sin\n",
        "sin(pi)  #думаете, получится 0? Ха-ха!"
      ],
      "execution_count": 1,
      "outputs": [
        {
          "output_type": "execute_result",
          "data": {
            "text/plain": [
              "1.2246467991473532e-16"
            ]
          },
          "metadata": {},
          "execution_count": 1
        }
      ]
    },
    {
      "cell_type": "markdown",
      "metadata": {
        "id": "k3U4SPDETQ_G"
      },
      "source": [
        "Непонятный ответ? Во-первых, это так называемая [компьютерная форма экспоненциальной записи чисел.](https://ru.wikipedia.org/wiki/Экспоненциальная_запись#.D0.9A.D0.BE.D0.BC.D0.BF.D1.8C.D1.8E.D1.82.D0.B5.D1.80.D0.BD.D1.8B.D0.B9_.D1.81.D0.BF.D0.BE.D1.81.D0.BE.D0.B1_.D1.8D.D0.BA.D1.81.D0.BF.D0.BE.D0.BD.D0.B5.D0.BD.D1.86.D0.B8.D0.B0.D0.BB.D1.8C.D0.BD.D0.BE.D0.B9_.D0.B7.D0.B0.D0.BF.D0.B8.D1.81.D0.B8) Она удобна, если нужно уметь записывать очень большие или очень маленькие числа:`1.2E2` означает `1.2⋅102`, то есть `1200`, а `2.4e-3` — то же самое, что `2.4⋅10−3=00024`.\n",
        "\n",
        "Результат, посчитанный Python для $\\sin \\pi$, имеет порядок `10^(−16)` — это очень маленькое число, близкое к нулю. Почему не «настоящий» ноль? Все вычисления в вещественных числах делаются компьютером с некоторой ограниченной точностью, поэтому зачастую вместо «честных» ответов получаются такие приближенные. К этому надо быть готовым."
      ]
    },
    {
      "cell_type": "code",
      "metadata": {
        "id": "K31XqHzUTQ_G",
        "colab": {
          "base_uri": "https://localhost:8080/"
        },
        "outputId": "84df8c96-766b-4855-98a9-e6cdccc7f292"
      },
      "source": [
        "0.4 - 0.3 == 0.1"
      ],
      "execution_count": 2,
      "outputs": [
        {
          "output_type": "execute_result",
          "data": {
            "text/plain": [
              "False"
            ]
          },
          "metadata": {},
          "execution_count": 2
        }
      ]
    },
    {
      "cell_type": "code",
      "metadata": {
        "id": "sMyy3Nq8TQ_H"
      },
      "source": [
        "a = 0.4 - 0.3"
      ],
      "execution_count": 3,
      "outputs": []
    },
    {
      "cell_type": "code",
      "metadata": {
        "id": "ij3srYLbTQ_H",
        "colab": {
          "base_uri": "https://localhost:8080/"
        },
        "outputId": "802b485a-d143-4865-babf-17719c9bf682"
      },
      "source": [
        "a"
      ],
      "execution_count": 4,
      "outputs": [
        {
          "output_type": "execute_result",
          "data": {
            "text/plain": [
              "0.10000000000000003"
            ]
          },
          "metadata": {},
          "execution_count": 4
        }
      ]
    },
    {
      "cell_type": "code",
      "metadata": {
        "id": "Cg8mAv3fTQ_H",
        "colab": {
          "base_uri": "https://localhost:8080/"
        },
        "outputId": "ea0b0a97-0d32-4233-ee5c-620dcfdaee8f"
      },
      "source": [
        "a == 0.1"
      ],
      "execution_count": 5,
      "outputs": [
        {
          "output_type": "execute_result",
          "data": {
            "text/plain": [
              "False"
            ]
          },
          "metadata": {},
          "execution_count": 5
        }
      ]
    },
    {
      "cell_type": "code",
      "metadata": {
        "id": "SKfZl7r7TQ_I",
        "colab": {
          "base_uri": "https://localhost:8080/"
        },
        "outputId": "0dbb9715-e0ff-4717-cfa4-6212157b0a84"
      },
      "source": [
        "import sys\n",
        "a - 0.1 < sys.float_info.epsilon"
      ],
      "execution_count": 6,
      "outputs": [
        {
          "output_type": "execute_result",
          "data": {
            "text/plain": [
              "True"
            ]
          },
          "metadata": {},
          "execution_count": 6
        }
      ]
    },
    {
      "cell_type": "code",
      "metadata": {
        "colab": {
          "base_uri": "https://localhost:8080/"
        },
        "id": "GpxaD05Ik0SJ",
        "outputId": "50ae8381-9757-437c-80df-4b1c89e3cabe"
      },
      "source": [
        "import sys\n",
        "sys.float_info.epsilon"
      ],
      "execution_count": 7,
      "outputs": [
        {
          "output_type": "execute_result",
          "data": {
            "text/plain": [
              "2.220446049250313e-16"
            ]
          },
          "metadata": {},
          "execution_count": 7
        }
      ]
    },
    {
      "cell_type": "code",
      "metadata": {
        "id": "oszKlePpTQ_I",
        "colab": {
          "base_uri": "https://localhost:8080/"
        },
        "outputId": "61d361ce-cacf-49ab-f878-1a69797fe183"
      },
      "source": [
        "0.4 - 0.3"
      ],
      "execution_count": 8,
      "outputs": [
        {
          "output_type": "execute_result",
          "data": {
            "text/plain": [
              "0.10000000000000003"
            ]
          },
          "metadata": {},
          "execution_count": 8
        }
      ]
    },
    {
      "cell_type": "markdown",
      "metadata": {
        "id": "3lNhbqzUTQ_I"
      },
      "source": [
        "Когда сравниваете вещественные числа -- будьте осторожнее.\n",
        "\n",
        "Представление вещественного числа:"
      ]
    },
    {
      "cell_type": "markdown",
      "metadata": {
        "id": "i5at7BWoLxGk"
      },
      "source": [
        "![image.png](data:image/png;base64,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)"
      ]
    },
    {
      "cell_type": "markdown",
      "metadata": {
        "id": "HH0DOmryL1tr"
      },
      "source": [
        "S -- Знаковый бит\n",
        "\n",
        "E -- Порядок\n",
        "\n",
        "M -- Мантисса\n",
        "\n",
        "B -- Основание (10)\n",
        "\n",
        "X = (-1)^S * B^E * M"
      ]
    },
    {
      "cell_type": "markdown",
      "metadata": {
        "id": "rR7DsI9MMpar"
      },
      "source": [
        "64-битный float (double precision):"
      ]
    },
    {
      "cell_type": "markdown",
      "metadata": {
        "id": "X9umx1mGMmjv"
      },
      "source": [
        "![image.png](data:image/png;base64,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)"
      ]
    },
    {
      "cell_type": "markdown",
      "metadata": {
        "id": "pHnHc9QcTQ_M"
      },
      "source": [
        "## 1. Коллекции: списки, кортежи, range, (строки), множества, словари и др. Понятие последовательности"
      ]
    },
    {
      "cell_type": "markdown",
      "metadata": {
        "id": "RF2vHIXgTQ_N"
      },
      "source": [
        "### Строки\n",
        "\n",
        "Строковые константы можно задавать и с помощью одинарных кавычек, и с помощью двойных, и с помощью тройных:"
      ]
    },
    {
      "cell_type": "code",
      "metadata": {
        "id": "cFV-T3PkTQ_N",
        "colab": {
          "base_uri": "https://localhost:8080/"
        },
        "outputId": "fbe1f2e1-6648-4d99-d26e-4c6421acfd43"
      },
      "source": [
        "s1 = 'ab\"c'\n",
        "s2 = \"ab'c\"\n",
        "s3 = \"\"\"abc\n",
        "aaaaaa\n",
        "aaaaa\n",
        "a\n",
        "aa\n",
        "\"\"\"\n",
        "\n",
        "s1 == s2 == s3"
      ],
      "execution_count": 9,
      "outputs": [
        {
          "output_type": "execute_result",
          "data": {
            "text/plain": [
              "False"
            ]
          },
          "metadata": {},
          "execution_count": 9
        }
      ]
    },
    {
      "cell_type": "code",
      "metadata": {
        "id": "N6yhUHhFTQ_N",
        "colab": {
          "base_uri": "https://localhost:8080/",
          "height": 157
        },
        "outputId": "5c5c381a-6922-48ca-e662-14543a7ae4fd"
      },
      "source": [
        "print(s3)\n",
        "print()\n",
        "s3"
      ],
      "execution_count": 10,
      "outputs": [
        {
          "output_type": "stream",
          "name": "stdout",
          "text": [
            "abc\n",
            "aaaaaa\n",
            "aaaaa\n",
            "a\n",
            "aa\n",
            "\n",
            "\n"
          ]
        },
        {
          "output_type": "execute_result",
          "data": {
            "text/plain": [
              "'abc\\naaaaaa\\naaaaa\\na\\naa\\n'"
            ],
            "application/vnd.google.colaboratory.intrinsic+json": {
              "type": "string"
            }
          },
          "metadata": {},
          "execution_count": 10
        }
      ]
    },
    {
      "cell_type": "code",
      "metadata": {
        "id": "e0rrMxLeTQ_O",
        "colab": {
          "base_uri": "https://localhost:8080/",
          "height": 70
        },
        "outputId": "6b913898-7420-41d1-d4f0-7f012b732231"
      },
      "source": [
        "a = 'a\\naaaa'\n",
        "print(a)\n",
        "a"
      ],
      "execution_count": 11,
      "outputs": [
        {
          "output_type": "stream",
          "name": "stdout",
          "text": [
            "a\n",
            "aaaa\n"
          ]
        },
        {
          "output_type": "execute_result",
          "data": {
            "text/plain": [
              "'a\\naaaa'"
            ],
            "application/vnd.google.colaboratory.intrinsic+json": {
              "type": "string"
            }
          },
          "metadata": {},
          "execution_count": 11
        }
      ]
    },
    {
      "cell_type": "code",
      "metadata": {
        "id": "UsJC0wKRTQ_O",
        "colab": {
          "base_uri": "https://localhost:8080/",
          "height": 36
        },
        "outputId": "22f63de0-f4b4-4603-8693-b87013c3035c"
      },
      "source": [
        "a[3]"
      ],
      "execution_count": 12,
      "outputs": [
        {
          "output_type": "execute_result",
          "data": {
            "text/plain": [
              "'a'"
            ],
            "application/vnd.google.colaboratory.intrinsic+json": {
              "type": "string"
            }
          },
          "metadata": {},
          "execution_count": 12
        }
      ]
    },
    {
      "cell_type": "markdown",
      "metadata": {
        "id": "yNQ3sZUqVlrG"
      },
      "source": [
        "**Внимание:** строки иммутабельны (неизменяемы)!"
      ]
    },
    {
      "cell_type": "code",
      "metadata": {
        "id": "ZXOY4q7IVeFC"
      },
      "source": [
        "# a[1] = 'b'"
      ],
      "execution_count": 13,
      "outputs": []
    },
    {
      "cell_type": "markdown",
      "metadata": {
        "id": "JxnDeKcGTQ_O"
      },
      "source": [
        "Функция `len` — получить длину строки (определена для всех коллекций):"
      ]
    },
    {
      "cell_type": "code",
      "metadata": {
        "id": "PItdK3IkTQ_P",
        "colab": {
          "base_uri": "https://localhost:8080/"
        },
        "outputId": "c89374a9-64bf-4003-8983-0b4a2718e941"
      },
      "source": [
        "len(\"abc\")"
      ],
      "execution_count": 14,
      "outputs": [
        {
          "output_type": "execute_result",
          "data": {
            "text/plain": [
              "3"
            ]
          },
          "metadata": {},
          "execution_count": 14
        }
      ]
    },
    {
      "cell_type": "code",
      "source": [
        "'abc' in 'adabcde'"
      ],
      "metadata": {
        "id": "JUaIJbyLqfuc",
        "outputId": "894cb2b3-1d9e-42fc-82a2-5f3499e2772f",
        "colab": {
          "base_uri": "https://localhost:8080/"
        }
      },
      "execution_count": 15,
      "outputs": [
        {
          "output_type": "execute_result",
          "data": {
            "text/plain": [
              "True"
            ]
          },
          "metadata": {},
          "execution_count": 15
        }
      ]
    },
    {
      "cell_type": "code",
      "source": [
        "'abc' in 'adade'"
      ],
      "metadata": {
        "id": "CF5LpSRVqjMs",
        "outputId": "3bf4375e-6870-44cc-ddfb-14b085f8ce66",
        "colab": {
          "base_uri": "https://localhost:8080/"
        }
      },
      "execution_count": 16,
      "outputs": [
        {
          "output_type": "execute_result",
          "data": {
            "text/plain": [
              "False"
            ]
          },
          "metadata": {},
          "execution_count": 16
        }
      ]
    },
    {
      "cell_type": "code",
      "metadata": {
        "colab": {
          "base_uri": "https://localhost:8080/"
        },
        "id": "B2ejXNTSpufi",
        "outputId": "1a769382-dba4-493e-dcbe-4d105065e4b6"
      },
      "source": [
        "help(str)"
      ],
      "execution_count": 17,
      "outputs": [
        {
          "output_type": "stream",
          "name": "stdout",
          "text": [
            "Help on class str in module builtins:\n",
            "\n",
            "class str(object)\n",
            " |  str(object='') -> str\n",
            " |  str(bytes_or_buffer[, encoding[, errors]]) -> str\n",
            " |  \n",
            " |  Create a new string object from the given object. If encoding or\n",
            " |  errors is specified, then the object must expose a data buffer\n",
            " |  that will be decoded using the given encoding and error handler.\n",
            " |  Otherwise, returns the result of object.__str__() (if defined)\n",
            " |  or repr(object).\n",
            " |  encoding defaults to sys.getdefaultencoding().\n",
            " |  errors defaults to 'strict'.\n",
            " |  \n",
            " |  Methods defined here:\n",
            " |  \n",
            " |  __add__(self, value, /)\n",
            " |      Return self+value.\n",
            " |  \n",
            " |  __contains__(self, key, /)\n",
            " |      Return key in self.\n",
            " |  \n",
            " |  __eq__(self, value, /)\n",
            " |      Return self==value.\n",
            " |  \n",
            " |  __format__(self, format_spec, /)\n",
            " |      Return a formatted version of the string as described by format_spec.\n",
            " |  \n",
            " |  __ge__(self, value, /)\n",
            " |      Return self>=value.\n",
            " |  \n",
            " |  __getattribute__(self, name, /)\n",
            " |      Return getattr(self, name).\n",
            " |  \n",
            " |  __getitem__(self, key, /)\n",
            " |      Return self[key].\n",
            " |  \n",
            " |  __getnewargs__(...)\n",
            " |  \n",
            " |  __gt__(self, value, /)\n",
            " |      Return self>value.\n",
            " |  \n",
            " |  __hash__(self, /)\n",
            " |      Return hash(self).\n",
            " |  \n",
            " |  __iter__(self, /)\n",
            " |      Implement iter(self).\n",
            " |  \n",
            " |  __le__(self, value, /)\n",
            " |      Return self<=value.\n",
            " |  \n",
            " |  __len__(self, /)\n",
            " |      Return len(self).\n",
            " |  \n",
            " |  __lt__(self, value, /)\n",
            " |      Return self<value.\n",
            " |  \n",
            " |  __mod__(self, value, /)\n",
            " |      Return self%value.\n",
            " |  \n",
            " |  __mul__(self, value, /)\n",
            " |      Return self*value.\n",
            " |  \n",
            " |  __ne__(self, value, /)\n",
            " |      Return self!=value.\n",
            " |  \n",
            " |  __repr__(self, /)\n",
            " |      Return repr(self).\n",
            " |  \n",
            " |  __rmod__(self, value, /)\n",
            " |      Return value%self.\n",
            " |  \n",
            " |  __rmul__(self, value, /)\n",
            " |      Return value*self.\n",
            " |  \n",
            " |  __sizeof__(self, /)\n",
            " |      Return the size of the string in memory, in bytes.\n",
            " |  \n",
            " |  __str__(self, /)\n",
            " |      Return str(self).\n",
            " |  \n",
            " |  capitalize(self, /)\n",
            " |      Return a capitalized version of the string.\n",
            " |      \n",
            " |      More specifically, make the first character have upper case and the rest lower\n",
            " |      case.\n",
            " |  \n",
            " |  casefold(self, /)\n",
            " |      Return a version of the string suitable for caseless comparisons.\n",
            " |  \n",
            " |  center(self, width, fillchar=' ', /)\n",
            " |      Return a centered string of length width.\n",
            " |      \n",
            " |      Padding is done using the specified fill character (default is a space).\n",
            " |  \n",
            " |  count(...)\n",
            " |      S.count(sub[, start[, end]]) -> int\n",
            " |      \n",
            " |      Return the number of non-overlapping occurrences of substring sub in\n",
            " |      string S[start:end].  Optional arguments start and end are\n",
            " |      interpreted as in slice notation.\n",
            " |  \n",
            " |  encode(self, /, encoding='utf-8', errors='strict')\n",
            " |      Encode the string using the codec registered for encoding.\n",
            " |      \n",
            " |      encoding\n",
            " |        The encoding in which to encode the string.\n",
            " |      errors\n",
            " |        The error handling scheme to use for encoding errors.\n",
            " |        The default is 'strict' meaning that encoding errors raise a\n",
            " |        UnicodeEncodeError.  Other possible values are 'ignore', 'replace' and\n",
            " |        'xmlcharrefreplace' as well as any other name registered with\n",
            " |        codecs.register_error that can handle UnicodeEncodeErrors.\n",
            " |  \n",
            " |  endswith(...)\n",
            " |      S.endswith(suffix[, start[, end]]) -> bool\n",
            " |      \n",
            " |      Return True if S ends with the specified suffix, False otherwise.\n",
            " |      With optional start, test S beginning at that position.\n",
            " |      With optional end, stop comparing S at that position.\n",
            " |      suffix can also be a tuple of strings to try.\n",
            " |  \n",
            " |  expandtabs(self, /, tabsize=8)\n",
            " |      Return a copy where all tab characters are expanded using spaces.\n",
            " |      \n",
            " |      If tabsize is not given, a tab size of 8 characters is assumed.\n",
            " |  \n",
            " |  find(...)\n",
            " |      S.find(sub[, start[, end]]) -> int\n",
            " |      \n",
            " |      Return the lowest index in S where substring sub is found,\n",
            " |      such that sub is contained within S[start:end].  Optional\n",
            " |      arguments start and end are interpreted as in slice notation.\n",
            " |      \n",
            " |      Return -1 on failure.\n",
            " |  \n",
            " |  format(...)\n",
            " |      S.format(*args, **kwargs) -> str\n",
            " |      \n",
            " |      Return a formatted version of S, using substitutions from args and kwargs.\n",
            " |      The substitutions are identified by braces ('{' and '}').\n",
            " |  \n",
            " |  format_map(...)\n",
            " |      S.format_map(mapping) -> str\n",
            " |      \n",
            " |      Return a formatted version of S, using substitutions from mapping.\n",
            " |      The substitutions are identified by braces ('{' and '}').\n",
            " |  \n",
            " |  index(...)\n",
            " |      S.index(sub[, start[, end]]) -> int\n",
            " |      \n",
            " |      Return the lowest index in S where substring sub is found,\n",
            " |      such that sub is contained within S[start:end].  Optional\n",
            " |      arguments start and end are interpreted as in slice notation.\n",
            " |      \n",
            " |      Raises ValueError when the substring is not found.\n",
            " |  \n",
            " |  isalnum(self, /)\n",
            " |      Return True if the string is an alpha-numeric string, False otherwise.\n",
            " |      \n",
            " |      A string is alpha-numeric if all characters in the string are alpha-numeric and\n",
            " |      there is at least one character in the string.\n",
            " |  \n",
            " |  isalpha(self, /)\n",
            " |      Return True if the string is an alphabetic string, False otherwise.\n",
            " |      \n",
            " |      A string is alphabetic if all characters in the string are alphabetic and there\n",
            " |      is at least one character in the string.\n",
            " |  \n",
            " |  isascii(self, /)\n",
            " |      Return True if all characters in the string are ASCII, False otherwise.\n",
            " |      \n",
            " |      ASCII characters have code points in the range U+0000-U+007F.\n",
            " |      Empty string is ASCII too.\n",
            " |  \n",
            " |  isdecimal(self, /)\n",
            " |      Return True if the string is a decimal string, False otherwise.\n",
            " |      \n",
            " |      A string is a decimal string if all characters in the string are decimal and\n",
            " |      there is at least one character in the string.\n",
            " |  \n",
            " |  isdigit(self, /)\n",
            " |      Return True if the string is a digit string, False otherwise.\n",
            " |      \n",
            " |      A string is a digit string if all characters in the string are digits and there\n",
            " |      is at least one character in the string.\n",
            " |  \n",
            " |  isidentifier(self, /)\n",
            " |      Return True if the string is a valid Python identifier, False otherwise.\n",
            " |      \n",
            " |      Call keyword.iskeyword(s) to test whether string s is a reserved identifier,\n",
            " |      such as \"def\" or \"class\".\n",
            " |  \n",
            " |  islower(self, /)\n",
            " |      Return True if the string is a lowercase string, False otherwise.\n",
            " |      \n",
            " |      A string is lowercase if all cased characters in the string are lowercase and\n",
            " |      there is at least one cased character in the string.\n",
            " |  \n",
            " |  isnumeric(self, /)\n",
            " |      Return True if the string is a numeric string, False otherwise.\n",
            " |      \n",
            " |      A string is numeric if all characters in the string are numeric and there is at\n",
            " |      least one character in the string.\n",
            " |  \n",
            " |  isprintable(self, /)\n",
            " |      Return True if the string is printable, False otherwise.\n",
            " |      \n",
            " |      A string is printable if all of its characters are considered printable in\n",
            " |      repr() or if it is empty.\n",
            " |  \n",
            " |  isspace(self, /)\n",
            " |      Return True if the string is a whitespace string, False otherwise.\n",
            " |      \n",
            " |      A string is whitespace if all characters in the string are whitespace and there\n",
            " |      is at least one character in the string.\n",
            " |  \n",
            " |  istitle(self, /)\n",
            " |      Return True if the string is a title-cased string, False otherwise.\n",
            " |      \n",
            " |      In a title-cased string, upper- and title-case characters may only\n",
            " |      follow uncased characters and lowercase characters only cased ones.\n",
            " |  \n",
            " |  isupper(self, /)\n",
            " |      Return True if the string is an uppercase string, False otherwise.\n",
            " |      \n",
            " |      A string is uppercase if all cased characters in the string are uppercase and\n",
            " |      there is at least one cased character in the string.\n",
            " |  \n",
            " |  join(self, iterable, /)\n",
            " |      Concatenate any number of strings.\n",
            " |      \n",
            " |      The string whose method is called is inserted in between each given string.\n",
            " |      The result is returned as a new string.\n",
            " |      \n",
            " |      Example: '.'.join(['ab', 'pq', 'rs']) -> 'ab.pq.rs'\n",
            " |  \n",
            " |  ljust(self, width, fillchar=' ', /)\n",
            " |      Return a left-justified string of length width.\n",
            " |      \n",
            " |      Padding is done using the specified fill character (default is a space).\n",
            " |  \n",
            " |  lower(self, /)\n",
            " |      Return a copy of the string converted to lowercase.\n",
            " |  \n",
            " |  lstrip(self, chars=None, /)\n",
            " |      Return a copy of the string with leading whitespace removed.\n",
            " |      \n",
            " |      If chars is given and not None, remove characters in chars instead.\n",
            " |  \n",
            " |  partition(self, sep, /)\n",
            " |      Partition the string into three parts using the given separator.\n",
            " |      \n",
            " |      This will search for the separator in the string.  If the separator is found,\n",
            " |      returns a 3-tuple containing the part before the separator, the separator\n",
            " |      itself, and the part after it.\n",
            " |      \n",
            " |      If the separator is not found, returns a 3-tuple containing the original string\n",
            " |      and two empty strings.\n",
            " |  \n",
            " |  removeprefix(self, prefix, /)\n",
            " |      Return a str with the given prefix string removed if present.\n",
            " |      \n",
            " |      If the string starts with the prefix string, return string[len(prefix):].\n",
            " |      Otherwise, return a copy of the original string.\n",
            " |  \n",
            " |  removesuffix(self, suffix, /)\n",
            " |      Return a str with the given suffix string removed if present.\n",
            " |      \n",
            " |      If the string ends with the suffix string and that suffix is not empty,\n",
            " |      return string[:-len(suffix)]. Otherwise, return a copy of the original\n",
            " |      string.\n",
            " |  \n",
            " |  replace(self, old, new, count=-1, /)\n",
            " |      Return a copy with all occurrences of substring old replaced by new.\n",
            " |      \n",
            " |        count\n",
            " |          Maximum number of occurrences to replace.\n",
            " |          -1 (the default value) means replace all occurrences.\n",
            " |      \n",
            " |      If the optional argument count is given, only the first count occurrences are\n",
            " |      replaced.\n",
            " |  \n",
            " |  rfind(...)\n",
            " |      S.rfind(sub[, start[, end]]) -> int\n",
            " |      \n",
            " |      Return the highest index in S where substring sub is found,\n",
            " |      such that sub is contained within S[start:end].  Optional\n",
            " |      arguments start and end are interpreted as in slice notation.\n",
            " |      \n",
            " |      Return -1 on failure.\n",
            " |  \n",
            " |  rindex(...)\n",
            " |      S.rindex(sub[, start[, end]]) -> int\n",
            " |      \n",
            " |      Return the highest index in S where substring sub is found,\n",
            " |      such that sub is contained within S[start:end].  Optional\n",
            " |      arguments start and end are interpreted as in slice notation.\n",
            " |      \n",
            " |      Raises ValueError when the substring is not found.\n",
            " |  \n",
            " |  rjust(self, width, fillchar=' ', /)\n",
            " |      Return a right-justified string of length width.\n",
            " |      \n",
            " |      Padding is done using the specified fill character (default is a space).\n",
            " |  \n",
            " |  rpartition(self, sep, /)\n",
            " |      Partition the string into three parts using the given separator.\n",
            " |      \n",
            " |      This will search for the separator in the string, starting at the end. If\n",
            " |      the separator is found, returns a 3-tuple containing the part before the\n",
            " |      separator, the separator itself, and the part after it.\n",
            " |      \n",
            " |      If the separator is not found, returns a 3-tuple containing two empty strings\n",
            " |      and the original string.\n",
            " |  \n",
            " |  rsplit(self, /, sep=None, maxsplit=-1)\n",
            " |      Return a list of the substrings in the string, using sep as the separator string.\n",
            " |      \n",
            " |        sep\n",
            " |          The separator used to split the string.\n",
            " |      \n",
            " |          When set to None (the default value), will split on any whitespace\n",
            " |          character (including \\\\n \\\\r \\\\t \\\\f and spaces) and will discard\n",
            " |          empty strings from the result.\n",
            " |        maxsplit\n",
            " |          Maximum number of splits (starting from the left).\n",
            " |          -1 (the default value) means no limit.\n",
            " |      \n",
            " |      Splitting starts at the end of the string and works to the front.\n",
            " |  \n",
            " |  rstrip(self, chars=None, /)\n",
            " |      Return a copy of the string with trailing whitespace removed.\n",
            " |      \n",
            " |      If chars is given and not None, remove characters in chars instead.\n",
            " |  \n",
            " |  split(self, /, sep=None, maxsplit=-1)\n",
            " |      Return a list of the substrings in the string, using sep as the separator string.\n",
            " |      \n",
            " |        sep\n",
            " |          The separator used to split the string.\n",
            " |      \n",
            " |          When set to None (the default value), will split on any whitespace\n",
            " |          character (including \\\\n \\\\r \\\\t \\\\f and spaces) and will discard\n",
            " |          empty strings from the result.\n",
            " |        maxsplit\n",
            " |          Maximum number of splits (starting from the left).\n",
            " |          -1 (the default value) means no limit.\n",
            " |      \n",
            " |      Note, str.split() is mainly useful for data that has been intentionally\n",
            " |      delimited.  With natural text that includes punctuation, consider using\n",
            " |      the regular expression module.\n",
            " |  \n",
            " |  splitlines(self, /, keepends=False)\n",
            " |      Return a list of the lines in the string, breaking at line boundaries.\n",
            " |      \n",
            " |      Line breaks are not included in the resulting list unless keepends is given and\n",
            " |      true.\n",
            " |  \n",
            " |  startswith(...)\n",
            " |      S.startswith(prefix[, start[, end]]) -> bool\n",
            " |      \n",
            " |      Return True if S starts with the specified prefix, False otherwise.\n",
            " |      With optional start, test S beginning at that position.\n",
            " |      With optional end, stop comparing S at that position.\n",
            " |      prefix can also be a tuple of strings to try.\n",
            " |  \n",
            " |  strip(self, chars=None, /)\n",
            " |      Return a copy of the string with leading and trailing whitespace removed.\n",
            " |      \n",
            " |      If chars is given and not None, remove characters in chars instead.\n",
            " |  \n",
            " |  swapcase(self, /)\n",
            " |      Convert uppercase characters to lowercase and lowercase characters to uppercase.\n",
            " |  \n",
            " |  title(self, /)\n",
            " |      Return a version of the string where each word is titlecased.\n",
            " |      \n",
            " |      More specifically, words start with uppercased characters and all remaining\n",
            " |      cased characters have lower case.\n",
            " |  \n",
            " |  translate(self, table, /)\n",
            " |      Replace each character in the string using the given translation table.\n",
            " |      \n",
            " |        table\n",
            " |          Translation table, which must be a mapping of Unicode ordinals to\n",
            " |          Unicode ordinals, strings, or None.\n",
            " |      \n",
            " |      The table must implement lookup/indexing via __getitem__, for instance a\n",
            " |      dictionary or list.  If this operation raises LookupError, the character is\n",
            " |      left untouched.  Characters mapped to None are deleted.\n",
            " |  \n",
            " |  upper(self, /)\n",
            " |      Return a copy of the string converted to uppercase.\n",
            " |  \n",
            " |  zfill(self, width, /)\n",
            " |      Pad a numeric string with zeros on the left, to fill a field of the given width.\n",
            " |      \n",
            " |      The string is never truncated.\n",
            " |  \n",
            " |  ----------------------------------------------------------------------\n",
            " |  Static methods defined here:\n",
            " |  \n",
            " |  __new__(*args, **kwargs) from builtins.type\n",
            " |      Create and return a new object.  See help(type) for accurate signature.\n",
            " |  \n",
            " |  maketrans(...)\n",
            " |      Return a translation table usable for str.translate().\n",
            " |      \n",
            " |      If there is only one argument, it must be a dictionary mapping Unicode\n",
            " |      ordinals (integers) or characters to Unicode ordinals, strings or None.\n",
            " |      Character keys will be then converted to ordinals.\n",
            " |      If there are two arguments, they must be strings of equal length, and\n",
            " |      in the resulting dictionary, each character in x will be mapped to the\n",
            " |      character at the same position in y. If there is a third argument, it\n",
            " |      must be a string, whose characters will be mapped to None in the result.\n",
            "\n"
          ]
        }
      ]
    },
    {
      "cell_type": "markdown",
      "metadata": {
        "id": "SUXyABVVTQ_P"
      },
      "source": [
        "У типа str большое количество встроенных строковых методов:\n",
        "* .find — найти подстроку\n",
        "* .upper — перевести строку в верхний регистр\n",
        "* .lower — перевести строку в нижний регистр\n",
        "* .strip — обрезать по краям поданные символы (по умолчанию пробельные)\n",
        "* ...\n",
        "\n",
        "https://docs.python.org/3/library/stdtypes.html#text-sequence-type-str\n",
        "\n",
        "Все они возвращают новый экземпляр строки!"
      ]
    },
    {
      "cell_type": "code",
      "metadata": {
        "colab": {
          "base_uri": "https://localhost:8080/"
        },
        "id": "In4EVqKGpJa8",
        "outputId": "f6bf8e68-4ffd-4755-f0fb-e89fc48f7578"
      },
      "source": [
        "s3.replace('a', '10')\n",
        "print(s3)\n",
        "s4 = s3.replace('a', '10')\n",
        "print()\n",
        "print()\n",
        "print(s4)"
      ],
      "execution_count": 18,
      "outputs": [
        {
          "output_type": "stream",
          "name": "stdout",
          "text": [
            "abc\n",
            "aaaaaa\n",
            "aaaaa\n",
            "a\n",
            "aa\n",
            "\n",
            "\n",
            "\n",
            "10bc\n",
            "101010101010\n",
            "1010101010\n",
            "10\n",
            "1010\n",
            "\n"
          ]
        }
      ]
    },
    {
      "cell_type": "code",
      "source": [
        "s1"
      ],
      "metadata": {
        "id": "Crh_UDVqs_tK",
        "outputId": "93e2572b-a477-421c-8e76-f9e3a2a72162",
        "colab": {
          "base_uri": "https://localhost:8080/",
          "height": 36
        }
      },
      "execution_count": 19,
      "outputs": [
        {
          "output_type": "execute_result",
          "data": {
            "text/plain": [
              "'ab\"c'"
            ],
            "application/vnd.google.colaboratory.intrinsic+json": {
              "type": "string"
            }
          },
          "metadata": {},
          "execution_count": 19
        }
      ]
    },
    {
      "cell_type": "code",
      "metadata": {
        "id": "fqYN8DWxTQ_P",
        "colab": {
          "base_uri": "https://localhost:8080/"
        },
        "outputId": "afe12ce5-e058-4bc6-9162-3e9f14089b05"
      },
      "source": [
        "s1.find('\"b')"
      ],
      "execution_count": 20,
      "outputs": [
        {
          "output_type": "execute_result",
          "data": {
            "text/plain": [
              "-1"
            ]
          },
          "metadata": {},
          "execution_count": 20
        }
      ]
    },
    {
      "cell_type": "code",
      "metadata": {
        "id": "Cgh8Pxa2TQ_P",
        "colab": {
          "base_uri": "https://localhost:8080/",
          "height": 36
        },
        "outputId": "d2a34b92-a409-400a-bce1-64275b8580f8"
      },
      "source": [
        "s1[-2]"
      ],
      "execution_count": 21,
      "outputs": [
        {
          "output_type": "execute_result",
          "data": {
            "text/plain": [
              "'\"'"
            ],
            "application/vnd.google.colaboratory.intrinsic+json": {
              "type": "string"
            }
          },
          "metadata": {},
          "execution_count": 21
        }
      ]
    },
    {
      "cell_type": "code",
      "metadata": {
        "id": "JaIENCdJTQ_Q",
        "colab": {
          "base_uri": "https://localhost:8080/",
          "height": 36
        },
        "outputId": "212dc4f5-6597-4900-fc52-7e0df5eabd74"
      },
      "source": [
        "sl = s1.upper()\n",
        "sl"
      ],
      "execution_count": 22,
      "outputs": [
        {
          "output_type": "execute_result",
          "data": {
            "text/plain": [
              "'AB\"C'"
            ],
            "application/vnd.google.colaboratory.intrinsic+json": {
              "type": "string"
            }
          },
          "metadata": {},
          "execution_count": 22
        }
      ]
    },
    {
      "cell_type": "code",
      "metadata": {
        "id": "1pfwI3PyTQ_R",
        "colab": {
          "base_uri": "https://localhost:8080/",
          "height": 36
        },
        "outputId": "e81d3f29-fa1e-459e-d77f-a2b7bfd78ef5"
      },
      "source": [
        "s1.upper().lower()"
      ],
      "execution_count": 23,
      "outputs": [
        {
          "output_type": "execute_result",
          "data": {
            "text/plain": [
              "'ab\"c'"
            ],
            "application/vnd.google.colaboratory.intrinsic+json": {
              "type": "string"
            }
          },
          "metadata": {},
          "execution_count": 23
        }
      ]
    },
    {
      "cell_type": "code",
      "metadata": {
        "id": "8U4pWhAhTQ_S",
        "colab": {
          "base_uri": "https://localhost:8080/",
          "height": 36
        },
        "outputId": "53ef4d26-de5a-43c6-8138-932a627a4676"
      },
      "source": [
        "\"a   \".strip()"
      ],
      "execution_count": 24,
      "outputs": [
        {
          "output_type": "execute_result",
          "data": {
            "text/plain": [
              "'a'"
            ],
            "application/vnd.google.colaboratory.intrinsic+json": {
              "type": "string"
            }
          },
          "metadata": {},
          "execution_count": 24
        }
      ]
    },
    {
      "cell_type": "code",
      "metadata": {
        "id": "5pZKZ0ciTQ_S"
      },
      "source": [
        "z = '      z.      '"
      ],
      "execution_count": 25,
      "outputs": []
    },
    {
      "cell_type": "code",
      "metadata": {
        "id": "yU6QnUaXTQ_S",
        "colab": {
          "base_uri": "https://localhost:8080/",
          "height": 36
        },
        "outputId": "43d215aa-bdcc-4460-d00a-002774ff53e5"
      },
      "source": [
        "z.strip()"
      ],
      "execution_count": 26,
      "outputs": [
        {
          "output_type": "execute_result",
          "data": {
            "text/plain": [
              "'z.'"
            ],
            "application/vnd.google.colaboratory.intrinsic+json": {
              "type": "string"
            }
          },
          "metadata": {},
          "execution_count": 26
        }
      ]
    },
    {
      "cell_type": "code",
      "metadata": {
        "id": "8ZQTSIdJTQ_T",
        "colab": {
          "base_uri": "https://localhost:8080/",
          "height": 36
        },
        "outputId": "3dcc4bac-f1c8-45dc-d31e-69f8630a6549"
      },
      "source": [
        "z.rstrip()"
      ],
      "execution_count": 27,
      "outputs": [
        {
          "output_type": "execute_result",
          "data": {
            "text/plain": [
              "'      z.'"
            ],
            "application/vnd.google.colaboratory.intrinsic+json": {
              "type": "string"
            }
          },
          "metadata": {},
          "execution_count": 27
        }
      ]
    },
    {
      "cell_type": "code",
      "metadata": {
        "id": "MOdP1OB_TQ_T",
        "colab": {
          "base_uri": "https://localhost:8080/",
          "height": 36
        },
        "outputId": "e129e58f-79b4-4b8b-ab11-72e01e90bb21"
      },
      "source": [
        "z.lstrip()"
      ],
      "execution_count": 28,
      "outputs": [
        {
          "output_type": "execute_result",
          "data": {
            "text/plain": [
              "'z.      '"
            ],
            "application/vnd.google.colaboratory.intrinsic+json": {
              "type": "string"
            }
          },
          "metadata": {},
          "execution_count": 28
        }
      ]
    },
    {
      "cell_type": "markdown",
      "metadata": {
        "id": "9fSBFpcCTQ_T"
      },
      "source": [
        "Продвинутая индексация: Слайсы"
      ]
    },
    {
      "cell_type": "code",
      "metadata": {
        "id": "qd8uP8faWaPP"
      },
      "source": [
        "s = 'abcde'"
      ],
      "execution_count": 29,
      "outputs": []
    },
    {
      "cell_type": "code",
      "metadata": {
        "id": "OOSkwN5kTQ_U",
        "colab": {
          "base_uri": "https://localhost:8080/",
          "height": 36
        },
        "outputId": "fce7f714-d48a-4d8f-a391-744f78b16d99"
      },
      "source": [
        "'b' + s[1:]"
      ],
      "execution_count": 30,
      "outputs": [
        {
          "output_type": "execute_result",
          "data": {
            "text/plain": [
              "'bbcde'"
            ],
            "application/vnd.google.colaboratory.intrinsic+json": {
              "type": "string"
            }
          },
          "metadata": {},
          "execution_count": 30
        }
      ]
    },
    {
      "cell_type": "code",
      "source": [
        "s[-1:-4:-1]"
      ],
      "metadata": {
        "id": "DMSb5oi8tczf",
        "outputId": "f0e2aa84-e6f3-4dbe-c1a8-f7135083d62a",
        "colab": {
          "base_uri": "https://localhost:8080/",
          "height": 36
        }
      },
      "execution_count": 31,
      "outputs": [
        {
          "output_type": "execute_result",
          "data": {
            "text/plain": [
              "'edc'"
            ],
            "application/vnd.google.colaboratory.intrinsic+json": {
              "type": "string"
            }
          },
          "metadata": {},
          "execution_count": 31
        }
      ]
    },
    {
      "cell_type": "code",
      "metadata": {
        "id": "DbPRzvskTQ_V",
        "colab": {
          "base_uri": "https://localhost:8080/",
          "height": 36
        },
        "outputId": "a6d01ba2-67bf-4619-c11b-0fabfae45a3e"
      },
      "source": [
        "s[1:]"
      ],
      "execution_count": 32,
      "outputs": [
        {
          "output_type": "execute_result",
          "data": {
            "text/plain": [
              "'bcde'"
            ],
            "application/vnd.google.colaboratory.intrinsic+json": {
              "type": "string"
            }
          },
          "metadata": {},
          "execution_count": 32
        }
      ]
    },
    {
      "cell_type": "code",
      "source": [
        "s[0:len(s):1]"
      ],
      "metadata": {
        "id": "ZfoKGUBtuTJs",
        "outputId": "38bcdf49-04da-46aa-b876-2479f40c1527",
        "colab": {
          "base_uri": "https://localhost:8080/",
          "height": 36
        }
      },
      "execution_count": 33,
      "outputs": [
        {
          "output_type": "execute_result",
          "data": {
            "text/plain": [
              "'abcde'"
            ],
            "application/vnd.google.colaboratory.intrinsic+json": {
              "type": "string"
            }
          },
          "metadata": {},
          "execution_count": 33
        }
      ]
    },
    {
      "cell_type": "code",
      "metadata": {
        "id": "BM5wuNtGTQ_V",
        "colab": {
          "base_uri": "https://localhost:8080/",
          "height": 36
        },
        "outputId": "2fc9b687-821b-4874-cc1e-b83193c378bf"
      },
      "source": [
        "s[1:-1]"
      ],
      "execution_count": 34,
      "outputs": [
        {
          "output_type": "execute_result",
          "data": {
            "text/plain": [
              "'bcd'"
            ],
            "application/vnd.google.colaboratory.intrinsic+json": {
              "type": "string"
            }
          },
          "metadata": {},
          "execution_count": 34
        }
      ]
    },
    {
      "cell_type": "code",
      "metadata": {
        "id": "YzBOr4aOTQ_V",
        "colab": {
          "base_uri": "https://localhost:8080/",
          "height": 53
        },
        "outputId": "504017df-2797-44e3-9eb7-e6e61afeb92c"
      },
      "source": [
        "s_new = s[2:4]\n",
        "print(s)\n",
        "s_new"
      ],
      "execution_count": 35,
      "outputs": [
        {
          "output_type": "stream",
          "name": "stdout",
          "text": [
            "abcde\n"
          ]
        },
        {
          "output_type": "execute_result",
          "data": {
            "text/plain": [
              "'cd'"
            ],
            "application/vnd.google.colaboratory.intrinsic+json": {
              "type": "string"
            }
          },
          "metadata": {},
          "execution_count": 35
        }
      ]
    },
    {
      "cell_type": "markdown",
      "metadata": {
        "id": "sxPM6ymATQ_W"
      },
      "source": [
        "s[start:finish:step]\n",
        "\n",
        "* start — начало среза\n",
        "* finish — конец среза (не входит в срез!!!)\n",
        "* step — шаг\n",
        "\n",
        "Индексы в питоне могут быть отрицательными! В таком случае считаем с конца (или двигаемся в обратном направлении, если это step)"
      ]
    },
    {
      "cell_type": "code",
      "metadata": {
        "id": "kpPkoaRoTQ_W"
      },
      "source": [
        "s = '0123456789'"
      ],
      "execution_count": 36,
      "outputs": []
    },
    {
      "cell_type": "code",
      "metadata": {
        "id": "eTyH9cocTQ_W",
        "colab": {
          "base_uri": "https://localhost:8080/",
          "height": 36
        },
        "outputId": "656fb329-4016-416e-f515-e8368d4dbde1"
      },
      "source": [
        "s[::2]"
      ],
      "execution_count": 37,
      "outputs": [
        {
          "output_type": "execute_result",
          "data": {
            "text/plain": [
              "'02468'"
            ],
            "application/vnd.google.colaboratory.intrinsic+json": {
              "type": "string"
            }
          },
          "metadata": {},
          "execution_count": 37
        }
      ]
    },
    {
      "cell_type": "code",
      "metadata": {
        "id": "_yDlc6jUTQ_X",
        "colab": {
          "base_uri": "https://localhost:8080/",
          "height": 36
        },
        "outputId": "7c9c3d08-f8c1-4af8-eba0-0fd6d68c8226"
      },
      "source": [
        "s[-1:1:-1]"
      ],
      "execution_count": 38,
      "outputs": [
        {
          "output_type": "execute_result",
          "data": {
            "text/plain": [
              "'98765432'"
            ],
            "application/vnd.google.colaboratory.intrinsic+json": {
              "type": "string"
            }
          },
          "metadata": {},
          "execution_count": 38
        }
      ]
    },
    {
      "cell_type": "code",
      "metadata": {
        "id": "AV1vo-sJTQ_X",
        "colab": {
          "base_uri": "https://localhost:8080/",
          "height": 36
        },
        "outputId": "1d285d85-49d1-403e-a2f6-a503adfb6739"
      },
      "source": [
        "s[::-2]"
      ],
      "execution_count": 39,
      "outputs": [
        {
          "output_type": "execute_result",
          "data": {
            "text/plain": [
              "'97531'"
            ],
            "application/vnd.google.colaboratory.intrinsic+json": {
              "type": "string"
            }
          },
          "metadata": {},
          "execution_count": 39
        }
      ]
    },
    {
      "cell_type": "code",
      "metadata": {
        "id": "povXyxhBTQ_X",
        "colab": {
          "base_uri": "https://localhost:8080/",
          "height": 36
        },
        "outputId": "ae84cd57-c963-40ea-a4b7-e12f9d9fb70a"
      },
      "source": [
        "s[::3]"
      ],
      "execution_count": 40,
      "outputs": [
        {
          "output_type": "execute_result",
          "data": {
            "text/plain": [
              "'0369'"
            ],
            "application/vnd.google.colaboratory.intrinsic+json": {
              "type": "string"
            }
          },
          "metadata": {},
          "execution_count": 40
        }
      ]
    },
    {
      "cell_type": "code",
      "source": [
        "# 'abcd' --> 'dcba'"
      ],
      "metadata": {
        "id": "HS7Z6_28unwp"
      },
      "execution_count": 41,
      "outputs": []
    },
    {
      "cell_type": "code",
      "source": [
        "'abcd'[::-1]"
      ],
      "metadata": {
        "id": "5QSk9GGmuvuJ",
        "outputId": "976764a4-8c12-4d04-de32-24145eed9a98",
        "colab": {
          "base_uri": "https://localhost:8080/",
          "height": 36
        }
      },
      "execution_count": 42,
      "outputs": [
        {
          "output_type": "execute_result",
          "data": {
            "text/plain": [
              "'dcba'"
            ],
            "application/vnd.google.colaboratory.intrinsic+json": {
              "type": "string"
            }
          },
          "metadata": {},
          "execution_count": 42
        }
      ]
    },
    {
      "cell_type": "markdown",
      "metadata": {
        "id": "Jbq5g3zQTQ_X"
      },
      "source": [
        "Срез равный всей строке:"
      ]
    },
    {
      "cell_type": "code",
      "metadata": {
        "id": "Q8DaL9S5TQ_X",
        "colab": {
          "base_uri": "https://localhost:8080/",
          "height": 36
        },
        "outputId": "8c7e4d38-f2ea-47b0-9676-6080ee69d8e1"
      },
      "source": [
        "s[0:len(s):1]"
      ],
      "execution_count": 43,
      "outputs": [
        {
          "output_type": "execute_result",
          "data": {
            "text/plain": [
              "'0123456789'"
            ],
            "application/vnd.google.colaboratory.intrinsic+json": {
              "type": "string"
            }
          },
          "metadata": {},
          "execution_count": 43
        }
      ]
    },
    {
      "cell_type": "markdown",
      "metadata": {
        "id": "ozt9hMs0XhEo"
      },
      "source": [
        "Cрез с шагом 2:"
      ]
    },
    {
      "cell_type": "code",
      "metadata": {
        "id": "uSELbfiXTQ_Y",
        "colab": {
          "base_uri": "https://localhost:8080/",
          "height": 36
        },
        "outputId": "33fc4e74-e2e8-4926-fce7-d9c00ba7be2f"
      },
      "source": [
        "s[0:len(s):2]"
      ],
      "execution_count": 44,
      "outputs": [
        {
          "output_type": "execute_result",
          "data": {
            "text/plain": [
              "'02468'"
            ],
            "application/vnd.google.colaboratory.intrinsic+json": {
              "type": "string"
            }
          },
          "metadata": {},
          "execution_count": 44
        }
      ]
    },
    {
      "cell_type": "markdown",
      "metadata": {
        "id": "EF0SeaUvTQ_Y"
      },
      "source": [
        "Срез равный одному элементу:"
      ]
    },
    {
      "cell_type": "code",
      "metadata": {
        "id": "zJAZKSh1TQ_Y",
        "colab": {
          "base_uri": "https://localhost:8080/",
          "height": 36
        },
        "outputId": "8992ca5e-f58b-4fcd-9033-5bbbbf74a7b3"
      },
      "source": [
        "s[5:6:1]"
      ],
      "execution_count": 45,
      "outputs": [
        {
          "output_type": "execute_result",
          "data": {
            "text/plain": [
              "'5'"
            ],
            "application/vnd.google.colaboratory.intrinsic+json": {
              "type": "string"
            }
          },
          "metadata": {},
          "execution_count": 45
        }
      ]
    },
    {
      "cell_type": "markdown",
      "metadata": {
        "id": "LNW3ujCkYdCS"
      },
      "source": [
        "Строки, как мы помним, можно складывать и умножать:"
      ]
    },
    {
      "cell_type": "code",
      "metadata": {
        "colab": {
          "base_uri": "https://localhost:8080/",
          "height": 36
        },
        "id": "d2Bf8UNBYgh8",
        "outputId": "e27667c9-13e3-4ca7-ef1a-6f56e8bc64b7"
      },
      "source": [
        "s_new + s3"
      ],
      "execution_count": 46,
      "outputs": [
        {
          "output_type": "execute_result",
          "data": {
            "text/plain": [
              "'cdabc\\naaaaaa\\naaaaa\\na\\naa\\n'"
            ],
            "application/vnd.google.colaboratory.intrinsic+json": {
              "type": "string"
            }
          },
          "metadata": {},
          "execution_count": 46
        }
      ]
    },
    {
      "cell_type": "code",
      "metadata": {
        "colab": {
          "base_uri": "https://localhost:8080/",
          "height": 36
        },
        "id": "Mk_cmOfyYmV9",
        "outputId": "87fa5b1b-87bf-4697-8c27-98179d5c87fc"
      },
      "source": [
        "s_new * 5"
      ],
      "execution_count": 47,
      "outputs": [
        {
          "output_type": "execute_result",
          "data": {
            "text/plain": [
              "'cdcdcdcdcd'"
            ],
            "application/vnd.google.colaboratory.intrinsic+json": {
              "type": "string"
            }
          },
          "metadata": {},
          "execution_count": 47
        }
      ]
    },
    {
      "cell_type": "markdown",
      "metadata": {
        "id": "mlwchb0uTQ_Z"
      },
      "source": [
        "### Списки"
      ]
    },
    {
      "cell_type": "code",
      "source": [
        "a = 'enoernerng'"
      ],
      "metadata": {
        "id": "8iS3mTqVvNpv"
      },
      "execution_count": 48,
      "outputs": []
    },
    {
      "cell_type": "code",
      "source": [
        "a = []"
      ],
      "metadata": {
        "id": "_q3-x4PjvQRN"
      },
      "execution_count": 49,
      "outputs": []
    },
    {
      "cell_type": "code",
      "source": [
        "len(a)"
      ],
      "metadata": {
        "id": "Wu87jdhDvRer",
        "outputId": "f484763c-8135-4d94-bc55-478f0ab3c39a",
        "colab": {
          "base_uri": "https://localhost:8080/"
        }
      },
      "execution_count": 50,
      "outputs": [
        {
          "output_type": "execute_result",
          "data": {
            "text/plain": [
              "0"
            ]
          },
          "metadata": {},
          "execution_count": 50
        }
      ]
    },
    {
      "cell_type": "code",
      "source": [
        "import sys\n",
        "sys.getsizeof(a)"
      ],
      "metadata": {
        "id": "1KSWKlOFvSs6",
        "outputId": "9f2c5fc3-74a7-418a-a8a7-470a8188850d",
        "colab": {
          "base_uri": "https://localhost:8080/"
        }
      },
      "execution_count": 51,
      "outputs": [
        {
          "output_type": "execute_result",
          "data": {
            "text/plain": [
              "56"
            ]
          },
          "metadata": {},
          "execution_count": 51
        }
      ]
    },
    {
      "cell_type": "code",
      "metadata": {
        "id": "2j1Jh-dBTQ_Z"
      },
      "source": [
        "a = [1, 2, 3, 2, 0]"
      ],
      "execution_count": 52,
      "outputs": []
    },
    {
      "cell_type": "code",
      "source": [
        "id(a)"
      ],
      "metadata": {
        "id": "xipLe09evlJ5",
        "outputId": "0ec4de74-7def-4a73-963b-0fb04a0cdff6",
        "colab": {
          "base_uri": "https://localhost:8080/"
        }
      },
      "execution_count": 53,
      "outputs": [
        {
          "output_type": "execute_result",
          "data": {
            "text/plain": [
              "134717519795456"
            ]
          },
          "metadata": {},
          "execution_count": 53
        }
      ]
    },
    {
      "cell_type": "code",
      "source": [
        "sys.getsizeof(a)"
      ],
      "metadata": {
        "id": "buhPb5mxvXyv",
        "outputId": "2d8fbeaa-191d-4c5c-9253-8c4eee63b458",
        "colab": {
          "base_uri": "https://localhost:8080/"
        }
      },
      "execution_count": 54,
      "outputs": [
        {
          "output_type": "execute_result",
          "data": {
            "text/plain": [
              "104"
            ]
          },
          "metadata": {},
          "execution_count": 54
        }
      ]
    },
    {
      "cell_type": "code",
      "source": [
        "a.append(5)"
      ],
      "metadata": {
        "id": "lP6zuZlWveP8"
      },
      "execution_count": 55,
      "outputs": []
    },
    {
      "cell_type": "code",
      "source": [
        "id(a)"
      ],
      "metadata": {
        "id": "CyBeg-ryvnaq",
        "outputId": "23710213-6b9b-43a1-b183-cf3dedfab3c1",
        "colab": {
          "base_uri": "https://localhost:8080/"
        }
      },
      "execution_count": 56,
      "outputs": [
        {
          "output_type": "execute_result",
          "data": {
            "text/plain": [
              "134717519795456"
            ]
          },
          "metadata": {},
          "execution_count": 56
        }
      ]
    },
    {
      "cell_type": "code",
      "source": [
        "a"
      ],
      "metadata": {
        "id": "HJohsNIsvpEO",
        "outputId": "d5a8b97a-53f1-480f-e9d9-164dec53fef0",
        "colab": {
          "base_uri": "https://localhost:8080/"
        }
      },
      "execution_count": 57,
      "outputs": [
        {
          "output_type": "execute_result",
          "data": {
            "text/plain": [
              "[1, 2, 3, 2, 0, 5]"
            ]
          },
          "metadata": {},
          "execution_count": 57
        }
      ]
    },
    {
      "cell_type": "code",
      "source": [
        "sys.getsizeof(a)"
      ],
      "metadata": {
        "id": "niKCy5gWvikF",
        "outputId": "9d8bdf83-befc-4150-ed47-8f01de8d232e",
        "colab": {
          "base_uri": "https://localhost:8080/"
        }
      },
      "execution_count": 58,
      "outputs": [
        {
          "output_type": "execute_result",
          "data": {
            "text/plain": [
              "104"
            ]
          },
          "metadata": {},
          "execution_count": 58
        }
      ]
    },
    {
      "cell_type": "code",
      "source": [
        "a.append(10)"
      ],
      "metadata": {
        "id": "TmTK3RHAv0E9"
      },
      "execution_count": 59,
      "outputs": []
    },
    {
      "cell_type": "code",
      "source": [
        "a.append('oawnfaowpnfaw')"
      ],
      "metadata": {
        "id": "VIesdqzNv7h1"
      },
      "execution_count": 60,
      "outputs": []
    },
    {
      "cell_type": "code",
      "source": [
        "a.append(10 == 11)"
      ],
      "metadata": {
        "id": "YZT3rT0lv9rg"
      },
      "execution_count": 61,
      "outputs": []
    },
    {
      "cell_type": "code",
      "source": [
        "a"
      ],
      "metadata": {
        "id": "arIgYEGMv_mO",
        "outputId": "7deb8a2e-f446-4b08-e56b-cc1626ee399d",
        "colab": {
          "base_uri": "https://localhost:8080/"
        }
      },
      "execution_count": 62,
      "outputs": [
        {
          "output_type": "execute_result",
          "data": {
            "text/plain": [
              "[1, 2, 3, 2, 0, 5, 10, 'oawnfaowpnfaw', False]"
            ]
          },
          "metadata": {},
          "execution_count": 62
        }
      ]
    },
    {
      "cell_type": "code",
      "source": [
        "a.append(a)"
      ],
      "metadata": {
        "id": "i67Z2kl6wBUI"
      },
      "execution_count": 63,
      "outputs": []
    },
    {
      "cell_type": "code",
      "source": [
        "a"
      ],
      "metadata": {
        "id": "6TGzK-c0wDQG",
        "outputId": "ac778766-af0b-466b-a09f-65e182fc684e",
        "colab": {
          "base_uri": "https://localhost:8080/"
        }
      },
      "execution_count": 64,
      "outputs": [
        {
          "output_type": "execute_result",
          "data": {
            "text/plain": [
              "[1, 2, 3, 2, 0, 5, 10, 'oawnfaowpnfaw', False, [...]]"
            ]
          },
          "metadata": {},
          "execution_count": 64
        }
      ]
    },
    {
      "cell_type": "code",
      "source": [
        "print(a[-1])"
      ],
      "metadata": {
        "id": "FZqHonUtwG-9",
        "outputId": "7f5afc81-20bc-44c1-9bcf-f81f170a6c27",
        "colab": {
          "base_uri": "https://localhost:8080/"
        }
      },
      "execution_count": 65,
      "outputs": [
        {
          "output_type": "stream",
          "name": "stdout",
          "text": [
            "[1, 2, 3, 2, 0, 5, 10, 'oawnfaowpnfaw', False, [...]]\n"
          ]
        }
      ]
    },
    {
      "cell_type": "code",
      "source": [
        "del a[-1]"
      ],
      "metadata": {
        "id": "UXIH-EDxwNnH"
      },
      "execution_count": 66,
      "outputs": []
    },
    {
      "cell_type": "code",
      "source": [
        "a"
      ],
      "metadata": {
        "id": "ApThueenwPXx",
        "outputId": "22ac5e9e-4107-4bd5-dbaf-672cb3b53738",
        "colab": {
          "base_uri": "https://localhost:8080/"
        }
      },
      "execution_count": 67,
      "outputs": [
        {
          "output_type": "execute_result",
          "data": {
            "text/plain": [
              "[1, 2, 3, 2, 0, 5, 10, 'oawnfaowpnfaw', False]"
            ]
          },
          "metadata": {},
          "execution_count": 67
        }
      ]
    },
    {
      "cell_type": "code",
      "source": [
        "a = a + a"
      ],
      "metadata": {
        "id": "U4HyNUY6whup"
      },
      "execution_count": 68,
      "outputs": []
    },
    {
      "cell_type": "code",
      "source": [
        "id(a)"
      ],
      "metadata": {
        "id": "rJz_552nzaTs",
        "outputId": "d0c29584-09e3-4ffd-da97-48ce81e42ceb",
        "colab": {
          "base_uri": "https://localhost:8080/"
        }
      },
      "execution_count": 69,
      "outputs": [
        {
          "output_type": "execute_result",
          "data": {
            "text/plain": [
              "134717519802880"
            ]
          },
          "metadata": {},
          "execution_count": 69
        }
      ]
    },
    {
      "cell_type": "code",
      "source": [
        "sys.getsizeof(a)"
      ],
      "metadata": {
        "id": "lAfpy-vQwQ1H",
        "outputId": "410b977a-3e31-4e50-c02f-8489f837560b",
        "colab": {
          "base_uri": "https://localhost:8080/"
        }
      },
      "execution_count": 70,
      "outputs": [
        {
          "output_type": "execute_result",
          "data": {
            "text/plain": [
              "200"
            ]
          },
          "metadata": {},
          "execution_count": 70
        }
      ]
    },
    {
      "cell_type": "code",
      "source": [
        "a *= 100"
      ],
      "metadata": {
        "id": "O-8KUV3owuap"
      },
      "execution_count": 71,
      "outputs": []
    },
    {
      "cell_type": "code",
      "source": [
        "id(a)"
      ],
      "metadata": {
        "id": "GbuszYE40IhW",
        "outputId": "99ec3483-a632-4653-aa05-a40583ce6eed",
        "colab": {
          "base_uri": "https://localhost:8080/"
        }
      },
      "execution_count": 72,
      "outputs": [
        {
          "output_type": "execute_result",
          "data": {
            "text/plain": [
              "134717519802880"
            ]
          },
          "metadata": {},
          "execution_count": 72
        }
      ]
    },
    {
      "cell_type": "code",
      "source": [
        "sys.getsizeof(a)"
      ],
      "metadata": {
        "id": "489h4OKqwzHb",
        "outputId": "d9e10241-5edf-43be-a303-5e0205f9c1b7",
        "colab": {
          "base_uri": "https://localhost:8080/"
        }
      },
      "execution_count": 73,
      "outputs": [
        {
          "output_type": "execute_result",
          "data": {
            "text/plain": [
              "14456"
            ]
          },
          "metadata": {},
          "execution_count": 73
        }
      ]
    },
    {
      "cell_type": "code",
      "source": [
        "a += ['wefjfpqpoefkw', 1, 2, 3, 4, 5, 6, [1, 2, 3, 4], True, False]"
      ],
      "metadata": {
        "id": "e2Dzb2Lxw06L"
      },
      "execution_count": 74,
      "outputs": []
    },
    {
      "cell_type": "code",
      "source": [
        "sys.getsizeof(a)"
      ],
      "metadata": {
        "id": "d_71rWZPw8X1",
        "outputId": "ec1e7cb8-0387-4800-9371-455055287241",
        "colab": {
          "base_uri": "https://localhost:8080/"
        }
      },
      "execution_count": 75,
      "outputs": [
        {
          "output_type": "execute_result",
          "data": {
            "text/plain": [
              "16376"
            ]
          },
          "metadata": {},
          "execution_count": 75
        }
      ]
    },
    {
      "cell_type": "code",
      "source": [
        "len(a)"
      ],
      "metadata": {
        "id": "B6F2EpWmxC63",
        "outputId": "a0208d84-7eb1-4525-895e-277253165f64",
        "colab": {
          "base_uri": "https://localhost:8080/"
        }
      },
      "execution_count": 76,
      "outputs": [
        {
          "output_type": "execute_result",
          "data": {
            "text/plain": [
              "1810"
            ]
          },
          "metadata": {},
          "execution_count": 76
        }
      ]
    },
    {
      "cell_type": "markdown",
      "metadata": {
        "id": "UIPNButLTQ_Z"
      },
      "source": [
        "В список могут входить любые объекты:"
      ]
    },
    {
      "cell_type": "code",
      "metadata": {
        "id": "SfW2ugcOTQ_Z",
        "colab": {
          "base_uri": "https://localhost:8080/"
        },
        "outputId": "525d9afa-f6b2-4f25-800e-d4982de67840"
      },
      "source": [
        "a = [1, '2', '3', [4, 5]]\n",
        "a.append(1.2)\n",
        "a"
      ],
      "execution_count": 77,
      "outputs": [
        {
          "output_type": "execute_result",
          "data": {
            "text/plain": [
              "[1, '2', '3', [4, 5], 1.2]"
            ]
          },
          "metadata": {},
          "execution_count": 77
        }
      ]
    },
    {
      "cell_type": "code",
      "source": [
        "id(a)"
      ],
      "metadata": {
        "id": "vSsy3-QL0uzS",
        "outputId": "f9436d9d-0079-4fb8-f439-03f9b83f987a",
        "colab": {
          "base_uri": "https://localhost:8080/"
        }
      },
      "execution_count": 78,
      "outputs": [
        {
          "output_type": "execute_result",
          "data": {
            "text/plain": [
              "134717519960064"
            ]
          },
          "metadata": {},
          "execution_count": 78
        }
      ]
    },
    {
      "cell_type": "markdown",
      "metadata": {
        "id": "GS9IYQXWTQ_a"
      },
      "source": [
        "Списки тоже поддерживают многие операции!\n",
        "\n",
        "* cложение списков (+) — конкатенация списков\n",
        "* умножение списка на целое число n (*) — повтороение списка n раз\n",
        "* слайсы!"
      ]
    },
    {
      "cell_type": "markdown",
      "metadata": {
        "id": "xbAw9kukYAxt"
      },
      "source": [
        "Всё это вместе называется концепцией последовательности. К \"последовательным\" типам относятся списки, кортежи (иммутабельные списки), range(), строки (в качестве символьных последовательностей)\n",
        "\n",
        "Помимо упомянутых операций сложения, умножения, слайсов, измерения длины, поддерживаются операции in (not in), min, max, index (поиск), count"
      ]
    },
    {
      "cell_type": "code",
      "source": [],
      "metadata": {
        "id": "MRkQxA-rx9ym"
      },
      "execution_count": 78,
      "outputs": []
    },
    {
      "cell_type": "code",
      "source": [
        "5 in [1, 2, 3, 4, 5]"
      ],
      "metadata": {
        "id": "5zRBRwITxyZ_",
        "outputId": "2d09b62c-a196-402f-b6d6-c67fbefe7e8d",
        "colab": {
          "base_uri": "https://localhost:8080/"
        }
      },
      "execution_count": 79,
      "outputs": [
        {
          "output_type": "execute_result",
          "data": {
            "text/plain": [
              "True"
            ]
          },
          "metadata": {},
          "execution_count": 79
        }
      ]
    },
    {
      "cell_type": "code",
      "source": [
        "range(1, 10, 2)"
      ],
      "metadata": {
        "id": "kU2mGQwZxc7-",
        "outputId": "20b38d68-0278-489e-8678-8c523ed0b2cf",
        "colab": {
          "base_uri": "https://localhost:8080/"
        }
      },
      "execution_count": 80,
      "outputs": [
        {
          "output_type": "execute_result",
          "data": {
            "text/plain": [
              "range(1, 10, 2)"
            ]
          },
          "metadata": {},
          "execution_count": 80
        }
      ]
    },
    {
      "cell_type": "code",
      "source": [
        "len(range(1, 10, 2))"
      ],
      "metadata": {
        "id": "7krmAExPxlDB",
        "outputId": "d55242c7-a8cc-4e6d-ed96-c9c4d18a8b37",
        "colab": {
          "base_uri": "https://localhost:8080/"
        }
      },
      "execution_count": 81,
      "outputs": [
        {
          "output_type": "execute_result",
          "data": {
            "text/plain": [
              "5"
            ]
          },
          "metadata": {},
          "execution_count": 81
        }
      ]
    },
    {
      "cell_type": "code",
      "metadata": {
        "id": "deDtUNHuTQ_a",
        "colab": {
          "base_uri": "https://localhost:8080/"
        },
        "outputId": "fb16810c-0dc3-4180-dd56-268b5e6356c4"
      },
      "source": [
        "b = [1, '2']\n",
        "a + b"
      ],
      "execution_count": 82,
      "outputs": [
        {
          "output_type": "execute_result",
          "data": {
            "text/plain": [
              "[1, '2', '3', [4, 5], 1.2, 1, '2']"
            ]
          },
          "metadata": {},
          "execution_count": 82
        }
      ]
    },
    {
      "cell_type": "code",
      "metadata": {
        "id": "7As9bcWdTQ_a",
        "colab": {
          "base_uri": "https://localhost:8080/"
        },
        "outputId": "a5c761ed-2072-46de-f77e-bbfb797a2271"
      },
      "source": [
        "a * 2"
      ],
      "execution_count": 83,
      "outputs": [
        {
          "output_type": "execute_result",
          "data": {
            "text/plain": [
              "[1, '2', '3', [4, 5], 1.2, 1, '2', '3', [4, 5], 1.2]"
            ]
          },
          "metadata": {},
          "execution_count": 83
        }
      ]
    },
    {
      "cell_type": "code",
      "metadata": {
        "id": "5sk_pB9NTQ_a",
        "colab": {
          "base_uri": "https://localhost:8080/"
        },
        "outputId": "b68b9c15-f86e-47c7-d042-bd659c34e34c"
      },
      "source": [
        "a[::-1]"
      ],
      "execution_count": 84,
      "outputs": [
        {
          "output_type": "execute_result",
          "data": {
            "text/plain": [
              "[1.2, [4, 5], '3', '2', 1]"
            ]
          },
          "metadata": {},
          "execution_count": 84
        }
      ]
    },
    {
      "cell_type": "code",
      "metadata": {
        "colab": {
          "base_uri": "https://localhost:8080/"
        },
        "id": "MPYnM1evZsl0",
        "outputId": "55c0c849-d0cd-4e17-bfb0-d8ccde088480"
      },
      "source": [
        "'2' in a + b"
      ],
      "execution_count": 85,
      "outputs": [
        {
          "output_type": "execute_result",
          "data": {
            "text/plain": [
              "True"
            ]
          },
          "metadata": {},
          "execution_count": 85
        }
      ]
    },
    {
      "cell_type": "code",
      "metadata": {
        "colab": {
          "base_uri": "https://localhost:8080/"
        },
        "id": "hDlSSXEKZwQr",
        "outputId": "3f7e1099-0a9f-4e99-9d00-6e489af1a69f"
      },
      "source": [
        "2 not in a + b"
      ],
      "execution_count": 86,
      "outputs": [
        {
          "output_type": "execute_result",
          "data": {
            "text/plain": [
              "True"
            ]
          },
          "metadata": {},
          "execution_count": 86
        }
      ]
    },
    {
      "cell_type": "code",
      "metadata": {
        "id": "AJqGhrVYZ2OH"
      },
      "source": [
        "# min(a) # работает не всегда!"
      ],
      "execution_count": 87,
      "outputs": []
    },
    {
      "cell_type": "code",
      "metadata": {
        "colab": {
          "base_uri": "https://localhost:8080/"
        },
        "id": "Al7ILE7IaGsZ",
        "outputId": "d7dcdd23-aee0-4214-8ea8-f78be6a4f0e5"
      },
      "source": [
        "max([10, 1000, 1, 2, 5000, 3])"
      ],
      "execution_count": 88,
      "outputs": [
        {
          "output_type": "execute_result",
          "data": {
            "text/plain": [
              "5000"
            ]
          },
          "metadata": {},
          "execution_count": 88
        }
      ]
    },
    {
      "cell_type": "code",
      "metadata": {
        "colab": {
          "base_uri": "https://localhost:8080/",
          "height": 36
        },
        "id": "y-gx-hysaL9Y",
        "outputId": "651ceb08-f141-41e5-c25f-1047f03f8a7a"
      },
      "source": [
        "max(['1', '2', '3', 'abc', \"абв\"])"
      ],
      "execution_count": 89,
      "outputs": [
        {
          "output_type": "execute_result",
          "data": {
            "text/plain": [
              "'абв'"
            ],
            "application/vnd.google.colaboratory.intrinsic+json": {
              "type": "string"
            }
          },
          "metadata": {},
          "execution_count": 89
        }
      ]
    },
    {
      "cell_type": "code",
      "metadata": {
        "colab": {
          "base_uri": "https://localhost:8080/"
        },
        "id": "MzJK7IPEaOi1",
        "outputId": "df4c4467-bb11-4e8e-d46e-e59bc10a11ce"
      },
      "source": [
        "a.index([4, 5])"
      ],
      "execution_count": 90,
      "outputs": [
        {
          "output_type": "execute_result",
          "data": {
            "text/plain": [
              "3"
            ]
          },
          "metadata": {},
          "execution_count": 90
        }
      ]
    },
    {
      "cell_type": "code",
      "source": [
        "# a.index([2, 3])"
      ],
      "metadata": {
        "id": "9L7J1NTTyvlA"
      },
      "execution_count": 91,
      "outputs": []
    },
    {
      "cell_type": "code",
      "source": [
        "a.append('2')"
      ],
      "metadata": {
        "id": "HPH4fcGLy1Oe"
      },
      "execution_count": 92,
      "outputs": []
    },
    {
      "cell_type": "code",
      "metadata": {
        "colab": {
          "base_uri": "https://localhost:8080/"
        },
        "id": "-u2UCZCNbGQM",
        "outputId": "9eb15dda-e59f-4627-9a20-3bfe17d6d182"
      },
      "source": [
        "a.count('2')"
      ],
      "execution_count": 93,
      "outputs": [
        {
          "output_type": "execute_result",
          "data": {
            "text/plain": [
              "2"
            ]
          },
          "metadata": {},
          "execution_count": 93
        }
      ]
    },
    {
      "cell_type": "markdown",
      "metadata": {
        "id": "GnNs_UuAbJIR"
      },
      "source": [
        "Другие коллекции тоже поддерживают многое из этого!"
      ]
    },
    {
      "cell_type": "markdown",
      "metadata": {
        "id": "taZ930Q1TQ_b"
      },
      "source": [
        "**Внимание:** список — изменяемый объект!\n",
        "\n",
        "Можно менять элементы списка, можно добавлять новые элементы и удалять старые (`.append` и `.pop`)."
      ]
    },
    {
      "cell_type": "code",
      "metadata": {
        "id": "rWorHSr4TQ_b",
        "colab": {
          "base_uri": "https://localhost:8080/"
        },
        "outputId": "98474a90-f6ff-45ae-f09c-4861bd6c7690"
      },
      "source": [
        "a[0] = '123'\n",
        "a"
      ],
      "execution_count": 94,
      "outputs": [
        {
          "output_type": "execute_result",
          "data": {
            "text/plain": [
              "['123', '2', '3', [4, 5], 1.2, '2']"
            ]
          },
          "metadata": {},
          "execution_count": 94
        }
      ]
    },
    {
      "cell_type": "code",
      "metadata": {
        "id": "2emIWM10TQ_b",
        "colab": {
          "base_uri": "https://localhost:8080/"
        },
        "outputId": "e52d822b-73fa-42f1-d680-dc5f1d5d4ab1"
      },
      "source": [
        "a.append('data science')\n",
        "a\n",
        "id(a)"
      ],
      "execution_count": 95,
      "outputs": [
        {
          "output_type": "execute_result",
          "data": {
            "text/plain": [
              "134717519960064"
            ]
          },
          "metadata": {},
          "execution_count": 95
        }
      ]
    },
    {
      "cell_type": "markdown",
      "metadata": {
        "id": "rbcPkpo5TQ_b"
      },
      "source": [
        "### Преобразования списков и строк\n",
        "\n",
        "Два основных строковых метода для взаимодействия списков и строк:\n",
        "\n",
        "* .split — разделить строку на список строк по определённому сепаратору\n",
        "* .join — соеденить список строк в одну большую строку по определённому сепаратору"
      ]
    },
    {
      "cell_type": "code",
      "metadata": {
        "id": "_LeWfmEDTQ_b",
        "colab": {
          "base_uri": "https://localhost:8080/"
        },
        "outputId": "bc5edd6d-5bbc-4a2d-d680-bba1754be5ba"
      },
      "source": [
        "s = 'one,two,three'\n",
        "s.split(',')"
      ],
      "execution_count": 96,
      "outputs": [
        {
          "output_type": "execute_result",
          "data": {
            "text/plain": [
              "['one', 'two', 'three']"
            ]
          },
          "metadata": {},
          "execution_count": 96
        }
      ]
    },
    {
      "cell_type": "code",
      "metadata": {
        "id": "rxH5fsewTQ_b",
        "colab": {
          "base_uri": "https://localhost:8080/",
          "height": 36
        },
        "outputId": "a41bbbde-e2d4-4c2b-dda3-2ccbf4b4862c"
      },
      "source": [
        "\", \".join(['arb', 'borb', 'kork'])"
      ],
      "execution_count": 97,
      "outputs": [
        {
          "output_type": "execute_result",
          "data": {
            "text/plain": [
              "'arb, borb, kork'"
            ],
            "application/vnd.google.colaboratory.intrinsic+json": {
              "type": "string"
            }
          },
          "metadata": {},
          "execution_count": 97
        }
      ]
    },
    {
      "cell_type": "code",
      "source": [
        "\"\".join(['arb', 'borb', 'kork'])"
      ],
      "metadata": {
        "id": "HbbVbMli1Fra",
        "outputId": "ba123bcb-80a9-40ae-b113-d147c9ae5758",
        "colab": {
          "base_uri": "https://localhost:8080/",
          "height": 36
        }
      },
      "execution_count": 101,
      "outputs": [
        {
          "output_type": "execute_result",
          "data": {
            "text/plain": [
              "'arbborbkork'"
            ],
            "application/vnd.google.colaboratory.intrinsic+json": {
              "type": "string"
            }
          },
          "metadata": {},
          "execution_count": 101
        }
      ]
    },
    {
      "cell_type": "code",
      "source": [
        "'arb' + 'borb' + 'kork'"
      ],
      "metadata": {
        "id": "9w_fgVyt1KAa",
        "outputId": "72f1f3a9-4714-4b71-bc66-1a5edbc4d52f",
        "colab": {
          "base_uri": "https://localhost:8080/",
          "height": 36
        }
      },
      "execution_count": 102,
      "outputs": [
        {
          "output_type": "execute_result",
          "data": {
            "text/plain": [
              "'arbborbkork'"
            ],
            "application/vnd.google.colaboratory.intrinsic+json": {
              "type": "string"
            }
          },
          "metadata": {},
          "execution_count": 102
        }
      ]
    },
    {
      "cell_type": "markdown",
      "metadata": {
        "id": "lCtGLsl0b2og"
      },
      "source": [
        "### Другие коллекции"
      ]
    },
    {
      "cell_type": "markdown",
      "metadata": {
        "id": "UjhNi0AZb9Vi"
      },
      "source": [
        "**Кортежи**: иммутабельные списки"
      ]
    },
    {
      "cell_type": "code",
      "source": [
        "a = () #tuple"
      ],
      "metadata": {
        "id": "rnaKtCtZ1UIo"
      },
      "execution_count": 103,
      "outputs": []
    },
    {
      "cell_type": "code",
      "source": [
        "type(a)"
      ],
      "metadata": {
        "id": "_CS537dM1VjN",
        "outputId": "4880bf01-ab3e-42aa-fdd4-331e77960ef5",
        "colab": {
          "base_uri": "https://localhost:8080/"
        }
      },
      "execution_count": 108,
      "outputs": [
        {
          "output_type": "execute_result",
          "data": {
            "text/plain": [
              "tuple"
            ]
          },
          "metadata": {},
          "execution_count": 108
        }
      ]
    },
    {
      "cell_type": "code",
      "source": [
        "a = (1) # не tuple"
      ],
      "metadata": {
        "id": "xAx7hfaH1ZCZ"
      },
      "execution_count": 105,
      "outputs": []
    },
    {
      "cell_type": "code",
      "metadata": {
        "colab": {
          "base_uri": "https://localhost:8080/"
        },
        "id": "5ibLcu73b7lc",
        "outputId": "87a0b944-f38f-4eb6-d9e7-593da35caf67"
      },
      "source": [
        "a = (1, ) #tuple\n",
        "a"
      ],
      "execution_count": 107,
      "outputs": [
        {
          "output_type": "execute_result",
          "data": {
            "text/plain": [
              "(1,)"
            ]
          },
          "metadata": {},
          "execution_count": 107
        }
      ]
    },
    {
      "cell_type": "code",
      "metadata": {
        "colab": {
          "base_uri": "https://localhost:8080/"
        },
        "id": "8znJhYcvcLH2",
        "outputId": "9467ef9b-69cb-4c92-fca8-1cf48f83f78b"
      },
      "source": [
        "a = (1, 2, 3)\n",
        "a"
      ],
      "execution_count": 109,
      "outputs": [
        {
          "output_type": "execute_result",
          "data": {
            "text/plain": [
              "(1, 2, 3)"
            ]
          },
          "metadata": {},
          "execution_count": 109
        }
      ]
    },
    {
      "cell_type": "code",
      "metadata": {
        "colab": {
          "base_uri": "https://localhost:8080/",
          "height": 175
        },
        "id": "1tVLlpUrxKhB",
        "outputId": "aa17fb96-ea75-4645-b0b8-f218b57e3031"
      },
      "source": [
        "a[0] = 7"
      ],
      "execution_count": 110,
      "outputs": [
        {
          "output_type": "error",
          "ename": "TypeError",
          "evalue": "ignored",
          "traceback": [
            "\u001b[0;31m---------------------------------------------------------------------------\u001b[0m",
            "\u001b[0;31mTypeError\u001b[0m                                 Traceback (most recent call last)",
            "\u001b[0;32m<ipython-input-110-e099e33cc91c>\u001b[0m in \u001b[0;36m<cell line: 1>\u001b[0;34m()\u001b[0m\n\u001b[0;32m----> 1\u001b[0;31m \u001b[0ma\u001b[0m\u001b[0;34m[\u001b[0m\u001b[0;36m0\u001b[0m\u001b[0;34m]\u001b[0m \u001b[0;34m=\u001b[0m \u001b[0;36m7\u001b[0m\u001b[0;34m\u001b[0m\u001b[0;34m\u001b[0m\u001b[0m\n\u001b[0m",
            "\u001b[0;31mTypeError\u001b[0m: 'tuple' object does not support item assignment"
          ]
        }
      ]
    },
    {
      "cell_type": "code",
      "metadata": {
        "colab": {
          "base_uri": "https://localhost:8080/"
        },
        "id": "omvDoFu-xKZf",
        "outputId": "de93af33-30e2-4f24-b48a-6d7e304d02fd"
      },
      "source": [
        "c = ('1', 2, 3)\n",
        "c"
      ],
      "execution_count": 111,
      "outputs": [
        {
          "output_type": "execute_result",
          "data": {
            "text/plain": [
              "('1', 2, 3)"
            ]
          },
          "metadata": {},
          "execution_count": 111
        }
      ]
    },
    {
      "cell_type": "markdown",
      "metadata": {
        "id": "pbimSrJ-cytT"
      },
      "source": [
        "**range**: итерируемый объект"
      ]
    },
    {
      "cell_type": "code",
      "metadata": {
        "colab": {
          "base_uri": "https://localhost:8080/"
        },
        "id": "Vy53syFwc4Fo",
        "outputId": "e508c5cf-2dbe-488a-b92b-4ca2831cd828"
      },
      "source": [
        "a = range(3, 17, 3)\n",
        "a"
      ],
      "execution_count": 112,
      "outputs": [
        {
          "output_type": "execute_result",
          "data": {
            "text/plain": [
              "range(3, 17, 3)"
            ]
          },
          "metadata": {},
          "execution_count": 112
        }
      ]
    },
    {
      "cell_type": "code",
      "source": [
        "# for (i = 0; i < 10; i++)"
      ],
      "metadata": {
        "id": "qPnuElWN1sFj"
      },
      "execution_count": null,
      "outputs": []
    },
    {
      "cell_type": "code",
      "metadata": {
        "colab": {
          "base_uri": "https://localhost:8080/"
        },
        "id": "dAyd1DtSdPm9",
        "outputId": "bdfa345f-0548-4867-eb49-f876b66b1d76"
      },
      "source": [
        "for x in a:\n",
        "  print(x)"
      ],
      "execution_count": 114,
      "outputs": [
        {
          "output_type": "stream",
          "name": "stdout",
          "text": [
            "3\n",
            "6\n",
            "9\n",
            "12\n",
            "15\n"
          ]
        }
      ]
    },
    {
      "cell_type": "code",
      "source": [
        "for elem in ['1', '2', '3', 'abc', \"абв\"]:\n",
        "  print(elem)"
      ],
      "metadata": {
        "id": "bGmII5Sj1_ft",
        "outputId": "60715bf2-8396-4c72-8257-372e317703c1",
        "colab": {
          "base_uri": "https://localhost:8080/"
        }
      },
      "execution_count": 115,
      "outputs": [
        {
          "output_type": "stream",
          "name": "stdout",
          "text": [
            "1\n",
            "2\n",
            "3\n",
            "abc\n",
            "абв\n"
          ]
        }
      ]
    },
    {
      "cell_type": "code",
      "source": [
        "for x in 10:\n",
        "  print(x)"
      ],
      "metadata": {
        "id": "XxPJO-xV2qxL",
        "outputId": "097b78a6-8e9b-4074-c82a-c799fcd708eb",
        "colab": {
          "base_uri": "https://localhost:8080/",
          "height": 192
        }
      },
      "execution_count": 120,
      "outputs": [
        {
          "output_type": "error",
          "ename": "TypeError",
          "evalue": "ignored",
          "traceback": [
            "\u001b[0;31m---------------------------------------------------------------------------\u001b[0m",
            "\u001b[0;31mTypeError\u001b[0m                                 Traceback (most recent call last)",
            "\u001b[0;32m<ipython-input-120-ab3711aec244>\u001b[0m in \u001b[0;36m<cell line: 1>\u001b[0;34m()\u001b[0m\n\u001b[0;32m----> 1\u001b[0;31m \u001b[0;32mfor\u001b[0m \u001b[0mx\u001b[0m \u001b[0;32min\u001b[0m \u001b[0;36m10\u001b[0m\u001b[0;34m:\u001b[0m\u001b[0;34m\u001b[0m\u001b[0;34m\u001b[0m\u001b[0m\n\u001b[0m\u001b[1;32m      2\u001b[0m   \u001b[0mprint\u001b[0m\u001b[0;34m(\u001b[0m\u001b[0mx\u001b[0m\u001b[0;34m)\u001b[0m\u001b[0;34m\u001b[0m\u001b[0;34m\u001b[0m\u001b[0m\n",
            "\u001b[0;31mTypeError\u001b[0m: 'int' object is not iterable"
          ]
        }
      ]
    },
    {
      "cell_type": "code",
      "source": [
        "dir(enumerate(a))"
      ],
      "metadata": {
        "id": "pCvb6URC3KzS",
        "outputId": "fc64a019-bf51-434a-d234-598661a512df",
        "colab": {
          "base_uri": "https://localhost:8080/"
        }
      },
      "execution_count": 124,
      "outputs": [
        {
          "output_type": "execute_result",
          "data": {
            "text/plain": [
              "['__class__',\n",
              " '__class_getitem__',\n",
              " '__delattr__',\n",
              " '__dir__',\n",
              " '__doc__',\n",
              " '__eq__',\n",
              " '__format__',\n",
              " '__ge__',\n",
              " '__getattribute__',\n",
              " '__gt__',\n",
              " '__hash__',\n",
              " '__init__',\n",
              " '__init_subclass__',\n",
              " '__iter__',\n",
              " '__le__',\n",
              " '__lt__',\n",
              " '__ne__',\n",
              " '__new__',\n",
              " '__next__',\n",
              " '__reduce__',\n",
              " '__reduce_ex__',\n",
              " '__repr__',\n",
              " '__setattr__',\n",
              " '__sizeof__',\n",
              " '__str__',\n",
              " '__subclasshook__']"
            ]
          },
          "metadata": {},
          "execution_count": 124
        }
      ]
    },
    {
      "cell_type": "code",
      "source": [
        "for x in enumerate(a):\n",
        "  print(x, type(x))"
      ],
      "metadata": {
        "id": "Z8Cguvih2LqI",
        "outputId": "5095f516-6bf1-466c-9f8d-b5d3bd7a44b2",
        "colab": {
          "base_uri": "https://localhost:8080/"
        }
      },
      "execution_count": 117,
      "outputs": [
        {
          "output_type": "stream",
          "name": "stdout",
          "text": [
            "(0, 3) <class 'tuple'>\n",
            "(1, 6) <class 'tuple'>\n",
            "(2, 9) <class 'tuple'>\n",
            "(3, 12) <class 'tuple'>\n",
            "(4, 15) <class 'tuple'>\n"
          ]
        }
      ]
    },
    {
      "cell_type": "code",
      "source": [
        "enumerate(a)"
      ],
      "metadata": {
        "id": "aPFIMghK2Uuu",
        "outputId": "3d3701d1-3ceb-4630-9887-0c9eece81f61",
        "colab": {
          "base_uri": "https://localhost:8080/"
        }
      },
      "execution_count": 118,
      "outputs": [
        {
          "output_type": "execute_result",
          "data": {
            "text/plain": [
              "<enumerate at 0x7a865dec1740>"
            ]
          },
          "metadata": {},
          "execution_count": 118
        }
      ]
    },
    {
      "cell_type": "code",
      "source": [
        "print(enumerate(a))"
      ],
      "metadata": {
        "id": "hInsSwVY2XIV",
        "outputId": "80cd179e-5a97-4d4b-ce0e-aab1151f8e71",
        "colab": {
          "base_uri": "https://localhost:8080/"
        }
      },
      "execution_count": 119,
      "outputs": [
        {
          "output_type": "stream",
          "name": "stdout",
          "text": [
            "<enumerate object at 0x7a865c56e9c0>\n"
          ]
        }
      ]
    },
    {
      "cell_type": "markdown",
      "metadata": {
        "id": "-r4xZBuNcSdb"
      },
      "source": [
        "**Множество**: коллекция без повторов"
      ]
    },
    {
      "cell_type": "code",
      "metadata": {
        "colab": {
          "base_uri": "https://localhost:8080/"
        },
        "id": "2V2L7HjDcWZ1",
        "outputId": "a9bd353d-b834-47b1-8566-69183455b16f"
      },
      "source": [
        "a = {1, 2, 3, 3, 2, 4}\n",
        "a\n",
        "a.add('1')\n",
        "a\n",
        "a.add((1, 2, 3))\n",
        "a"
      ],
      "execution_count": 121,
      "outputs": [
        {
          "output_type": "execute_result",
          "data": {
            "text/plain": [
              "{(1, 2, 3), 1, '1', 2, 3, 4}"
            ]
          },
          "metadata": {},
          "execution_count": 121
        }
      ]
    },
    {
      "cell_type": "code",
      "source": [
        "a[5]"
      ],
      "metadata": {
        "id": "QERFTzEC22La",
        "outputId": "f55aec89-01ec-492f-f0b6-4b4951d576dd",
        "colab": {
          "base_uri": "https://localhost:8080/",
          "height": 175
        }
      },
      "execution_count": 123,
      "outputs": [
        {
          "output_type": "error",
          "ename": "TypeError",
          "evalue": "ignored",
          "traceback": [
            "\u001b[0;31m---------------------------------------------------------------------------\u001b[0m",
            "\u001b[0;31mTypeError\u001b[0m                                 Traceback (most recent call last)",
            "\u001b[0;32m<ipython-input-123-4a84d856522b>\u001b[0m in \u001b[0;36m<cell line: 1>\u001b[0;34m()\u001b[0m\n\u001b[0;32m----> 1\u001b[0;31m \u001b[0ma\u001b[0m\u001b[0;34m[\u001b[0m\u001b[0;36m5\u001b[0m\u001b[0;34m]\u001b[0m\u001b[0;34m\u001b[0m\u001b[0;34m\u001b[0m\u001b[0m\n\u001b[0m",
            "\u001b[0;31mTypeError\u001b[0m: 'set' object is not subscriptable"
          ]
        }
      ]
    },
    {
      "cell_type": "code",
      "source": [
        "for x in a:\n",
        "  print(x)"
      ],
      "metadata": {
        "id": "437YaX-m2y8G",
        "outputId": "ba5a667f-7a5f-4dac-d382-006f1520352c",
        "colab": {
          "base_uri": "https://localhost:8080/"
        }
      },
      "execution_count": 122,
      "outputs": [
        {
          "output_type": "stream",
          "name": "stdout",
          "text": [
            "1\n",
            "2\n",
            "3\n",
            "4\n",
            "(1, 2, 3)\n",
            "1\n"
          ]
        }
      ]
    },
    {
      "cell_type": "code",
      "metadata": {
        "id": "1yDfkU8VcjQK"
      },
      "source": [
        "b = frozenset('aabc')\n",
        "b\n",
        "b[2] ="
      ],
      "execution_count": null,
      "outputs": []
    },
    {
      "cell_type": "markdown",
      "metadata": {
        "id": "7oX4W6GCctCK"
      },
      "source": [
        "**Словари**: набор пар ключ-значение, индексируемый ключами (хеши)"
      ]
    },
    {
      "cell_type": "code",
      "metadata": {
        "id": "WFZ2lWSvdpbZ"
      },
      "source": [
        "d = {1: 3, '1': 4, (1, 2, 3): 5, b: 10}\n",
        "d"
      ],
      "execution_count": null,
      "outputs": []
    },
    {
      "cell_type": "code",
      "metadata": {
        "id": "6hef2oHBdz1y"
      },
      "source": [
        "d[b]"
      ],
      "execution_count": null,
      "outputs": []
    },
    {
      "cell_type": "code",
      "metadata": {
        "id": "in7ZY65Od290"
      },
      "source": [
        "c = {a: 3}"
      ],
      "execution_count": null,
      "outputs": []
    }
  ]
}