{
  "nbformat": 4,
  "nbformat_minor": 0,
  "metadata": {
    "colab": {
      "provenance": []
    },
    "kernelspec": {
      "name": "python3",
      "display_name": "Python 3"
    },
    "language_info": {
      "name": "python"
    }
  },
  "cells": [
    {
      "cell_type": "code",
      "execution_count": 1,
      "metadata": {
        "colab": {
          "base_uri": "https://localhost:8080/",
          "height": 36
        },
        "id": "4HR_K6SL8Nyi",
        "outputId": "03d17ffe-818a-41c2-c416-73910c0000fd"
      },
      "outputs": [
        {
          "output_type": "execute_result",
          "data": {
            "text/plain": [
              "'123abc456abc789'"
            ],
            "application/vnd.google.colaboratory.intrinsic+json": {
              "type": "string"
            }
          },
          "metadata": {},
          "execution_count": 1
        }
      ],
      "source": [
        "\"abc\".join((\"123\", \"456\", \"789\"))"
      ]
    },
    {
      "cell_type": "code",
      "source": [
        "type(map(int, '12345'))"
      ],
      "metadata": {
        "colab": {
          "base_uri": "https://localhost:8080/"
        },
        "id": "fvsZzmOH-YL9",
        "outputId": "354eee83-eae3-4c61-f051-3c3062d085a3"
      },
      "execution_count": 4,
      "outputs": [
        {
          "output_type": "execute_result",
          "data": {
            "text/plain": [
              "map"
            ]
          },
          "metadata": {},
          "execution_count": 4
        }
      ]
    },
    {
      "cell_type": "code",
      "source": [
        "import sys"
      ],
      "metadata": {
        "id": "LuAPkAe8AL-3"
      },
      "execution_count": 6,
      "outputs": []
    },
    {
      "cell_type": "code",
      "source": [
        "type(sys.stdin)"
      ],
      "metadata": {
        "colab": {
          "base_uri": "https://localhost:8080/"
        },
        "id": "h2kLuPlSACco",
        "outputId": "1ad868ee-cd4c-4643-8f37-20d5dc9d471d"
      },
      "execution_count": 8,
      "outputs": [
        {
          "output_type": "execute_result",
          "data": {
            "text/plain": [
              "_io.TextIOWrapper"
            ]
          },
          "metadata": {},
          "execution_count": 8
        }
      ]
    },
    {
      "cell_type": "code",
      "source": [
        "f = open('sample_data/anscombe.json')\n",
        "type(f)"
      ],
      "metadata": {
        "colab": {
          "base_uri": "https://localhost:8080/"
        },
        "id": "_a-g4CQyAyVH",
        "outputId": "cba3f8e0-6677-4cfe-fd82-49480277187c"
      },
      "execution_count": 10,
      "outputs": [
        {
          "output_type": "execute_result",
          "data": {
            "text/plain": [
              "_io.TextIOWrapper"
            ]
          },
          "metadata": {},
          "execution_count": 10
        }
      ]
    },
    {
      "cell_type": "code",
      "source": [
        "input()"
      ],
      "metadata": {
        "colab": {
          "base_uri": "https://localhost:8080/",
          "height": 53
        },
        "id": "91b7xR4RA-nH",
        "outputId": "ac687a28-7faa-449d-e522-8607e235155b"
      },
      "execution_count": 11,
      "outputs": [
        {
          "name": "stdout",
          "output_type": "stream",
          "text": [
            "fapowkfwpfk\n"
          ]
        },
        {
          "output_type": "execute_result",
          "data": {
            "text/plain": [
              "'fapowkfwpfk'"
            ],
            "application/vnd.google.colaboratory.intrinsic+json": {
              "type": "string"
            }
          },
          "metadata": {},
          "execution_count": 11
        }
      ]
    },
    {
      "cell_type": "code",
      "source": [
        "def comp(x):\n",
        "  return int(x)"
      ],
      "metadata": {
        "id": "3LWq9BhfEHzJ"
      },
      "execution_count": 22,
      "outputs": []
    },
    {
      "cell_type": "code",
      "source": [
        "sorted([1, 6, '4', 3], key=comp)"
      ],
      "metadata": {
        "colab": {
          "base_uri": "https://localhost:8080/"
        },
        "id": "iIX45m2JDbwC",
        "outputId": "dd2df3cf-e167-4ee3-e457-054ee21dc687"
      },
      "execution_count": 23,
      "outputs": [
        {
          "output_type": "execute_result",
          "data": {
            "text/plain": [
              "[1, 3, '4', 6]"
            ]
          },
          "metadata": {},
          "execution_count": 23
        }
      ]
    },
    {
      "cell_type": "code",
      "source": [
        "import sys\n",
        "k = int(sys.stdin.readline())\n",
        "arr = []\n",
        "for line in sys.stdin:\n",
        "\tline = line.split()\n",
        "\tif int(line[-1]) >= 40 and int(line[-2]) >= 40 and int(line[-3]) >= 40:\n",
        "\t\tarr.append(int(line[-1]) + int(line[-2]) + int(line[-3]))\n",
        "\n",
        "result = 101\n",
        "if k >= len(arr):\n",
        "\tresult = 0\n",
        "else:\n",
        "\tarr = sorted(arr)[::-1]\n",
        "\tcount = 0\n",
        "\tfor i in arr:\n",
        "\t    if i == arr[0]:\n",
        "\t        count += 1\n",
        "\tif count > k:\n",
        "\t    result = 1\n",
        "\telse:\n",
        "\t    for i in range(k):\n",
        "\t        if arr[i] != arr[i+1]:\n",
        "\t            result = arr[i]\n",
        "\n",
        "print(result)"
      ],
      "metadata": {
        "id": "BeCoQmzlESWS"
      },
      "execution_count": null,
      "outputs": []
    },
    {
      "cell_type": "code",
      "source": [
        "def comp(x):\n",
        "\treturn int(x[0])\n",
        "\n",
        "with open('input.txt') as d:\n",
        "    k = {}\n",
        "    for x in d:\n",
        "        s = x.split()\n",
        "        if s[-2] not in k.keys():\n",
        "            k[s[-2]] = s[-1]\n",
        "        else:\n",
        "            if k[s[-2]] < s[-1]:\n",
        "                k[s[-2]] = s[-1]\n",
        "\n",
        "    k = dict(sorted(k.items(), key=comp))\n",
        "\n",
        "\n",
        "\n",
        "    print(*k.values())"
      ],
      "metadata": {
        "id": "_9Ihq383Kfvn"
      },
      "execution_count": null,
      "outputs": []
    },
    {
      "cell_type": "code",
      "source": [
        "def f(a,b,c):\n",
        "    if (a < (b + c)) and (b < (a + c)) and (c < (a + b)):\n",
        "        return True\n",
        "    return False\n",
        "\n",
        "n = int(input())\n",
        "s = list(map(int, input().split()))\n",
        "k = 0\n",
        "\n",
        "for i in range(len(s)-2):\n",
        "    for j in range(i+1, len(s)-1):\n",
        "        for h in range(j+1, len(s)):\n",
        "            if f(s[i], s[j], s[h]):\n",
        "                k += 1\n",
        "\n",
        "print(k)"
      ],
      "metadata": {
        "id": "IH7g_6bpKkZX"
      },
      "execution_count": null,
      "outputs": []
    },
    {
      "cell_type": "code",
      "source": [
        "text = input()\n",
        "first_stop = text.find('h')\n",
        "last_stop = text.rfind('h')\n",
        "result = text[:first_stop+1] + text[last_stop-1:first_stop:-1] + text[last_stop:]\n",
        "print(result)"
      ],
      "metadata": {
        "id": "TZxC1bvtKk0Z"
      },
      "execution_count": null,
      "outputs": []
    },
    {
      "cell_type": "code",
      "source": [
        "rub_price, cop_price = int(input()), int(input())\n",
        "rub_payed, cop_payed = int(input()), int(input())\n",
        "full_price = cop_price + rub_price * 100\n",
        "full_payed = cop_payed + rub_payed * 100\n",
        "diff = full_payed - full_price\n",
        "print(diff // 100, diff % 100)"
      ],
      "metadata": {
        "id": "89elfvdiKnLm"
      },
      "execution_count": null,
      "outputs": []
    },
    {
      "cell_type": "code",
      "source": [
        "def sort(col):\n",
        "\treturn sorted(col, key= lambda x : (abs(x - k), x))\n",
        "\n",
        "n, k = map(int, input().split())\n",
        "matrix = []\n",
        "\n",
        "for i in range(n):\n",
        "\trow = list(map(int, input().split()))\n",
        "\tmatrix.append(row)\n",
        "\n",
        "transposed = list(zip(*matrix))\n",
        "\n",
        "sorted_matrix = [sort(col) for col in transposed]\n",
        "\n",
        "sorted_matrix_classic = list(zip(*sorted_matrix))\n",
        "\n",
        "for row in sorted_matrix_classic:\n",
        "\tprint(*row)"
      ],
      "metadata": {
        "id": "NcPjJpp3KpZp"
      },
      "execution_count": null,
      "outputs": []
    }
  ]
}