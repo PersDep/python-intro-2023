{
  "nbformat": 4,
  "nbformat_minor": 0,
  "metadata": {
    "kernelspec": {
      "display_name": "Python 3",
      "language": "python",
      "name": "python3"
    },
    "language_info": {
      "codemirror_mode": {
        "name": "ipython",
        "version": 3
      },
      "file_extension": ".py",
      "mimetype": "text/x-python",
      "name": "python",
      "nbconvert_exporter": "python",
      "pygments_lexer": "ipython3",
      "version": "3.8.3"
    },
    "colab": {
      "name": "files_and_requests.ipynb",
      "provenance": []
    }
  },
  "cells": [
    {
      "cell_type": "markdown",
      "metadata": {
        "collapsed": false,
        "id": "8T6Mnq1b5c0R"
      },
      "source": [
        "# Работа с файлами"
      ]
    },
    {
      "cell_type": "markdown",
      "metadata": {
        "collapsed": false,
        "id": "1Zhmw8V_5c0a"
      },
      "source": [
        "Для открытия файлов в python используется встроенная команда open:"
      ]
    },
    {
      "cell_type": "code",
      "metadata": {
        "pycharm": {
          "name": "#%%\n"
        },
        "id": "anvEgTvO5c0b"
      },
      "source": [
        "# f = open('sample_data/anscombe.json', 'r', encoding='cp1252')\n",
        "f = open('sample_data/anscombe.json', 'r', encoding='utf-8')\n",
        "# f = open('sample_data/anscombe.json', 'r', encoding='utf-32')\n",
        "# f = open('sample_data/anscombe.json', 'r')\n",
        "# f"
      ],
      "execution_count": 17,
      "outputs": []
    },
    {
      "cell_type": "code",
      "source": [
        "dir(f)"
      ],
      "metadata": {
        "id": "ipjDKwWED1so"
      },
      "execution_count": null,
      "outputs": []
    },
    {
      "cell_type": "code",
      "source": [
        "help(f)"
      ],
      "metadata": {
        "id": "hkgEuPSPBepO"
      },
      "execution_count": null,
      "outputs": []
    },
    {
      "cell_type": "code",
      "source": [
        "a = [0, 1, 2]\n",
        "for elem in a:\n",
        "  print(elem)"
      ],
      "metadata": {
        "id": "1j32P5wqFWL-",
        "outputId": "65aa6d56-5a70-43eb-903c-57b8ae8573df",
        "colab": {
          "base_uri": "https://localhost:8080/"
        }
      },
      "execution_count": 8,
      "outputs": [
        {
          "output_type": "stream",
          "name": "stdout",
          "text": [
            "0\n",
            "1\n",
            "2\n"
          ]
        }
      ]
    },
    {
      "cell_type": "code",
      "source": [
        "s = \"\"\"owrjwpojawapwkf\n",
        "wlefjewpofjwapekfew\n",
        "wefjwpoekfpewk\n",
        "wepfkpwofkewpfk\n",
        "\"\"\""
      ],
      "metadata": {
        "id": "jZh9Z9BOGCLf"
      },
      "execution_count": 23,
      "outputs": []
    },
    {
      "cell_type": "code",
      "source": [
        "print(s)"
      ],
      "metadata": {
        "id": "jzQlhZlLGGUq",
        "outputId": "183f96c8-95b5-4921-f752-594b88a28d37",
        "colab": {
          "base_uri": "https://localhost:8080/"
        }
      },
      "execution_count": 24,
      "outputs": [
        {
          "output_type": "stream",
          "name": "stdout",
          "text": [
            "owrjwpojawapwkf\n",
            "wlefjewpofjwapekfew\n",
            "wefjwpoekfpewk\n",
            "wepfkpwofkewpfk\n",
            "\n"
          ]
        }
      ]
    },
    {
      "cell_type": "code",
      "source": [
        "type(f.read())"
      ],
      "metadata": {
        "id": "njjMI8q4Filr",
        "outputId": "9cd904aa-c958-4194-e11a-e6548901b5cd",
        "colab": {
          "base_uri": "https://localhost:8080/"
        }
      },
      "execution_count": 22,
      "outputs": [
        {
          "output_type": "execute_result",
          "data": {
            "text/plain": [
              "str"
            ]
          },
          "metadata": {},
          "execution_count": 22
        }
      ]
    },
    {
      "cell_type": "code",
      "source": [
        "for line in f:\n",
        "  print(line, end='')"
      ],
      "metadata": {
        "id": "xxFH6AteIvxl"
      },
      "execution_count": 9,
      "outputs": []
    },
    {
      "cell_type": "code",
      "source": [
        "s8 = 'rpgkkorgmo'\n",
        "s32 = s8.encode(encoding='UTF-32')"
      ],
      "metadata": {
        "id": "B_Va_7qoJ4cZ"
      },
      "execution_count": 29,
      "outputs": []
    },
    {
      "cell_type": "code",
      "source": [
        "s32"
      ],
      "metadata": {
        "id": "tP8Ddxn1GpNI",
        "outputId": "2c992aa5-7610-4c78-c0d7-f3e03b1676ff",
        "colab": {
          "base_uri": "https://localhost:8080/"
        }
      },
      "execution_count": 30,
      "outputs": [
        {
          "output_type": "execute_result",
          "data": {
            "text/plain": [
              "b'\\xff\\xfe\\x00\\x00r\\x00\\x00\\x00p\\x00\\x00\\x00g\\x00\\x00\\x00k\\x00\\x00\\x00k\\x00\\x00\\x00o\\x00\\x00\\x00r\\x00\\x00\\x00g\\x00\\x00\\x00m\\x00\\x00\\x00o\\x00\\x00\\x00'"
            ]
          },
          "metadata": {},
          "execution_count": 30
        }
      ]
    },
    {
      "cell_type": "code",
      "source": [
        "newfile = open('test.txt', 'w+b')"
      ],
      "metadata": {
        "id": "wEhInPL3IbMI"
      },
      "execution_count": 39,
      "outputs": []
    },
    {
      "cell_type": "code",
      "source": [
        "'\\0'"
      ],
      "metadata": {
        "id": "2LpFVcuGI9Sg",
        "outputId": "85ef3be9-3f2f-414f-8878-71e83de01566",
        "colab": {
          "base_uri": "https://localhost:8080/",
          "height": 36
        }
      },
      "execution_count": 41,
      "outputs": [
        {
          "output_type": "execute_result",
          "data": {
            "text/plain": [
              "'\\x00'"
            ],
            "application/vnd.google.colaboratory.intrinsic+json": {
              "type": "string"
            }
          },
          "metadata": {},
          "execution_count": 41
        }
      ]
    },
    {
      "cell_type": "code",
      "source": [
        "s1 = '\\0'\n",
        "print(s1)\n",
        "type(s1)"
      ],
      "metadata": {
        "id": "ljpKU9hdJAqa",
        "outputId": "9f82e63b-d290-4957-f2cb-782cd64abd9a",
        "colab": {
          "base_uri": "https://localhost:8080/"
        }
      },
      "execution_count": 44,
      "outputs": [
        {
          "output_type": "stream",
          "name": "stdout",
          "text": [
            "\u0000\n"
          ]
        },
        {
          "output_type": "execute_result",
          "data": {
            "text/plain": [
              "str"
            ]
          },
          "metadata": {},
          "execution_count": 44
        }
      ]
    },
    {
      "cell_type": "code",
      "source": [
        "newfile.write(s32)"
      ],
      "metadata": {
        "id": "a-qcZvgBIptE",
        "outputId": "9e3e7d70-9205-4cdd-c4fb-052048e41670",
        "colab": {
          "base_uri": "https://localhost:8080/"
        }
      },
      "execution_count": 40,
      "outputs": [
        {
          "output_type": "execute_result",
          "data": {
            "text/plain": [
              "44"
            ]
          },
          "metadata": {},
          "execution_count": 40
        }
      ]
    },
    {
      "cell_type": "code",
      "source": [
        "newfile.close()"
      ],
      "metadata": {
        "id": "DzHa5-gcJOS5"
      },
      "execution_count": 45,
      "outputs": []
    },
    {
      "cell_type": "code",
      "source": [
        "readnewfile = open('test.txt', 'r+b')"
      ],
      "metadata": {
        "id": "1oA47nKGJiez"
      },
      "execution_count": 65,
      "outputs": []
    },
    {
      "cell_type": "code",
      "source": [
        "readnewfile.read().decode('utf-32')"
      ],
      "metadata": {
        "id": "9WkQkfx_JpA3",
        "outputId": "73f1ea8e-070d-4491-f305-b28978eb2b6e",
        "colab": {
          "base_uri": "https://localhost:8080/",
          "height": 175
        }
      },
      "execution_count": 66,
      "outputs": [
        {
          "output_type": "error",
          "ename": "UnicodeDecodeError",
          "evalue": "ignored",
          "traceback": [
            "\u001b[0;31m---------------------------------------------------------------------------\u001b[0m",
            "\u001b[0;31mUnicodeDecodeError\u001b[0m                        Traceback (most recent call last)",
            "\u001b[0;32m<ipython-input-66-4ea9d3d7da59>\u001b[0m in \u001b[0;36m<cell line: 1>\u001b[0;34m()\u001b[0m\n\u001b[0;32m----> 1\u001b[0;31m \u001b[0mreadnewfile\u001b[0m\u001b[0;34m.\u001b[0m\u001b[0mread\u001b[0m\u001b[0;34m(\u001b[0m\u001b[0;34m)\u001b[0m\u001b[0;34m.\u001b[0m\u001b[0mdecode\u001b[0m\u001b[0;34m(\u001b[0m\u001b[0;34m'utf-32'\u001b[0m\u001b[0;34m)\u001b[0m\u001b[0;34m\u001b[0m\u001b[0;34m\u001b[0m\u001b[0m\n\u001b[0m",
            "\u001b[0;31mUnicodeDecodeError\u001b[0m: 'utf-32-le' codec can't decode bytes in position 0-3: code point not in range(0x110000)"
          ]
        }
      ]
    },
    {
      "cell_type": "code",
      "source": [],
      "metadata": {
        "id": "6j9d8a7XJ2AT"
      },
      "execution_count": null,
      "outputs": []
    },
    {
      "cell_type": "code",
      "source": [
        "s32_readable = s32.decode(encoding='UTF-32')"
      ],
      "metadata": {
        "id": "ZGdbbcZSJ5pt"
      },
      "execution_count": 31,
      "outputs": []
    },
    {
      "cell_type": "code",
      "source": [
        "type(s32)"
      ],
      "metadata": {
        "id": "IM_eHTh4IU1D",
        "outputId": "abd7c1a4-f22a-48b7-bef2-4143ff4ee0f1",
        "colab": {
          "base_uri": "https://localhost:8080/"
        }
      },
      "execution_count": 36,
      "outputs": [
        {
          "output_type": "execute_result",
          "data": {
            "text/plain": [
              "bytes"
            ]
          },
          "metadata": {},
          "execution_count": 36
        }
      ]
    },
    {
      "cell_type": "code",
      "source": [
        "s = \"цулащазлзцуа🙂\"\n",
        "s"
      ],
      "metadata": {
        "id": "RMFvHzwzHHTk",
        "outputId": "a5949d98-2778-4d79-f2f4-dc60d0929cd9",
        "colab": {
          "base_uri": "https://localhost:8080/",
          "height": 36
        }
      },
      "execution_count": 35,
      "outputs": [
        {
          "output_type": "execute_result",
          "data": {
            "text/plain": [
              "'цулащазлзцуа🙂'"
            ],
            "application/vnd.google.colaboratory.intrinsic+json": {
              "type": "string"
            }
          },
          "metadata": {},
          "execution_count": 35
        }
      ]
    },
    {
      "cell_type": "code",
      "source": [
        "s32_readable"
      ],
      "metadata": {
        "id": "CpGPdCpZHCK7",
        "outputId": "f29a1eb4-7098-43f5-a0fe-020692f087f4",
        "colab": {
          "base_uri": "https://localhost:8080/",
          "height": 36
        }
      },
      "execution_count": 32,
      "outputs": [
        {
          "output_type": "execute_result",
          "data": {
            "text/plain": [
              "'rpgkkorgmo'"
            ],
            "application/vnd.google.colaboratory.intrinsic+json": {
              "type": "string"
            }
          },
          "metadata": {},
          "execution_count": 32
        }
      ]
    },
    {
      "cell_type": "code",
      "metadata": {
        "id": "3NdbMLyz-1G7",
        "colab": {
          "base_uri": "https://localhost:8080/",
          "height": 36
        },
        "outputId": "af6ba4e9-b4b6-4ea8-e376-6a78e02cbea6"
      },
      "source": [
        "s8"
      ],
      "execution_count": 33,
      "outputs": [
        {
          "output_type": "execute_result",
          "data": {
            "text/plain": [
              "'rpgkkorgmo'"
            ],
            "application/vnd.google.colaboratory.intrinsic+json": {
              "type": "string"
            }
          },
          "metadata": {},
          "execution_count": 33
        }
      ]
    },
    {
      "cell_type": "code",
      "metadata": {
        "id": "HO35HsHL-3lV",
        "colab": {
          "base_uri": "https://localhost:8080/"
        },
        "outputId": "d157e8c4-ede3-4458-cca8-552604f394b6"
      },
      "source": [
        "s32"
      ],
      "execution_count": null,
      "outputs": [
        {
          "output_type": "execute_result",
          "data": {
            "text/plain": [
              "b'\\xff\\xfe\\x00\\x00r\\x00\\x00\\x00p\\x00\\x00\\x00g\\x00\\x00\\x00k\\x00\\x00\\x00k\\x00\\x00\\x00o\\x00\\x00\\x00r\\x00\\x00\\x00g\\x00\\x00\\x00m\\x00\\x00\\x00o\\x00\\x00\\x00'"
            ]
          },
          "metadata": {},
          "execution_count": 31
        }
      ]
    },
    {
      "cell_type": "code",
      "source": [
        "s32_readable"
      ],
      "metadata": {
        "id": "gt0g7xZkJ_LP",
        "outputId": "321f163f-cfc4-49cd-dfff-56b2f1628bb9",
        "colab": {
          "base_uri": "https://localhost:8080/",
          "height": 36
        }
      },
      "execution_count": null,
      "outputs": [
        {
          "output_type": "execute_result",
          "data": {
            "text/plain": [
              "'rpgkkorgmo'"
            ],
            "application/vnd.google.colaboratory.intrinsic+json": {
              "type": "string"
            }
          },
          "metadata": {},
          "execution_count": 32
        }
      ]
    },
    {
      "cell_type": "code",
      "source": [
        "s8 = s8.encode(encoding='UTF-8')"
      ],
      "metadata": {
        "id": "dCnB5BXYKTtC"
      },
      "execution_count": null,
      "outputs": []
    },
    {
      "cell_type": "code",
      "source": [
        "s8"
      ],
      "metadata": {
        "id": "vaORT98dKZS8",
        "outputId": "5c6d51b6-f603-48fe-f907-82d237a26f98",
        "colab": {
          "base_uri": "https://localhost:8080/"
        }
      },
      "execution_count": null,
      "outputs": [
        {
          "output_type": "execute_result",
          "data": {
            "text/plain": [
              "b'rpgkkorgmo'"
            ]
          },
          "metadata": {},
          "execution_count": 34
        }
      ]
    },
    {
      "cell_type": "code",
      "source": [
        "type(s32_readable)"
      ],
      "metadata": {
        "id": "jvH663X0KgIY",
        "outputId": "b27737fa-75ae-4c5c-9dce-b9cd84441ef9",
        "colab": {
          "base_uri": "https://localhost:8080/"
        }
      },
      "execution_count": null,
      "outputs": [
        {
          "output_type": "execute_result",
          "data": {
            "text/plain": [
              "str"
            ]
          },
          "metadata": {},
          "execution_count": 37
        }
      ]
    },
    {
      "cell_type": "code",
      "metadata": {
        "id": "-tTUmVhm-8qr",
        "colab": {
          "base_uri": "https://localhost:8080/"
        },
        "outputId": "6321d8e9-8bac-4d4f-eee2-555ead06e3cb"
      },
      "source": [
        "type(s32)"
      ],
      "execution_count": null,
      "outputs": [
        {
          "output_type": "execute_result",
          "data": {
            "text/plain": [
              "bytes"
            ]
          },
          "metadata": {},
          "execution_count": 35
        }
      ]
    },
    {
      "cell_type": "code",
      "source": [
        "type(s8)"
      ],
      "metadata": {
        "id": "vrFsJ7W3KeHy",
        "outputId": "8a8ae5ed-f1fe-455f-fd2e-e9d0d00d9c75",
        "colab": {
          "base_uri": "https://localhost:8080/"
        }
      },
      "execution_count": null,
      "outputs": [
        {
          "output_type": "execute_result",
          "data": {
            "text/plain": [
              "bytes"
            ]
          },
          "metadata": {},
          "execution_count": 36
        }
      ]
    },
    {
      "cell_type": "code",
      "metadata": {
        "id": "nMMB-ebn_I_o",
        "colab": {
          "base_uri": "https://localhost:8080/"
        },
        "outputId": "e09379cf-4bc8-49e4-e6d6-9af36425fb22"
      },
      "source": [
        "import sys\n",
        "print(sys.getsizeof(s8))\n",
        "print(sys.getsizeof(s32))"
      ],
      "execution_count": null,
      "outputs": [
        {
          "output_type": "stream",
          "name": "stdout",
          "text": [
            "43\n",
            "77\n"
          ]
        }
      ]
    },
    {
      "cell_type": "code",
      "source": [
        "import os\n",
        "# os.chdir('content')\n",
        "os.chdir('sample_data')\n",
        "print(os.getcwd())\n",
        "os.listdir()"
      ],
      "metadata": {
        "id": "w0I8EOLpKq8m",
        "outputId": "d1a9f5f0-f4eb-4684-fc7d-a3b234c6dc6a",
        "colab": {
          "base_uri": "https://localhost:8080/"
        }
      },
      "execution_count": 74,
      "outputs": [
        {
          "output_type": "stream",
          "name": "stdout",
          "text": [
            "/content/sample_data\n"
          ]
        },
        {
          "output_type": "execute_result",
          "data": {
            "text/plain": [
              "['anscombe.json',\n",
              " 'README.md',\n",
              " 'california_housing_test.csv',\n",
              " 'california_housing_train.csv',\n",
              " 'mnist_train_small.csv',\n",
              " 'mnist_test.csv']"
            ]
          },
          "metadata": {},
          "execution_count": 74
        }
      ]
    },
    {
      "cell_type": "markdown",
      "metadata": {
        "collapsed": false,
        "id": "7UaB4Geu5c0c"
      },
      "source": [
        "Функция open() принимает 2 основных аргумента:\n",
        "- первый аргумент file - это имя файла, т.е. путь к файлу, который мы хотим открыть, путь может быть как абсолютный, так и относительный, как и в ОС Windows.\n",
        "- второй аргумент mode - это режим работы с файлом: для чтения, записи, перезаписи и пр."
      ]
    },
    {
      "cell_type": "markdown",
      "metadata": {
        "collapsed": false,
        "id": "YfFRhkdR5c0d"
      },
      "source": [
        "Обозначение режимов работы с фалом:\n",
        "- 'r'\tоткрытие на чтение (является значением по умолчанию).\n",
        "- 'w'\tоткрытие на запись, содержимое файла удаляется, создается новый пустой файл.\n",
        "- 'x'\tоткрытие на запись, если файла не существует, иначе исключение.\n",
        "- 'a'\tоткрытие на дозапись, информация добавляется в конец файла.\n",
        "- 'b'\tоткрытие в двоичном режиме.\n",
        "- 't'\tоткрытие в текстовом режиме.\n",
        "- '+'\tоткрытие на чтение и запись."
      ]
    },
    {
      "cell_type": "markdown",
      "metadata": {
        "collapsed": false,
        "id": "Rzbo9n4O5c0e"
      },
      "source": [
        "В python файл представляется идентификатором и вся дальнейшая работа с этим файлом связана с его идентификатором:"
      ]
    },
    {
      "cell_type": "code",
      "metadata": {
        "pycharm": {
          "name": "#%%\n"
        },
        "id": "_-2hBbto5c0e",
        "colab": {
          "base_uri": "https://localhost:8080/"
        },
        "outputId": "a90e2fac-7c26-41b6-b140-b43ab3444dfc"
      },
      "source": [
        "f = open('test.txt', 'r')\n",
        "print(f)"
      ],
      "execution_count": 68,
      "outputs": [
        {
          "output_type": "stream",
          "name": "stdout",
          "text": [
            "<_io.TextIOWrapper name='test.txt' mode='r' encoding='UTF-8'>\n"
          ]
        }
      ]
    },
    {
      "cell_type": "markdown",
      "metadata": {
        "collapsed": false,
        "id": "nr1yc55e5c0f"
      },
      "source": [
        "# Чтение из файла"
      ]
    },
    {
      "cell_type": "markdown",
      "metadata": {
        "collapsed": false,
        "id": "zgxHNydj5c0g"
      },
      "source": [
        "Существует 3 основных способа чтения информации из текстового файла:"
      ]
    },
    {
      "cell_type": "markdown",
      "metadata": {
        "collapsed": false,
        "id": "L7M5lLrs5c0g"
      },
      "source": [
        "1. Чтение всей информации целиком с помощью функции read()"
      ]
    },
    {
      "cell_type": "code",
      "metadata": {
        "pycharm": {
          "name": "#%%\n"
        },
        "id": "B0INgrOE5c0h",
        "colab": {
          "base_uri": "https://localhost:8080/"
        },
        "outputId": "fcfad419-3bcc-4d3f-d7c4-bfe966de08ad"
      },
      "source": [
        "msg = f.read()\n",
        "print(msg)"
      ],
      "execution_count": null,
      "outputs": [
        {
          "output_type": "stream",
          "name": "stdout",
          "text": [
            "Hi\n",
            "Привет\n",
            "Some data\n",
            "0 1 2 3 4 5 6 7 8\n",
            "\n"
          ]
        }
      ]
    },
    {
      "cell_type": "markdown",
      "metadata": {
        "collapsed": false,
        "id": "dZldJ11o5c0h"
      },
      "source": [
        "2. Чтение информации построчно с помощью цикла for"
      ]
    },
    {
      "cell_type": "code",
      "metadata": {
        "id": "PFCF0T0AAK5P"
      },
      "source": [
        "dir(f)"
      ],
      "execution_count": null,
      "outputs": []
    },
    {
      "cell_type": "code",
      "source": [
        "f = open('anscombe.json', 'r', encoding='utf-8')"
      ],
      "metadata": {
        "id": "kxyXcURuML3B"
      },
      "execution_count": 76,
      "outputs": []
    },
    {
      "cell_type": "code",
      "source": [
        "f.readline()"
      ],
      "metadata": {
        "id": "8bUkgocyMJ3S",
        "outputId": "1b55cdad-b9a7-4b31-930d-da3789d29c76",
        "colab": {
          "base_uri": "https://localhost:8080/",
          "height": 36
        }
      },
      "execution_count": 78,
      "outputs": [
        {
          "output_type": "execute_result",
          "data": {
            "text/plain": [
              "'  {\"Series\":\"I\", \"X\":10.0, \"Y\":8.04},\\n'"
            ],
            "application/vnd.google.colaboratory.intrinsic+json": {
              "type": "string"
            }
          },
          "metadata": {},
          "execution_count": 78
        }
      ]
    },
    {
      "cell_type": "code",
      "source": [
        "f.readline()"
      ],
      "metadata": {
        "id": "hBadZpnAMV8z",
        "outputId": "c375e986-ef3e-45d6-9108-e40ea0794c67",
        "colab": {
          "base_uri": "https://localhost:8080/",
          "height": 36
        }
      },
      "execution_count": null,
      "outputs": [
        {
          "output_type": "execute_result",
          "data": {
            "text/plain": [
              "'  {\"Series\":\"I\", \"X\":4.0, \"Y\":4.26},\\n'"
            ],
            "application/vnd.google.colaboratory.intrinsic+json": {
              "type": "string"
            }
          },
          "metadata": {},
          "execution_count": 64
        }
      ]
    },
    {
      "cell_type": "code",
      "metadata": {
        "pycharm": {
          "name": "#%%\n"
        },
        "id": "MH3xtQ_i5c0i",
        "colab": {
          "base_uri": "https://localhost:8080/"
        },
        "outputId": "d92433be-9c36-42c1-c765-ed26587857c9"
      },
      "source": [
        "for line in f:\n",
        "    print(line)"
      ],
      "execution_count": null,
      "outputs": [
        {
          "output_type": "stream",
          "name": "stdout",
          "text": [
            "  {\"Series\":\"I\", \"X\":12.0, \"Y\":10.84},\n",
            "\n",
            "  {\"Series\":\"I\", \"X\":7.0, \"Y\":4.81},\n",
            "\n",
            "  {\"Series\":\"I\", \"X\":5.0, \"Y\":5.68},\n",
            "\n",
            "\n",
            "\n",
            "  {\"Series\":\"II\", \"X\":10.0, \"Y\":9.14},\n",
            "\n",
            "  {\"Series\":\"II\", \"X\":8.0, \"Y\":8.14},\n",
            "\n",
            "  {\"Series\":\"II\", \"X\":13.0, \"Y\":8.74},\n",
            "\n",
            "  {\"Series\":\"II\", \"X\":9.0, \"Y\":8.77},\n",
            "\n",
            "  {\"Series\":\"II\", \"X\":11.0, \"Y\":9.26},\n",
            "\n",
            "  {\"Series\":\"II\", \"X\":14.0, \"Y\":8.10},\n",
            "\n",
            "  {\"Series\":\"II\", \"X\":6.0, \"Y\":6.13},\n",
            "\n",
            "  {\"Series\":\"II\", \"X\":4.0, \"Y\":3.10},\n",
            "\n",
            "  {\"Series\":\"II\", \"X\":12.0, \"Y\":9.13},\n",
            "\n",
            "  {\"Series\":\"II\", \"X\":7.0, \"Y\":7.26},\n",
            "\n",
            "  {\"Series\":\"II\", \"X\":5.0, \"Y\":4.74},\n",
            "\n",
            "\n",
            "\n",
            "  {\"Series\":\"III\", \"X\":10.0, \"Y\":7.46},\n",
            "\n",
            "  {\"Series\":\"III\", \"X\":8.0, \"Y\":6.77},\n",
            "\n",
            "  {\"Series\":\"III\", \"X\":13.0, \"Y\":12.74},\n",
            "\n",
            "  {\"Series\":\"III\", \"X\":9.0, \"Y\":7.11},\n",
            "\n",
            "  {\"Series\":\"III\", \"X\":11.0, \"Y\":7.81},\n",
            "\n",
            "  {\"Series\":\"III\", \"X\":14.0, \"Y\":8.84},\n",
            "\n",
            "  {\"Series\":\"III\", \"X\":6.0, \"Y\":6.08},\n",
            "\n",
            "  {\"Series\":\"III\", \"X\":4.0, \"Y\":5.39},\n",
            "\n",
            "  {\"Series\":\"III\", \"X\":12.0, \"Y\":8.15},\n",
            "\n",
            "  {\"Series\":\"III\", \"X\":7.0, \"Y\":6.42},\n",
            "\n",
            "  {\"Series\":\"III\", \"X\":5.0, \"Y\":5.73},\n",
            "\n",
            "\n",
            "\n",
            "  {\"Series\":\"IV\", \"X\":8.0, \"Y\":6.58},\n",
            "\n",
            "  {\"Series\":\"IV\", \"X\":8.0, \"Y\":5.76},\n",
            "\n",
            "  {\"Series\":\"IV\", \"X\":8.0, \"Y\":7.71},\n",
            "\n",
            "  {\"Series\":\"IV\", \"X\":8.0, \"Y\":8.84},\n",
            "\n",
            "  {\"Series\":\"IV\", \"X\":8.0, \"Y\":8.47},\n",
            "\n",
            "  {\"Series\":\"IV\", \"X\":8.0, \"Y\":7.04},\n",
            "\n",
            "  {\"Series\":\"IV\", \"X\":8.0, \"Y\":5.25},\n",
            "\n",
            "  {\"Series\":\"IV\", \"X\":19.0, \"Y\":12.50},\n",
            "\n",
            "  {\"Series\":\"IV\", \"X\":8.0, \"Y\":5.56},\n",
            "\n",
            "  {\"Series\":\"IV\", \"X\":8.0, \"Y\":7.91},\n",
            "\n",
            "  {\"Series\":\"IV\", \"X\":8.0, \"Y\":6.89}\n",
            "\n",
            "]\n",
            "\n"
          ]
        }
      ]
    },
    {
      "cell_type": "markdown",
      "metadata": {
        "collapsed": false,
        "id": "9lWMFPTM5c0i"
      },
      "source": [
        "В выводе присутствуют все переводы строк, как и в файле. Дополнительные переводы строк обусловлены стандартным поведением функции print()."
      ]
    },
    {
      "cell_type": "markdown",
      "metadata": {
        "collapsed": false,
        "id": "CbL4pKzC5c0j"
      },
      "source": [
        "3. Чтение всех строк одним списком с помощью функции readlines()"
      ]
    },
    {
      "cell_type": "code",
      "metadata": {
        "pycharm": {
          "name": "#%%\n"
        },
        "id": "-McnBb225c0j",
        "colab": {
          "base_uri": "https://localhost:8080/"
        },
        "outputId": "25d08f02-35ac-4fb6-de3c-b2d7abf2ee86"
      },
      "source": [
        "lines = f.readlines()\n",
        "print(type(lines))\n",
        "for i in range(len(lines)):\n",
        "    print(lines[i], end='')"
      ],
      "execution_count": 80,
      "outputs": [
        {
          "output_type": "stream",
          "name": "stdout",
          "text": [
            "<class 'list'>\n"
          ]
        }
      ]
    },
    {
      "cell_type": "code",
      "source": [
        "f.close()"
      ],
      "metadata": {
        "id": "gheDl-L_Mpwx"
      },
      "execution_count": 81,
      "outputs": []
    },
    {
      "cell_type": "markdown",
      "metadata": {
        "collapsed": false,
        "id": "irzi50oF5c0k"
      },
      "source": [
        "Существует также функция readline(), позволяющая считать лишь одну строчку а не все сразу."
      ]
    },
    {
      "cell_type": "markdown",
      "metadata": {
        "collapsed": false,
        "id": "FpBKG4uu5c0k"
      },
      "source": [
        "# Запись в файл"
      ]
    },
    {
      "cell_type": "markdown",
      "metadata": {
        "collapsed": false,
        "id": "C1eCpDYZ5c0l"
      },
      "source": [
        "Первым делом для записи в файл его нужно открыть в режиме записи:"
      ]
    },
    {
      "cell_type": "code",
      "metadata": {
        "pycharm": {
          "name": "#%%\n"
        },
        "id": "3hIpNlYm5c0l",
        "colab": {
          "base_uri": "https://localhost:8080/"
        },
        "outputId": "c411bd30-966a-46fb-a314-6473f1cdc15b"
      },
      "source": [
        "f = open('output.txt', 'w')\n",
        "print(f)"
      ],
      "execution_count": 90,
      "outputs": [
        {
          "output_type": "stream",
          "name": "stdout",
          "text": [
            "<_io.TextIOWrapper name='output.txt' mode='w' encoding='UTF-8'>\n"
          ]
        }
      ]
    },
    {
      "cell_type": "markdown",
      "metadata": {
        "collapsed": false,
        "id": "gqCHl2cC5c0m"
      },
      "source": [
        "1. Запись в файл с помощью метода write:"
      ]
    },
    {
      "cell_type": "code",
      "metadata": {
        "pycharm": {
          "name": "#%%\n"
        },
        "id": "bg6wVT3d5c0m",
        "colab": {
          "base_uri": "https://localhost:8080/"
        },
        "outputId": "38f26699-7a3c-4ac1-d920-ae34209f33b2"
      },
      "source": [
        "msg = 'Write to file\\n'\n",
        "f.write(msg)"
      ],
      "execution_count": 86,
      "outputs": [
        {
          "output_type": "execute_result",
          "data": {
            "text/plain": [
              "13"
            ]
          },
          "metadata": {},
          "execution_count": 86
        }
      ]
    },
    {
      "cell_type": "code",
      "source": [
        "f.close()"
      ],
      "metadata": {
        "id": "2ZoXN0krMAbS"
      },
      "execution_count": 87,
      "outputs": []
    },
    {
      "cell_type": "markdown",
      "metadata": {
        "collapsed": false,
        "id": "MSdHjUoW5c0m"
      },
      "source": [
        "Функции write принимает строковый аргумент - данные для записи, и возвращает число записанных символов."
      ]
    },
    {
      "cell_type": "markdown",
      "metadata": {
        "collapsed": false,
        "id": "OfRHZo325c0n"
      },
      "source": [
        "2. Запись в файл с помощью метода print:"
      ]
    },
    {
      "cell_type": "code",
      "metadata": {
        "pycharm": {
          "name": "#%%\n"
        },
        "id": "5F4srsCy5c0n"
      },
      "source": [
        "msg = \"Write with print\"\n",
        "print(msg, 'Hello', sep='*', end='\\n\\n', file=f)"
      ],
      "execution_count": 91,
      "outputs": []
    },
    {
      "cell_type": "markdown",
      "metadata": {
        "collapsed": false,
        "id": "KLsW07HF5c0n"
      },
      "source": [
        "После чтения/записи не забывайте закрывать файлы:"
      ]
    },
    {
      "cell_type": "code",
      "metadata": {
        "pycharm": {
          "name": "#%%\n"
        },
        "id": "rt7M-Jqw5c0n"
      },
      "source": [
        "f.close()"
      ],
      "execution_count": 92,
      "outputs": []
    },
    {
      "cell_type": "code",
      "source": [
        "f = open('output.txt', 'a')"
      ],
      "metadata": {
        "id": "cDbTD0JRMphi"
      },
      "execution_count": 93,
      "outputs": []
    },
    {
      "cell_type": "code",
      "source": [
        "print('next message', 'Hello', sep='???', end='\\n\\n', file=f)"
      ],
      "metadata": {
        "id": "i4XazdKXMtFp"
      },
      "execution_count": 94,
      "outputs": []
    },
    {
      "cell_type": "code",
      "source": [
        "f.close()"
      ],
      "metadata": {
        "id": "qKiGoMa7MxqI"
      },
      "execution_count": 95,
      "outputs": []
    },
    {
      "cell_type": "code",
      "source": [
        "f = open('output.txt')\n",
        "f"
      ],
      "metadata": {
        "id": "qwycjM47NSNw",
        "outputId": "4e5fac4f-913f-4a35-a700-9c5b29a7700e",
        "colab": {
          "base_uri": "https://localhost:8080/"
        }
      },
      "execution_count": 96,
      "outputs": [
        {
          "output_type": "execute_result",
          "data": {
            "text/plain": [
              "<_io.TextIOWrapper name='output.txt' mode='r' encoding='UTF-8'>"
            ]
          },
          "metadata": {},
          "execution_count": 96
        }
      ]
    },
    {
      "cell_type": "code",
      "source": [
        "for line in f:\n",
        "  print(line, end='')"
      ],
      "metadata": {
        "id": "wkjzOwF9NW7k",
        "outputId": "758de50b-6cef-480e-c5a5-afa0d59b14d9",
        "colab": {
          "base_uri": "https://localhost:8080/"
        }
      },
      "execution_count": 97,
      "outputs": [
        {
          "output_type": "stream",
          "name": "stdout",
          "text": [
            "Write with print*Hello\n",
            "\n",
            "next message???Hello\n",
            "\n"
          ]
        }
      ]
    },
    {
      "cell_type": "markdown",
      "metadata": {
        "collapsed": false,
        "id": "miZi2C8V5c0o"
      },
      "source": [
        "# With ... as - менеджер контекста"
      ]
    },
    {
      "cell_type": "markdown",
      "metadata": {
        "collapsed": false,
        "id": "UwuX15C35c0o"
      },
      "source": [
        "Конструкция with ... as используется для оборачивания блока инструкций.\n",
        "Синтаксис конструкции with ... as:"
      ]
    },
    {
      "cell_type": "code",
      "metadata": {
        "pycharm": {
          "name": "#%%\n"
        },
        "id": "WI37sRr-5c0o",
        "outputId": "4e2669fa-ba15-42e6-c44a-4d361ae6012f",
        "colab": {
          "base_uri": "https://localhost:8080/",
          "height": 130
        }
      },
      "source": [
        "\"with\" expression [\"as\" target] (\",\" expression [\"as\" target])* \":\"\n",
        "    suite"
      ],
      "execution_count": null,
      "outputs": [
        {
          "output_type": "error",
          "ename": "SyntaxError",
          "evalue": "ignored",
          "traceback": [
            "\u001b[0;36m  File \u001b[0;32m\"<ipython-input-80-7242c22119ab>\"\u001b[0;36m, line \u001b[0;32m1\u001b[0m\n\u001b[0;31m    \"with\" expression [\"as\" target] (\",\" expression [\"as\" target])* \":\"\u001b[0m\n\u001b[0m           ^\u001b[0m\n\u001b[0;31mSyntaxError\u001b[0m\u001b[0;31m:\u001b[0m invalid syntax\n"
          ]
        }
      ]
    },
    {
      "cell_type": "markdown",
      "metadata": {
        "collapsed": false,
        "id": "awUUHr7W5c0o"
      },
      "source": [
        "Что происходит при выполнении данного блока:\n",
        "1) Выполняется выражение в конструкции with ... as.\n",
        "2) Загружается специальный метод __exit__ для дальнейшего использования.\n",
        "3) Выполняется метод __enter__. Если конструкция with включает в себя слово as, то возвращаемое методом __enter__ значение записывается в переменную.\n",
        "4) Выполняется suite.\n",
        "5) Вызывается метод __exit__, причём неважно, выполнилось ли suite или произошло исключение. В этот метод передаются параметры исключения, если оно произошло, или во всех аргументах значение None, если исключения не было."
      ]
    },
    {
      "cell_type": "markdown",
      "metadata": {
        "collapsed": false,
        "id": "GurVwLzZ5c0p"
      },
      "source": [
        "Если в конструкции with - as было несколько выражений, то это эквивалентно нескольким вложенным конструкциям:"
      ]
    },
    {
      "cell_type": "code",
      "metadata": {
        "pycharm": {
          "name": "#%%\n"
        },
        "id": "qYgs1rk65c0p"
      },
      "source": [
        "with A() as a, B() as b:\n",
        "    suite"
      ],
      "execution_count": null,
      "outputs": []
    },
    {
      "cell_type": "markdown",
      "metadata": {
        "collapsed": false,
        "id": "qS5J1bgo5c0p"
      },
      "source": [
        "эквивалентно"
      ]
    },
    {
      "cell_type": "code",
      "metadata": {
        "pycharm": {
          "name": "#%%\n"
        },
        "id": "DD0dnJkK5c0p"
      },
      "source": [
        "with A() as a:\n",
        "    with B() as b:\n",
        "        suite"
      ],
      "execution_count": null,
      "outputs": []
    },
    {
      "cell_type": "code",
      "source": [
        "class A:\n",
        "  #  def __enter__(self):\n",
        "  #    print('ENTER WITH CLOSURE')\n",
        "   def __exit__(self, a, b, c):\n",
        "     print('EXIT WITH CLOSURE')"
      ],
      "metadata": {
        "id": "H92HXGGaORB5"
      },
      "execution_count": 123,
      "outputs": []
    },
    {
      "cell_type": "code",
      "source": [
        "with A() as a:\n",
        "  print(a)"
      ],
      "metadata": {
        "id": "36-MOBupOTsu",
        "outputId": "9ef263a0-e9a1-48ce-8b41-8040b1478487",
        "colab": {
          "base_uri": "https://localhost:8080/",
          "height": 192
        }
      },
      "execution_count": 124,
      "outputs": [
        {
          "output_type": "error",
          "ename": "AttributeError",
          "evalue": "ignored",
          "traceback": [
            "\u001b[0;31m---------------------------------------------------------------------------\u001b[0m",
            "\u001b[0;31mAttributeError\u001b[0m                            Traceback (most recent call last)",
            "\u001b[0;32m<ipython-input-124-0f2250692ceb>\u001b[0m in \u001b[0;36m<cell line: 1>\u001b[0;34m()\u001b[0m\n\u001b[0;32m----> 1\u001b[0;31m \u001b[0;32mwith\u001b[0m \u001b[0mA\u001b[0m\u001b[0;34m(\u001b[0m\u001b[0;34m)\u001b[0m \u001b[0;32mas\u001b[0m \u001b[0ma\u001b[0m\u001b[0;34m:\u001b[0m\u001b[0;34m\u001b[0m\u001b[0;34m\u001b[0m\u001b[0m\n\u001b[0m\u001b[1;32m      2\u001b[0m   \u001b[0mprint\u001b[0m\u001b[0;34m(\u001b[0m\u001b[0ma\u001b[0m\u001b[0;34m)\u001b[0m\u001b[0;34m\u001b[0m\u001b[0;34m\u001b[0m\u001b[0m\n",
            "\u001b[0;31mAttributeError\u001b[0m: __enter__"
          ]
        }
      ]
    },
    {
      "cell_type": "markdown",
      "metadata": {
        "collapsed": false,
        "id": "JP_IMgWs5c0q"
      },
      "source": [
        "Для чего применяется конструкция with ... as? Для гарантии того, что критические функции выполнятся в любом случае. Самый распространённый пример использования этой конструкции - открытие файлов, такой способ гарантирует закрытие файла в любом случае."
      ]
    },
    {
      "cell_type": "code",
      "metadata": {
        "pycharm": {
          "name": "#%%\n"
        },
        "id": "tvQgjoO85c0q"
      },
      "source": [
        "with open('output.txt','w') as myfile:\n",
        "    myfile.write('Write without close')\n",
        "    # print(myfile.readable())\n",
        "    # print(myfile.read())"
      ],
      "execution_count": 115,
      "outputs": []
    },
    {
      "cell_type": "code",
      "source": [
        "myfile = open('output.txt','w')\n",
        "myfile.write('Write without close')\n",
        "myfile.close()"
      ],
      "metadata": {
        "id": "htMEdCnEOvGV"
      },
      "execution_count": 118,
      "outputs": []
    },
    {
      "cell_type": "code",
      "metadata": {
        "pycharm": {
          "name": "#%%\n"
        },
        "id": "yos0mWIo5c0q",
        "colab": {
          "base_uri": "https://localhost:8080/"
        },
        "outputId": "e1674dc2-7198-4c51-888b-ac6e42220fa5"
      },
      "source": [
        "print(bool(myfile))\n",
        "# myfile.write('data')\n",
        "myfile.closed"
      ],
      "execution_count": 120,
      "outputs": [
        {
          "output_type": "stream",
          "name": "stdout",
          "text": [
            "True\n"
          ]
        },
        {
          "output_type": "execute_result",
          "data": {
            "text/plain": [
              "True"
            ]
          },
          "metadata": {},
          "execution_count": 120
        }
      ]
    },
    {
      "cell_type": "code",
      "source": [
        "myfile.readable()"
      ],
      "metadata": {
        "id": "WCzyzLVwOHqX",
        "outputId": "86cf53d5-4a13-476c-f8c3-93a4658c9c48",
        "colab": {
          "base_uri": "https://localhost:8080/"
        }
      },
      "execution_count": 119,
      "outputs": [
        {
          "output_type": "execute_result",
          "data": {
            "text/plain": [
              "False"
            ]
          },
          "metadata": {},
          "execution_count": 119
        }
      ]
    },
    {
      "cell_type": "code",
      "source": [
        "try:\n",
        "    fobj = open('path/to/file.txt', 'r')\n",
        "    # fobj = open('anscombe.json', 'r')\n",
        "    data = fobj.read()\n",
        "    # print(int(data))\n",
        "except:\n",
        "    print(\"something happened\")"
      ],
      "metadata": {
        "id": "2urEBMfDQm_H",
        "outputId": "2a67ea5b-2fdf-4148-ebc9-88773d806302",
        "colab": {
          "base_uri": "https://localhost:8080/"
        }
      },
      "execution_count": 125,
      "outputs": [
        {
          "output_type": "stream",
          "name": "stdout",
          "text": [
            "something happened\n"
          ]
        }
      ]
    },
    {
      "cell_type": "code",
      "metadata": {
        "pycharm": {
          "name": "#%%\n"
        },
        "id": "oIvSNpl95c0r",
        "outputId": "49602ce9-b9b5-4386-82d6-6af192719a91",
        "colab": {
          "base_uri": "https://localhost:8080/"
        }
      },
      "source": [
        "try:\n",
        "  # fobj = open('path/to/file.txt', 'r')\n",
        "  fobj = open('anscombe.json', 'r')\n",
        "  data = fobj.read()\n",
        "  print(int(data))\n",
        "except FileNotFoundError as e:\n",
        "    print(e)\n",
        "    print('Could not find the necessary file!')\n",
        "except ValueError as e:\n",
        "    print(e)\n",
        "else:\n",
        "    print('else')\n",
        "finally:\n",
        "    print('finish')\n",
        "    if fobj:\n",
        "      fobj.close()\n",
        "\n",
        "print('something')"
      ],
      "execution_count": 131,
      "outputs": [
        {
          "output_type": "stream",
          "name": "stdout",
          "text": [
            "invalid literal for int() with base 10: '[\\n  {\"Series\":\"I\", \"X\":10.0, \"Y\":8.04},\\n  {\"Series\":\"I\", \"X\":8.0, \"Y\":6.95},\\n  {\"Series\":\"I\", \"X\":13.0, \"Y\":7.58},\\n  {\"Series\":\"I\", \"X\":9.0, \"Y\":8.81},\\n  {\"Series\":\"I\", \"X\":11.0, \"Y\":8.33},\\n  {\n",
            "finish\n",
            "something\n"
          ]
        }
      ]
    },
    {
      "cell_type": "markdown",
      "metadata": {
        "collapsed": false,
        "id": "zVrr7aYK5c0v"
      },
      "source": [
        "### Как устроен цикл for"
      ]
    },
    {
      "cell_type": "code",
      "metadata": {
        "pycharm": {
          "name": "#%%\n"
        },
        "id": "KBtGZFoR5c0v",
        "colab": {
          "base_uri": "https://localhost:8080/",
          "height": 217
        },
        "outputId": "a27dfe19-7115-47e2-eccf-720e7c0b9107"
      },
      "source": [
        "# for i in range(5):\n",
        "\n",
        "#     print(i)\n",
        "\n",
        "# for line in open('testmodule.py'):\n",
        "#     print(line)\n",
        "\n",
        "# for key in {'A' : 1, 'B' : 2, 'C' : 3}:\n",
        "#     print(key)\n",
        "\n",
        "# for letter in 'Hello, World':\n",
        "#     print(letter, type(letter))\n",
        "\n",
        "for i in 1:\n",
        "    pass"
      ],
      "execution_count": null,
      "outputs": [
        {
          "output_type": "error",
          "ename": "TypeError",
          "evalue": "ignored",
          "traceback": [
            "\u001b[0;31m---------------------------------------------------------------------------\u001b[0m",
            "\u001b[0;31mTypeError\u001b[0m                                 Traceback (most recent call last)",
            "\u001b[0;32m<ipython-input-97-804471f7b634>\u001b[0m in \u001b[0;36m<module>\u001b[0;34m\u001b[0m\n\u001b[1;32m     11\u001b[0m \u001b[0;31m#     print(letter, type(letter))\u001b[0m\u001b[0;34m\u001b[0m\u001b[0;34m\u001b[0m\u001b[0;34m\u001b[0m\u001b[0m\n\u001b[1;32m     12\u001b[0m \u001b[0;34m\u001b[0m\u001b[0m\n\u001b[0;32m---> 13\u001b[0;31m \u001b[0;32mfor\u001b[0m \u001b[0mi\u001b[0m \u001b[0;32min\u001b[0m \u001b[0;36m1\u001b[0m\u001b[0;34m:\u001b[0m\u001b[0;34m\u001b[0m\u001b[0;34m\u001b[0m\u001b[0m\n\u001b[0m\u001b[1;32m     14\u001b[0m     \u001b[0;32mpass\u001b[0m\u001b[0;34m\u001b[0m\u001b[0;34m\u001b[0m\u001b[0m\n",
            "\u001b[0;31mTypeError\u001b[0m: 'int' object is not iterable"
          ]
        }
      ]
    },
    {
      "cell_type": "code",
      "source": [
        "dir(int())"
      ],
      "metadata": {
        "id": "-f4JNBnAQkUV",
        "outputId": "5809022b-a99b-41a7-9a2c-01ca2f0ff8cb",
        "colab": {
          "base_uri": "https://localhost:8080/"
        }
      },
      "execution_count": null,
      "outputs": [
        {
          "output_type": "execute_result",
          "data": {
            "text/plain": [
              "['__abs__',\n",
              " '__add__',\n",
              " '__and__',\n",
              " '__bool__',\n",
              " '__ceil__',\n",
              " '__class__',\n",
              " '__delattr__',\n",
              " '__dir__',\n",
              " '__divmod__',\n",
              " '__doc__',\n",
              " '__eq__',\n",
              " '__float__',\n",
              " '__floor__',\n",
              " '__floordiv__',\n",
              " '__format__',\n",
              " '__ge__',\n",
              " '__getattribute__',\n",
              " '__getnewargs__',\n",
              " '__gt__',\n",
              " '__hash__',\n",
              " '__index__',\n",
              " '__init__',\n",
              " '__init_subclass__',\n",
              " '__int__',\n",
              " '__invert__',\n",
              " '__le__',\n",
              " '__lshift__',\n",
              " '__lt__',\n",
              " '__mod__',\n",
              " '__mul__',\n",
              " '__ne__',\n",
              " '__neg__',\n",
              " '__new__',\n",
              " '__or__',\n",
              " '__pos__',\n",
              " '__pow__',\n",
              " '__radd__',\n",
              " '__rand__',\n",
              " '__rdivmod__',\n",
              " '__reduce__',\n",
              " '__reduce_ex__',\n",
              " '__repr__',\n",
              " '__rfloordiv__',\n",
              " '__rlshift__',\n",
              " '__rmod__',\n",
              " '__rmul__',\n",
              " '__ror__',\n",
              " '__round__',\n",
              " '__rpow__',\n",
              " '__rrshift__',\n",
              " '__rshift__',\n",
              " '__rsub__',\n",
              " '__rtruediv__',\n",
              " '__rxor__',\n",
              " '__setattr__',\n",
              " '__sizeof__',\n",
              " '__str__',\n",
              " '__sub__',\n",
              " '__subclasshook__',\n",
              " '__truediv__',\n",
              " '__trunc__',\n",
              " '__xor__',\n",
              " 'as_integer_ratio',\n",
              " 'bit_length',\n",
              " 'conjugate',\n",
              " 'denominator',\n",
              " 'from_bytes',\n",
              " 'imag',\n",
              " 'numerator',\n",
              " 'real',\n",
              " 'to_bytes']"
            ]
          },
          "metadata": {},
          "execution_count": 101
        }
      ]
    },
    {
      "cell_type": "code",
      "source": [
        "set(dir(object))"
      ],
      "metadata": {
        "id": "zGMy5dZVQ1bQ",
        "outputId": "353392ba-70de-4888-fb9d-e54bf263f7a5",
        "colab": {
          "base_uri": "https://localhost:8080/"
        }
      },
      "execution_count": null,
      "outputs": [
        {
          "output_type": "execute_result",
          "data": {
            "text/plain": [
              "{'__class__',\n",
              " '__delattr__',\n",
              " '__dir__',\n",
              " '__doc__',\n",
              " '__eq__',\n",
              " '__format__',\n",
              " '__ge__',\n",
              " '__getattribute__',\n",
              " '__gt__',\n",
              " '__hash__',\n",
              " '__init__',\n",
              " '__init_subclass__',\n",
              " '__le__',\n",
              " '__lt__',\n",
              " '__ne__',\n",
              " '__new__',\n",
              " '__reduce__',\n",
              " '__reduce_ex__',\n",
              " '__repr__',\n",
              " '__setattr__',\n",
              " '__sizeof__',\n",
              " '__str__',\n",
              " '__subclasshook__'}"
            ]
          },
          "metadata": {},
          "execution_count": 103
        }
      ]
    },
    {
      "cell_type": "code",
      "metadata": {
        "pycharm": {
          "name": "#%%\n"
        },
        "id": "kg7NjQ9g5c0w",
        "colab": {
          "base_uri": "https://localhost:8080/"
        },
        "outputId": "e3c4d423-bf5e-48fe-b7d8-b4ada84e1ffe"
      },
      "source": [
        "dict_dir = set(dir({}))\n",
        "file_dir = set(dir(open('anscombe.json')))\n",
        "int_dir = set(dir(1))\n",
        "\n",
        "dict_dir & file_dir - set(dir(object))"
      ],
      "execution_count": null,
      "outputs": [
        {
          "output_type": "execute_result",
          "data": {
            "text/plain": [
              "{'__iter__'}"
            ]
          },
          "metadata": {},
          "execution_count": 102
        }
      ]
    },
    {
      "cell_type": "code",
      "metadata": {
        "pycharm": {
          "name": "#%%\n"
        },
        "id": "U67mMr9C5c0w",
        "colab": {
          "base_uri": "https://localhost:8080/"
        },
        "outputId": "03e16e73-3765-488e-9b43-1dbee5a52797"
      },
      "source": [
        "a = [1, 2, 3, 4]\n",
        "it = a.__iter__()\n",
        "\n",
        "it"
      ],
      "execution_count": null,
      "outputs": [
        {
          "output_type": "execute_result",
          "data": {
            "text/plain": [
              "<list_iterator at 0x7fbee292ff40>"
            ]
          },
          "metadata": {},
          "execution_count": 116
        }
      ]
    },
    {
      "cell_type": "code",
      "source": [
        "for it in a:\n",
        "  print(it)"
      ],
      "metadata": {
        "id": "71KLIulpRNxI",
        "outputId": "210100b8-7c8c-4b11-a693-53d267aa7a35",
        "colab": {
          "base_uri": "https://localhost:8080/"
        }
      },
      "execution_count": null,
      "outputs": [
        {
          "output_type": "stream",
          "name": "stdout",
          "text": [
            "1\n",
            "2\n",
            "3\n",
            "4\n"
          ]
        }
      ]
    },
    {
      "cell_type": "code",
      "source": [
        "next(it)"
      ],
      "metadata": {
        "id": "B2bPHtU7Q8g8",
        "outputId": "732055a6-2e69-451d-fce7-6289eb517b71",
        "colab": {
          "base_uri": "https://localhost:8080/",
          "height": 165
        }
      },
      "execution_count": null,
      "outputs": [
        {
          "output_type": "error",
          "ename": "StopIteration",
          "evalue": "ignored",
          "traceback": [
            "\u001b[0;31m---------------------------------------------------------------------------\u001b[0m",
            "\u001b[0;31mStopIteration\u001b[0m                             Traceback (most recent call last)",
            "\u001b[0;32m<ipython-input-111-bc1ab118995a>\u001b[0m in \u001b[0;36m<module>\u001b[0;34m\u001b[0m\n\u001b[0;32m----> 1\u001b[0;31m \u001b[0mnext\u001b[0m\u001b[0;34m(\u001b[0m\u001b[0mit\u001b[0m\u001b[0;34m)\u001b[0m\u001b[0;34m\u001b[0m\u001b[0;34m\u001b[0m\u001b[0m\n\u001b[0m",
            "\u001b[0;31mStopIteration\u001b[0m: "
          ]
        }
      ]
    },
    {
      "cell_type": "code",
      "metadata": {
        "pycharm": {
          "name": "#%%\n"
        },
        "id": "XmtDqi3N5c0w",
        "colab": {
          "base_uri": "https://localhost:8080/"
        },
        "outputId": "ddd293ad-8dfa-4c4b-c9d4-949c1b3d2e66"
      },
      "source": [
        "dir(it)"
      ],
      "execution_count": null,
      "outputs": [
        {
          "output_type": "execute_result",
          "data": {
            "text/plain": [
              "['__abs__',\n",
              " '__add__',\n",
              " '__and__',\n",
              " '__bool__',\n",
              " '__ceil__',\n",
              " '__class__',\n",
              " '__delattr__',\n",
              " '__dir__',\n",
              " '__divmod__',\n",
              " '__doc__',\n",
              " '__eq__',\n",
              " '__float__',\n",
              " '__floor__',\n",
              " '__floordiv__',\n",
              " '__format__',\n",
              " '__ge__',\n",
              " '__getattribute__',\n",
              " '__getnewargs__',\n",
              " '__gt__',\n",
              " '__hash__',\n",
              " '__index__',\n",
              " '__init__',\n",
              " '__init_subclass__',\n",
              " '__int__',\n",
              " '__invert__',\n",
              " '__le__',\n",
              " '__lshift__',\n",
              " '__lt__',\n",
              " '__mod__',\n",
              " '__mul__',\n",
              " '__ne__',\n",
              " '__neg__',\n",
              " '__new__',\n",
              " '__or__',\n",
              " '__pos__',\n",
              " '__pow__',\n",
              " '__radd__',\n",
              " '__rand__',\n",
              " '__rdivmod__',\n",
              " '__reduce__',\n",
              " '__reduce_ex__',\n",
              " '__repr__',\n",
              " '__rfloordiv__',\n",
              " '__rlshift__',\n",
              " '__rmod__',\n",
              " '__rmul__',\n",
              " '__ror__',\n",
              " '__round__',\n",
              " '__rpow__',\n",
              " '__rrshift__',\n",
              " '__rshift__',\n",
              " '__rsub__',\n",
              " '__rtruediv__',\n",
              " '__rxor__',\n",
              " '__setattr__',\n",
              " '__sizeof__',\n",
              " '__str__',\n",
              " '__sub__',\n",
              " '__subclasshook__',\n",
              " '__truediv__',\n",
              " '__trunc__',\n",
              " '__xor__',\n",
              " 'as_integer_ratio',\n",
              " 'bit_length',\n",
              " 'conjugate',\n",
              " 'denominator',\n",
              " 'from_bytes',\n",
              " 'imag',\n",
              " 'numerator',\n",
              " 'real',\n",
              " 'to_bytes']"
            ]
          },
          "metadata": {},
          "execution_count": 113
        }
      ]
    },
    {
      "cell_type": "code",
      "metadata": {
        "pycharm": {
          "name": "#%%\n"
        },
        "id": "fMQWvcZX5c0w",
        "colab": {
          "base_uri": "https://localhost:8080/"
        },
        "outputId": "de851e3d-62ba-46d5-e7bf-aafb8fc26622"
      },
      "source": [
        "set(dir(it)) - set(dir(object))"
      ],
      "execution_count": null,
      "outputs": [
        {
          "output_type": "execute_result",
          "data": {
            "text/plain": [
              "{'__iter__', '__length_hint__', '__next__', '__setstate__'}"
            ]
          },
          "metadata": {},
          "execution_count": 118
        }
      ]
    },
    {
      "cell_type": "code",
      "metadata": {
        "id": "61lVBU_0E3WR",
        "colab": {
          "base_uri": "https://localhost:8080/"
        },
        "outputId": "5347eb68-0cee-467a-ff28-fbce5d28fc96"
      },
      "source": [
        "import itertools\n",
        "it1 = itertools.cycle('ABC').__iter__()\n",
        "set(dir(it1)) - int_dir"
      ],
      "execution_count": null,
      "outputs": [
        {
          "output_type": "execute_result",
          "data": {
            "text/plain": [
              "{'__iter__', '__next__', '__setstate__'}"
            ]
          },
          "metadata": {},
          "execution_count": 119
        }
      ]
    },
    {
      "cell_type": "code",
      "source": [
        "next(it1)"
      ],
      "metadata": {
        "id": "cGxRS88sRx9y",
        "outputId": "cf60d0fd-54f1-4d37-a298-0731f7c2bd0b",
        "colab": {
          "base_uri": "https://localhost:8080/",
          "height": 36
        }
      },
      "execution_count": null,
      "outputs": [
        {
          "output_type": "execute_result",
          "data": {
            "text/plain": [
              "'C'"
            ],
            "application/vnd.google.colaboratory.intrinsic+json": {
              "type": "string"
            }
          },
          "metadata": {},
          "execution_count": 128
        }
      ]
    },
    {
      "cell_type": "code",
      "metadata": {
        "pycharm": {
          "name": "#%%\n"
        },
        "id": "RylSpXeX5c0w",
        "colab": {
          "base_uri": "https://localhost:8080/"
        },
        "outputId": "7128b96d-66a4-4688-c5b5-71e3f462e25a"
      },
      "source": [
        "for i in a:\n",
        "  print(i)"
      ],
      "execution_count": null,
      "outputs": [
        {
          "output_type": "stream",
          "name": "stdout",
          "text": [
            "1\n",
            "2\n",
            "3\n",
            "4\n"
          ]
        }
      ]
    },
    {
      "cell_type": "code",
      "metadata": {
        "pycharm": {
          "name": "#%%\n"
        },
        "id": "SVN-XngZ5c0x",
        "colab": {
          "base_uri": "https://localhost:8080/"
        },
        "outputId": "30f975b0-47e7-4d6d-9f4a-36f0cbfd1116"
      },
      "source": [
        "a = [1, 2, 3, 4]\n",
        "it = a.__iter__()\n",
        "print(it.__length_hint__())\n",
        "for i in range(it.__length_hint__()):\n",
        "  print(it.__next__())\n",
        "# it.__next__()"
      ],
      "execution_count": null,
      "outputs": [
        {
          "output_type": "stream",
          "name": "stdout",
          "text": [
            "4\n",
            "1\n",
            "2\n",
            "3\n",
            "4\n"
          ]
        }
      ]
    },
    {
      "cell_type": "markdown",
      "metadata": {
        "collapsed": false,
        "id": "N6kNRTHO5c0x"
      },
      "source": [
        "### Итерируемая последовательность (aka Iterable)\n",
        "\n",
        "Это обьект у которого определён метод \\_\\_iter\\_\\_, возвращающий обьект реализующий протокол *итератора*\n",
        "(Примеры: list, dict, file, range)\n",
        "\n",
        "### Итератор\n",
        "Это обьект у которого определён метод \\_\\_next\\_\\_ (это может быть как отдельный обьект, так и, например, self самой последовательности, то есть она может быть итератором по самой себе)\n",
        "\n",
        "\n",
        "Метод __next__ при каждом вызове должен возвращать следующий элемент последовательности, или выкидывать исключение  StopIteration, если последовательность кончилась\n",
        "\n"
      ]
    },
    {
      "cell_type": "code",
      "metadata": {
        "pycharm": {
          "name": "#%%\n"
        },
        "id": "np3wO2Mf5c0x",
        "colab": {
          "base_uri": "https://localhost:8080/"
        },
        "outputId": "81652ab1-9352-4947-8125-4993d34d9f8a"
      },
      "source": [
        "range(0)"
      ],
      "execution_count": null,
      "outputs": [
        {
          "output_type": "execute_result",
          "data": {
            "text/plain": [
              "range(0, 0)"
            ]
          },
          "metadata": {},
          "execution_count": 75
        }
      ]
    },
    {
      "cell_type": "markdown",
      "metadata": {
        "collapsed": false,
        "id": "GtdYZZZM5c0x"
      },
      "source": [
        "### iter и next\n",
        "\n",
        "Определены как свободные функции, вызывающие соответствующие методы у обьектов."
      ]
    },
    {
      "cell_type": "code",
      "metadata": {
        "pycharm": {
          "name": "#%%\n"
        },
        "id": "xp7WH-9-5c0x",
        "colab": {
          "base_uri": "https://localhost:8080/"
        },
        "outputId": "09c21358-ce93-49fc-96ab-838244dc9dbe"
      },
      "source": [
        "a = [1, 2, 3]\n",
        "it = iter(a)\n",
        "it"
      ],
      "execution_count": null,
      "outputs": [
        {
          "output_type": "execute_result",
          "data": {
            "text/plain": [
              "<list_iterator at 0x7fefd7d07cd0>"
            ]
          },
          "metadata": {},
          "execution_count": 76
        }
      ]
    },
    {
      "cell_type": "code",
      "metadata": {
        "pycharm": {
          "name": "#%%\n"
        },
        "id": "VutyoWGw5c0y",
        "colab": {
          "base_uri": "https://localhost:8080/",
          "height": 162
        },
        "outputId": "c732869c-c471-4f4c-f148-75346410c571"
      },
      "source": [
        "next(it)"
      ],
      "execution_count": null,
      "outputs": [
        {
          "output_type": "error",
          "ename": "StopIteration",
          "evalue": "ignored",
          "traceback": [
            "\u001b[0;31m---------------------------------------------------------------------------\u001b[0m",
            "\u001b[0;31mStopIteration\u001b[0m                             Traceback (most recent call last)",
            "\u001b[0;32m<ipython-input-80-bc1ab118995a>\u001b[0m in \u001b[0;36m<module>\u001b[0;34m()\u001b[0m\n\u001b[0;32m----> 1\u001b[0;31m \u001b[0mnext\u001b[0m\u001b[0;34m(\u001b[0m\u001b[0mit\u001b[0m\u001b[0;34m)\u001b[0m\u001b[0;34m\u001b[0m\u001b[0;34m\u001b[0m\u001b[0m\n\u001b[0m",
            "\u001b[0;31mStopIteration\u001b[0m: "
          ]
        }
      ]
    },
    {
      "cell_type": "code",
      "metadata": {
        "pycharm": {
          "name": "#%%\n"
        },
        "id": "lwsNDGkH5c0y",
        "colab": {
          "base_uri": "https://localhost:8080/"
        },
        "outputId": "1d7ecbf6-e14b-4c44-cebd-470c5aadd7a7"
      },
      "source": [
        "lst = iter([1])\n",
        "print(next(lst, 5))\n",
        "next(lst, 5)"
      ],
      "execution_count": null,
      "outputs": [
        {
          "output_type": "stream",
          "name": "stdout",
          "text": [
            "1\n"
          ]
        },
        {
          "output_type": "execute_result",
          "data": {
            "text/plain": [
              "5"
            ]
          },
          "metadata": {},
          "execution_count": 85
        }
      ]
    },
    {
      "cell_type": "code",
      "metadata": {
        "pycharm": {
          "name": "#%%\n"
        },
        "id": "RTkcAs6Q5c0y"
      },
      "source": [
        "def make_timer(ticks):\n",
        "    def timer():\n",
        "        nonlocal ticks\n",
        "        ticks -= 1\n",
        "        return ticks\n",
        "    return timer\n",
        "\n",
        "for t in iter(make_timer(10), 0):    # iter(function , terminal_value)\n",
        "    print(t, end=' - ')"
      ],
      "execution_count": null,
      "outputs": []
    },
    {
      "cell_type": "markdown",
      "metadata": {
        "collapsed": false,
        "id": "sl2laS_x5c0y"
      },
      "source": [
        "### реализация цикла for"
      ]
    },
    {
      "cell_type": "code",
      "metadata": {
        "pycharm": {
          "name": "#%%\n"
        },
        "id": "PjCxTpOw5c0y"
      },
      "source": [
        "def handle(x):\n",
        "    print(x)"
      ],
      "execution_count": null,
      "outputs": []
    },
    {
      "cell_type": "code",
      "metadata": {
        "pycharm": {
          "name": "#%%\n"
        },
        "id": "IRQpo1xC5c0z",
        "colab": {
          "base_uri": "https://localhost:8080/"
        },
        "outputId": "d4ff0179-5f08-41e8-ad7f-8b9a764ebcae"
      },
      "source": [
        "seq = [1, 2, 3]\n",
        "for x in seq:\n",
        "    handle(x)"
      ],
      "execution_count": null,
      "outputs": [
        {
          "output_type": "stream",
          "name": "stdout",
          "text": [
            "1\n",
            "2\n",
            "3\n"
          ]
        }
      ]
    },
    {
      "cell_type": "code",
      "metadata": {
        "pycharm": {
          "name": "#%%\n"
        },
        "id": "_FznHJdH5c0z",
        "colab": {
          "base_uri": "https://localhost:8080/"
        },
        "outputId": "94387407-6dbe-4c72-d013-c9996403f91f"
      },
      "source": [
        "dir(it)"
      ],
      "execution_count": null,
      "outputs": [
        {
          "output_type": "execute_result",
          "data": {
            "text/plain": [
              "['__class__',\n",
              " '__delattr__',\n",
              " '__dir__',\n",
              " '__doc__',\n",
              " '__eq__',\n",
              " '__format__',\n",
              " '__ge__',\n",
              " '__getattribute__',\n",
              " '__gt__',\n",
              " '__hash__',\n",
              " '__init__',\n",
              " '__init_subclass__',\n",
              " '__iter__',\n",
              " '__le__',\n",
              " '__length_hint__',\n",
              " '__lt__',\n",
              " '__ne__',\n",
              " '__new__',\n",
              " '__next__',\n",
              " '__reduce__',\n",
              " '__reduce_ex__',\n",
              " '__repr__',\n",
              " '__setattr__',\n",
              " '__setstate__',\n",
              " '__sizeof__',\n",
              " '__str__',\n",
              " '__subclasshook__']"
            ]
          },
          "metadata": {},
          "execution_count": 88
        }
      ]
    },
    {
      "cell_type": "code",
      "metadata": {
        "pycharm": {
          "name": "#%%\n"
        },
        "id": "igHkwcy15c0z",
        "colab": {
          "base_uri": "https://localhost:8080/"
        },
        "outputId": "dfe3ebb3-8dbb-4441-ab78-7de187e25157"
      },
      "source": [
        "it = iter(seq)\n",
        "while True:\n",
        "    try:\n",
        "        value = next(it)\n",
        "        handle(value)\n",
        "    except StopIteration:\n",
        "        break"
      ],
      "execution_count": null,
      "outputs": [
        {
          "output_type": "stream",
          "name": "stdout",
          "text": [
            "1\n",
            "2\n",
            "3\n"
          ]
        }
      ]
    },
    {
      "cell_type": "markdown",
      "metadata": {
        "collapsed": false,
        "id": "iPjj_IGH5c0z"
      },
      "source": [
        "### Класс и его итератор"
      ]
    },
    {
      "cell_type": "code",
      "metadata": {
        "pycharm": {
          "name": "#%%\n"
        },
        "id": "TQcVMgGG5c00",
        "colab": {
          "base_uri": "https://localhost:8080/"
        },
        "outputId": "fd8cb3b0-f55b-43ac-ae54-46b3b3619be9"
      },
      "source": [
        "class RangeIter(object):\n",
        "    def __init__(self, frm, to):\n",
        "        self.to = to\n",
        "        self.idx = frm\n",
        "    def __next__(self):\n",
        "        if self.idx == self.to: raise StopIteration('range ended')\n",
        "        self.idx += 1\n",
        "        return (self.idx - 1)\n",
        "    def __iter__(self):\n",
        "        return self\n",
        "\n",
        "class Range1(object):\n",
        "    def __init__(self, frm, to):\n",
        "        self.to = to\n",
        "        self.frm = frm\n",
        "    def __iter__(self):\n",
        "        return RangeIter(self.frm, self.to)\n",
        "\n",
        "range1 = Range1(2, 5)\n",
        "print(range1.frm, range1.to)\n",
        "for i in range1:\n",
        "    print(i, end=' - ')\n",
        "print()\n",
        "print(range1.frm, range1.to)\n",
        "for i in range1:\n",
        "    print(i, end=' - ')\n",
        "print()\n",
        "print(range1.frm, range1.to)\n",
        "\n",
        "my_range_iter = iter(range1)\n",
        "print(type(my_range_iter))\n",
        "while True:\n",
        "  try:\n",
        "    print(next(my_range_iter))\n",
        "  except StopIteration as e:\n",
        "    print(e)\n",
        "    break\n",
        "\n",
        "my_range_iter = iter(range1)\n",
        "for i in range(3):\n",
        "  print(next(my_range_iter))"
      ],
      "execution_count": null,
      "outputs": [
        {
          "output_type": "stream",
          "name": "stdout",
          "text": [
            "2 5\n",
            "2 - 3 - 4 - \n",
            "2 5\n",
            "2 - 3 - 4 - \n",
            "2 5\n",
            "<class '__main__.RangeIter'>\n",
            "2\n",
            "3\n",
            "4\n",
            "range ended\n",
            "2\n",
            "3\n",
            "4\n"
          ]
        }
      ]
    },
    {
      "cell_type": "code",
      "metadata": {
        "id": "Q2wg3njDKN7H",
        "colab": {
          "base_uri": "https://localhost:8080/"
        },
        "outputId": "5dec69b9-9ca1-4b5d-a4c8-553002e2cde2"
      },
      "source": [
        "%%time\n",
        "my_range_iter = iter(range1)\n",
        "while True:\n",
        "  try:\n",
        "    print(next(my_range_iter))\n",
        "  except StopIteration as e:\n",
        "    break"
      ],
      "execution_count": null,
      "outputs": [
        {
          "output_type": "stream",
          "name": "stdout",
          "text": [
            "2\n",
            "3\n",
            "4\n",
            "CPU times: user 286 µs, sys: 0 ns, total: 286 µs\n",
            "Wall time: 212 µs\n"
          ]
        }
      ]
    },
    {
      "cell_type": "code",
      "metadata": {
        "id": "tzZu81oKKT1s",
        "colab": {
          "base_uri": "https://localhost:8080/"
        },
        "outputId": "54dacf44-2bf0-42b9-db2c-a3f94ed350d3"
      },
      "source": [
        "%%time\n",
        "my_range_iter = iter(range1)\n",
        "for i in range(3):\n",
        "  print(next(my_range_iter))"
      ],
      "execution_count": null,
      "outputs": [
        {
          "output_type": "stream",
          "name": "stdout",
          "text": [
            "2\n",
            "3\n",
            "4\n",
            "CPU times: user 146 µs, sys: 0 ns, total: 146 µs\n",
            "Wall time: 153 µs\n"
          ]
        }
      ]
    },
    {
      "cell_type": "markdown",
      "metadata": {
        "collapsed": false,
        "id": "F8lnthgj5c00"
      },
      "source": [
        "### Класс -- итератор"
      ]
    },
    {
      "cell_type": "code",
      "metadata": {
        "pycharm": {
          "name": "#%%\n"
        },
        "id": "t0VE0-K65c1G",
        "colab": {
          "base_uri": "https://localhost:8080/"
        },
        "outputId": "9e0c5d9f-dd74-4978-e177-cc68e2cc08a1"
      },
      "source": [
        "class Range2(object):\n",
        "    def __init__(self, frm, to):\n",
        "        self.to = to\n",
        "        self.idx = frm\n",
        "\n",
        "    def __iter__(self):\n",
        "        return self\n",
        "\n",
        "    def __next__(self):\n",
        "        if self.idx == self.to: raise StopIteration\n",
        "        self.idx += 1\n",
        "        return (self.idx - 1)\n",
        "\n",
        "range2 = Range2(2, 5)\n",
        "print(range2.idx, range2.to)\n",
        "for i in range2:\n",
        "    print(i, end=' - ')\n",
        "print()\n",
        "print(range2.idx, range2.to)\n",
        "for i in range2:\n",
        "    print(i, end=' - ')"
      ],
      "execution_count": null,
      "outputs": [
        {
          "output_type": "stream",
          "name": "stdout",
          "text": [
            "2 5\n",
            "2 - 3 - 4 - \n",
            "5 5\n"
          ]
        }
      ]
    },
    {
      "cell_type": "markdown",
      "metadata": {
        "collapsed": false,
        "id": "VodqQCKx5c1H"
      },
      "source": [
        "### Исчерпаемость"
      ]
    },
    {
      "cell_type": "code",
      "metadata": {
        "pycharm": {
          "name": "#%%\n"
        },
        "id": "7lQDVRPr5c1H",
        "colab": {
          "base_uri": "https://localhost:8080/"
        },
        "outputId": "c43f6764-81e8-4eb2-9d5f-4085e368dbe3"
      },
      "source": [
        "r1 = Range1(1, 5)\n",
        "r2 = Range2(1, 5)\n",
        "\n",
        "print(list(r1), list(r2))\n",
        "print(list(r1), list(r2))\n",
        "\n",
        "\n",
        "print(list(r1), list(r2))\n"
      ],
      "execution_count": null,
      "outputs": [
        {
          "output_type": "stream",
          "name": "stdout",
          "text": [
            "[1, 2, 3, 4] [1, 2, 3, 4]\n",
            "[1, 2, 3, 4] []\n",
            "[1, 2, 3, 4] []\n"
          ]
        }
      ]
    },
    {
      "cell_type": "markdown",
      "metadata": {
        "collapsed": false,
        "id": "CErLSMdu5c1H"
      },
      "source": [
        "### Несколько итераторов\n",
        "Так как итератор является итерируемым обьектом - можно определять несколько итераторов для одного обьекта"
      ]
    },
    {
      "cell_type": "code",
      "metadata": {
        "pycharm": {
          "name": "#%%\n"
        },
        "id": "eLufnWkW5c1H"
      },
      "source": [
        "class BinaryTree(object):\n",
        "    def inorder(self):\n",
        "        return InOrderIterator(self)"
      ],
      "execution_count": null,
      "outputs": []
    },
    {
      "cell_type": "markdown",
      "metadata": {
        "collapsed": false,
        "id": "wmjR8Qc35c1I"
      },
      "source": [
        "### \\_\\_contains__\n",
        "\n",
        "может быть определен для итераторов"
      ]
    },
    {
      "cell_type": "code",
      "metadata": {
        "pycharm": {
          "name": "#%%\n"
        },
        "id": "lRQ09VlE5c1I"
      },
      "source": [
        "class object:\n",
        "    def __contains__(self, value):\n",
        "        for item in self:\n",
        "            if item == value:\n",
        "                return True\n",
        "        return False\n",
        "'abc'.__contains__('a')"
      ],
      "execution_count": null,
      "outputs": []
    },
    {
      "cell_type": "code",
      "metadata": {
        "pycharm": {
          "name": "#%%\n"
        },
        "id": "oZWhQIdW5c1I"
      },
      "source": [
        "class Range:\n",
        "    def __contains__(self, value):\n",
        "        return self.frm < value < self.to"
      ],
      "execution_count": null,
      "outputs": []
    },
    {
      "cell_type": "markdown",
      "metadata": {
        "collapsed": false,
        "id": "BCO1tcFH5c1I"
      },
      "source": [
        "### Упрощенный протокол итерируемого - последовательность"
      ]
    },
    {
      "cell_type": "code",
      "metadata": {
        "pycharm": {
          "name": "#%%\n"
        },
        "id": "J29QzQcO5c1J",
        "colab": {
          "base_uri": "https://localhost:8080/"
        },
        "outputId": "8154e55e-0813-419e-805f-eb6654381ad7"
      },
      "source": [
        "class Seq(object):\n",
        "    def __init__(self, lst):\n",
        "        self.lst = lst\n",
        "    def __len__(self):\n",
        "        return len(self.lst)\n",
        "    def __getitem__(self, idx):\n",
        "        if idx < 0 or idx >= len(self):\n",
        "            raise IndexError(idx)\n",
        "        return self.lst[idx]\n",
        "\n",
        "for i in Seq([1, 2, 3]):\n",
        "    print(i)"
      ],
      "execution_count": null,
      "outputs": [
        {
          "output_type": "stream",
          "name": "stdout",
          "text": [
            "1\n",
            "2\n",
            "3\n"
          ]
        }
      ]
    },
    {
      "cell_type": "markdown",
      "metadata": {
        "id": "KNMbytKSK-vU"
      },
      "source": [
        "Itertools::chain"
      ]
    },
    {
      "cell_type": "code",
      "metadata": {
        "id": "2Zu4rE6qK6_8",
        "colab": {
          "base_uri": "https://localhost:8080/"
        },
        "outputId": "0a32908e-2db5-4e55-98ab-57a97994f1f2"
      },
      "source": [
        "from itertools import chain\n",
        "for i in chain(range(2, 7), range(10, 32, 4), 'ABCD'):\n",
        "  print(i)"
      ],
      "execution_count": null,
      "outputs": [
        {
          "output_type": "stream",
          "name": "stdout",
          "text": [
            "2\n",
            "3\n",
            "4\n",
            "5\n",
            "6\n",
            "10\n",
            "14\n",
            "18\n",
            "22\n",
            "26\n",
            "30\n",
            "A\n",
            "B\n",
            "C\n",
            "D\n"
          ]
        }
      ]
    },
    {
      "cell_type": "markdown",
      "metadata": {
        "collapsed": false,
        "id": "_YSQCY0z5c1Q"
      },
      "source": [
        "### itertools :: islice"
      ]
    },
    {
      "cell_type": "code",
      "metadata": {
        "pycharm": {
          "name": "#%%\n"
        },
        "id": "MFQ35LMN5c1R",
        "colab": {
          "base_uri": "https://localhost:8080/"
        },
        "outputId": "8c950c97-061d-4c0c-c5b3-97ab689261c8"
      },
      "source": [
        "from itertools import islice\n",
        "seq = range(10)\n",
        "list(islice(seq, 2, 5, 2))   # seq[2:5]"
      ],
      "execution_count": null,
      "outputs": [
        {
          "output_type": "execute_result",
          "data": {
            "text/plain": [
              "[2, 4]"
            ]
          },
          "metadata": {},
          "execution_count": 124
        }
      ]
    },
    {
      "cell_type": "code",
      "metadata": {
        "pycharm": {
          "name": "#%%\n"
        },
        "id": "KLlMkCqj5c1R",
        "colab": {
          "base_uri": "https://localhost:8080/"
        },
        "outputId": "87ad3093-ac1b-44b1-e330-b1829a6e7c97"
      },
      "source": [
        "seq = range(10)\n",
        "list(islice(seq, 1, 7, 2))   # seq[1:7:2]"
      ],
      "execution_count": null,
      "outputs": [
        {
          "output_type": "execute_result",
          "data": {
            "text/plain": [
              "[1, 3, 5]"
            ]
          },
          "metadata": {},
          "execution_count": 125
        }
      ]
    },
    {
      "cell_type": "markdown",
      "metadata": {
        "collapsed": false,
        "id": "YuUMLBt05c1S"
      },
      "source": [
        "### itertools :: count, cycle, repeat"
      ]
    },
    {
      "cell_type": "code",
      "metadata": {
        "pycharm": {
          "name": "#%%\n"
        },
        "id": "j2cGiq4I5c1S",
        "colab": {
          "base_uri": "https://localhost:8080/"
        },
        "outputId": "d478144a-89ac-4e19-c34d-3f88daac3d63"
      },
      "source": [
        "from itertools import count, cycle, repeat\n",
        "\n",
        "list(islice(cycle('test'), 2, 15))"
      ],
      "execution_count": null,
      "outputs": [
        {
          "output_type": "execute_result",
          "data": {
            "text/plain": [
              "['s', 't', 't', 'e', 's', 't', 't', 'e', 's', 't', 't', 'e', 's']"
            ]
          },
          "metadata": {},
          "execution_count": 126
        }
      ]
    },
    {
      "cell_type": "code",
      "metadata": {
        "pycharm": {
          "name": "#%%\n"
        },
        "id": "Pvh3vzGf5c1S",
        "colab": {
          "base_uri": "https://localhost:8080/"
        },
        "outputId": "3d079dbd-3e88-4fa6-cd14-859c49fe7149"
      },
      "source": [
        "list(islice(count(42), 10))"
      ],
      "execution_count": null,
      "outputs": [
        {
          "output_type": "execute_result",
          "data": {
            "text/plain": [
              "[42, 43, 44, 45, 46, 47, 48, 49, 50, 51]"
            ]
          },
          "metadata": {},
          "execution_count": 128
        }
      ]
    },
    {
      "cell_type": "markdown",
      "metadata": {
        "collapsed": false,
        "id": "MI5UgHps5c1W"
      },
      "source": [
        "### itertools :: dropwhile and takewhile"
      ]
    },
    {
      "cell_type": "code",
      "metadata": {
        "pycharm": {
          "name": "#%%\n"
        },
        "id": "qj_Fmq7m5c1X"
      },
      "source": [
        "from itertools import dropwhile, takewhile\n",
        "\n",
        "list(takewhile(lambda x : x < 5, range(10)))"
      ],
      "execution_count": null,
      "outputs": []
    },
    {
      "cell_type": "markdown",
      "metadata": {
        "collapsed": false,
        "id": "4rkP7ZjZ5c1Z"
      },
      "source": [
        "### itertools :: chain"
      ]
    },
    {
      "cell_type": "code",
      "metadata": {
        "pycharm": {
          "name": "#%%\n"
        },
        "id": "roFtOg0a5c1Z"
      },
      "source": [
        "from itertools import chain\n",
        "list(chain([1, 2], 'test', range(3)))"
      ],
      "execution_count": null,
      "outputs": []
    },
    {
      "cell_type": "code",
      "metadata": {
        "pycharm": {
          "name": "#%%\n"
        },
        "id": "WeWrHu8I5c1a"
      },
      "source": [
        "def geniter(count):\n",
        "    for i in range(count):\n",
        "        yield range(3)\n",
        "\n",
        "list(chain.from_iterable(geniter(3)))"
      ],
      "execution_count": null,
      "outputs": []
    },
    {
      "cell_type": "markdown",
      "metadata": {
        "collapsed": false,
        "id": "Bt1YoWEs5c1b"
      },
      "source": [
        "### itertools :: tee"
      ]
    },
    {
      "cell_type": "code",
      "metadata": {
        "pycharm": {
          "name": "#%%\n"
        },
        "id": "nDjCQJu05c1b"
      },
      "source": [
        "from itertools import tee\n",
        "\n",
        "a, b, c = tee(range(3), 3)\n",
        "print(list(a), list(b), list(c))"
      ],
      "execution_count": null,
      "outputs": []
    },
    {
      "cell_type": "markdown",
      "metadata": {
        "collapsed": false,
        "id": "3-3JeUXx5c1b"
      },
      "source": [
        "### itertools :: комбинаторика"
      ]
    },
    {
      "cell_type": "code",
      "metadata": {
        "pycharm": {
          "name": "#%%\n"
        },
        "id": "Z1YLfx6f5c1b"
      },
      "source": [
        "from itertools import product\n",
        "\n",
        "list(product('AB', 'XY'))"
      ],
      "execution_count": null,
      "outputs": []
    },
    {
      "cell_type": "code",
      "metadata": {
        "pycharm": {
          "name": "#%%\n"
        },
        "id": "DcyzcIOm5c1b"
      },
      "source": [
        "from itertools import permutations\n",
        "\n",
        "list(permutations('ABC'))"
      ],
      "execution_count": null,
      "outputs": []
    },
    {
      "cell_type": "code",
      "metadata": {
        "pycharm": {
          "name": "#%%\n"
        },
        "id": "BQ_sis3m5c1c"
      },
      "source": [
        "from itertools import combinations\n",
        "\n",
        "list(combinations('ABC', 2))"
      ],
      "execution_count": null,
      "outputs": []
    }
  ]
}