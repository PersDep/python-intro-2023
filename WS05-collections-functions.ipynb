{
  "nbformat": 4,
  "nbformat_minor": 0,
  "metadata": {
    "kernelspec": {
      "display_name": "Python 3",
      "language": "python",
      "name": "python3"
    },
    "language_info": {
      "codemirror_mode": {
        "name": "ipython",
        "version": 3
      },
      "file_extension": ".py",
      "mimetype": "text/x-python",
      "name": "python",
      "nbconvert_exporter": "python",
      "pygments_lexer": "ipython3",
      "version": "3.8.5"
    },
    "toc": {
      "base_numbering": 1,
      "nav_menu": {},
      "number_sections": true,
      "sideBar": true,
      "skip_h1_title": false,
      "title_cell": "Table of Contents",
      "title_sidebar": "Contents",
      "toc_cell": false,
      "toc_position": {},
      "toc_section_display": true,
      "toc_window_display": true
    },
    "varInspector": {
      "cols": {
        "lenName": 16,
        "lenType": 16,
        "lenVar": 40
      },
      "kernels_config": {
        "python": {
          "delete_cmd_postfix": "",
          "delete_cmd_prefix": "del ",
          "library": "var_list.py",
          "varRefreshCmd": "print(var_dic_list())"
        },
        "r": {
          "delete_cmd_postfix": ") ",
          "delete_cmd_prefix": "rm(",
          "library": "var_list.r",
          "varRefreshCmd": "cat(var_dic_list()) "
        }
      },
      "types_to_exclude": [
        "module",
        "function",
        "builtin_function_or_method",
        "instance",
        "_Feature"
      ],
      "window_display": false
    },
    "colab": {
      "name": "Copy of WS2-basics.ipynb",
      "provenance": []
    }
  },
  "cells": [
    {
      "cell_type": "markdown",
      "metadata": {
        "id": "pHnHc9QcTQ_M"
      },
      "source": [
        "## 1. Коллекции: списки, кортежи, range, (строки), множества, словари и др. Понятие последовательности"
      ]
    },
    {
      "cell_type": "markdown",
      "metadata": {
        "id": "RF2vHIXgTQ_N"
      },
      "source": [
        "### Строки\n",
        "\n",
        "Строковые константы можно задавать и с помощью одинарных кавычек, и с помощью двойных, и с помощью тройных:"
      ]
    },
    {
      "cell_type": "code",
      "metadata": {
        "id": "cFV-T3PkTQ_N",
        "colab": {
          "base_uri": "https://localhost:8080/"
        },
        "outputId": "dac8cd69-74a3-4a58-b82b-bde2bd559b2c"
      },
      "source": [
        "s1 = 'ab\"c'\n",
        "s2 = \"ab'c\"\n",
        "s3 = \"\"\"abc\n",
        "aaaaaa\n",
        "aaaaa\n",
        "a\n",
        "aa\n",
        "\"\"\"\n",
        "\n",
        "s1 == s2 == s3"
      ],
      "execution_count": null,
      "outputs": [
        {
          "output_type": "execute_result",
          "data": {
            "text/plain": [
              "False"
            ]
          },
          "metadata": {},
          "execution_count": 14
        }
      ]
    },
    {
      "cell_type": "code",
      "metadata": {
        "id": "N6yhUHhFTQ_N",
        "colab": {
          "base_uri": "https://localhost:8080/",
          "height": 210
        },
        "outputId": "9a38287d-7dbf-49d8-8d23-440cbe016119"
      },
      "source": [
        "print(s3)\n",
        "print()\n",
        "s3"
      ],
      "execution_count": 113,
      "outputs": [
        {
          "output_type": "error",
          "ename": "NameError",
          "evalue": "ignored",
          "traceback": [
            "\u001b[0;31m---------------------------------------------------------------------------\u001b[0m",
            "\u001b[0;31mNameError\u001b[0m                                 Traceback (most recent call last)",
            "\u001b[0;32m<ipython-input-113-5d67c2f6f043>\u001b[0m in \u001b[0;36m<cell line: 1>\u001b[0;34m()\u001b[0m\n\u001b[0;32m----> 1\u001b[0;31m \u001b[0mprint\u001b[0m\u001b[0;34m(\u001b[0m\u001b[0ms3\u001b[0m\u001b[0;34m)\u001b[0m\u001b[0;34m\u001b[0m\u001b[0;34m\u001b[0m\u001b[0m\n\u001b[0m\u001b[1;32m      2\u001b[0m \u001b[0mprint\u001b[0m\u001b[0;34m(\u001b[0m\u001b[0;34m)\u001b[0m\u001b[0;34m\u001b[0m\u001b[0;34m\u001b[0m\u001b[0m\n\u001b[1;32m      3\u001b[0m \u001b[0ms3\u001b[0m\u001b[0;34m\u001b[0m\u001b[0;34m\u001b[0m\u001b[0m\n",
            "\u001b[0;31mNameError\u001b[0m: name 's3' is not defined"
          ]
        }
      ]
    },
    {
      "cell_type": "code",
      "metadata": {
        "id": "e0rrMxLeTQ_O",
        "colab": {
          "base_uri": "https://localhost:8080/",
          "height": 69
        },
        "outputId": "274488b2-d280-444e-f542-7f457decfcd1"
      },
      "source": [
        "a = 'a\\naaaa'\n",
        "print(a)\n",
        "a"
      ],
      "execution_count": null,
      "outputs": [
        {
          "output_type": "stream",
          "name": "stdout",
          "text": [
            "a\n",
            "aaaa\n"
          ]
        },
        {
          "output_type": "execute_result",
          "data": {
            "application/vnd.google.colaboratory.intrinsic+json": {
              "type": "string"
            },
            "text/plain": [
              "'a\\naaaa'"
            ]
          },
          "metadata": {},
          "execution_count": 23
        }
      ]
    },
    {
      "cell_type": "code",
      "metadata": {
        "id": "UsJC0wKRTQ_O",
        "colab": {
          "base_uri": "https://localhost:8080/",
          "height": 35
        },
        "outputId": "ec1c2a37-c1ca-4991-f549-04180a57fdb8"
      },
      "source": [
        "a[3]"
      ],
      "execution_count": null,
      "outputs": [
        {
          "output_type": "execute_result",
          "data": {
            "application/vnd.google.colaboratory.intrinsic+json": {
              "type": "string"
            },
            "text/plain": [
              "'a'"
            ]
          },
          "metadata": {},
          "execution_count": 24
        }
      ]
    },
    {
      "cell_type": "markdown",
      "metadata": {
        "id": "yNQ3sZUqVlrG"
      },
      "source": [
        "**Внимание:** строки иммутабельны (неизменяемы)!"
      ]
    },
    {
      "cell_type": "code",
      "metadata": {
        "colab": {
          "base_uri": "https://localhost:8080/",
          "height": 162
        },
        "id": "ZXOY4q7IVeFC",
        "outputId": "2b469ceb-794d-4fe1-dc8b-faad7287049b"
      },
      "source": [
        "a[1] = 'b'"
      ],
      "execution_count": null,
      "outputs": [
        {
          "output_type": "error",
          "ename": "TypeError",
          "evalue": "ignored",
          "traceback": [
            "\u001b[0;31m---------------------------------------------------------------------------\u001b[0m",
            "\u001b[0;31mTypeError\u001b[0m                                 Traceback (most recent call last)",
            "\u001b[0;32m<ipython-input-25-92cf1e0d4257>\u001b[0m in \u001b[0;36m<module>\u001b[0;34m()\u001b[0m\n\u001b[0;32m----> 1\u001b[0;31m \u001b[0ma\u001b[0m\u001b[0;34m[\u001b[0m\u001b[0;36m1\u001b[0m\u001b[0;34m]\u001b[0m \u001b[0;34m=\u001b[0m \u001b[0;34m'b'\u001b[0m\u001b[0;34m\u001b[0m\u001b[0;34m\u001b[0m\u001b[0m\n\u001b[0m",
            "\u001b[0;31mTypeError\u001b[0m: 'str' object does not support item assignment"
          ]
        }
      ]
    },
    {
      "cell_type": "markdown",
      "metadata": {
        "id": "JxnDeKcGTQ_O"
      },
      "source": [
        "Функция `len` — получить длину строки (определена для всех коллекций):"
      ]
    },
    {
      "cell_type": "code",
      "metadata": {
        "id": "PItdK3IkTQ_P",
        "colab": {
          "base_uri": "https://localhost:8080/"
        },
        "outputId": "dcce39b4-d803-46b8-9cb3-812c4b9120bd"
      },
      "source": [
        "len(\"abc\")"
      ],
      "execution_count": null,
      "outputs": [
        {
          "output_type": "execute_result",
          "data": {
            "text/plain": [
              "3"
            ]
          },
          "metadata": {},
          "execution_count": 26
        }
      ]
    },
    {
      "cell_type": "code",
      "metadata": {
        "colab": {
          "base_uri": "https://localhost:8080/"
        },
        "id": "B2ejXNTSpufi",
        "outputId": "f91fdeaf-0051-4233-ecdb-279e96f9fdd7"
      },
      "source": [],
      "execution_count": null,
      "outputs": [
        {
          "output_type": "execute_result",
          "data": {
            "text/plain": [
              "[1, 2, [1, 2, 3]]"
            ]
          },
          "metadata": {},
          "execution_count": 127
        }
      ]
    },
    {
      "cell_type": "markdown",
      "metadata": {
        "id": "SUXyABVVTQ_P"
      },
      "source": [
        "У типа str большое количество встроенных строковых методов:\n",
        "* .find — найти подстроку\n",
        "* .upper — перевести строку в верхний регистр\n",
        "* .lower — перевести строку в нижний регистр\n",
        "* .strip — обрезать по краям поданные символы (по умолчанию пробельные)\n",
        "* ...\n",
        "\n",
        "https://docs.python.org/3/library/stdtypes.html#text-sequence-type-str\n",
        "\n",
        "Все они возвращают новый экземпляр строки!"
      ]
    },
    {
      "cell_type": "code",
      "metadata": {
        "colab": {
          "base_uri": "https://localhost:8080/",
          "height": 35
        },
        "id": "In4EVqKGpJa8",
        "outputId": "48e415d0-433e-4642-8748-cc18f45ed037"
      },
      "source": [
        "s3.replace('a', '10')"
      ],
      "execution_count": null,
      "outputs": [
        {
          "output_type": "execute_result",
          "data": {
            "application/vnd.google.colaboratory.intrinsic+json": {
              "type": "string"
            },
            "text/plain": [
              "'10bc\\n101010101010\\n1010101010\\n10\\n1010\\n'"
            ]
          },
          "metadata": {},
          "execution_count": 27
        }
      ]
    },
    {
      "cell_type": "code",
      "metadata": {
        "id": "fqYN8DWxTQ_P",
        "colab": {
          "base_uri": "https://localhost:8080/"
        },
        "outputId": "fb9841a9-01b9-4ff7-d072-b9043c32e3d8"
      },
      "source": [
        "s1.find('b')"
      ],
      "execution_count": null,
      "outputs": [
        {
          "output_type": "execute_result",
          "data": {
            "text/plain": [
              "1"
            ]
          },
          "metadata": {},
          "execution_count": 28
        }
      ]
    },
    {
      "cell_type": "code",
      "metadata": {
        "id": "Cgh8Pxa2TQ_P",
        "colab": {
          "base_uri": "https://localhost:8080/",
          "height": 35
        },
        "outputId": "6752be33-6e39-4ea0-c078-bb80053edf88"
      },
      "source": [
        "s1[-1]"
      ],
      "execution_count": null,
      "outputs": [
        {
          "output_type": "execute_result",
          "data": {
            "application/vnd.google.colaboratory.intrinsic+json": {
              "type": "string"
            },
            "text/plain": [
              "'c'"
            ]
          },
          "metadata": {},
          "execution_count": 29
        }
      ]
    },
    {
      "cell_type": "code",
      "metadata": {
        "id": "JaIENCdJTQ_Q",
        "colab": {
          "base_uri": "https://localhost:8080/",
          "height": 35
        },
        "outputId": "ac7d6406-dcdd-4673-e1ba-0d89cdb30a14"
      },
      "source": [
        "sl = s1.upper()\n",
        "sl"
      ],
      "execution_count": null,
      "outputs": [
        {
          "output_type": "execute_result",
          "data": {
            "application/vnd.google.colaboratory.intrinsic+json": {
              "type": "string"
            },
            "text/plain": [
              "'AB\"C'"
            ]
          },
          "metadata": {},
          "execution_count": 34
        }
      ]
    },
    {
      "cell_type": "code",
      "metadata": {
        "id": "1pfwI3PyTQ_R",
        "colab": {
          "base_uri": "https://localhost:8080/",
          "height": 35
        },
        "outputId": "d900e1cb-efa5-4d0d-e4e6-7217fd4a5f54"
      },
      "source": [
        "s1.upper().lower()"
      ],
      "execution_count": null,
      "outputs": [
        {
          "output_type": "execute_result",
          "data": {
            "application/vnd.google.colaboratory.intrinsic+json": {
              "type": "string"
            },
            "text/plain": [
              "'ab\"c'"
            ]
          },
          "metadata": {},
          "execution_count": 31
        }
      ]
    },
    {
      "cell_type": "code",
      "metadata": {
        "id": "8U4pWhAhTQ_S",
        "colab": {
          "base_uri": "https://localhost:8080/",
          "height": 35
        },
        "outputId": "42c21d3f-095a-463c-c1e7-06857a22e9f0"
      },
      "source": [
        "\"a   \".strip()"
      ],
      "execution_count": null,
      "outputs": [
        {
          "output_type": "execute_result",
          "data": {
            "application/vnd.google.colaboratory.intrinsic+json": {
              "type": "string"
            },
            "text/plain": [
              "'a'"
            ]
          },
          "metadata": {},
          "execution_count": 133
        }
      ]
    },
    {
      "cell_type": "code",
      "metadata": {
        "id": "5pZKZ0ciTQ_S"
      },
      "source": [
        "z = '      z.      '"
      ],
      "execution_count": null,
      "outputs": []
    },
    {
      "cell_type": "code",
      "metadata": {
        "id": "yU6QnUaXTQ_S",
        "colab": {
          "base_uri": "https://localhost:8080/",
          "height": 35
        },
        "outputId": "ad2cecfe-537a-490e-d814-f03992a4cbaf"
      },
      "source": [
        "z.strip()"
      ],
      "execution_count": null,
      "outputs": [
        {
          "output_type": "execute_result",
          "data": {
            "application/vnd.google.colaboratory.intrinsic+json": {
              "type": "string"
            },
            "text/plain": [
              "'z.'"
            ]
          },
          "metadata": {},
          "execution_count": 135
        }
      ]
    },
    {
      "cell_type": "code",
      "metadata": {
        "id": "8ZQTSIdJTQ_T",
        "colab": {
          "base_uri": "https://localhost:8080/",
          "height": 35
        },
        "outputId": "363416ab-cf2a-4fea-aa9d-6b7708326b2e"
      },
      "source": [
        "z.rstrip()"
      ],
      "execution_count": null,
      "outputs": [
        {
          "output_type": "execute_result",
          "data": {
            "application/vnd.google.colaboratory.intrinsic+json": {
              "type": "string"
            },
            "text/plain": [
              "'      z.'"
            ]
          },
          "metadata": {},
          "execution_count": 136
        }
      ]
    },
    {
      "cell_type": "code",
      "metadata": {
        "id": "MOdP1OB_TQ_T",
        "colab": {
          "base_uri": "https://localhost:8080/",
          "height": 35
        },
        "outputId": "d7480213-9c60-4491-f2d5-effb4c1cd4d6"
      },
      "source": [
        "z.lstrip()"
      ],
      "execution_count": null,
      "outputs": [
        {
          "output_type": "execute_result",
          "data": {
            "application/vnd.google.colaboratory.intrinsic+json": {
              "type": "string"
            },
            "text/plain": [
              "'z.      '"
            ]
          },
          "metadata": {},
          "execution_count": 137
        }
      ]
    },
    {
      "cell_type": "markdown",
      "metadata": {
        "id": "9fSBFpcCTQ_T"
      },
      "source": [
        "Продвинутая индексация: Слайсы"
      ]
    },
    {
      "cell_type": "code",
      "metadata": {
        "id": "qd8uP8faWaPP"
      },
      "source": [
        "s = 'abcde'"
      ],
      "execution_count": null,
      "outputs": []
    },
    {
      "cell_type": "code",
      "metadata": {
        "id": "OOSkwN5kTQ_U",
        "colab": {
          "base_uri": "https://localhost:8080/",
          "height": 35
        },
        "outputId": "199a3621-d345-45ff-eba3-3cf04da9728e"
      },
      "source": [
        "'b' + s[1:]"
      ],
      "execution_count": null,
      "outputs": [
        {
          "output_type": "execute_result",
          "data": {
            "application/vnd.google.colaboratory.intrinsic+json": {
              "type": "string"
            },
            "text/plain": [
              "'bbcde'"
            ]
          },
          "metadata": {},
          "execution_count": 37
        }
      ]
    },
    {
      "cell_type": "code",
      "metadata": {
        "id": "DbPRzvskTQ_V",
        "colab": {
          "base_uri": "https://localhost:8080/",
          "height": 35
        },
        "outputId": "8991ca18-84af-425b-a54a-0edbcaaeb137"
      },
      "source": [
        "s[1:]"
      ],
      "execution_count": null,
      "outputs": [
        {
          "output_type": "execute_result",
          "data": {
            "application/vnd.google.colaboratory.intrinsic+json": {
              "type": "string"
            },
            "text/plain": [
              "'bcde'"
            ]
          },
          "metadata": {},
          "execution_count": 38
        }
      ]
    },
    {
      "cell_type": "code",
      "metadata": {
        "id": "BM5wuNtGTQ_V",
        "colab": {
          "base_uri": "https://localhost:8080/",
          "height": 35
        },
        "outputId": "0cbb49a6-9deb-45f9-94ba-677f92a0c10d"
      },
      "source": [
        "s[1:-1]"
      ],
      "execution_count": null,
      "outputs": [
        {
          "output_type": "execute_result",
          "data": {
            "application/vnd.google.colaboratory.intrinsic+json": {
              "type": "string"
            },
            "text/plain": [
              "'bcd'"
            ]
          },
          "metadata": {},
          "execution_count": 39
        }
      ]
    },
    {
      "cell_type": "code",
      "metadata": {
        "id": "YzBOr4aOTQ_V",
        "colab": {
          "base_uri": "https://localhost:8080/",
          "height": 52
        },
        "outputId": "1e8b439b-9ed5-4235-c7b6-8213e60a18b3"
      },
      "source": [
        "s_new = s[2:4]\n",
        "print(s)\n",
        "s_new"
      ],
      "execution_count": null,
      "outputs": [
        {
          "output_type": "stream",
          "name": "stdout",
          "text": [
            "abcde\n"
          ]
        },
        {
          "output_type": "execute_result",
          "data": {
            "application/vnd.google.colaboratory.intrinsic+json": {
              "type": "string"
            },
            "text/plain": [
              "'cd'"
            ]
          },
          "metadata": {},
          "execution_count": 40
        }
      ]
    },
    {
      "cell_type": "markdown",
      "metadata": {
        "id": "sxPM6ymATQ_W"
      },
      "source": [
        "s[start:finish:step]\n",
        "\n",
        "* start — начало среза\n",
        "* finish — конец среза (не входит в срез!!!)\n",
        "* step — шаг\n",
        "\n",
        "Индексы в питоне могут быть отрицательными! В таком случае считаем с конца (или двигаемся в обратном направлении, если это step)"
      ]
    },
    {
      "cell_type": "code",
      "metadata": {
        "id": "kpPkoaRoTQ_W"
      },
      "source": [
        "s = '0123456789'"
      ],
      "execution_count": null,
      "outputs": []
    },
    {
      "cell_type": "code",
      "metadata": {
        "id": "eTyH9cocTQ_W",
        "colab": {
          "base_uri": "https://localhost:8080/",
          "height": 35
        },
        "outputId": "1045c066-36d2-45c2-de19-dcd774553c6d"
      },
      "source": [
        "s[::2]"
      ],
      "execution_count": null,
      "outputs": [
        {
          "output_type": "execute_result",
          "data": {
            "application/vnd.google.colaboratory.intrinsic+json": {
              "type": "string"
            },
            "text/plain": [
              "'02468'"
            ]
          },
          "metadata": {},
          "execution_count": 48
        }
      ]
    },
    {
      "cell_type": "code",
      "metadata": {
        "id": "_yDlc6jUTQ_X",
        "colab": {
          "base_uri": "https://localhost:8080/",
          "height": 35
        },
        "outputId": "2d0a3a57-d582-497b-a851-fbfaa144d222"
      },
      "source": [
        "s[-1:1:-1]"
      ],
      "execution_count": null,
      "outputs": [
        {
          "output_type": "execute_result",
          "data": {
            "application/vnd.google.colaboratory.intrinsic+json": {
              "type": "string"
            },
            "text/plain": [
              "'98765432'"
            ]
          },
          "metadata": {},
          "execution_count": 52
        }
      ]
    },
    {
      "cell_type": "code",
      "metadata": {
        "id": "AV1vo-sJTQ_X",
        "colab": {
          "base_uri": "https://localhost:8080/",
          "height": 35
        },
        "outputId": "ca768bfc-6c7f-407c-e33d-a1546cde9d15"
      },
      "source": [
        "s[::-2]"
      ],
      "execution_count": null,
      "outputs": [
        {
          "output_type": "execute_result",
          "data": {
            "application/vnd.google.colaboratory.intrinsic+json": {
              "type": "string"
            },
            "text/plain": [
              "'97531'"
            ]
          },
          "metadata": {},
          "execution_count": 46
        }
      ]
    },
    {
      "cell_type": "code",
      "metadata": {
        "id": "povXyxhBTQ_X",
        "colab": {
          "base_uri": "https://localhost:8080/",
          "height": 35
        },
        "outputId": "5a4f954c-87a1-4d36-ac2e-8446e505733e"
      },
      "source": [
        "s[::3]"
      ],
      "execution_count": null,
      "outputs": [
        {
          "output_type": "execute_result",
          "data": {
            "application/vnd.google.colaboratory.intrinsic+json": {
              "type": "string"
            },
            "text/plain": [
              "'0369'"
            ]
          },
          "metadata": {},
          "execution_count": 47
        }
      ]
    },
    {
      "cell_type": "markdown",
      "metadata": {
        "id": "Jbq5g3zQTQ_X"
      },
      "source": [
        "Срез равный всей строке:"
      ]
    },
    {
      "cell_type": "code",
      "metadata": {
        "id": "Q8DaL9S5TQ_X",
        "colab": {
          "base_uri": "https://localhost:8080/",
          "height": 35
        },
        "outputId": "2539698b-f6c5-4362-86bf-9ce692587cca"
      },
      "source": [
        "s[0:len(s):1]"
      ],
      "execution_count": null,
      "outputs": [
        {
          "output_type": "execute_result",
          "data": {
            "application/vnd.google.colaboratory.intrinsic+json": {
              "type": "string"
            },
            "text/plain": [
              "'0123456789'"
            ]
          },
          "metadata": {},
          "execution_count": 53
        }
      ]
    },
    {
      "cell_type": "markdown",
      "metadata": {
        "id": "ozt9hMs0XhEo"
      },
      "source": [
        "Cрез с шагом 2:"
      ]
    },
    {
      "cell_type": "code",
      "metadata": {
        "id": "uSELbfiXTQ_Y",
        "colab": {
          "base_uri": "https://localhost:8080/",
          "height": 35
        },
        "outputId": "d28bb9ec-b452-41b1-d48d-026c3b898e47"
      },
      "source": [
        "s[0:len(s):2]"
      ],
      "execution_count": null,
      "outputs": [
        {
          "output_type": "execute_result",
          "data": {
            "application/vnd.google.colaboratory.intrinsic+json": {
              "type": "string"
            },
            "text/plain": [
              "'02468'"
            ]
          },
          "metadata": {},
          "execution_count": 54
        }
      ]
    },
    {
      "cell_type": "markdown",
      "metadata": {
        "id": "EF0SeaUvTQ_Y"
      },
      "source": [
        "Срез равный одному элементу:"
      ]
    },
    {
      "cell_type": "code",
      "metadata": {
        "id": "zJAZKSh1TQ_Y",
        "colab": {
          "base_uri": "https://localhost:8080/",
          "height": 35
        },
        "outputId": "3ed7e371-8c19-4c1c-efc9-59add7dbbe96"
      },
      "source": [
        "s[5:6:1]"
      ],
      "execution_count": null,
      "outputs": [
        {
          "output_type": "execute_result",
          "data": {
            "application/vnd.google.colaboratory.intrinsic+json": {
              "type": "string"
            },
            "text/plain": [
              "'5'"
            ]
          },
          "metadata": {},
          "execution_count": 55
        }
      ]
    },
    {
      "cell_type": "markdown",
      "metadata": {
        "id": "LNW3ujCkYdCS"
      },
      "source": [
        "Строки, как мы помним, можно складывать и умножать:"
      ]
    },
    {
      "cell_type": "code",
      "metadata": {
        "colab": {
          "base_uri": "https://localhost:8080/",
          "height": 35
        },
        "id": "d2Bf8UNBYgh8",
        "outputId": "c2b37047-ebb9-4e48-e34b-2a6306b73e50"
      },
      "source": [
        "s_new + s3"
      ],
      "execution_count": null,
      "outputs": [
        {
          "output_type": "execute_result",
          "data": {
            "application/vnd.google.colaboratory.intrinsic+json": {
              "type": "string"
            },
            "text/plain": [
              "'cdabc\\naaaaaa\\naaaaa\\na\\naa\\n'"
            ]
          },
          "metadata": {},
          "execution_count": 56
        }
      ]
    },
    {
      "cell_type": "code",
      "metadata": {
        "colab": {
          "base_uri": "https://localhost:8080/",
          "height": 35
        },
        "id": "Mk_cmOfyYmV9",
        "outputId": "14005139-9a79-4550-f73b-9698c5e627f1"
      },
      "source": [
        "s_new * 5"
      ],
      "execution_count": null,
      "outputs": [
        {
          "output_type": "execute_result",
          "data": {
            "application/vnd.google.colaboratory.intrinsic+json": {
              "type": "string"
            },
            "text/plain": [
              "'cdcdcdcdcd'"
            ]
          },
          "metadata": {},
          "execution_count": 57
        }
      ]
    },
    {
      "cell_type": "markdown",
      "metadata": {
        "id": "mlwchb0uTQ_Z"
      },
      "source": [
        "### Списки"
      ]
    },
    {
      "cell_type": "code",
      "metadata": {
        "id": "2j1Jh-dBTQ_Z"
      },
      "source": [
        "a = [1, 2, 3, 2, 0]"
      ],
      "execution_count": null,
      "outputs": []
    },
    {
      "cell_type": "markdown",
      "metadata": {
        "id": "UIPNButLTQ_Z"
      },
      "source": [
        "В список могут входить любые объекты:"
      ]
    },
    {
      "cell_type": "code",
      "metadata": {
        "id": "SfW2ugcOTQ_Z",
        "colab": {
          "base_uri": "https://localhost:8080/"
        },
        "outputId": "b9be48c8-75d4-4ba5-c1ca-d883fb1706ad"
      },
      "source": [
        "a = [1, '2', '3', [4, 5]]\n",
        "a.append(1.2)\n",
        "a"
      ],
      "execution_count": 2,
      "outputs": [
        {
          "output_type": "execute_result",
          "data": {
            "text/plain": [
              "[1, '2', '3', [4, 5], 1.2]"
            ]
          },
          "metadata": {},
          "execution_count": 2
        }
      ]
    },
    {
      "cell_type": "markdown",
      "metadata": {
        "id": "GS9IYQXWTQ_a"
      },
      "source": [
        "Списки тоже поддерживают многие операции!\n",
        "\n",
        "* cложение списков (+) — конкатенация списков\n",
        "* умножение списка на целое число n (*) — повтороение списка n раз\n",
        "* слайсы!"
      ]
    },
    {
      "cell_type": "markdown",
      "metadata": {
        "id": "xbAw9kukYAxt"
      },
      "source": [
        "Всё это вместе называется концепцией последовательности. К \"последовательным\" типам относятся списки, кортежи (иммутабельные списки), range(), строки (в качестве символьных последовательностей)\n",
        "\n",
        "Помимо упомянутых операций сложения, умножения, слайсов, измерения длины, поддерживаются операции in (not in), min, max, index (поиск), count"
      ]
    },
    {
      "cell_type": "code",
      "metadata": {
        "id": "deDtUNHuTQ_a",
        "colab": {
          "base_uri": "https://localhost:8080/"
        },
        "outputId": "a69d5c0a-2aba-4c8e-b666-99c0406cdbd0"
      },
      "source": [
        "b = [1, '2']\n",
        "a + b"
      ],
      "execution_count": null,
      "outputs": [
        {
          "output_type": "execute_result",
          "data": {
            "text/plain": [
              "[1, '2', '3', [4, 5], 1.2, 1, '2']"
            ]
          },
          "metadata": {},
          "execution_count": 60
        }
      ]
    },
    {
      "cell_type": "code",
      "metadata": {
        "id": "7As9bcWdTQ_a",
        "colab": {
          "base_uri": "https://localhost:8080/"
        },
        "outputId": "00cc2d6f-18f2-4e33-eacc-023ca4b83a2a"
      },
      "source": [
        "a * 2"
      ],
      "execution_count": null,
      "outputs": [
        {
          "output_type": "execute_result",
          "data": {
            "text/plain": [
              "[1, '2', '3', [4, 5], 1.2, 1, '2', '3', [4, 5], 1.2]"
            ]
          },
          "metadata": {},
          "execution_count": 61
        }
      ]
    },
    {
      "cell_type": "code",
      "metadata": {
        "id": "5sk_pB9NTQ_a",
        "colab": {
          "base_uri": "https://localhost:8080/"
        },
        "outputId": "50a98e61-a972-404c-e155-14ff73523a12"
      },
      "source": [
        "a[::-1]"
      ],
      "execution_count": null,
      "outputs": [
        {
          "output_type": "execute_result",
          "data": {
            "text/plain": [
              "[1.2, [4, 5], '3', '2', 1]"
            ]
          },
          "metadata": {},
          "execution_count": 62
        }
      ]
    },
    {
      "cell_type": "code",
      "metadata": {
        "colab": {
          "base_uri": "https://localhost:8080/"
        },
        "id": "MPYnM1evZsl0",
        "outputId": "ed23c49c-9c93-4d3c-88fa-7578f810fa4b"
      },
      "source": [
        "'2' in a + b"
      ],
      "execution_count": null,
      "outputs": [
        {
          "output_type": "execute_result",
          "data": {
            "text/plain": [
              "True"
            ]
          },
          "metadata": {},
          "execution_count": 63
        }
      ]
    },
    {
      "cell_type": "code",
      "metadata": {
        "colab": {
          "base_uri": "https://localhost:8080/"
        },
        "id": "hDlSSXEKZwQr",
        "outputId": "133c72be-4024-4b3f-ca50-1dad7edb5eb5"
      },
      "source": [
        "2 not in a + b"
      ],
      "execution_count": null,
      "outputs": [
        {
          "output_type": "execute_result",
          "data": {
            "text/plain": [
              "True"
            ]
          },
          "metadata": {},
          "execution_count": 64
        }
      ]
    },
    {
      "cell_type": "code",
      "metadata": {
        "colab": {
          "base_uri": "https://localhost:8080/",
          "height": 175
        },
        "id": "AJqGhrVYZ2OH",
        "outputId": "bd379e25-78b7-4de7-bbde-e224b42de6ec"
      },
      "source": [
        "min(a) # работает не всегда!"
      ],
      "execution_count": 3,
      "outputs": [
        {
          "output_type": "error",
          "ename": "TypeError",
          "evalue": "ignored",
          "traceback": [
            "\u001b[0;31m---------------------------------------------------------------------------\u001b[0m",
            "\u001b[0;31mTypeError\u001b[0m                                 Traceback (most recent call last)",
            "\u001b[0;32m<ipython-input-3-2fa4f83c6c1f>\u001b[0m in \u001b[0;36m<cell line: 1>\u001b[0;34m()\u001b[0m\n\u001b[0;32m----> 1\u001b[0;31m \u001b[0mmin\u001b[0m\u001b[0;34m(\u001b[0m\u001b[0ma\u001b[0m\u001b[0;34m)\u001b[0m \u001b[0;31m# работает не всегда!\u001b[0m\u001b[0;34m\u001b[0m\u001b[0;34m\u001b[0m\u001b[0m\n\u001b[0m",
            "\u001b[0;31mTypeError\u001b[0m: '<' not supported between instances of 'str' and 'int'"
          ]
        }
      ]
    },
    {
      "cell_type": "code",
      "metadata": {
        "colab": {
          "base_uri": "https://localhost:8080/"
        },
        "id": "Al7ILE7IaGsZ",
        "outputId": "1b7cb240-eebf-4e59-8820-5f2399ce8706"
      },
      "source": [
        "max([10, 1000, 1, 2, 5000, 3])"
      ],
      "execution_count": 4,
      "outputs": [
        {
          "output_type": "execute_result",
          "data": {
            "text/plain": [
              "5000"
            ]
          },
          "metadata": {},
          "execution_count": 4
        }
      ]
    },
    {
      "cell_type": "code",
      "metadata": {
        "colab": {
          "base_uri": "https://localhost:8080/",
          "height": 36
        },
        "id": "y-gx-hysaL9Y",
        "outputId": "87665436-f90b-4e42-a0da-7e88c36b8af2"
      },
      "source": [
        "min(['1', '2', '3', 'abc', \"абв\"])"
      ],
      "execution_count": 5,
      "outputs": [
        {
          "output_type": "execute_result",
          "data": {
            "text/plain": [
              "'1'"
            ],
            "application/vnd.google.colaboratory.intrinsic+json": {
              "type": "string"
            }
          },
          "metadata": {},
          "execution_count": 5
        }
      ]
    },
    {
      "cell_type": "code",
      "metadata": {
        "colab": {
          "base_uri": "https://localhost:8080/"
        },
        "id": "MzJK7IPEaOi1",
        "outputId": "4a8956a4-9acc-4eca-bdd5-3ca2a924001a"
      },
      "source": [
        "a.index([4, 5])\n",
        "#[4, 5] in a"
      ],
      "execution_count": 7,
      "outputs": [
        {
          "output_type": "execute_result",
          "data": {
            "text/plain": [
              "3"
            ]
          },
          "metadata": {},
          "execution_count": 7
        }
      ]
    },
    {
      "cell_type": "code",
      "metadata": {
        "colab": {
          "base_uri": "https://localhost:8080/"
        },
        "id": "-u2UCZCNbGQM",
        "outputId": "5ed2aa8b-eb6f-41bd-ace6-c8ef0fffde3e"
      },
      "source": [
        "a.count(2)"
      ],
      "execution_count": null,
      "outputs": [
        {
          "output_type": "execute_result",
          "data": {
            "text/plain": [
              "0"
            ]
          },
          "metadata": {},
          "execution_count": 71
        }
      ]
    },
    {
      "cell_type": "markdown",
      "metadata": {
        "id": "GnNs_UuAbJIR"
      },
      "source": [
        "Другие коллекции тоже поддерживают многое из этого!"
      ]
    },
    {
      "cell_type": "markdown",
      "metadata": {
        "id": "taZ930Q1TQ_b"
      },
      "source": [
        "**Внимание:** список — изменяемый объект!\n",
        "\n",
        "Можно менять элементы списка, можно добавлять новые элементы и удалять старые (`.append` и `.pop`)."
      ]
    },
    {
      "cell_type": "code",
      "metadata": {
        "id": "rWorHSr4TQ_b",
        "colab": {
          "base_uri": "https://localhost:8080/"
        },
        "outputId": "f49447f9-616f-45c1-b766-404d4677c668"
      },
      "source": [
        "a[0] = '123'\n",
        "a"
      ],
      "execution_count": 8,
      "outputs": [
        {
          "output_type": "execute_result",
          "data": {
            "text/plain": [
              "['123', '2', '3', [4, 5], 1.2]"
            ]
          },
          "metadata": {},
          "execution_count": 8
        }
      ]
    },
    {
      "cell_type": "code",
      "metadata": {
        "id": "2emIWM10TQ_b",
        "colab": {
          "base_uri": "https://localhost:8080/"
        },
        "outputId": "88124ce6-e5ed-476b-8f3f-bb9f9ae9636a"
      },
      "source": [
        "a.append('data science')\n",
        "a"
      ],
      "execution_count": 9,
      "outputs": [
        {
          "output_type": "execute_result",
          "data": {
            "text/plain": [
              "['123', '2', '3', [4, 5], 1.2, 'data science']"
            ]
          },
          "metadata": {},
          "execution_count": 9
        }
      ]
    },
    {
      "cell_type": "markdown",
      "metadata": {
        "id": "rbcPkpo5TQ_b"
      },
      "source": [
        "### Преобразования списков и строк\n",
        "\n",
        "Два основных строковых метода для взаимодействия списков и строк:\n",
        "\n",
        "* .split — разделить строку на список строк по определённому сепаратору\n",
        "* .join — соеденить список строк в одну большую строку по определённому сепаратору"
      ]
    },
    {
      "cell_type": "code",
      "metadata": {
        "id": "_LeWfmEDTQ_b",
        "colab": {
          "base_uri": "https://localhost:8080/"
        },
        "outputId": "e67c5267-5314-469e-ab58-7872a23fe23a"
      },
      "source": [
        "s = 'one,two,three'\n",
        "s.split(',')"
      ],
      "execution_count": 10,
      "outputs": [
        {
          "output_type": "execute_result",
          "data": {
            "text/plain": [
              "['one', 'two', 'three']"
            ]
          },
          "metadata": {},
          "execution_count": 10
        }
      ]
    },
    {
      "cell_type": "code",
      "metadata": {
        "id": "rxH5fsewTQ_b",
        "colab": {
          "base_uri": "https://localhost:8080/",
          "height": 36
        },
        "outputId": "2526a2a2-7ce9-42d5-df39-0b0086d24580"
      },
      "source": [
        "\", \".join(['arb', 'borb', 'kork'])"
      ],
      "execution_count": 11,
      "outputs": [
        {
          "output_type": "execute_result",
          "data": {
            "text/plain": [
              "'arb, borb, kork'"
            ],
            "application/vnd.google.colaboratory.intrinsic+json": {
              "type": "string"
            }
          },
          "metadata": {},
          "execution_count": 11
        }
      ]
    },
    {
      "cell_type": "markdown",
      "metadata": {
        "id": "lCtGLsl0b2og"
      },
      "source": [
        "### Другие коллекции"
      ]
    },
    {
      "cell_type": "markdown",
      "metadata": {
        "id": "UjhNi0AZb9Vi"
      },
      "source": [
        "**Кортежи**: иммутабельные списки"
      ]
    },
    {
      "cell_type": "code",
      "metadata": {
        "colab": {
          "base_uri": "https://localhost:8080/"
        },
        "id": "5ibLcu73b7lc",
        "outputId": "97b59cdf-c058-45cd-8a0a-2064ee5853a9"
      },
      "source": [
        "a = (1, )\n",
        "a"
      ],
      "execution_count": 12,
      "outputs": [
        {
          "output_type": "execute_result",
          "data": {
            "text/plain": [
              "(1,)"
            ]
          },
          "metadata": {},
          "execution_count": 12
        }
      ]
    },
    {
      "cell_type": "code",
      "metadata": {
        "colab": {
          "base_uri": "https://localhost:8080/"
        },
        "id": "8znJhYcvcLH2",
        "outputId": "b05e79a1-5712-4661-e12c-80a136bd3042"
      },
      "source": [
        "a = (1, 2, 3)\n",
        "a"
      ],
      "execution_count": 13,
      "outputs": [
        {
          "output_type": "execute_result",
          "data": {
            "text/plain": [
              "(1, 2, 3)"
            ]
          },
          "metadata": {},
          "execution_count": 13
        }
      ]
    },
    {
      "cell_type": "code",
      "metadata": {
        "colab": {
          "base_uri": "https://localhost:8080/",
          "height": 175
        },
        "id": "1tVLlpUrxKhB",
        "outputId": "8e43b8b3-21c9-460e-f9ab-a46ddbdef79b"
      },
      "source": [
        "a[0] = 7"
      ],
      "execution_count": 14,
      "outputs": [
        {
          "output_type": "error",
          "ename": "TypeError",
          "evalue": "ignored",
          "traceback": [
            "\u001b[0;31m---------------------------------------------------------------------------\u001b[0m",
            "\u001b[0;31mTypeError\u001b[0m                                 Traceback (most recent call last)",
            "\u001b[0;32m<ipython-input-14-e099e33cc91c>\u001b[0m in \u001b[0;36m<cell line: 1>\u001b[0;34m()\u001b[0m\n\u001b[0;32m----> 1\u001b[0;31m \u001b[0ma\u001b[0m\u001b[0;34m[\u001b[0m\u001b[0;36m0\u001b[0m\u001b[0;34m]\u001b[0m \u001b[0;34m=\u001b[0m \u001b[0;36m7\u001b[0m\u001b[0;34m\u001b[0m\u001b[0;34m\u001b[0m\u001b[0m\n\u001b[0m",
            "\u001b[0;31mTypeError\u001b[0m: 'tuple' object does not support item assignment"
          ]
        }
      ]
    },
    {
      "cell_type": "code",
      "metadata": {
        "colab": {
          "base_uri": "https://localhost:8080/"
        },
        "id": "omvDoFu-xKZf",
        "outputId": "93556f20-7809-4361-8632-babc77c7c662"
      },
      "source": [
        "c = ('1', 2, 3)\n",
        "c"
      ],
      "execution_count": 15,
      "outputs": [
        {
          "output_type": "execute_result",
          "data": {
            "text/plain": [
              "('1', 2, 3)"
            ]
          },
          "metadata": {},
          "execution_count": 15
        }
      ]
    },
    {
      "cell_type": "markdown",
      "metadata": {
        "id": "pbimSrJ-cytT"
      },
      "source": [
        "**range**: итерируемый объект"
      ]
    },
    {
      "cell_type": "code",
      "metadata": {
        "colab": {
          "base_uri": "https://localhost:8080/"
        },
        "id": "Vy53syFwc4Fo",
        "outputId": "7a463d78-9165-4cd2-a3cd-fb7b75a72863"
      },
      "source": [
        "a = range(3, 17, 3)\n",
        "a"
      ],
      "execution_count": 16,
      "outputs": [
        {
          "output_type": "execute_result",
          "data": {
            "text/plain": [
              "range(3, 17, 3)"
            ]
          },
          "metadata": {},
          "execution_count": 16
        }
      ]
    },
    {
      "cell_type": "code",
      "metadata": {
        "colab": {
          "base_uri": "https://localhost:8080/"
        },
        "id": "dAyd1DtSdPm9",
        "outputId": "9383e714-0256-44f7-d38e-be5ed9bc9249"
      },
      "source": [
        "for x in a:\n",
        "  print(type(x))"
      ],
      "execution_count": 17,
      "outputs": [
        {
          "output_type": "stream",
          "name": "stdout",
          "text": [
            "<class 'int'>\n",
            "<class 'int'>\n",
            "<class 'int'>\n",
            "<class 'int'>\n",
            "<class 'int'>\n"
          ]
        }
      ]
    },
    {
      "cell_type": "markdown",
      "metadata": {
        "id": "-r4xZBuNcSdb"
      },
      "source": [
        "**Множество**: коллекция без повторов"
      ]
    },
    {
      "cell_type": "code",
      "metadata": {
        "colab": {
          "base_uri": "https://localhost:8080/"
        },
        "id": "2V2L7HjDcWZ1",
        "outputId": "db5c2e7c-0934-4dc4-c827-2a91ec2d4742"
      },
      "source": [
        "a = {1, 2, 3, 3, 2, 4}\n",
        "a\n",
        "a.add('1')\n",
        "a\n",
        "a.add((1, 2, 3))\n",
        "a\n",
        "a.add(1)\n",
        "a"
      ],
      "execution_count": 23,
      "outputs": [
        {
          "output_type": "execute_result",
          "data": {
            "text/plain": [
              "{(1, 2, 3), 1, '1', 2, 3, 4}"
            ]
          },
          "metadata": {},
          "execution_count": 23
        }
      ]
    },
    {
      "cell_type": "code",
      "source": [
        "{1} - a"
      ],
      "metadata": {
        "id": "R8F4WAd9sy2C",
        "outputId": "ff6b5294-a036-4c2f-99de-ecd069c0e98b",
        "colab": {
          "base_uri": "https://localhost:8080/"
        }
      },
      "execution_count": 36,
      "outputs": [
        {
          "output_type": "execute_result",
          "data": {
            "text/plain": [
              "set()"
            ]
          },
          "metadata": {},
          "execution_count": 36
        }
      ]
    },
    {
      "cell_type": "code",
      "source": [
        "a.add(frozenset({1, 3, 7}))"
      ],
      "metadata": {
        "id": "IJWohV7gs_75"
      },
      "execution_count": 29,
      "outputs": []
    },
    {
      "cell_type": "code",
      "source": [
        "a"
      ],
      "metadata": {
        "id": "vMJJ1_owtdXa",
        "outputId": "e656745a-4752-412f-cdfe-371ec80b14e0",
        "colab": {
          "base_uri": "https://localhost:8080/"
        }
      },
      "execution_count": 30,
      "outputs": [
        {
          "output_type": "execute_result",
          "data": {
            "text/plain": [
              "{(1, 2, 3), 1, '1', 2, 3, 4, frozenset({1, 3, 7})}"
            ]
          },
          "metadata": {},
          "execution_count": 30
        }
      ]
    },
    {
      "cell_type": "code",
      "source": [
        "a[1]"
      ],
      "metadata": {
        "id": "ZD1NrUEWsi6F",
        "outputId": "c020620b-60c9-482d-ad8a-bbb6d737cfe0",
        "colab": {
          "base_uri": "https://localhost:8080/",
          "height": 175
        }
      },
      "execution_count": 24,
      "outputs": [
        {
          "output_type": "error",
          "ename": "TypeError",
          "evalue": "ignored",
          "traceback": [
            "\u001b[0;31m---------------------------------------------------------------------------\u001b[0m",
            "\u001b[0;31mTypeError\u001b[0m                                 Traceback (most recent call last)",
            "\u001b[0;32m<ipython-input-24-8bc71255a22e>\u001b[0m in \u001b[0;36m<cell line: 1>\u001b[0;34m()\u001b[0m\n\u001b[0;32m----> 1\u001b[0;31m \u001b[0ma\u001b[0m\u001b[0;34m[\u001b[0m\u001b[0;36m1\u001b[0m\u001b[0;34m]\u001b[0m\u001b[0;34m\u001b[0m\u001b[0;34m\u001b[0m\u001b[0m\n\u001b[0m",
            "\u001b[0;31mTypeError\u001b[0m: 'set' object is not subscriptable"
          ]
        }
      ]
    },
    {
      "cell_type": "code",
      "metadata": {
        "colab": {
          "base_uri": "https://localhost:8080/"
        },
        "id": "1yDfkU8VcjQK",
        "outputId": "3f702e09-e8c9-4cca-bd3b-e1495ee35886"
      },
      "source": [
        "b = frozenset('aabc1')\n",
        "b"
      ],
      "execution_count": 39,
      "outputs": [
        {
          "output_type": "execute_result",
          "data": {
            "text/plain": [
              "frozenset({'1', 'a', 'b', 'c'})"
            ]
          },
          "metadata": {},
          "execution_count": 39
        }
      ]
    },
    {
      "cell_type": "code",
      "source": [
        "a & b"
      ],
      "metadata": {
        "id": "GGLwxy7vutYF",
        "outputId": "f94a15d7-c3b7-461c-95ff-da4d8b63cea2",
        "colab": {
          "base_uri": "https://localhost:8080/"
        }
      },
      "execution_count": 40,
      "outputs": [
        {
          "output_type": "execute_result",
          "data": {
            "text/plain": [
              "{'1'}"
            ]
          },
          "metadata": {},
          "execution_count": 40
        }
      ]
    },
    {
      "cell_type": "code",
      "source": [
        "a | b"
      ],
      "metadata": {
        "id": "MUKPtgaou0m2",
        "outputId": "1badee2e-1770-404b-e791-2e88bfd4883a",
        "colab": {
          "base_uri": "https://localhost:8080/"
        }
      },
      "execution_count": 41,
      "outputs": [
        {
          "output_type": "execute_result",
          "data": {
            "text/plain": [
              "{(1, 2, 3), 1, '1', 2, 3, 4, 'a', 'b', 'c', frozenset({1, 3, 7})}"
            ]
          },
          "metadata": {},
          "execution_count": 41
        }
      ]
    },
    {
      "cell_type": "code",
      "source": [
        "help({1, 2})"
      ],
      "metadata": {
        "id": "EC_ALxKWuQEQ",
        "outputId": "fe193444-2e27-4b95-fd33-d41170a648e0",
        "colab": {
          "base_uri": "https://localhost:8080/"
        }
      },
      "execution_count": 43,
      "outputs": [
        {
          "output_type": "stream",
          "name": "stdout",
          "text": [
            "Help on set object:\n",
            "\n",
            "class set(object)\n",
            " |  set() -> new empty set object\n",
            " |  set(iterable) -> new set object\n",
            " |  \n",
            " |  Build an unordered collection of unique elements.\n",
            " |  \n",
            " |  Methods defined here:\n",
            " |  \n",
            " |  __and__(self, value, /)\n",
            " |      Return self&value.\n",
            " |  \n",
            " |  __contains__(...)\n",
            " |      x.__contains__(y) <==> y in x.\n",
            " |  \n",
            " |  __eq__(self, value, /)\n",
            " |      Return self==value.\n",
            " |  \n",
            " |  __ge__(self, value, /)\n",
            " |      Return self>=value.\n",
            " |  \n",
            " |  __getattribute__(self, name, /)\n",
            " |      Return getattr(self, name).\n",
            " |  \n",
            " |  __gt__(self, value, /)\n",
            " |      Return self>value.\n",
            " |  \n",
            " |  __iand__(self, value, /)\n",
            " |      Return self&=value.\n",
            " |  \n",
            " |  __init__(self, /, *args, **kwargs)\n",
            " |      Initialize self.  See help(type(self)) for accurate signature.\n",
            " |  \n",
            " |  __ior__(self, value, /)\n",
            " |      Return self|=value.\n",
            " |  \n",
            " |  __isub__(self, value, /)\n",
            " |      Return self-=value.\n",
            " |  \n",
            " |  __iter__(self, /)\n",
            " |      Implement iter(self).\n",
            " |  \n",
            " |  __ixor__(self, value, /)\n",
            " |      Return self^=value.\n",
            " |  \n",
            " |  __le__(self, value, /)\n",
            " |      Return self<=value.\n",
            " |  \n",
            " |  __len__(self, /)\n",
            " |      Return len(self).\n",
            " |  \n",
            " |  __lt__(self, value, /)\n",
            " |      Return self<value.\n",
            " |  \n",
            " |  __ne__(self, value, /)\n",
            " |      Return self!=value.\n",
            " |  \n",
            " |  __or__(self, value, /)\n",
            " |      Return self|value.\n",
            " |  \n",
            " |  __rand__(self, value, /)\n",
            " |      Return value&self.\n",
            " |  \n",
            " |  __reduce__(...)\n",
            " |      Return state information for pickling.\n",
            " |  \n",
            " |  __repr__(self, /)\n",
            " |      Return repr(self).\n",
            " |  \n",
            " |  __ror__(self, value, /)\n",
            " |      Return value|self.\n",
            " |  \n",
            " |  __rsub__(self, value, /)\n",
            " |      Return value-self.\n",
            " |  \n",
            " |  __rxor__(self, value, /)\n",
            " |      Return value^self.\n",
            " |  \n",
            " |  __sizeof__(...)\n",
            " |      S.__sizeof__() -> size of S in memory, in bytes\n",
            " |  \n",
            " |  __sub__(self, value, /)\n",
            " |      Return self-value.\n",
            " |  \n",
            " |  __xor__(self, value, /)\n",
            " |      Return self^value.\n",
            " |  \n",
            " |  add(...)\n",
            " |      Add an element to a set.\n",
            " |      \n",
            " |      This has no effect if the element is already present.\n",
            " |  \n",
            " |  clear(...)\n",
            " |      Remove all elements from this set.\n",
            " |  \n",
            " |  copy(...)\n",
            " |      Return a shallow copy of a set.\n",
            " |  \n",
            " |  difference(...)\n",
            " |      Return the difference of two or more sets as a new set.\n",
            " |      \n",
            " |      (i.e. all elements that are in this set but not the others.)\n",
            " |  \n",
            " |  difference_update(...)\n",
            " |      Remove all elements of another set from this set.\n",
            " |  \n",
            " |  discard(...)\n",
            " |      Remove an element from a set if it is a member.\n",
            " |      \n",
            " |      If the element is not a member, do nothing.\n",
            " |  \n",
            " |  intersection(...)\n",
            " |      Return the intersection of two sets as a new set.\n",
            " |      \n",
            " |      (i.e. all elements that are in both sets.)\n",
            " |  \n",
            " |  intersection_update(...)\n",
            " |      Update a set with the intersection of itself and another.\n",
            " |  \n",
            " |  isdisjoint(...)\n",
            " |      Return True if two sets have a null intersection.\n",
            " |  \n",
            " |  issubset(...)\n",
            " |      Report whether another set contains this set.\n",
            " |  \n",
            " |  issuperset(...)\n",
            " |      Report whether this set contains another set.\n",
            " |  \n",
            " |  pop(...)\n",
            " |      Remove and return an arbitrary set element.\n",
            " |      Raises KeyError if the set is empty.\n",
            " |  \n",
            " |  remove(...)\n",
            " |      Remove an element from a set; it must be a member.\n",
            " |      \n",
            " |      If the element is not a member, raise a KeyError.\n",
            " |  \n",
            " |  symmetric_difference(...)\n",
            " |      Return the symmetric difference of two sets as a new set.\n",
            " |      \n",
            " |      (i.e. all elements that are in exactly one of the sets.)\n",
            " |  \n",
            " |  symmetric_difference_update(...)\n",
            " |      Update a set with the symmetric difference of itself and another.\n",
            " |  \n",
            " |  union(...)\n",
            " |      Return the union of sets as a new set.\n",
            " |      \n",
            " |      (i.e. all elements that are in either set.)\n",
            " |  \n",
            " |  update(...)\n",
            " |      Update a set with the union of itself and others.\n",
            " |  \n",
            " |  ----------------------------------------------------------------------\n",
            " |  Class methods defined here:\n",
            " |  \n",
            " |  __class_getitem__(...) from builtins.type\n",
            " |      See PEP 585\n",
            " |  \n",
            " |  ----------------------------------------------------------------------\n",
            " |  Static methods defined here:\n",
            " |  \n",
            " |  __new__(*args, **kwargs) from builtins.type\n",
            " |      Create and return a new object.  See help(type) for accurate signature.\n",
            " |  \n",
            " |  ----------------------------------------------------------------------\n",
            " |  Data and other attributes defined here:\n",
            " |  \n",
            " |  __hash__ = None\n",
            "\n"
          ]
        }
      ]
    },
    {
      "cell_type": "code",
      "source": [
        "# 0 ^ 0 = 0\n",
        "# 0 ^ 1 = 1\n",
        "# 1 ^ 0 = 1\n",
        "# 1 ^ 1 = 0"
      ],
      "metadata": {
        "id": "qo321vndvF40"
      },
      "execution_count": 45,
      "outputs": []
    },
    {
      "cell_type": "code",
      "source": [
        "a ^ b"
      ],
      "metadata": {
        "id": "BYhifX26vUfM",
        "outputId": "2f5840c8-5202-4901-b92d-c9db27709837",
        "colab": {
          "base_uri": "https://localhost:8080/"
        }
      },
      "execution_count": 46,
      "outputs": [
        {
          "output_type": "execute_result",
          "data": {
            "text/plain": [
              "{(1, 2, 3), 1, 2, 3, 4, 'a', 'b', 'c', frozenset({1, 3, 7})}"
            ]
          },
          "metadata": {},
          "execution_count": 46
        }
      ]
    },
    {
      "cell_type": "code",
      "source": [
        "a.symmetric_difference(b)"
      ],
      "metadata": {
        "id": "OOos2ZR1voIQ",
        "outputId": "c55847ce-5e09-41fb-97dd-e9147cb5dc10",
        "colab": {
          "base_uri": "https://localhost:8080/"
        }
      },
      "execution_count": 47,
      "outputs": [
        {
          "output_type": "execute_result",
          "data": {
            "text/plain": [
              "{(1, 2, 3), 1, 2, 3, 4, 'a', 'b', 'c', frozenset({1, 3, 7})}"
            ]
          },
          "metadata": {},
          "execution_count": 47
        }
      ]
    },
    {
      "cell_type": "code",
      "source": [
        "a.symmetric_difference_update(b)\n",
        "a"
      ],
      "metadata": {
        "id": "4rqyMr78vuu7",
        "outputId": "5e5655f8-a9e6-4473-88eb-f806c9ecb120",
        "colab": {
          "base_uri": "https://localhost:8080/"
        }
      },
      "execution_count": 50,
      "outputs": [
        {
          "output_type": "execute_result",
          "data": {
            "text/plain": [
              "{(1, 2, 3), 1, 2, 3, 4, 'a', 'b', 'c', frozenset({1, 3, 7})}"
            ]
          },
          "metadata": {},
          "execution_count": 50
        }
      ]
    },
    {
      "cell_type": "markdown",
      "metadata": {
        "id": "7oX4W6GCctCK"
      },
      "source": [
        "**Словари**: набор пар ключ-значение, индексируемый ключами (хеши)"
      ]
    },
    {
      "cell_type": "code",
      "metadata": {
        "colab": {
          "base_uri": "https://localhost:8080/"
        },
        "id": "WFZ2lWSvdpbZ",
        "outputId": "351f8690-93ce-4bd2-c9e8-e24d87c0fc54"
      },
      "source": [
        "d = {1: 3, '1': 4, (1, 2, 3): 5, b: 10}\n",
        "d"
      ],
      "execution_count": 33,
      "outputs": [
        {
          "output_type": "execute_result",
          "data": {
            "text/plain": [
              "{1: 3, '1': 4, (1, 2, 3): 5, frozenset({'a', 'b', 'c'}): 10}"
            ]
          },
          "metadata": {},
          "execution_count": 33
        }
      ]
    },
    {
      "cell_type": "code",
      "metadata": {
        "colab": {
          "base_uri": "https://localhost:8080/"
        },
        "id": "6hef2oHBdz1y",
        "outputId": "235c3b0b-6da6-4a2e-8d77-b5b875f2bc64"
      },
      "source": [
        "d[frozenset('abbbbc')]"
      ],
      "execution_count": 35,
      "outputs": [
        {
          "output_type": "execute_result",
          "data": {
            "text/plain": [
              "10"
            ]
          },
          "metadata": {},
          "execution_count": 35
        }
      ]
    },
    {
      "cell_type": "code",
      "metadata": {
        "id": "in7ZY65Od290"
      },
      "source": [
        "c = {(): 3}"
      ],
      "execution_count": 54,
      "outputs": []
    },
    {
      "cell_type": "code",
      "source": [],
      "metadata": {
        "id": "QSwVA99VurnQ"
      },
      "execution_count": null,
      "outputs": []
    },
    {
      "cell_type": "markdown",
      "metadata": {
        "id": "51XZNUnnTQ_c"
      },
      "source": [
        "## 3. Итерируемся!\n",
        "\n",
        "В анализе данных нужно много итерироваться по коллекциям!"
      ]
    },
    {
      "cell_type": "code",
      "metadata": {
        "id": "_z_AwuTjTQ_c",
        "colab": {
          "base_uri": "https://localhost:8080/"
        },
        "outputId": "a35331ba-d2fc-401f-a70b-0abf96b079ce"
      },
      "source": [
        "for i in a:\n",
        "  print(i)"
      ],
      "execution_count": 55,
      "outputs": [
        {
          "output_type": "stream",
          "name": "stdout",
          "text": [
            "1\n",
            "2\n",
            "3\n",
            "4\n",
            "a\n",
            "frozenset({1, 3, 7})\n",
            "(1, 2, 3)\n",
            "b\n",
            "c\n"
          ]
        }
      ]
    },
    {
      "cell_type": "code",
      "metadata": {
        "colab": {
          "base_uri": "https://localhost:8080/"
        },
        "id": "O2HaCRnaeS4y",
        "outputId": "f9f85559-1fc6-48f9-a0f8-d9a13ff4e24d"
      },
      "source": [
        "for i, j in enumerate(a):\n",
        "  print(i, j)\n",
        "k, b, c = (1, 2, 3)\n",
        "print(k, b, c)\n",
        "# x, y = [1, 2, 3]\n",
        "# print(x, y)"
      ],
      "execution_count": 60,
      "outputs": [
        {
          "output_type": "stream",
          "name": "stdout",
          "text": [
            "0 1\n",
            "1 2\n",
            "2 3\n",
            "3 4\n",
            "4 a\n",
            "5 frozenset({1, 3, 7})\n",
            "6 (1, 2, 3)\n",
            "7 b\n",
            "8 c\n",
            "1 2 3\n"
          ]
        }
      ]
    },
    {
      "cell_type": "code",
      "source": [
        "print(d)"
      ],
      "metadata": {
        "id": "fMpmlmlSxT3K",
        "outputId": "174e5016-bd0b-48dd-8836-5d0ba6a829ed",
        "colab": {
          "base_uri": "https://localhost:8080/"
        }
      },
      "execution_count": 64,
      "outputs": [
        {
          "output_type": "stream",
          "name": "stdout",
          "text": [
            "{1: 3, '1': 4, (1, 2, 3): 5, frozenset({'a', 'b', 'c'}): 10}\n"
          ]
        }
      ]
    },
    {
      "cell_type": "code",
      "metadata": {
        "colab": {
          "base_uri": "https://localhost:8080/"
        },
        "id": "t05plRbteWiv",
        "outputId": "8957bd88-be45-42eb-afe4-a2d360a61e8a"
      },
      "source": [
        "for k in d:\n",
        "  print(k)"
      ],
      "execution_count": 63,
      "outputs": [
        {
          "output_type": "stream",
          "name": "stdout",
          "text": [
            "1\n",
            "1\n",
            "(1, 2, 3)\n",
            "frozenset({'a', 'b', 'c'})\n"
          ]
        }
      ]
    },
    {
      "cell_type": "code",
      "source": [
        "for i in sorted([2, 4, 3, 1, 5, 8, 7]):\n",
        "  print(i)"
      ],
      "metadata": {
        "id": "AaeJy2lkxcRE",
        "outputId": "51b4d13b-2a1d-4086-8956-f3809758afca",
        "colab": {
          "base_uri": "https://localhost:8080/"
        }
      },
      "execution_count": 65,
      "outputs": [
        {
          "output_type": "stream",
          "name": "stdout",
          "text": [
            "1\n",
            "2\n",
            "3\n",
            "4\n",
            "5\n",
            "7\n",
            "8\n"
          ]
        }
      ]
    },
    {
      "cell_type": "code",
      "metadata": {
        "colab": {
          "base_uri": "https://localhost:8080/",
          "height": 178
        },
        "id": "Al-dmD4heb4m",
        "outputId": "f2e30335-eb0a-4e3d-ae4b-344c43a86eb8"
      },
      "source": [
        "for k, v in sorted(d.items()):\n",
        "  print(k, v)"
      ],
      "execution_count": null,
      "outputs": [
        {
          "output_type": "error",
          "ename": "TypeError",
          "evalue": "ignored",
          "traceback": [
            "\u001b[0;31m---------------------------------------------------------------------------\u001b[0m",
            "\u001b[0;31mTypeError\u001b[0m                                 Traceback (most recent call last)",
            "\u001b[0;32m<ipython-input-192-aac76cf41d09>\u001b[0m in \u001b[0;36m<module>\u001b[0;34m()\u001b[0m\n\u001b[0;32m----> 1\u001b[0;31m \u001b[0;32mfor\u001b[0m \u001b[0mk\u001b[0m\u001b[0;34m,\u001b[0m \u001b[0mv\u001b[0m \u001b[0;32min\u001b[0m \u001b[0msorted\u001b[0m\u001b[0;34m(\u001b[0m\u001b[0md\u001b[0m\u001b[0;34m.\u001b[0m\u001b[0mitems\u001b[0m\u001b[0;34m(\u001b[0m\u001b[0;34m)\u001b[0m\u001b[0;34m)\u001b[0m\u001b[0;34m:\u001b[0m\u001b[0;34m\u001b[0m\u001b[0;34m\u001b[0m\u001b[0m\n\u001b[0m\u001b[1;32m      2\u001b[0m   \u001b[0mprint\u001b[0m\u001b[0;34m(\u001b[0m\u001b[0mk\u001b[0m\u001b[0;34m,\u001b[0m \u001b[0mv\u001b[0m\u001b[0;34m)\u001b[0m\u001b[0;34m\u001b[0m\u001b[0;34m\u001b[0m\u001b[0m\n",
            "\u001b[0;31mTypeError\u001b[0m: '<' not supported between instances of 'str' and 'int'"
          ]
        }
      ]
    },
    {
      "cell_type": "code",
      "source": [
        "from itertools import *"
      ],
      "metadata": {
        "id": "TGEZTBqRyN95"
      },
      "execution_count": null,
      "outputs": []
    },
    {
      "cell_type": "code",
      "source": [
        "import itertools\n",
        "for elem in itertools.chain('ABC', 'DEF', [1, 2, 3]):\n",
        "  print(elem)"
      ],
      "metadata": {
        "id": "Mk70-_0myHgf",
        "outputId": "611ee0f1-a3bb-432f-b8b2-b2a4568028c5",
        "colab": {
          "base_uri": "https://localhost:8080/"
        }
      },
      "execution_count": 68,
      "outputs": [
        {
          "output_type": "stream",
          "name": "stdout",
          "text": [
            "A\n",
            "B\n",
            "C\n",
            "D\n",
            "E\n",
            "F\n",
            "1\n",
            "2\n",
            "3\n"
          ]
        }
      ]
    },
    {
      "cell_type": "code",
      "metadata": {
        "colab": {
          "base_uri": "https://localhost:8080/"
        },
        "id": "jkA3Hffjei5J",
        "outputId": "82d17995-4de7-4f8a-bae3-7ddcbb0c0feb"
      },
      "source": [
        "a = [1, 2, 3, 4]\n",
        "b = [1, 2, 3, 4, 5, 6]\n",
        "for i, j, k in zip(a * 2, b, d.items()):\n",
        "  print(i, j, k)"
      ],
      "execution_count": 74,
      "outputs": [
        {
          "output_type": "stream",
          "name": "stdout",
          "text": [
            "1 1 (1, 3)\n",
            "2 2 ('1', 4)\n",
            "3 3 ((1, 2, 3), 5)\n",
            "4 4 (frozenset({'a', 'b', 'c'}), 10)\n"
          ]
        }
      ]
    },
    {
      "cell_type": "code",
      "metadata": {
        "colab": {
          "base_uri": "https://localhost:8080/"
        },
        "id": "8ysUEq0Jey5z",
        "outputId": "ce71868a-353b-4182-f5cf-2cc3d927207a"
      },
      "source": [
        "l = [1, 2, 3, 4, 5, 5]\n",
        "for i in reversed(l):\n",
        "  print(i)"
      ],
      "execution_count": 76,
      "outputs": [
        {
          "output_type": "stream",
          "name": "stdout",
          "text": [
            "5\n",
            "5\n",
            "4\n",
            "3\n",
            "2\n",
            "1\n"
          ]
        }
      ]
    },
    {
      "cell_type": "code",
      "metadata": {
        "colab": {
          "base_uri": "https://localhost:8080/"
        },
        "id": "njiKvAzGe5d-",
        "outputId": "cc13540d-a696-406f-c73c-4c993df04830"
      },
      "source": [
        "for i in sorted(set(reversed(l))):\n",
        "  print(i)"
      ],
      "execution_count": 77,
      "outputs": [
        {
          "output_type": "stream",
          "name": "stdout",
          "text": [
            "1\n",
            "2\n",
            "3\n",
            "4\n",
            "5\n"
          ]
        }
      ]
    },
    {
      "cell_type": "code",
      "metadata": {
        "id": "EEY2LuSQe9pT"
      },
      "source": [],
      "execution_count": null,
      "outputs": []
    },
    {
      "cell_type": "markdown",
      "metadata": {
        "id": "pDl99gFKTQ_d"
      },
      "source": [
        "## 4. Функции"
      ]
    },
    {
      "cell_type": "code",
      "metadata": {
        "id": "oxhvu2ZCTQ_d",
        "outputId": "7a0bab4a-84ec-4cee-fe25-4732849d216b",
        "colab": {
          "base_uri": "https://localhost:8080/"
        }
      },
      "source": [
        "def plus(a, b):\n",
        "  '''This is function to summarize two elements'''\n",
        "  return a + b\n",
        "\n",
        "print(plus)\n",
        "plus"
      ],
      "execution_count": 91,
      "outputs": [
        {
          "output_type": "stream",
          "name": "stdout",
          "text": [
            "<function plus at 0x799f0a246cb0>\n"
          ]
        },
        {
          "output_type": "execute_result",
          "data": {
            "text/plain": [
              "<function __main__.plus(a, b)>"
            ]
          },
          "metadata": {},
          "execution_count": 91
        }
      ]
    },
    {
      "cell_type": "code",
      "source": [
        "plus.__call__.__call__.__call__(1, 2)"
      ],
      "metadata": {
        "id": "AOKEuAD41J45",
        "outputId": "33ae30c5-9794-479a-840e-88720a8f32e4",
        "colab": {
          "base_uri": "https://localhost:8080/"
        }
      },
      "execution_count": 85,
      "outputs": [
        {
          "output_type": "execute_result",
          "data": {
            "text/plain": [
              "3"
            ]
          },
          "metadata": {},
          "execution_count": 85
        }
      ]
    },
    {
      "cell_type": "code",
      "source": [
        "help(plus)"
      ],
      "metadata": {
        "id": "NPWyma_21jVL",
        "outputId": "f39f2b7d-1520-4e4a-f6ba-bcdcb6e46a8a",
        "colab": {
          "base_uri": "https://localhost:8080/"
        }
      },
      "execution_count": 92,
      "outputs": [
        {
          "output_type": "stream",
          "name": "stdout",
          "text": [
            "Help on function plus in module __main__:\n",
            "\n",
            "plus(a, b)\n",
            "    This is function to summarize two elements\n",
            "\n"
          ]
        }
      ]
    },
    {
      "cell_type": "code",
      "source": [
        "dir(plus)"
      ],
      "metadata": {
        "id": "UG_WqJXv0_Wt",
        "outputId": "7fd5350d-8d91-44e8-89cd-e22fce847c7c",
        "colab": {
          "base_uri": "https://localhost:8080/"
        }
      },
      "execution_count": 79,
      "outputs": [
        {
          "output_type": "execute_result",
          "data": {
            "text/plain": [
              "['__annotations__',\n",
              " '__builtins__',\n",
              " '__call__',\n",
              " '__class__',\n",
              " '__closure__',\n",
              " '__code__',\n",
              " '__defaults__',\n",
              " '__delattr__',\n",
              " '__dict__',\n",
              " '__dir__',\n",
              " '__doc__',\n",
              " '__eq__',\n",
              " '__format__',\n",
              " '__ge__',\n",
              " '__get__',\n",
              " '__getattribute__',\n",
              " '__globals__',\n",
              " '__gt__',\n",
              " '__hash__',\n",
              " '__init__',\n",
              " '__init_subclass__',\n",
              " '__kwdefaults__',\n",
              " '__le__',\n",
              " '__lt__',\n",
              " '__module__',\n",
              " '__name__',\n",
              " '__ne__',\n",
              " '__new__',\n",
              " '__qualname__',\n",
              " '__reduce__',\n",
              " '__reduce_ex__',\n",
              " '__repr__',\n",
              " '__setattr__',\n",
              " '__sizeof__',\n",
              " '__str__',\n",
              " '__subclasshook__']"
            ]
          },
          "metadata": {},
          "execution_count": 79
        }
      ]
    },
    {
      "cell_type": "code",
      "source": [
        "locals()"
      ],
      "metadata": {
        "id": "6Bxpejfn2YMb",
        "outputId": "195821fc-693e-44b1-a063-3a0f38a1b2e4",
        "colab": {
          "base_uri": "https://localhost:8080/"
        }
      },
      "execution_count": 96,
      "outputs": [
        {
          "output_type": "execute_result",
          "data": {
            "text/plain": [
              "{'__name__': '__main__',\n",
              " '__doc__': 'Automatically created module for IPython interactive environment',\n",
              " '__package__': None,\n",
              " '__loader__': None,\n",
              " '__spec__': None,\n",
              " '__builtin__': <module 'builtins' (built-in)>,\n",
              " '__builtins__': <module 'builtins' (built-in)>,\n",
              " '_ih': ['',\n",
              "  'min(a) # работает не всегда!',\n",
              "  \"a = [1, '2', '3', [4, 5]]\\na.append(1.2)\\na\",\n",
              "  'min(a) # работает не всегда!',\n",
              "  'max([10, 1000, 1, 2, 5000, 3])',\n",
              "  'min([\\'1\\', \\'2\\', \\'3\\', \\'abc\\', \"абв\"])',\n",
              "  'a.index([4, 5])\\n[4, 5] in a',\n",
              "  'a.index([4, 5])\\n#[4, 5] in a',\n",
              "  \"a[0] = '123'\\na\",\n",
              "  \"a.append('data science')\\na\",\n",
              "  \"s = 'one,two,three'\\ns.split(',')\",\n",
              "  '\", \".join([\\'arb\\', \\'borb\\', \\'kork\\'])',\n",
              "  'a = (1, )\\na',\n",
              "  'a = (1, 2, 3)\\na',\n",
              "  'a[0] = 7',\n",
              "  \"c = ('1', 2, 3)\\nc\",\n",
              "  'a = range(3, 17, 3)\\na',\n",
              "  'for x in a:\\n  print(type(x))',\n",
              "  \"a = {1, 2, 3, 3, 2, 4}\\na\\na.add('1')\\na\\na.add((1, 2, 3))\\na\",\n",
              "  'a = {1, 2, 3, 3, 2, 4}\\na',\n",
              "  \"a = {1, 2, 3, 3, 2, 4}\\na\\na.add('1')\\na\",\n",
              "  \"a = {1, 2, 3, 3, 2, 4}\\na\\na.add('1')\\na\\na.add((1, 2, 3))\\na\",\n",
              "  \"a = {1, 2, 3, 3, 2, 4}\\na\\na.add('1')\\na\\na.add((1, 2, 3))\\na\\na.add(1)\",\n",
              "  \"a = {1, 2, 3, 3, 2, 4}\\na\\na.add('1')\\na\\na.add((1, 2, 3))\\na\\na.add(1)\\na\",\n",
              "  'a[1]',\n",
              "  'a - {1}',\n",
              "  'a * {1, 3, 7}',\n",
              "  'a + {1, 3, 7}',\n",
              "  'a.add({1, 3, 7})',\n",
              "  'a.add(frozenset({1, 3, 7}))',\n",
              "  'a',\n",
              "  \"b = frozenset('aabc')\\nb\\nb[2] = \",\n",
              "  \"b = frozenset('aabc')\\nb\",\n",
              "  \"d = {1: 3, '1': 4, (1, 2, 3): 5, b: 10}\\nd\",\n",
              "  'd[b]',\n",
              "  \"d[frozenset('abbbbc')]\",\n",
              "  '{1} - a',\n",
              "  'dir({1, 2})',\n",
              "  'a & b',\n",
              "  \"b = frozenset('aabc1')\\nb\",\n",
              "  'a & b',\n",
              "  'a | b',\n",
              "  'help({})',\n",
              "  'help({1, 2})',\n",
              "  '0 ^ 0 = 0',\n",
              "  '# 0 ^ 0 = 0\\n# 0 ^ 1 = 1\\n# 1 ^ 0 = 1\\n# 1 ^ 1 = 0',\n",
              "  'a ^ b',\n",
              "  'a.symmetric_difference(b)',\n",
              "  'a.symmetric_difference_update(b)',\n",
              "  'a.symmetric_difference_update(b)',\n",
              "  'a.symmetric_difference_update(b)\\na',\n",
              "  'c = {[1, 2, 3]: 3}',\n",
              "  'c = {(1, 2, 3}: 3}',\n",
              "  'c = {(1, 2, 3): 3}',\n",
              "  'c = {(): 3}',\n",
              "  'for i in a:\\n  print(i)',\n",
              "  'for i, j in enumerate(a):\\n  print(i, j)\\nk, b, c = (1, 2, 3)\\nprint(k, b, c)',\n",
              "  'for i, j in enumerate(a):\\n  print(i, j)\\nk, b, c = (1, 2, 3)\\nprint(k, b, c)\\nx, y = [1, 2]\\nprint(x, y)',\n",
              "  'for i, j in enumerate(a):\\n  print(i, j)\\nk, b, c = (1, 2, 3)\\nprint(k, b, c)\\nx, y, n, m = [1, 2]\\nprint(x, y)',\n",
              "  'for i, j in enumerate(a):\\n  print(i, j)\\nk, b, c = (1, 2, 3)\\nprint(k, b, c)\\nx, y = [1, 2, 3]\\nprint(x, y)',\n",
              "  'for i, j in enumerate(a):\\n  print(i, j)\\nk, b, c = (1, 2, 3)\\nprint(k, b, c)\\n# x, y = [1, 2, 3]\\n# print(x, y)',\n",
              "  'for k, v in d.items():\\n  print(k, v)',\n",
              "  'for k, v in d:\\n  print(k, v)',\n",
              "  'for k in d:\\n  print(k)',\n",
              "  'print(d)',\n",
              "  'for i in sorted([2, 4, 3, 1, 5, 8, 7]):\\n  print(i)',\n",
              "  \"chain('ABC', 'DEF', [1, 2, 3])\",\n",
              "  \"import itertools\\nitertools.chain('ABC', 'DEF', [1, 2, 3])\",\n",
              "  \"import itertools\\nfor elem in itertools.chain('ABC', 'DEF', [1, 2, 3]):\\n  print(elem)\",\n",
              "  'a = [1, 2, 3, 4]\\nb = [1, 2, 3, 4, 5, 6]\\nfor i in zip(a * 2, b):\\n  print(i)',\n",
              "  'a = [1, 2, 3, 4]\\nb = [1, 2, 3, 4, 5, 6]\\nfor i in zip(a * 2, b, d):\\n  print(i)',\n",
              "  'a = [1, 2, 3, 4]\\nb = [1, 2, 3, 4, 5, 6]\\nfor i in zip(a * 2, b, d.items()):\\n  print(i)',\n",
              "  'a = [1, 2, 3, 4]\\nb = [1, 2, 3, 4, 5, 6]\\nfor i, j, k in zip(a * 2, b, d.items()):\\n  print(i)',\n",
              "  'a = [1, 2, 3, 4]\\nb = [1, 2, 3, 4, 5, 6]\\nfor i, j, k in zip(a * 2, b, d.items()):\\n  print(i, j, k_',\n",
              "  'a = [1, 2, 3, 4]\\nb = [1, 2, 3, 4, 5, 6]\\nfor i, j, k in zip(a * 2, b, d.items()):\\n  print(i, j, k)',\n",
              "  'for i in sorted(set(reversed(l))):\\n  print(i)',\n",
              "  'l = [1, 2, 3, 4, 5, 5]\\nfor i in reversed(l):\\n  print(i)',\n",
              "  'for i in sorted(set(reversed(l))):\\n  print(i)',\n",
              "  'def plus(a, b):\\n  return a + b\\n\\nprint(plus)\\nplus',\n",
              "  'dir(plus)',\n",
              "  'plus(2, 3)',\n",
              "  \"plus('1', '2')\",\n",
              "  \"plus(1, '2')\",\n",
              "  'plus.__call__(1, 2)',\n",
              "  'plus.__call__.__call__(1, 2)',\n",
              "  'plus.__call__.__call__.__call__(1, 2)',\n",
              "  'help(plus)',\n",
              "  '```This is function to summarize to elements```\\ndef plus(a, b):\\n  return a + b\\n\\nprint(plus)\\nplus',\n",
              "  'def plus(a, b):\\n  ```This is function to summarize to elements```\\n  return a + b\\n\\nprint(plus)\\nplus',\n",
              "  \"def plus(a, b):\\n  '''This is function to summarize to elements'''\\n  return a + b\\n\\nprint(plus)\\nplus\",\n",
              "  'help(plus)',\n",
              "  \"def plus(a, b):\\n  '''This is function to summarize two elements'''\\n  return a + b\\n\\nprint(plus)\\nplus\",\n",
              "  'help(plus)',\n",
              "  'locals()',\n",
              "  'def print_locals():\\n  print(locals())',\n",
              "  'print_locals()',\n",
              "  'locals()'],\n",
              " '_oh': {2: ['123', '2', '3', [4, 5], 1.2, 'data science'],\n",
              "  4: 5000,\n",
              "  5: '1',\n",
              "  6: True,\n",
              "  7: 3,\n",
              "  8: ['123', '2', '3', [4, 5], 1.2, 'data science'],\n",
              "  9: ['123', '2', '3', [4, 5], 1.2, 'data science'],\n",
              "  10: ['one', 'two', 'three'],\n",
              "  11: 'arb, borb, kork',\n",
              "  12: (1,),\n",
              "  13: (1, 2, 3),\n",
              "  15: ('1', 2, 3),\n",
              "  16: range(3, 17, 3),\n",
              "  18: {(1, 2, 3), 1, '1', 2, 3, 4},\n",
              "  19: {1, 2, 3, 4},\n",
              "  20: {1, '1', 2, 3, 4},\n",
              "  21: {(1, 2, 3), 1, '1', 2, 3, 4},\n",
              "  23: {(1, 2, 3), 1, 2, 3, 4, 'a', 'b', 'c', frozenset({1, 3, 7})},\n",
              "  25: {(1, 2, 3), '1', 2, 3, 4},\n",
              "  30: {(1, 2, 3), 1, 2, 3, 4, 'a', 'b', 'c', frozenset({1, 3, 7})},\n",
              "  32: frozenset({'a', 'b', 'c'}),\n",
              "  33: {1: 3, '1': 4, (1, 2, 3): 5, frozenset({'a', 'b', 'c'}): 10},\n",
              "  34: 10,\n",
              "  35: 10,\n",
              "  36: set(),\n",
              "  37: ['__and__',\n",
              "   '__class__',\n",
              "   '__class_getitem__',\n",
              "   '__contains__',\n",
              "   '__delattr__',\n",
              "   '__dir__',\n",
              "   '__doc__',\n",
              "   '__eq__',\n",
              "   '__format__',\n",
              "   '__ge__',\n",
              "   '__getattribute__',\n",
              "   '__gt__',\n",
              "   '__hash__',\n",
              "   '__iand__',\n",
              "   '__init__',\n",
              "   '__init_subclass__',\n",
              "   '__ior__',\n",
              "   '__isub__',\n",
              "   '__iter__',\n",
              "   '__ixor__',\n",
              "   '__le__',\n",
              "   '__len__',\n",
              "   '__lt__',\n",
              "   '__ne__',\n",
              "   '__new__',\n",
              "   '__or__',\n",
              "   '__rand__',\n",
              "   '__reduce__',\n",
              "   '__reduce_ex__',\n",
              "   '__repr__',\n",
              "   '__ror__',\n",
              "   '__rsub__',\n",
              "   '__rxor__',\n",
              "   '__setattr__',\n",
              "   '__sizeof__',\n",
              "   '__str__',\n",
              "   '__sub__',\n",
              "   '__subclasshook__',\n",
              "   '__xor__',\n",
              "   'add',\n",
              "   'clear',\n",
              "   'copy',\n",
              "   'difference',\n",
              "   'difference_update',\n",
              "   'discard',\n",
              "   'intersection',\n",
              "   'intersection_update',\n",
              "   'isdisjoint',\n",
              "   'issubset',\n",
              "   'issuperset',\n",
              "   'pop',\n",
              "   'remove',\n",
              "   'symmetric_difference',\n",
              "   'symmetric_difference_update',\n",
              "   'union',\n",
              "   'update'],\n",
              "  38: set(),\n",
              "  39: frozenset({'1', 'a', 'b', 'c'}),\n",
              "  40: {'1'},\n",
              "  41: {(1, 2, 3), 1, '1', 2, 3, 4, 'a', 'b', 'c', frozenset({1, 3, 7})},\n",
              "  46: {(1, 2, 3), 1, 2, 3, 4, 'a', 'b', 'c', frozenset({1, 3, 7})},\n",
              "  47: {(1, 2, 3), 1, 2, 3, 4, 'a', 'b', 'c', frozenset({1, 3, 7})},\n",
              "  50: {(1, 2, 3), 1, 2, 3, 4, 'a', 'b', 'c', frozenset({1, 3, 7})},\n",
              "  67: <itertools.chain at 0x799f0a4e1db0>,\n",
              "  78: <function __main__.plus(a, b)>,\n",
              "  79: ['__annotations__',\n",
              "   '__builtins__',\n",
              "   '__call__',\n",
              "   '__class__',\n",
              "   '__closure__',\n",
              "   '__code__',\n",
              "   '__defaults__',\n",
              "   '__delattr__',\n",
              "   '__dict__',\n",
              "   '__dir__',\n",
              "   '__doc__',\n",
              "   '__eq__',\n",
              "   '__format__',\n",
              "   '__ge__',\n",
              "   '__get__',\n",
              "   '__getattribute__',\n",
              "   '__globals__',\n",
              "   '__gt__',\n",
              "   '__hash__',\n",
              "   '__init__',\n",
              "   '__init_subclass__',\n",
              "   '__kwdefaults__',\n",
              "   '__le__',\n",
              "   '__lt__',\n",
              "   '__module__',\n",
              "   '__name__',\n",
              "   '__ne__',\n",
              "   '__new__',\n",
              "   '__qualname__',\n",
              "   '__reduce__',\n",
              "   '__reduce_ex__',\n",
              "   '__repr__',\n",
              "   '__setattr__',\n",
              "   '__sizeof__',\n",
              "   '__str__',\n",
              "   '__subclasshook__'],\n",
              "  80: 5,\n",
              "  81: '12',\n",
              "  83: 3,\n",
              "  84: 3,\n",
              "  85: 3,\n",
              "  89: <function __main__.plus(a, b)>,\n",
              "  91: <function __main__.plus(a, b)>,\n",
              "  93: {...}},\n",
              " '_dh': ['/content'],\n",
              " 'In': ['',\n",
              "  'min(a) # работает не всегда!',\n",
              "  \"a = [1, '2', '3', [4, 5]]\\na.append(1.2)\\na\",\n",
              "  'min(a) # работает не всегда!',\n",
              "  'max([10, 1000, 1, 2, 5000, 3])',\n",
              "  'min([\\'1\\', \\'2\\', \\'3\\', \\'abc\\', \"абв\"])',\n",
              "  'a.index([4, 5])\\n[4, 5] in a',\n",
              "  'a.index([4, 5])\\n#[4, 5] in a',\n",
              "  \"a[0] = '123'\\na\",\n",
              "  \"a.append('data science')\\na\",\n",
              "  \"s = 'one,two,three'\\ns.split(',')\",\n",
              "  '\", \".join([\\'arb\\', \\'borb\\', \\'kork\\'])',\n",
              "  'a = (1, )\\na',\n",
              "  'a = (1, 2, 3)\\na',\n",
              "  'a[0] = 7',\n",
              "  \"c = ('1', 2, 3)\\nc\",\n",
              "  'a = range(3, 17, 3)\\na',\n",
              "  'for x in a:\\n  print(type(x))',\n",
              "  \"a = {1, 2, 3, 3, 2, 4}\\na\\na.add('1')\\na\\na.add((1, 2, 3))\\na\",\n",
              "  'a = {1, 2, 3, 3, 2, 4}\\na',\n",
              "  \"a = {1, 2, 3, 3, 2, 4}\\na\\na.add('1')\\na\",\n",
              "  \"a = {1, 2, 3, 3, 2, 4}\\na\\na.add('1')\\na\\na.add((1, 2, 3))\\na\",\n",
              "  \"a = {1, 2, 3, 3, 2, 4}\\na\\na.add('1')\\na\\na.add((1, 2, 3))\\na\\na.add(1)\",\n",
              "  \"a = {1, 2, 3, 3, 2, 4}\\na\\na.add('1')\\na\\na.add((1, 2, 3))\\na\\na.add(1)\\na\",\n",
              "  'a[1]',\n",
              "  'a - {1}',\n",
              "  'a * {1, 3, 7}',\n",
              "  'a + {1, 3, 7}',\n",
              "  'a.add({1, 3, 7})',\n",
              "  'a.add(frozenset({1, 3, 7}))',\n",
              "  'a',\n",
              "  \"b = frozenset('aabc')\\nb\\nb[2] = \",\n",
              "  \"b = frozenset('aabc')\\nb\",\n",
              "  \"d = {1: 3, '1': 4, (1, 2, 3): 5, b: 10}\\nd\",\n",
              "  'd[b]',\n",
              "  \"d[frozenset('abbbbc')]\",\n",
              "  '{1} - a',\n",
              "  'dir({1, 2})',\n",
              "  'a & b',\n",
              "  \"b = frozenset('aabc1')\\nb\",\n",
              "  'a & b',\n",
              "  'a | b',\n",
              "  'help({})',\n",
              "  'help({1, 2})',\n",
              "  '0 ^ 0 = 0',\n",
              "  '# 0 ^ 0 = 0\\n# 0 ^ 1 = 1\\n# 1 ^ 0 = 1\\n# 1 ^ 1 = 0',\n",
              "  'a ^ b',\n",
              "  'a.symmetric_difference(b)',\n",
              "  'a.symmetric_difference_update(b)',\n",
              "  'a.symmetric_difference_update(b)',\n",
              "  'a.symmetric_difference_update(b)\\na',\n",
              "  'c = {[1, 2, 3]: 3}',\n",
              "  'c = {(1, 2, 3}: 3}',\n",
              "  'c = {(1, 2, 3): 3}',\n",
              "  'c = {(): 3}',\n",
              "  'for i in a:\\n  print(i)',\n",
              "  'for i, j in enumerate(a):\\n  print(i, j)\\nk, b, c = (1, 2, 3)\\nprint(k, b, c)',\n",
              "  'for i, j in enumerate(a):\\n  print(i, j)\\nk, b, c = (1, 2, 3)\\nprint(k, b, c)\\nx, y = [1, 2]\\nprint(x, y)',\n",
              "  'for i, j in enumerate(a):\\n  print(i, j)\\nk, b, c = (1, 2, 3)\\nprint(k, b, c)\\nx, y, n, m = [1, 2]\\nprint(x, y)',\n",
              "  'for i, j in enumerate(a):\\n  print(i, j)\\nk, b, c = (1, 2, 3)\\nprint(k, b, c)\\nx, y = [1, 2, 3]\\nprint(x, y)',\n",
              "  'for i, j in enumerate(a):\\n  print(i, j)\\nk, b, c = (1, 2, 3)\\nprint(k, b, c)\\n# x, y = [1, 2, 3]\\n# print(x, y)',\n",
              "  'for k, v in d.items():\\n  print(k, v)',\n",
              "  'for k, v in d:\\n  print(k, v)',\n",
              "  'for k in d:\\n  print(k)',\n",
              "  'print(d)',\n",
              "  'for i in sorted([2, 4, 3, 1, 5, 8, 7]):\\n  print(i)',\n",
              "  \"chain('ABC', 'DEF', [1, 2, 3])\",\n",
              "  \"import itertools\\nitertools.chain('ABC', 'DEF', [1, 2, 3])\",\n",
              "  \"import itertools\\nfor elem in itertools.chain('ABC', 'DEF', [1, 2, 3]):\\n  print(elem)\",\n",
              "  'a = [1, 2, 3, 4]\\nb = [1, 2, 3, 4, 5, 6]\\nfor i in zip(a * 2, b):\\n  print(i)',\n",
              "  'a = [1, 2, 3, 4]\\nb = [1, 2, 3, 4, 5, 6]\\nfor i in zip(a * 2, b, d):\\n  print(i)',\n",
              "  'a = [1, 2, 3, 4]\\nb = [1, 2, 3, 4, 5, 6]\\nfor i in zip(a * 2, b, d.items()):\\n  print(i)',\n",
              "  'a = [1, 2, 3, 4]\\nb = [1, 2, 3, 4, 5, 6]\\nfor i, j, k in zip(a * 2, b, d.items()):\\n  print(i)',\n",
              "  'a = [1, 2, 3, 4]\\nb = [1, 2, 3, 4, 5, 6]\\nfor i, j, k in zip(a * 2, b, d.items()):\\n  print(i, j, k_',\n",
              "  'a = [1, 2, 3, 4]\\nb = [1, 2, 3, 4, 5, 6]\\nfor i, j, k in zip(a * 2, b, d.items()):\\n  print(i, j, k)',\n",
              "  'for i in sorted(set(reversed(l))):\\n  print(i)',\n",
              "  'l = [1, 2, 3, 4, 5, 5]\\nfor i in reversed(l):\\n  print(i)',\n",
              "  'for i in sorted(set(reversed(l))):\\n  print(i)',\n",
              "  'def plus(a, b):\\n  return a + b\\n\\nprint(plus)\\nplus',\n",
              "  'dir(plus)',\n",
              "  'plus(2, 3)',\n",
              "  \"plus('1', '2')\",\n",
              "  \"plus(1, '2')\",\n",
              "  'plus.__call__(1, 2)',\n",
              "  'plus.__call__.__call__(1, 2)',\n",
              "  'plus.__call__.__call__.__call__(1, 2)',\n",
              "  'help(plus)',\n",
              "  '```This is function to summarize to elements```\\ndef plus(a, b):\\n  return a + b\\n\\nprint(plus)\\nplus',\n",
              "  'def plus(a, b):\\n  ```This is function to summarize to elements```\\n  return a + b\\n\\nprint(plus)\\nplus',\n",
              "  \"def plus(a, b):\\n  '''This is function to summarize to elements'''\\n  return a + b\\n\\nprint(plus)\\nplus\",\n",
              "  'help(plus)',\n",
              "  \"def plus(a, b):\\n  '''This is function to summarize two elements'''\\n  return a + b\\n\\nprint(plus)\\nplus\",\n",
              "  'help(plus)',\n",
              "  'locals()',\n",
              "  'def print_locals():\\n  print(locals())',\n",
              "  'print_locals()',\n",
              "  'locals()'],\n",
              " 'Out': {2: ['123', '2', '3', [4, 5], 1.2, 'data science'],\n",
              "  4: 5000,\n",
              "  5: '1',\n",
              "  6: True,\n",
              "  7: 3,\n",
              "  8: ['123', '2', '3', [4, 5], 1.2, 'data science'],\n",
              "  9: ['123', '2', '3', [4, 5], 1.2, 'data science'],\n",
              "  10: ['one', 'two', 'three'],\n",
              "  11: 'arb, borb, kork',\n",
              "  12: (1,),\n",
              "  13: (1, 2, 3),\n",
              "  15: ('1', 2, 3),\n",
              "  16: range(3, 17, 3),\n",
              "  18: {(1, 2, 3), 1, '1', 2, 3, 4},\n",
              "  19: {1, 2, 3, 4},\n",
              "  20: {1, '1', 2, 3, 4},\n",
              "  21: {(1, 2, 3), 1, '1', 2, 3, 4},\n",
              "  23: {(1, 2, 3), 1, 2, 3, 4, 'a', 'b', 'c', frozenset({1, 3, 7})},\n",
              "  25: {(1, 2, 3), '1', 2, 3, 4},\n",
              "  30: {(1, 2, 3), 1, 2, 3, 4, 'a', 'b', 'c', frozenset({1, 3, 7})},\n",
              "  32: frozenset({'a', 'b', 'c'}),\n",
              "  33: {1: 3, '1': 4, (1, 2, 3): 5, frozenset({'a', 'b', 'c'}): 10},\n",
              "  34: 10,\n",
              "  35: 10,\n",
              "  36: set(),\n",
              "  37: ['__and__',\n",
              "   '__class__',\n",
              "   '__class_getitem__',\n",
              "   '__contains__',\n",
              "   '__delattr__',\n",
              "   '__dir__',\n",
              "   '__doc__',\n",
              "   '__eq__',\n",
              "   '__format__',\n",
              "   '__ge__',\n",
              "   '__getattribute__',\n",
              "   '__gt__',\n",
              "   '__hash__',\n",
              "   '__iand__',\n",
              "   '__init__',\n",
              "   '__init_subclass__',\n",
              "   '__ior__',\n",
              "   '__isub__',\n",
              "   '__iter__',\n",
              "   '__ixor__',\n",
              "   '__le__',\n",
              "   '__len__',\n",
              "   '__lt__',\n",
              "   '__ne__',\n",
              "   '__new__',\n",
              "   '__or__',\n",
              "   '__rand__',\n",
              "   '__reduce__',\n",
              "   '__reduce_ex__',\n",
              "   '__repr__',\n",
              "   '__ror__',\n",
              "   '__rsub__',\n",
              "   '__rxor__',\n",
              "   '__setattr__',\n",
              "   '__sizeof__',\n",
              "   '__str__',\n",
              "   '__sub__',\n",
              "   '__subclasshook__',\n",
              "   '__xor__',\n",
              "   'add',\n",
              "   'clear',\n",
              "   'copy',\n",
              "   'difference',\n",
              "   'difference_update',\n",
              "   'discard',\n",
              "   'intersection',\n",
              "   'intersection_update',\n",
              "   'isdisjoint',\n",
              "   'issubset',\n",
              "   'issuperset',\n",
              "   'pop',\n",
              "   'remove',\n",
              "   'symmetric_difference',\n",
              "   'symmetric_difference_update',\n",
              "   'union',\n",
              "   'update'],\n",
              "  38: set(),\n",
              "  39: frozenset({'1', 'a', 'b', 'c'}),\n",
              "  40: {'1'},\n",
              "  41: {(1, 2, 3), 1, '1', 2, 3, 4, 'a', 'b', 'c', frozenset({1, 3, 7})},\n",
              "  46: {(1, 2, 3), 1, 2, 3, 4, 'a', 'b', 'c', frozenset({1, 3, 7})},\n",
              "  47: {(1, 2, 3), 1, 2, 3, 4, 'a', 'b', 'c', frozenset({1, 3, 7})},\n",
              "  50: {(1, 2, 3), 1, 2, 3, 4, 'a', 'b', 'c', frozenset({1, 3, 7})},\n",
              "  67: <itertools.chain at 0x799f0a4e1db0>,\n",
              "  78: <function __main__.plus(a, b)>,\n",
              "  79: ['__annotations__',\n",
              "   '__builtins__',\n",
              "   '__call__',\n",
              "   '__class__',\n",
              "   '__closure__',\n",
              "   '__code__',\n",
              "   '__defaults__',\n",
              "   '__delattr__',\n",
              "   '__dict__',\n",
              "   '__dir__',\n",
              "   '__doc__',\n",
              "   '__eq__',\n",
              "   '__format__',\n",
              "   '__ge__',\n",
              "   '__get__',\n",
              "   '__getattribute__',\n",
              "   '__globals__',\n",
              "   '__gt__',\n",
              "   '__hash__',\n",
              "   '__init__',\n",
              "   '__init_subclass__',\n",
              "   '__kwdefaults__',\n",
              "   '__le__',\n",
              "   '__lt__',\n",
              "   '__module__',\n",
              "   '__name__',\n",
              "   '__ne__',\n",
              "   '__new__',\n",
              "   '__qualname__',\n",
              "   '__reduce__',\n",
              "   '__reduce_ex__',\n",
              "   '__repr__',\n",
              "   '__setattr__',\n",
              "   '__sizeof__',\n",
              "   '__str__',\n",
              "   '__subclasshook__'],\n",
              "  80: 5,\n",
              "  81: '12',\n",
              "  83: 3,\n",
              "  84: 3,\n",
              "  85: 3,\n",
              "  89: <function __main__.plus(a, b)>,\n",
              "  91: <function __main__.plus(a, b)>,\n",
              "  93: {...}},\n",
              " 'get_ipython': <bound method InteractiveShell.get_ipython of <google.colab._shell.Shell object at 0x799f4dbb9ff0>>,\n",
              " 'exit': <IPython.core.autocall.ZMQExitAutocall at 0x799f4dbba590>,\n",
              " 'quit': <IPython.core.autocall.ZMQExitAutocall at 0x799f4dbba590>,\n",
              " '_': {...},\n",
              " '__': <function __main__.plus(a, b)>,\n",
              " '___': <function __main__.plus(a, b)>,\n",
              " '_i': 'print_locals()',\n",
              " '_ii': 'def print_locals():\\n  print(locals())',\n",
              " '_iii': 'locals()',\n",
              " '_i1': 'min(a) # работает не всегда!',\n",
              " '_i2': \"a = [1, '2', '3', [4, 5]]\\na.append(1.2)\\na\",\n",
              " 'a': [1, 2, 3, 4],\n",
              " '_2': ['123', '2', '3', [4, 5], 1.2, 'data science'],\n",
              " '_i3': 'min(a) # работает не всегда!',\n",
              " '_i4': 'max([10, 1000, 1, 2, 5000, 3])',\n",
              " '_4': 5000,\n",
              " '_i5': 'min([\\'1\\', \\'2\\', \\'3\\', \\'abc\\', \"абв\"])',\n",
              " '_5': '1',\n",
              " '_i6': 'a.index([4, 5])\\n[4, 5] in a',\n",
              " '_6': True,\n",
              " '_i7': 'a.index([4, 5])\\n#[4, 5] in a',\n",
              " '_7': 3,\n",
              " '_i8': \"a[0] = '123'\\na\",\n",
              " '_8': ['123', '2', '3', [4, 5], 1.2, 'data science'],\n",
              " '_i9': \"a.append('data science')\\na\",\n",
              " '_9': ['123', '2', '3', [4, 5], 1.2, 'data science'],\n",
              " '_i10': \"s = 'one,two,three'\\ns.split(',')\",\n",
              " 's': 'one,two,three',\n",
              " '_10': ['one', 'two', 'three'],\n",
              " '_i11': '\", \".join([\\'arb\\', \\'borb\\', \\'kork\\'])',\n",
              " '_11': 'arb, borb, kork',\n",
              " '_i12': 'a = (1, )\\na',\n",
              " '_12': (1,),\n",
              " '_i13': 'a = (1, 2, 3)\\na',\n",
              " '_13': (1, 2, 3),\n",
              " '_i14': 'a[0] = 7',\n",
              " '_i15': \"c = ('1', 2, 3)\\nc\",\n",
              " 'c': 3,\n",
              " '_15': ('1', 2, 3),\n",
              " '_i16': 'a = range(3, 17, 3)\\na',\n",
              " '_16': range(3, 17, 3),\n",
              " '_i17': 'for x in a:\\n  print(type(x))',\n",
              " 'x': 1,\n",
              " '_i18': \"a = {1, 2, 3, 3, 2, 4}\\na\\na.add('1')\\na\\na.add((1, 2, 3))\\na\",\n",
              " '_18': {(1, 2, 3), 1, '1', 2, 3, 4},\n",
              " '_i19': 'a = {1, 2, 3, 3, 2, 4}\\na',\n",
              " '_19': {1, 2, 3, 4},\n",
              " '_i20': \"a = {1, 2, 3, 3, 2, 4}\\na\\na.add('1')\\na\",\n",
              " '_20': {1, '1', 2, 3, 4},\n",
              " '_i21': \"a = {1, 2, 3, 3, 2, 4}\\na\\na.add('1')\\na\\na.add((1, 2, 3))\\na\",\n",
              " '_21': {(1, 2, 3), 1, '1', 2, 3, 4},\n",
              " '_i22': \"a = {1, 2, 3, 3, 2, 4}\\na\\na.add('1')\\na\\na.add((1, 2, 3))\\na\\na.add(1)\",\n",
              " '_i23': \"a = {1, 2, 3, 3, 2, 4}\\na\\na.add('1')\\na\\na.add((1, 2, 3))\\na\\na.add(1)\\na\",\n",
              " '_23': {(1, 2, 3), 1, 2, 3, 4, 'a', 'b', 'c', frozenset({1, 3, 7})},\n",
              " '_i24': 'a[1]',\n",
              " '_i25': 'a - {1}',\n",
              " '_25': {(1, 2, 3), '1', 2, 3, 4},\n",
              " '_i26': 'a * {1, 3, 7}',\n",
              " '_i27': 'a + {1, 3, 7}',\n",
              " '_i28': 'a.add({1, 3, 7})',\n",
              " '_i29': 'a.add(frozenset({1, 3, 7}))',\n",
              " '_i30': 'a',\n",
              " '_30': {(1, 2, 3), 1, 2, 3, 4, 'a', 'b', 'c', frozenset({1, 3, 7})},\n",
              " '_i31': \"b = frozenset('aabc')\\nb\\nb[2] = \",\n",
              " '_i32': \"b = frozenset('aabc')\\nb\",\n",
              " 'b': [1, 2, 3, 4, 5, 6],\n",
              " '_32': frozenset({'a', 'b', 'c'}),\n",
              " '_i33': \"d = {1: 3, '1': 4, (1, 2, 3): 5, b: 10}\\nd\",\n",
              " 'd': {1: 3, '1': 4, (1, 2, 3): 5, frozenset({'a', 'b', 'c'}): 10},\n",
              " '_33': {1: 3, '1': 4, (1, 2, 3): 5, frozenset({'a', 'b', 'c'}): 10},\n",
              " '_i34': 'd[b]',\n",
              " '_34': 10,\n",
              " '_i35': \"d[frozenset('abbbbc')]\",\n",
              " '_35': 10,\n",
              " '_i36': '{1} - a',\n",
              " '_36': set(),\n",
              " '_i37': 'dir({1, 2})',\n",
              " '_37': ['__and__',\n",
              "  '__class__',\n",
              "  '__class_getitem__',\n",
              "  '__contains__',\n",
              "  '__delattr__',\n",
              "  '__dir__',\n",
              "  '__doc__',\n",
              "  '__eq__',\n",
              "  '__format__',\n",
              "  '__ge__',\n",
              "  '__getattribute__',\n",
              "  '__gt__',\n",
              "  '__hash__',\n",
              "  '__iand__',\n",
              "  '__init__',\n",
              "  '__init_subclass__',\n",
              "  '__ior__',\n",
              "  '__isub__',\n",
              "  '__iter__',\n",
              "  '__ixor__',\n",
              "  '__le__',\n",
              "  '__len__',\n",
              "  '__lt__',\n",
              "  '__ne__',\n",
              "  '__new__',\n",
              "  '__or__',\n",
              "  '__rand__',\n",
              "  '__reduce__',\n",
              "  '__reduce_ex__',\n",
              "  '__repr__',\n",
              "  '__ror__',\n",
              "  '__rsub__',\n",
              "  '__rxor__',\n",
              "  '__setattr__',\n",
              "  '__sizeof__',\n",
              "  '__str__',\n",
              "  '__sub__',\n",
              "  '__subclasshook__',\n",
              "  '__xor__',\n",
              "  'add',\n",
              "  'clear',\n",
              "  'copy',\n",
              "  'difference',\n",
              "  'difference_update',\n",
              "  'discard',\n",
              "  'intersection',\n",
              "  'intersection_update',\n",
              "  'isdisjoint',\n",
              "  'issubset',\n",
              "  'issuperset',\n",
              "  'pop',\n",
              "  'remove',\n",
              "  'symmetric_difference',\n",
              "  'symmetric_difference_update',\n",
              "  'union',\n",
              "  'update'],\n",
              " '_i38': 'a & b',\n",
              " '_38': set(),\n",
              " '_i39': \"b = frozenset('aabc1')\\nb\",\n",
              " '_39': frozenset({'1', 'a', 'b', 'c'}),\n",
              " '_i40': 'a & b',\n",
              " '_40': {'1'},\n",
              " '_i41': 'a | b',\n",
              " '_41': {(1, 2, 3), 1, '1', 2, 3, 4, 'a', 'b', 'c', frozenset({1, 3, 7})},\n",
              " '_i42': 'help({})',\n",
              " '_i43': 'help({1, 2})',\n",
              " '_i44': '0 ^ 0 = 0',\n",
              " '_i45': '# 0 ^ 0 = 0\\n# 0 ^ 1 = 1\\n# 1 ^ 0 = 1\\n# 1 ^ 1 = 0',\n",
              " '_i46': 'a ^ b',\n",
              " '_46': {(1, 2, 3), 1, 2, 3, 4, 'a', 'b', 'c', frozenset({1, 3, 7})},\n",
              " '_i47': 'a.symmetric_difference(b)',\n",
              " '_47': {(1, 2, 3), 1, 2, 3, 4, 'a', 'b', 'c', frozenset({1, 3, 7})},\n",
              " '_i48': 'a.symmetric_difference_update(b)',\n",
              " '_i49': 'a.symmetric_difference_update(b)',\n",
              " '_i50': 'a.symmetric_difference_update(b)\\na',\n",
              " '_50': {(1, 2, 3), 1, 2, 3, 4, 'a', 'b', 'c', frozenset({1, 3, 7})},\n",
              " '_i51': 'c = {[1, 2, 3]: 3}',\n",
              " '_i52': 'c = {(1, 2, 3}: 3}',\n",
              " '_i53': 'c = {(1, 2, 3): 3}',\n",
              " '_i54': 'c = {(): 3}',\n",
              " '_i55': 'for i in a:\\n  print(i)',\n",
              " 'i': 5,\n",
              " '_i56': 'for i, j in enumerate(a):\\n  print(i, j)\\nk, b, c = (1, 2, 3)\\nprint(k, b, c)',\n",
              " 'j': 4,\n",
              " 'k': (frozenset({'a', 'b', 'c'}), 10),\n",
              " '_i57': 'for i, j in enumerate(a):\\n  print(i, j)\\nk, b, c = (1, 2, 3)\\nprint(k, b, c)\\nx, y = [1, 2]\\nprint(x, y)',\n",
              " 'y': 2,\n",
              " '_i58': 'for i, j in enumerate(a):\\n  print(i, j)\\nk, b, c = (1, 2, 3)\\nprint(k, b, c)\\nx, y, n, m = [1, 2]\\nprint(x, y)',\n",
              " '_i59': 'for i, j in enumerate(a):\\n  print(i, j)\\nk, b, c = (1, 2, 3)\\nprint(k, b, c)\\nx, y = [1, 2, 3]\\nprint(x, y)',\n",
              " '_i60': 'for i, j in enumerate(a):\\n  print(i, j)\\nk, b, c = (1, 2, 3)\\nprint(k, b, c)\\n# x, y = [1, 2, 3]\\n# print(x, y)',\n",
              " '_i61': 'for k, v in d.items():\\n  print(k, v)',\n",
              " 'v': 10,\n",
              " '_i62': 'for k, v in d:\\n  print(k, v)',\n",
              " '_i63': 'for k in d:\\n  print(k)',\n",
              " '_i64': 'print(d)',\n",
              " '_i65': 'for i in sorted([2, 4, 3, 1, 5, 8, 7]):\\n  print(i)',\n",
              " '_i66': \"chain('ABC', 'DEF', [1, 2, 3])\",\n",
              " '_i67': \"import itertools\\nitertools.chain('ABC', 'DEF', [1, 2, 3])\",\n",
              " 'itertools': <module 'itertools' (built-in)>,\n",
              " '_67': <itertools.chain at 0x799f0a4e1db0>,\n",
              " '_i68': \"import itertools\\nfor elem in itertools.chain('ABC', 'DEF', [1, 2, 3]):\\n  print(elem)\",\n",
              " 'elem': 3,\n",
              " '_i69': 'a = [1, 2, 3, 4]\\nb = [1, 2, 3, 4, 5, 6]\\nfor i in zip(a * 2, b):\\n  print(i)',\n",
              " '_i70': 'a = [1, 2, 3, 4]\\nb = [1, 2, 3, 4, 5, 6]\\nfor i in zip(a * 2, b, d):\\n  print(i)',\n",
              " '_i71': 'a = [1, 2, 3, 4]\\nb = [1, 2, 3, 4, 5, 6]\\nfor i in zip(a * 2, b, d.items()):\\n  print(i)',\n",
              " '_i72': 'a = [1, 2, 3, 4]\\nb = [1, 2, 3, 4, 5, 6]\\nfor i, j, k in zip(a * 2, b, d.items()):\\n  print(i)',\n",
              " '_i73': 'a = [1, 2, 3, 4]\\nb = [1, 2, 3, 4, 5, 6]\\nfor i, j, k in zip(a * 2, b, d.items()):\\n  print(i, j, k_',\n",
              " '_i74': 'a = [1, 2, 3, 4]\\nb = [1, 2, 3, 4, 5, 6]\\nfor i, j, k in zip(a * 2, b, d.items()):\\n  print(i, j, k)',\n",
              " '_i75': 'for i in sorted(set(reversed(l))):\\n  print(i)',\n",
              " '_i76': 'l = [1, 2, 3, 4, 5, 5]\\nfor i in reversed(l):\\n  print(i)',\n",
              " 'l': [1, 2, 3, 4, 5, 5],\n",
              " '_i77': 'for i in sorted(set(reversed(l))):\\n  print(i)',\n",
              " '_i78': 'def plus(a, b):\\n  return a + b\\n\\nprint(plus)\\nplus',\n",
              " 'plus': <function __main__.plus(a, b)>,\n",
              " '_78': <function __main__.plus(a, b)>,\n",
              " '_i79': 'dir(plus)',\n",
              " '_79': ['__annotations__',\n",
              "  '__builtins__',\n",
              "  '__call__',\n",
              "  '__class__',\n",
              "  '__closure__',\n",
              "  '__code__',\n",
              "  '__defaults__',\n",
              "  '__delattr__',\n",
              "  '__dict__',\n",
              "  '__dir__',\n",
              "  '__doc__',\n",
              "  '__eq__',\n",
              "  '__format__',\n",
              "  '__ge__',\n",
              "  '__get__',\n",
              "  '__getattribute__',\n",
              "  '__globals__',\n",
              "  '__gt__',\n",
              "  '__hash__',\n",
              "  '__init__',\n",
              "  '__init_subclass__',\n",
              "  '__kwdefaults__',\n",
              "  '__le__',\n",
              "  '__lt__',\n",
              "  '__module__',\n",
              "  '__name__',\n",
              "  '__ne__',\n",
              "  '__new__',\n",
              "  '__qualname__',\n",
              "  '__reduce__',\n",
              "  '__reduce_ex__',\n",
              "  '__repr__',\n",
              "  '__setattr__',\n",
              "  '__sizeof__',\n",
              "  '__str__',\n",
              "  '__subclasshook__'],\n",
              " '_i80': 'plus(2, 3)',\n",
              " '_80': 5,\n",
              " '_i81': \"plus('1', '2')\",\n",
              " '_81': '12',\n",
              " '_i82': \"plus(1, '2')\",\n",
              " '_i83': 'plus.__call__(1, 2)',\n",
              " '_83': 3,\n",
              " '_i84': 'plus.__call__.__call__(1, 2)',\n",
              " '_84': 3,\n",
              " '_i85': 'plus.__call__.__call__.__call__(1, 2)',\n",
              " '_85': 3,\n",
              " '_i86': 'help(plus)',\n",
              " '_i87': '```This is function to summarize to elements```\\ndef plus(a, b):\\n  return a + b\\n\\nprint(plus)\\nplus',\n",
              " '_i88': 'def plus(a, b):\\n  ```This is function to summarize to elements```\\n  return a + b\\n\\nprint(plus)\\nplus',\n",
              " '_i89': \"def plus(a, b):\\n  '''This is function to summarize to elements'''\\n  return a + b\\n\\nprint(plus)\\nplus\",\n",
              " '_89': <function __main__.plus(a, b)>,\n",
              " '_i90': 'help(plus)',\n",
              " '_i91': \"def plus(a, b):\\n  '''This is function to summarize two elements'''\\n  return a + b\\n\\nprint(plus)\\nplus\",\n",
              " '_91': <function __main__.plus(a, b)>,\n",
              " '_i92': 'help(plus)',\n",
              " '_i93': 'locals()',\n",
              " '_93': {...},\n",
              " '_i94': 'def print_locals():\\n  print(locals())',\n",
              " 'print_locals': <function __main__.print_locals()>,\n",
              " '_i95': 'print_locals()',\n",
              " '_i96': 'locals()'}"
            ]
          },
          "metadata": {},
          "execution_count": 96
        }
      ]
    },
    {
      "cell_type": "code",
      "metadata": {
        "id": "e8g3hr4Ffj3x"
      },
      "source": [
        "def print_locals():\n",
        "  print(locals())"
      ],
      "execution_count": 94,
      "outputs": []
    },
    {
      "cell_type": "code",
      "source": [
        "print_locals()"
      ],
      "metadata": {
        "id": "0VQcia-w2UjY",
        "outputId": "593dcb61-efe6-44ba-a0a8-a68f277ad13d",
        "colab": {
          "base_uri": "https://localhost:8080/"
        }
      },
      "execution_count": 95,
      "outputs": [
        {
          "output_type": "stream",
          "name": "stdout",
          "text": [
            "{}\n"
          ]
        }
      ]
    },
    {
      "cell_type": "code",
      "source": [
        "globals()"
      ],
      "metadata": {
        "id": "L6ho7jhh2idL",
        "outputId": "4fd2eda5-1507-431c-f292-29cfc683b830",
        "colab": {
          "base_uri": "https://localhost:8080/"
        }
      },
      "execution_count": 97,
      "outputs": [
        {
          "output_type": "execute_result",
          "data": {
            "text/plain": [
              "{'__name__': '__main__',\n",
              " '__doc__': 'Automatically created module for IPython interactive environment',\n",
              " '__package__': None,\n",
              " '__loader__': None,\n",
              " '__spec__': None,\n",
              " '__builtin__': <module 'builtins' (built-in)>,\n",
              " '__builtins__': <module 'builtins' (built-in)>,\n",
              " '_ih': ['',\n",
              "  'min(a) # работает не всегда!',\n",
              "  \"a = [1, '2', '3', [4, 5]]\\na.append(1.2)\\na\",\n",
              "  'min(a) # работает не всегда!',\n",
              "  'max([10, 1000, 1, 2, 5000, 3])',\n",
              "  'min([\\'1\\', \\'2\\', \\'3\\', \\'abc\\', \"абв\"])',\n",
              "  'a.index([4, 5])\\n[4, 5] in a',\n",
              "  'a.index([4, 5])\\n#[4, 5] in a',\n",
              "  \"a[0] = '123'\\na\",\n",
              "  \"a.append('data science')\\na\",\n",
              "  \"s = 'one,two,three'\\ns.split(',')\",\n",
              "  '\", \".join([\\'arb\\', \\'borb\\', \\'kork\\'])',\n",
              "  'a = (1, )\\na',\n",
              "  'a = (1, 2, 3)\\na',\n",
              "  'a[0] = 7',\n",
              "  \"c = ('1', 2, 3)\\nc\",\n",
              "  'a = range(3, 17, 3)\\na',\n",
              "  'for x in a:\\n  print(type(x))',\n",
              "  \"a = {1, 2, 3, 3, 2, 4}\\na\\na.add('1')\\na\\na.add((1, 2, 3))\\na\",\n",
              "  'a = {1, 2, 3, 3, 2, 4}\\na',\n",
              "  \"a = {1, 2, 3, 3, 2, 4}\\na\\na.add('1')\\na\",\n",
              "  \"a = {1, 2, 3, 3, 2, 4}\\na\\na.add('1')\\na\\na.add((1, 2, 3))\\na\",\n",
              "  \"a = {1, 2, 3, 3, 2, 4}\\na\\na.add('1')\\na\\na.add((1, 2, 3))\\na\\na.add(1)\",\n",
              "  \"a = {1, 2, 3, 3, 2, 4}\\na\\na.add('1')\\na\\na.add((1, 2, 3))\\na\\na.add(1)\\na\",\n",
              "  'a[1]',\n",
              "  'a - {1}',\n",
              "  'a * {1, 3, 7}',\n",
              "  'a + {1, 3, 7}',\n",
              "  'a.add({1, 3, 7})',\n",
              "  'a.add(frozenset({1, 3, 7}))',\n",
              "  'a',\n",
              "  \"b = frozenset('aabc')\\nb\\nb[2] = \",\n",
              "  \"b = frozenset('aabc')\\nb\",\n",
              "  \"d = {1: 3, '1': 4, (1, 2, 3): 5, b: 10}\\nd\",\n",
              "  'd[b]',\n",
              "  \"d[frozenset('abbbbc')]\",\n",
              "  '{1} - a',\n",
              "  'dir({1, 2})',\n",
              "  'a & b',\n",
              "  \"b = frozenset('aabc1')\\nb\",\n",
              "  'a & b',\n",
              "  'a | b',\n",
              "  'help({})',\n",
              "  'help({1, 2})',\n",
              "  '0 ^ 0 = 0',\n",
              "  '# 0 ^ 0 = 0\\n# 0 ^ 1 = 1\\n# 1 ^ 0 = 1\\n# 1 ^ 1 = 0',\n",
              "  'a ^ b',\n",
              "  'a.symmetric_difference(b)',\n",
              "  'a.symmetric_difference_update(b)',\n",
              "  'a.symmetric_difference_update(b)',\n",
              "  'a.symmetric_difference_update(b)\\na',\n",
              "  'c = {[1, 2, 3]: 3}',\n",
              "  'c = {(1, 2, 3}: 3}',\n",
              "  'c = {(1, 2, 3): 3}',\n",
              "  'c = {(): 3}',\n",
              "  'for i in a:\\n  print(i)',\n",
              "  'for i, j in enumerate(a):\\n  print(i, j)\\nk, b, c = (1, 2, 3)\\nprint(k, b, c)',\n",
              "  'for i, j in enumerate(a):\\n  print(i, j)\\nk, b, c = (1, 2, 3)\\nprint(k, b, c)\\nx, y = [1, 2]\\nprint(x, y)',\n",
              "  'for i, j in enumerate(a):\\n  print(i, j)\\nk, b, c = (1, 2, 3)\\nprint(k, b, c)\\nx, y, n, m = [1, 2]\\nprint(x, y)',\n",
              "  'for i, j in enumerate(a):\\n  print(i, j)\\nk, b, c = (1, 2, 3)\\nprint(k, b, c)\\nx, y = [1, 2, 3]\\nprint(x, y)',\n",
              "  'for i, j in enumerate(a):\\n  print(i, j)\\nk, b, c = (1, 2, 3)\\nprint(k, b, c)\\n# x, y = [1, 2, 3]\\n# print(x, y)',\n",
              "  'for k, v in d.items():\\n  print(k, v)',\n",
              "  'for k, v in d:\\n  print(k, v)',\n",
              "  'for k in d:\\n  print(k)',\n",
              "  'print(d)',\n",
              "  'for i in sorted([2, 4, 3, 1, 5, 8, 7]):\\n  print(i)',\n",
              "  \"chain('ABC', 'DEF', [1, 2, 3])\",\n",
              "  \"import itertools\\nitertools.chain('ABC', 'DEF', [1, 2, 3])\",\n",
              "  \"import itertools\\nfor elem in itertools.chain('ABC', 'DEF', [1, 2, 3]):\\n  print(elem)\",\n",
              "  'a = [1, 2, 3, 4]\\nb = [1, 2, 3, 4, 5, 6]\\nfor i in zip(a * 2, b):\\n  print(i)',\n",
              "  'a = [1, 2, 3, 4]\\nb = [1, 2, 3, 4, 5, 6]\\nfor i in zip(a * 2, b, d):\\n  print(i)',\n",
              "  'a = [1, 2, 3, 4]\\nb = [1, 2, 3, 4, 5, 6]\\nfor i in zip(a * 2, b, d.items()):\\n  print(i)',\n",
              "  'a = [1, 2, 3, 4]\\nb = [1, 2, 3, 4, 5, 6]\\nfor i, j, k in zip(a * 2, b, d.items()):\\n  print(i)',\n",
              "  'a = [1, 2, 3, 4]\\nb = [1, 2, 3, 4, 5, 6]\\nfor i, j, k in zip(a * 2, b, d.items()):\\n  print(i, j, k_',\n",
              "  'a = [1, 2, 3, 4]\\nb = [1, 2, 3, 4, 5, 6]\\nfor i, j, k in zip(a * 2, b, d.items()):\\n  print(i, j, k)',\n",
              "  'for i in sorted(set(reversed(l))):\\n  print(i)',\n",
              "  'l = [1, 2, 3, 4, 5, 5]\\nfor i in reversed(l):\\n  print(i)',\n",
              "  'for i in sorted(set(reversed(l))):\\n  print(i)',\n",
              "  'def plus(a, b):\\n  return a + b\\n\\nprint(plus)\\nplus',\n",
              "  'dir(plus)',\n",
              "  'plus(2, 3)',\n",
              "  \"plus('1', '2')\",\n",
              "  \"plus(1, '2')\",\n",
              "  'plus.__call__(1, 2)',\n",
              "  'plus.__call__.__call__(1, 2)',\n",
              "  'plus.__call__.__call__.__call__(1, 2)',\n",
              "  'help(plus)',\n",
              "  '```This is function to summarize to elements```\\ndef plus(a, b):\\n  return a + b\\n\\nprint(plus)\\nplus',\n",
              "  'def plus(a, b):\\n  ```This is function to summarize to elements```\\n  return a + b\\n\\nprint(plus)\\nplus',\n",
              "  \"def plus(a, b):\\n  '''This is function to summarize to elements'''\\n  return a + b\\n\\nprint(plus)\\nplus\",\n",
              "  'help(plus)',\n",
              "  \"def plus(a, b):\\n  '''This is function to summarize two elements'''\\n  return a + b\\n\\nprint(plus)\\nplus\",\n",
              "  'help(plus)',\n",
              "  'locals()',\n",
              "  'def print_locals():\\n  print(locals())',\n",
              "  'print_locals()',\n",
              "  'locals()',\n",
              "  'globals()'],\n",
              " '_oh': {2: ['123', '2', '3', [4, 5], 1.2, 'data science'],\n",
              "  4: 5000,\n",
              "  5: '1',\n",
              "  6: True,\n",
              "  7: 3,\n",
              "  8: ['123', '2', '3', [4, 5], 1.2, 'data science'],\n",
              "  9: ['123', '2', '3', [4, 5], 1.2, 'data science'],\n",
              "  10: ['one', 'two', 'three'],\n",
              "  11: 'arb, borb, kork',\n",
              "  12: (1,),\n",
              "  13: (1, 2, 3),\n",
              "  15: ('1', 2, 3),\n",
              "  16: range(3, 17, 3),\n",
              "  18: {(1, 2, 3), 1, '1', 2, 3, 4},\n",
              "  19: {1, 2, 3, 4},\n",
              "  20: {1, '1', 2, 3, 4},\n",
              "  21: {(1, 2, 3), 1, '1', 2, 3, 4},\n",
              "  23: {(1, 2, 3), 1, 2, 3, 4, 'a', 'b', 'c', frozenset({1, 3, 7})},\n",
              "  25: {(1, 2, 3), '1', 2, 3, 4},\n",
              "  30: {(1, 2, 3), 1, 2, 3, 4, 'a', 'b', 'c', frozenset({1, 3, 7})},\n",
              "  32: frozenset({'a', 'b', 'c'}),\n",
              "  33: {1: 3, '1': 4, (1, 2, 3): 5, frozenset({'a', 'b', 'c'}): 10},\n",
              "  34: 10,\n",
              "  35: 10,\n",
              "  36: set(),\n",
              "  37: ['__and__',\n",
              "   '__class__',\n",
              "   '__class_getitem__',\n",
              "   '__contains__',\n",
              "   '__delattr__',\n",
              "   '__dir__',\n",
              "   '__doc__',\n",
              "   '__eq__',\n",
              "   '__format__',\n",
              "   '__ge__',\n",
              "   '__getattribute__',\n",
              "   '__gt__',\n",
              "   '__hash__',\n",
              "   '__iand__',\n",
              "   '__init__',\n",
              "   '__init_subclass__',\n",
              "   '__ior__',\n",
              "   '__isub__',\n",
              "   '__iter__',\n",
              "   '__ixor__',\n",
              "   '__le__',\n",
              "   '__len__',\n",
              "   '__lt__',\n",
              "   '__ne__',\n",
              "   '__new__',\n",
              "   '__or__',\n",
              "   '__rand__',\n",
              "   '__reduce__',\n",
              "   '__reduce_ex__',\n",
              "   '__repr__',\n",
              "   '__ror__',\n",
              "   '__rsub__',\n",
              "   '__rxor__',\n",
              "   '__setattr__',\n",
              "   '__sizeof__',\n",
              "   '__str__',\n",
              "   '__sub__',\n",
              "   '__subclasshook__',\n",
              "   '__xor__',\n",
              "   'add',\n",
              "   'clear',\n",
              "   'copy',\n",
              "   'difference',\n",
              "   'difference_update',\n",
              "   'discard',\n",
              "   'intersection',\n",
              "   'intersection_update',\n",
              "   'isdisjoint',\n",
              "   'issubset',\n",
              "   'issuperset',\n",
              "   'pop',\n",
              "   'remove',\n",
              "   'symmetric_difference',\n",
              "   'symmetric_difference_update',\n",
              "   'union',\n",
              "   'update'],\n",
              "  38: set(),\n",
              "  39: frozenset({'1', 'a', 'b', 'c'}),\n",
              "  40: {'1'},\n",
              "  41: {(1, 2, 3), 1, '1', 2, 3, 4, 'a', 'b', 'c', frozenset({1, 3, 7})},\n",
              "  46: {(1, 2, 3), 1, 2, 3, 4, 'a', 'b', 'c', frozenset({1, 3, 7})},\n",
              "  47: {(1, 2, 3), 1, 2, 3, 4, 'a', 'b', 'c', frozenset({1, 3, 7})},\n",
              "  50: {(1, 2, 3), 1, 2, 3, 4, 'a', 'b', 'c', frozenset({1, 3, 7})},\n",
              "  67: <itertools.chain at 0x799f0a4e1db0>,\n",
              "  78: <function __main__.plus(a, b)>,\n",
              "  79: ['__annotations__',\n",
              "   '__builtins__',\n",
              "   '__call__',\n",
              "   '__class__',\n",
              "   '__closure__',\n",
              "   '__code__',\n",
              "   '__defaults__',\n",
              "   '__delattr__',\n",
              "   '__dict__',\n",
              "   '__dir__',\n",
              "   '__doc__',\n",
              "   '__eq__',\n",
              "   '__format__',\n",
              "   '__ge__',\n",
              "   '__get__',\n",
              "   '__getattribute__',\n",
              "   '__globals__',\n",
              "   '__gt__',\n",
              "   '__hash__',\n",
              "   '__init__',\n",
              "   '__init_subclass__',\n",
              "   '__kwdefaults__',\n",
              "   '__le__',\n",
              "   '__lt__',\n",
              "   '__module__',\n",
              "   '__name__',\n",
              "   '__ne__',\n",
              "   '__new__',\n",
              "   '__qualname__',\n",
              "   '__reduce__',\n",
              "   '__reduce_ex__',\n",
              "   '__repr__',\n",
              "   '__setattr__',\n",
              "   '__sizeof__',\n",
              "   '__str__',\n",
              "   '__subclasshook__'],\n",
              "  80: 5,\n",
              "  81: '12',\n",
              "  83: 3,\n",
              "  84: 3,\n",
              "  85: 3,\n",
              "  89: <function __main__.plus(a, b)>,\n",
              "  91: <function __main__.plus(a, b)>,\n",
              "  93: {...},\n",
              "  96: {...}},\n",
              " '_dh': ['/content'],\n",
              " 'In': ['',\n",
              "  'min(a) # работает не всегда!',\n",
              "  \"a = [1, '2', '3', [4, 5]]\\na.append(1.2)\\na\",\n",
              "  'min(a) # работает не всегда!',\n",
              "  'max([10, 1000, 1, 2, 5000, 3])',\n",
              "  'min([\\'1\\', \\'2\\', \\'3\\', \\'abc\\', \"абв\"])',\n",
              "  'a.index([4, 5])\\n[4, 5] in a',\n",
              "  'a.index([4, 5])\\n#[4, 5] in a',\n",
              "  \"a[0] = '123'\\na\",\n",
              "  \"a.append('data science')\\na\",\n",
              "  \"s = 'one,two,three'\\ns.split(',')\",\n",
              "  '\", \".join([\\'arb\\', \\'borb\\', \\'kork\\'])',\n",
              "  'a = (1, )\\na',\n",
              "  'a = (1, 2, 3)\\na',\n",
              "  'a[0] = 7',\n",
              "  \"c = ('1', 2, 3)\\nc\",\n",
              "  'a = range(3, 17, 3)\\na',\n",
              "  'for x in a:\\n  print(type(x))',\n",
              "  \"a = {1, 2, 3, 3, 2, 4}\\na\\na.add('1')\\na\\na.add((1, 2, 3))\\na\",\n",
              "  'a = {1, 2, 3, 3, 2, 4}\\na',\n",
              "  \"a = {1, 2, 3, 3, 2, 4}\\na\\na.add('1')\\na\",\n",
              "  \"a = {1, 2, 3, 3, 2, 4}\\na\\na.add('1')\\na\\na.add((1, 2, 3))\\na\",\n",
              "  \"a = {1, 2, 3, 3, 2, 4}\\na\\na.add('1')\\na\\na.add((1, 2, 3))\\na\\na.add(1)\",\n",
              "  \"a = {1, 2, 3, 3, 2, 4}\\na\\na.add('1')\\na\\na.add((1, 2, 3))\\na\\na.add(1)\\na\",\n",
              "  'a[1]',\n",
              "  'a - {1}',\n",
              "  'a * {1, 3, 7}',\n",
              "  'a + {1, 3, 7}',\n",
              "  'a.add({1, 3, 7})',\n",
              "  'a.add(frozenset({1, 3, 7}))',\n",
              "  'a',\n",
              "  \"b = frozenset('aabc')\\nb\\nb[2] = \",\n",
              "  \"b = frozenset('aabc')\\nb\",\n",
              "  \"d = {1: 3, '1': 4, (1, 2, 3): 5, b: 10}\\nd\",\n",
              "  'd[b]',\n",
              "  \"d[frozenset('abbbbc')]\",\n",
              "  '{1} - a',\n",
              "  'dir({1, 2})',\n",
              "  'a & b',\n",
              "  \"b = frozenset('aabc1')\\nb\",\n",
              "  'a & b',\n",
              "  'a | b',\n",
              "  'help({})',\n",
              "  'help({1, 2})',\n",
              "  '0 ^ 0 = 0',\n",
              "  '# 0 ^ 0 = 0\\n# 0 ^ 1 = 1\\n# 1 ^ 0 = 1\\n# 1 ^ 1 = 0',\n",
              "  'a ^ b',\n",
              "  'a.symmetric_difference(b)',\n",
              "  'a.symmetric_difference_update(b)',\n",
              "  'a.symmetric_difference_update(b)',\n",
              "  'a.symmetric_difference_update(b)\\na',\n",
              "  'c = {[1, 2, 3]: 3}',\n",
              "  'c = {(1, 2, 3}: 3}',\n",
              "  'c = {(1, 2, 3): 3}',\n",
              "  'c = {(): 3}',\n",
              "  'for i in a:\\n  print(i)',\n",
              "  'for i, j in enumerate(a):\\n  print(i, j)\\nk, b, c = (1, 2, 3)\\nprint(k, b, c)',\n",
              "  'for i, j in enumerate(a):\\n  print(i, j)\\nk, b, c = (1, 2, 3)\\nprint(k, b, c)\\nx, y = [1, 2]\\nprint(x, y)',\n",
              "  'for i, j in enumerate(a):\\n  print(i, j)\\nk, b, c = (1, 2, 3)\\nprint(k, b, c)\\nx, y, n, m = [1, 2]\\nprint(x, y)',\n",
              "  'for i, j in enumerate(a):\\n  print(i, j)\\nk, b, c = (1, 2, 3)\\nprint(k, b, c)\\nx, y = [1, 2, 3]\\nprint(x, y)',\n",
              "  'for i, j in enumerate(a):\\n  print(i, j)\\nk, b, c = (1, 2, 3)\\nprint(k, b, c)\\n# x, y = [1, 2, 3]\\n# print(x, y)',\n",
              "  'for k, v in d.items():\\n  print(k, v)',\n",
              "  'for k, v in d:\\n  print(k, v)',\n",
              "  'for k in d:\\n  print(k)',\n",
              "  'print(d)',\n",
              "  'for i in sorted([2, 4, 3, 1, 5, 8, 7]):\\n  print(i)',\n",
              "  \"chain('ABC', 'DEF', [1, 2, 3])\",\n",
              "  \"import itertools\\nitertools.chain('ABC', 'DEF', [1, 2, 3])\",\n",
              "  \"import itertools\\nfor elem in itertools.chain('ABC', 'DEF', [1, 2, 3]):\\n  print(elem)\",\n",
              "  'a = [1, 2, 3, 4]\\nb = [1, 2, 3, 4, 5, 6]\\nfor i in zip(a * 2, b):\\n  print(i)',\n",
              "  'a = [1, 2, 3, 4]\\nb = [1, 2, 3, 4, 5, 6]\\nfor i in zip(a * 2, b, d):\\n  print(i)',\n",
              "  'a = [1, 2, 3, 4]\\nb = [1, 2, 3, 4, 5, 6]\\nfor i in zip(a * 2, b, d.items()):\\n  print(i)',\n",
              "  'a = [1, 2, 3, 4]\\nb = [1, 2, 3, 4, 5, 6]\\nfor i, j, k in zip(a * 2, b, d.items()):\\n  print(i)',\n",
              "  'a = [1, 2, 3, 4]\\nb = [1, 2, 3, 4, 5, 6]\\nfor i, j, k in zip(a * 2, b, d.items()):\\n  print(i, j, k_',\n",
              "  'a = [1, 2, 3, 4]\\nb = [1, 2, 3, 4, 5, 6]\\nfor i, j, k in zip(a * 2, b, d.items()):\\n  print(i, j, k)',\n",
              "  'for i in sorted(set(reversed(l))):\\n  print(i)',\n",
              "  'l = [1, 2, 3, 4, 5, 5]\\nfor i in reversed(l):\\n  print(i)',\n",
              "  'for i in sorted(set(reversed(l))):\\n  print(i)',\n",
              "  'def plus(a, b):\\n  return a + b\\n\\nprint(plus)\\nplus',\n",
              "  'dir(plus)',\n",
              "  'plus(2, 3)',\n",
              "  \"plus('1', '2')\",\n",
              "  \"plus(1, '2')\",\n",
              "  'plus.__call__(1, 2)',\n",
              "  'plus.__call__.__call__(1, 2)',\n",
              "  'plus.__call__.__call__.__call__(1, 2)',\n",
              "  'help(plus)',\n",
              "  '```This is function to summarize to elements```\\ndef plus(a, b):\\n  return a + b\\n\\nprint(plus)\\nplus',\n",
              "  'def plus(a, b):\\n  ```This is function to summarize to elements```\\n  return a + b\\n\\nprint(plus)\\nplus',\n",
              "  \"def plus(a, b):\\n  '''This is function to summarize to elements'''\\n  return a + b\\n\\nprint(plus)\\nplus\",\n",
              "  'help(plus)',\n",
              "  \"def plus(a, b):\\n  '''This is function to summarize two elements'''\\n  return a + b\\n\\nprint(plus)\\nplus\",\n",
              "  'help(plus)',\n",
              "  'locals()',\n",
              "  'def print_locals():\\n  print(locals())',\n",
              "  'print_locals()',\n",
              "  'locals()',\n",
              "  'globals()'],\n",
              " 'Out': {2: ['123', '2', '3', [4, 5], 1.2, 'data science'],\n",
              "  4: 5000,\n",
              "  5: '1',\n",
              "  6: True,\n",
              "  7: 3,\n",
              "  8: ['123', '2', '3', [4, 5], 1.2, 'data science'],\n",
              "  9: ['123', '2', '3', [4, 5], 1.2, 'data science'],\n",
              "  10: ['one', 'two', 'three'],\n",
              "  11: 'arb, borb, kork',\n",
              "  12: (1,),\n",
              "  13: (1, 2, 3),\n",
              "  15: ('1', 2, 3),\n",
              "  16: range(3, 17, 3),\n",
              "  18: {(1, 2, 3), 1, '1', 2, 3, 4},\n",
              "  19: {1, 2, 3, 4},\n",
              "  20: {1, '1', 2, 3, 4},\n",
              "  21: {(1, 2, 3), 1, '1', 2, 3, 4},\n",
              "  23: {(1, 2, 3), 1, 2, 3, 4, 'a', 'b', 'c', frozenset({1, 3, 7})},\n",
              "  25: {(1, 2, 3), '1', 2, 3, 4},\n",
              "  30: {(1, 2, 3), 1, 2, 3, 4, 'a', 'b', 'c', frozenset({1, 3, 7})},\n",
              "  32: frozenset({'a', 'b', 'c'}),\n",
              "  33: {1: 3, '1': 4, (1, 2, 3): 5, frozenset({'a', 'b', 'c'}): 10},\n",
              "  34: 10,\n",
              "  35: 10,\n",
              "  36: set(),\n",
              "  37: ['__and__',\n",
              "   '__class__',\n",
              "   '__class_getitem__',\n",
              "   '__contains__',\n",
              "   '__delattr__',\n",
              "   '__dir__',\n",
              "   '__doc__',\n",
              "   '__eq__',\n",
              "   '__format__',\n",
              "   '__ge__',\n",
              "   '__getattribute__',\n",
              "   '__gt__',\n",
              "   '__hash__',\n",
              "   '__iand__',\n",
              "   '__init__',\n",
              "   '__init_subclass__',\n",
              "   '__ior__',\n",
              "   '__isub__',\n",
              "   '__iter__',\n",
              "   '__ixor__',\n",
              "   '__le__',\n",
              "   '__len__',\n",
              "   '__lt__',\n",
              "   '__ne__',\n",
              "   '__new__',\n",
              "   '__or__',\n",
              "   '__rand__',\n",
              "   '__reduce__',\n",
              "   '__reduce_ex__',\n",
              "   '__repr__',\n",
              "   '__ror__',\n",
              "   '__rsub__',\n",
              "   '__rxor__',\n",
              "   '__setattr__',\n",
              "   '__sizeof__',\n",
              "   '__str__',\n",
              "   '__sub__',\n",
              "   '__subclasshook__',\n",
              "   '__xor__',\n",
              "   'add',\n",
              "   'clear',\n",
              "   'copy',\n",
              "   'difference',\n",
              "   'difference_update',\n",
              "   'discard',\n",
              "   'intersection',\n",
              "   'intersection_update',\n",
              "   'isdisjoint',\n",
              "   'issubset',\n",
              "   'issuperset',\n",
              "   'pop',\n",
              "   'remove',\n",
              "   'symmetric_difference',\n",
              "   'symmetric_difference_update',\n",
              "   'union',\n",
              "   'update'],\n",
              "  38: set(),\n",
              "  39: frozenset({'1', 'a', 'b', 'c'}),\n",
              "  40: {'1'},\n",
              "  41: {(1, 2, 3), 1, '1', 2, 3, 4, 'a', 'b', 'c', frozenset({1, 3, 7})},\n",
              "  46: {(1, 2, 3), 1, 2, 3, 4, 'a', 'b', 'c', frozenset({1, 3, 7})},\n",
              "  47: {(1, 2, 3), 1, 2, 3, 4, 'a', 'b', 'c', frozenset({1, 3, 7})},\n",
              "  50: {(1, 2, 3), 1, 2, 3, 4, 'a', 'b', 'c', frozenset({1, 3, 7})},\n",
              "  67: <itertools.chain at 0x799f0a4e1db0>,\n",
              "  78: <function __main__.plus(a, b)>,\n",
              "  79: ['__annotations__',\n",
              "   '__builtins__',\n",
              "   '__call__',\n",
              "   '__class__',\n",
              "   '__closure__',\n",
              "   '__code__',\n",
              "   '__defaults__',\n",
              "   '__delattr__',\n",
              "   '__dict__',\n",
              "   '__dir__',\n",
              "   '__doc__',\n",
              "   '__eq__',\n",
              "   '__format__',\n",
              "   '__ge__',\n",
              "   '__get__',\n",
              "   '__getattribute__',\n",
              "   '__globals__',\n",
              "   '__gt__',\n",
              "   '__hash__',\n",
              "   '__init__',\n",
              "   '__init_subclass__',\n",
              "   '__kwdefaults__',\n",
              "   '__le__',\n",
              "   '__lt__',\n",
              "   '__module__',\n",
              "   '__name__',\n",
              "   '__ne__',\n",
              "   '__new__',\n",
              "   '__qualname__',\n",
              "   '__reduce__',\n",
              "   '__reduce_ex__',\n",
              "   '__repr__',\n",
              "   '__setattr__',\n",
              "   '__sizeof__',\n",
              "   '__str__',\n",
              "   '__subclasshook__'],\n",
              "  80: 5,\n",
              "  81: '12',\n",
              "  83: 3,\n",
              "  84: 3,\n",
              "  85: 3,\n",
              "  89: <function __main__.plus(a, b)>,\n",
              "  91: <function __main__.plus(a, b)>,\n",
              "  93: {...},\n",
              "  96: {...}},\n",
              " 'get_ipython': <bound method InteractiveShell.get_ipython of <google.colab._shell.Shell object at 0x799f4dbb9ff0>>,\n",
              " 'exit': <IPython.core.autocall.ZMQExitAutocall at 0x799f4dbba590>,\n",
              " 'quit': <IPython.core.autocall.ZMQExitAutocall at 0x799f4dbba590>,\n",
              " '_': {...},\n",
              " '__': {...},\n",
              " '___': <function __main__.plus(a, b)>,\n",
              " '_i': 'locals()',\n",
              " '_ii': 'print_locals()',\n",
              " '_iii': 'def print_locals():\\n  print(locals())',\n",
              " '_i1': 'min(a) # работает не всегда!',\n",
              " '_i2': \"a = [1, '2', '3', [4, 5]]\\na.append(1.2)\\na\",\n",
              " 'a': [1, 2, 3, 4],\n",
              " '_2': ['123', '2', '3', [4, 5], 1.2, 'data science'],\n",
              " '_i3': 'min(a) # работает не всегда!',\n",
              " '_i4': 'max([10, 1000, 1, 2, 5000, 3])',\n",
              " '_4': 5000,\n",
              " '_i5': 'min([\\'1\\', \\'2\\', \\'3\\', \\'abc\\', \"абв\"])',\n",
              " '_5': '1',\n",
              " '_i6': 'a.index([4, 5])\\n[4, 5] in a',\n",
              " '_6': True,\n",
              " '_i7': 'a.index([4, 5])\\n#[4, 5] in a',\n",
              " '_7': 3,\n",
              " '_i8': \"a[0] = '123'\\na\",\n",
              " '_8': ['123', '2', '3', [4, 5], 1.2, 'data science'],\n",
              " '_i9': \"a.append('data science')\\na\",\n",
              " '_9': ['123', '2', '3', [4, 5], 1.2, 'data science'],\n",
              " '_i10': \"s = 'one,two,three'\\ns.split(',')\",\n",
              " 's': 'one,two,three',\n",
              " '_10': ['one', 'two', 'three'],\n",
              " '_i11': '\", \".join([\\'arb\\', \\'borb\\', \\'kork\\'])',\n",
              " '_11': 'arb, borb, kork',\n",
              " '_i12': 'a = (1, )\\na',\n",
              " '_12': (1,),\n",
              " '_i13': 'a = (1, 2, 3)\\na',\n",
              " '_13': (1, 2, 3),\n",
              " '_i14': 'a[0] = 7',\n",
              " '_i15': \"c = ('1', 2, 3)\\nc\",\n",
              " 'c': 3,\n",
              " '_15': ('1', 2, 3),\n",
              " '_i16': 'a = range(3, 17, 3)\\na',\n",
              " '_16': range(3, 17, 3),\n",
              " '_i17': 'for x in a:\\n  print(type(x))',\n",
              " 'x': 1,\n",
              " '_i18': \"a = {1, 2, 3, 3, 2, 4}\\na\\na.add('1')\\na\\na.add((1, 2, 3))\\na\",\n",
              " '_18': {(1, 2, 3), 1, '1', 2, 3, 4},\n",
              " '_i19': 'a = {1, 2, 3, 3, 2, 4}\\na',\n",
              " '_19': {1, 2, 3, 4},\n",
              " '_i20': \"a = {1, 2, 3, 3, 2, 4}\\na\\na.add('1')\\na\",\n",
              " '_20': {1, '1', 2, 3, 4},\n",
              " '_i21': \"a = {1, 2, 3, 3, 2, 4}\\na\\na.add('1')\\na\\na.add((1, 2, 3))\\na\",\n",
              " '_21': {(1, 2, 3), 1, '1', 2, 3, 4},\n",
              " '_i22': \"a = {1, 2, 3, 3, 2, 4}\\na\\na.add('1')\\na\\na.add((1, 2, 3))\\na\\na.add(1)\",\n",
              " '_i23': \"a = {1, 2, 3, 3, 2, 4}\\na\\na.add('1')\\na\\na.add((1, 2, 3))\\na\\na.add(1)\\na\",\n",
              " '_23': {(1, 2, 3), 1, 2, 3, 4, 'a', 'b', 'c', frozenset({1, 3, 7})},\n",
              " '_i24': 'a[1]',\n",
              " '_i25': 'a - {1}',\n",
              " '_25': {(1, 2, 3), '1', 2, 3, 4},\n",
              " '_i26': 'a * {1, 3, 7}',\n",
              " '_i27': 'a + {1, 3, 7}',\n",
              " '_i28': 'a.add({1, 3, 7})',\n",
              " '_i29': 'a.add(frozenset({1, 3, 7}))',\n",
              " '_i30': 'a',\n",
              " '_30': {(1, 2, 3), 1, 2, 3, 4, 'a', 'b', 'c', frozenset({1, 3, 7})},\n",
              " '_i31': \"b = frozenset('aabc')\\nb\\nb[2] = \",\n",
              " '_i32': \"b = frozenset('aabc')\\nb\",\n",
              " 'b': [1, 2, 3, 4, 5, 6],\n",
              " '_32': frozenset({'a', 'b', 'c'}),\n",
              " '_i33': \"d = {1: 3, '1': 4, (1, 2, 3): 5, b: 10}\\nd\",\n",
              " 'd': {1: 3, '1': 4, (1, 2, 3): 5, frozenset({'a', 'b', 'c'}): 10},\n",
              " '_33': {1: 3, '1': 4, (1, 2, 3): 5, frozenset({'a', 'b', 'c'}): 10},\n",
              " '_i34': 'd[b]',\n",
              " '_34': 10,\n",
              " '_i35': \"d[frozenset('abbbbc')]\",\n",
              " '_35': 10,\n",
              " '_i36': '{1} - a',\n",
              " '_36': set(),\n",
              " '_i37': 'dir({1, 2})',\n",
              " '_37': ['__and__',\n",
              "  '__class__',\n",
              "  '__class_getitem__',\n",
              "  '__contains__',\n",
              "  '__delattr__',\n",
              "  '__dir__',\n",
              "  '__doc__',\n",
              "  '__eq__',\n",
              "  '__format__',\n",
              "  '__ge__',\n",
              "  '__getattribute__',\n",
              "  '__gt__',\n",
              "  '__hash__',\n",
              "  '__iand__',\n",
              "  '__init__',\n",
              "  '__init_subclass__',\n",
              "  '__ior__',\n",
              "  '__isub__',\n",
              "  '__iter__',\n",
              "  '__ixor__',\n",
              "  '__le__',\n",
              "  '__len__',\n",
              "  '__lt__',\n",
              "  '__ne__',\n",
              "  '__new__',\n",
              "  '__or__',\n",
              "  '__rand__',\n",
              "  '__reduce__',\n",
              "  '__reduce_ex__',\n",
              "  '__repr__',\n",
              "  '__ror__',\n",
              "  '__rsub__',\n",
              "  '__rxor__',\n",
              "  '__setattr__',\n",
              "  '__sizeof__',\n",
              "  '__str__',\n",
              "  '__sub__',\n",
              "  '__subclasshook__',\n",
              "  '__xor__',\n",
              "  'add',\n",
              "  'clear',\n",
              "  'copy',\n",
              "  'difference',\n",
              "  'difference_update',\n",
              "  'discard',\n",
              "  'intersection',\n",
              "  'intersection_update',\n",
              "  'isdisjoint',\n",
              "  'issubset',\n",
              "  'issuperset',\n",
              "  'pop',\n",
              "  'remove',\n",
              "  'symmetric_difference',\n",
              "  'symmetric_difference_update',\n",
              "  'union',\n",
              "  'update'],\n",
              " '_i38': 'a & b',\n",
              " '_38': set(),\n",
              " '_i39': \"b = frozenset('aabc1')\\nb\",\n",
              " '_39': frozenset({'1', 'a', 'b', 'c'}),\n",
              " '_i40': 'a & b',\n",
              " '_40': {'1'},\n",
              " '_i41': 'a | b',\n",
              " '_41': {(1, 2, 3), 1, '1', 2, 3, 4, 'a', 'b', 'c', frozenset({1, 3, 7})},\n",
              " '_i42': 'help({})',\n",
              " '_i43': 'help({1, 2})',\n",
              " '_i44': '0 ^ 0 = 0',\n",
              " '_i45': '# 0 ^ 0 = 0\\n# 0 ^ 1 = 1\\n# 1 ^ 0 = 1\\n# 1 ^ 1 = 0',\n",
              " '_i46': 'a ^ b',\n",
              " '_46': {(1, 2, 3), 1, 2, 3, 4, 'a', 'b', 'c', frozenset({1, 3, 7})},\n",
              " '_i47': 'a.symmetric_difference(b)',\n",
              " '_47': {(1, 2, 3), 1, 2, 3, 4, 'a', 'b', 'c', frozenset({1, 3, 7})},\n",
              " '_i48': 'a.symmetric_difference_update(b)',\n",
              " '_i49': 'a.symmetric_difference_update(b)',\n",
              " '_i50': 'a.symmetric_difference_update(b)\\na',\n",
              " '_50': {(1, 2, 3), 1, 2, 3, 4, 'a', 'b', 'c', frozenset({1, 3, 7})},\n",
              " '_i51': 'c = {[1, 2, 3]: 3}',\n",
              " '_i52': 'c = {(1, 2, 3}: 3}',\n",
              " '_i53': 'c = {(1, 2, 3): 3}',\n",
              " '_i54': 'c = {(): 3}',\n",
              " '_i55': 'for i in a:\\n  print(i)',\n",
              " 'i': 5,\n",
              " '_i56': 'for i, j in enumerate(a):\\n  print(i, j)\\nk, b, c = (1, 2, 3)\\nprint(k, b, c)',\n",
              " 'j': 4,\n",
              " 'k': (frozenset({'a', 'b', 'c'}), 10),\n",
              " '_i57': 'for i, j in enumerate(a):\\n  print(i, j)\\nk, b, c = (1, 2, 3)\\nprint(k, b, c)\\nx, y = [1, 2]\\nprint(x, y)',\n",
              " 'y': 2,\n",
              " '_i58': 'for i, j in enumerate(a):\\n  print(i, j)\\nk, b, c = (1, 2, 3)\\nprint(k, b, c)\\nx, y, n, m = [1, 2]\\nprint(x, y)',\n",
              " '_i59': 'for i, j in enumerate(a):\\n  print(i, j)\\nk, b, c = (1, 2, 3)\\nprint(k, b, c)\\nx, y = [1, 2, 3]\\nprint(x, y)',\n",
              " '_i60': 'for i, j in enumerate(a):\\n  print(i, j)\\nk, b, c = (1, 2, 3)\\nprint(k, b, c)\\n# x, y = [1, 2, 3]\\n# print(x, y)',\n",
              " '_i61': 'for k, v in d.items():\\n  print(k, v)',\n",
              " 'v': 10,\n",
              " '_i62': 'for k, v in d:\\n  print(k, v)',\n",
              " '_i63': 'for k in d:\\n  print(k)',\n",
              " '_i64': 'print(d)',\n",
              " '_i65': 'for i in sorted([2, 4, 3, 1, 5, 8, 7]):\\n  print(i)',\n",
              " '_i66': \"chain('ABC', 'DEF', [1, 2, 3])\",\n",
              " '_i67': \"import itertools\\nitertools.chain('ABC', 'DEF', [1, 2, 3])\",\n",
              " 'itertools': <module 'itertools' (built-in)>,\n",
              " '_67': <itertools.chain at 0x799f0a4e1db0>,\n",
              " '_i68': \"import itertools\\nfor elem in itertools.chain('ABC', 'DEF', [1, 2, 3]):\\n  print(elem)\",\n",
              " 'elem': 3,\n",
              " '_i69': 'a = [1, 2, 3, 4]\\nb = [1, 2, 3, 4, 5, 6]\\nfor i in zip(a * 2, b):\\n  print(i)',\n",
              " '_i70': 'a = [1, 2, 3, 4]\\nb = [1, 2, 3, 4, 5, 6]\\nfor i in zip(a * 2, b, d):\\n  print(i)',\n",
              " '_i71': 'a = [1, 2, 3, 4]\\nb = [1, 2, 3, 4, 5, 6]\\nfor i in zip(a * 2, b, d.items()):\\n  print(i)',\n",
              " '_i72': 'a = [1, 2, 3, 4]\\nb = [1, 2, 3, 4, 5, 6]\\nfor i, j, k in zip(a * 2, b, d.items()):\\n  print(i)',\n",
              " '_i73': 'a = [1, 2, 3, 4]\\nb = [1, 2, 3, 4, 5, 6]\\nfor i, j, k in zip(a * 2, b, d.items()):\\n  print(i, j, k_',\n",
              " '_i74': 'a = [1, 2, 3, 4]\\nb = [1, 2, 3, 4, 5, 6]\\nfor i, j, k in zip(a * 2, b, d.items()):\\n  print(i, j, k)',\n",
              " '_i75': 'for i in sorted(set(reversed(l))):\\n  print(i)',\n",
              " '_i76': 'l = [1, 2, 3, 4, 5, 5]\\nfor i in reversed(l):\\n  print(i)',\n",
              " 'l': [1, 2, 3, 4, 5, 5],\n",
              " '_i77': 'for i in sorted(set(reversed(l))):\\n  print(i)',\n",
              " '_i78': 'def plus(a, b):\\n  return a + b\\n\\nprint(plus)\\nplus',\n",
              " 'plus': <function __main__.plus(a, b)>,\n",
              " '_78': <function __main__.plus(a, b)>,\n",
              " '_i79': 'dir(plus)',\n",
              " '_79': ['__annotations__',\n",
              "  '__builtins__',\n",
              "  '__call__',\n",
              "  '__class__',\n",
              "  '__closure__',\n",
              "  '__code__',\n",
              "  '__defaults__',\n",
              "  '__delattr__',\n",
              "  '__dict__',\n",
              "  '__dir__',\n",
              "  '__doc__',\n",
              "  '__eq__',\n",
              "  '__format__',\n",
              "  '__ge__',\n",
              "  '__get__',\n",
              "  '__getattribute__',\n",
              "  '__globals__',\n",
              "  '__gt__',\n",
              "  '__hash__',\n",
              "  '__init__',\n",
              "  '__init_subclass__',\n",
              "  '__kwdefaults__',\n",
              "  '__le__',\n",
              "  '__lt__',\n",
              "  '__module__',\n",
              "  '__name__',\n",
              "  '__ne__',\n",
              "  '__new__',\n",
              "  '__qualname__',\n",
              "  '__reduce__',\n",
              "  '__reduce_ex__',\n",
              "  '__repr__',\n",
              "  '__setattr__',\n",
              "  '__sizeof__',\n",
              "  '__str__',\n",
              "  '__subclasshook__'],\n",
              " '_i80': 'plus(2, 3)',\n",
              " '_80': 5,\n",
              " '_i81': \"plus('1', '2')\",\n",
              " '_81': '12',\n",
              " '_i82': \"plus(1, '2')\",\n",
              " '_i83': 'plus.__call__(1, 2)',\n",
              " '_83': 3,\n",
              " '_i84': 'plus.__call__.__call__(1, 2)',\n",
              " '_84': 3,\n",
              " '_i85': 'plus.__call__.__call__.__call__(1, 2)',\n",
              " '_85': 3,\n",
              " '_i86': 'help(plus)',\n",
              " '_i87': '```This is function to summarize to elements```\\ndef plus(a, b):\\n  return a + b\\n\\nprint(plus)\\nplus',\n",
              " '_i88': 'def plus(a, b):\\n  ```This is function to summarize to elements```\\n  return a + b\\n\\nprint(plus)\\nplus',\n",
              " '_i89': \"def plus(a, b):\\n  '''This is function to summarize to elements'''\\n  return a + b\\n\\nprint(plus)\\nplus\",\n",
              " '_89': <function __main__.plus(a, b)>,\n",
              " '_i90': 'help(plus)',\n",
              " '_i91': \"def plus(a, b):\\n  '''This is function to summarize two elements'''\\n  return a + b\\n\\nprint(plus)\\nplus\",\n",
              " '_91': <function __main__.plus(a, b)>,\n",
              " '_i92': 'help(plus)',\n",
              " '_i93': 'locals()',\n",
              " '_93': {...},\n",
              " '_i94': 'def print_locals():\\n  print(locals())',\n",
              " 'print_locals': <function __main__.print_locals()>,\n",
              " '_i95': 'print_locals()',\n",
              " '_i96': 'locals()',\n",
              " '_96': {...},\n",
              " '_i97': 'globals()'}"
            ]
          },
          "metadata": {},
          "execution_count": 97
        }
      ]
    },
    {
      "cell_type": "code",
      "source": [
        "def print_globals():\n",
        "  print(globals())"
      ],
      "metadata": {
        "id": "5St3kqcH2lKm"
      },
      "execution_count": 100,
      "outputs": []
    },
    {
      "cell_type": "code",
      "source": [
        "print_globals()"
      ],
      "metadata": {
        "id": "blAKdt9k2r3o",
        "outputId": "7ef205c4-9138-4287-b2c4-4fbb6fd073f9",
        "colab": {
          "base_uri": "https://localhost:8080/"
        }
      },
      "execution_count": 101,
      "outputs": [
        {
          "output_type": "stream",
          "name": "stdout",
          "text": [
            "{'__name__': '__main__', '__doc__': 'Automatically created module for IPython interactive environment', '__package__': None, '__loader__': None, '__spec__': None, '__builtin__': <module 'builtins' (built-in)>, '__builtins__': <module 'builtins' (built-in)>, '_ih': ['', 'min(a) # работает не всегда!', \"a = [1, '2', '3', [4, 5]]\\na.append(1.2)\\na\", 'min(a) # работает не всегда!', 'max([10, 1000, 1, 2, 5000, 3])', 'min([\\'1\\', \\'2\\', \\'3\\', \\'abc\\', \"абв\"])', 'a.index([4, 5])\\n[4, 5] in a', 'a.index([4, 5])\\n#[4, 5] in a', \"a[0] = '123'\\na\", \"a.append('data science')\\na\", \"s = 'one,two,three'\\ns.split(',')\", '\", \".join([\\'arb\\', \\'borb\\', \\'kork\\'])', 'a = (1, )\\na', 'a = (1, 2, 3)\\na', 'a[0] = 7', \"c = ('1', 2, 3)\\nc\", 'a = range(3, 17, 3)\\na', 'for x in a:\\n  print(type(x))', \"a = {1, 2, 3, 3, 2, 4}\\na\\na.add('1')\\na\\na.add((1, 2, 3))\\na\", 'a = {1, 2, 3, 3, 2, 4}\\na', \"a = {1, 2, 3, 3, 2, 4}\\na\\na.add('1')\\na\", \"a = {1, 2, 3, 3, 2, 4}\\na\\na.add('1')\\na\\na.add((1, 2, 3))\\na\", \"a = {1, 2, 3, 3, 2, 4}\\na\\na.add('1')\\na\\na.add((1, 2, 3))\\na\\na.add(1)\", \"a = {1, 2, 3, 3, 2, 4}\\na\\na.add('1')\\na\\na.add((1, 2, 3))\\na\\na.add(1)\\na\", 'a[1]', 'a - {1}', 'a * {1, 3, 7}', 'a + {1, 3, 7}', 'a.add({1, 3, 7})', 'a.add(frozenset({1, 3, 7}))', 'a', \"b = frozenset('aabc')\\nb\\nb[2] = \", \"b = frozenset('aabc')\\nb\", \"d = {1: 3, '1': 4, (1, 2, 3): 5, b: 10}\\nd\", 'd[b]', \"d[frozenset('abbbbc')]\", '{1} - a', 'dir({1, 2})', 'a & b', \"b = frozenset('aabc1')\\nb\", 'a & b', 'a | b', 'help({})', 'help({1, 2})', '0 ^ 0 = 0', '# 0 ^ 0 = 0\\n# 0 ^ 1 = 1\\n# 1 ^ 0 = 1\\n# 1 ^ 1 = 0', 'a ^ b', 'a.symmetric_difference(b)', 'a.symmetric_difference_update(b)', 'a.symmetric_difference_update(b)', 'a.symmetric_difference_update(b)\\na', 'c = {[1, 2, 3]: 3}', 'c = {(1, 2, 3}: 3}', 'c = {(1, 2, 3): 3}', 'c = {(): 3}', 'for i in a:\\n  print(i)', 'for i, j in enumerate(a):\\n  print(i, j)\\nk, b, c = (1, 2, 3)\\nprint(k, b, c)', 'for i, j in enumerate(a):\\n  print(i, j)\\nk, b, c = (1, 2, 3)\\nprint(k, b, c)\\nx, y = [1, 2]\\nprint(x, y)', 'for i, j in enumerate(a):\\n  print(i, j)\\nk, b, c = (1, 2, 3)\\nprint(k, b, c)\\nx, y, n, m = [1, 2]\\nprint(x, y)', 'for i, j in enumerate(a):\\n  print(i, j)\\nk, b, c = (1, 2, 3)\\nprint(k, b, c)\\nx, y = [1, 2, 3]\\nprint(x, y)', 'for i, j in enumerate(a):\\n  print(i, j)\\nk, b, c = (1, 2, 3)\\nprint(k, b, c)\\n# x, y = [1, 2, 3]\\n# print(x, y)', 'for k, v in d.items():\\n  print(k, v)', 'for k, v in d:\\n  print(k, v)', 'for k in d:\\n  print(k)', 'print(d)', 'for i in sorted([2, 4, 3, 1, 5, 8, 7]):\\n  print(i)', \"chain('ABC', 'DEF', [1, 2, 3])\", \"import itertools\\nitertools.chain('ABC', 'DEF', [1, 2, 3])\", \"import itertools\\nfor elem in itertools.chain('ABC', 'DEF', [1, 2, 3]):\\n  print(elem)\", 'a = [1, 2, 3, 4]\\nb = [1, 2, 3, 4, 5, 6]\\nfor i in zip(a * 2, b):\\n  print(i)', 'a = [1, 2, 3, 4]\\nb = [1, 2, 3, 4, 5, 6]\\nfor i in zip(a * 2, b, d):\\n  print(i)', 'a = [1, 2, 3, 4]\\nb = [1, 2, 3, 4, 5, 6]\\nfor i in zip(a * 2, b, d.items()):\\n  print(i)', 'a = [1, 2, 3, 4]\\nb = [1, 2, 3, 4, 5, 6]\\nfor i, j, k in zip(a * 2, b, d.items()):\\n  print(i)', 'a = [1, 2, 3, 4]\\nb = [1, 2, 3, 4, 5, 6]\\nfor i, j, k in zip(a * 2, b, d.items()):\\n  print(i, j, k_', 'a = [1, 2, 3, 4]\\nb = [1, 2, 3, 4, 5, 6]\\nfor i, j, k in zip(a * 2, b, d.items()):\\n  print(i, j, k)', 'for i in sorted(set(reversed(l))):\\n  print(i)', 'l = [1, 2, 3, 4, 5, 5]\\nfor i in reversed(l):\\n  print(i)', 'for i in sorted(set(reversed(l))):\\n  print(i)', 'def plus(a, b):\\n  return a + b\\n\\nprint(plus)\\nplus', 'dir(plus)', 'plus(2, 3)', \"plus('1', '2')\", \"plus(1, '2')\", 'plus.__call__(1, 2)', 'plus.__call__.__call__(1, 2)', 'plus.__call__.__call__.__call__(1, 2)', 'help(plus)', '```This is function to summarize to elements```\\ndef plus(a, b):\\n  return a + b\\n\\nprint(plus)\\nplus', 'def plus(a, b):\\n  ```This is function to summarize to elements```\\n  return a + b\\n\\nprint(plus)\\nplus', \"def plus(a, b):\\n  '''This is function to summarize to elements'''\\n  return a + b\\n\\nprint(plus)\\nplus\", 'help(plus)', \"def plus(a, b):\\n  '''This is function to summarize two elements'''\\n  return a + b\\n\\nprint(plus)\\nplus\", 'help(plus)', 'locals()', 'def print_locals():\\n  print(locals())', 'print_locals()', 'locals()', 'globals()', 'def print_globals():\\n  print(globals)', 'print_globals()', 'def print_globals():\\n  print(globals())', 'print_globals()'], '_oh': {2: ['123', '2', '3', [4, 5], 1.2, 'data science'], 4: 5000, 5: '1', 6: True, 7: 3, 8: ['123', '2', '3', [4, 5], 1.2, 'data science'], 9: ['123', '2', '3', [4, 5], 1.2, 'data science'], 10: ['one', 'two', 'three'], 11: 'arb, borb, kork', 12: (1,), 13: (1, 2, 3), 15: ('1', 2, 3), 16: range(3, 17, 3), 18: {1, 2, 3, 4, (1, 2, 3), '1'}, 19: {1, 2, 3, 4}, 20: {1, 2, 3, 4, '1'}, 21: {1, 2, 3, 4, (1, 2, 3), '1'}, 23: {1, 2, 3, 4, 'a', frozenset({1, 3, 7}), (1, 2, 3), 'b', 'c'}, 25: {2, 3, 4, (1, 2, 3), '1'}, 30: {1, 2, 3, 4, 'a', frozenset({1, 3, 7}), (1, 2, 3), 'b', 'c'}, 32: frozenset({'a', 'b', 'c'}), 33: {1: 3, '1': 4, (1, 2, 3): 5, frozenset({'a', 'b', 'c'}): 10}, 34: 10, 35: 10, 36: set(), 37: ['__and__', '__class__', '__class_getitem__', '__contains__', '__delattr__', '__dir__', '__doc__', '__eq__', '__format__', '__ge__', '__getattribute__', '__gt__', '__hash__', '__iand__', '__init__', '__init_subclass__', '__ior__', '__isub__', '__iter__', '__ixor__', '__le__', '__len__', '__lt__', '__ne__', '__new__', '__or__', '__rand__', '__reduce__', '__reduce_ex__', '__repr__', '__ror__', '__rsub__', '__rxor__', '__setattr__', '__sizeof__', '__str__', '__sub__', '__subclasshook__', '__xor__', 'add', 'clear', 'copy', 'difference', 'difference_update', 'discard', 'intersection', 'intersection_update', 'isdisjoint', 'issubset', 'issuperset', 'pop', 'remove', 'symmetric_difference', 'symmetric_difference_update', 'union', 'update'], 38: set(), 39: frozenset({'a', 'b', '1', 'c'}), 40: {'1'}, 41: {1, 2, 3, 4, 'a', frozenset({1, 3, 7}), (1, 2, 3), '1', 'b', 'c'}, 46: {1, 2, 3, 4, 'a', frozenset({1, 3, 7}), (1, 2, 3), 'b', 'c'}, 47: {1, 2, 3, 4, 'a', frozenset({1, 3, 7}), (1, 2, 3), 'b', 'c'}, 50: {1, 2, 3, 4, 'a', frozenset({1, 3, 7}), (1, 2, 3), 'b', 'c'}, 67: <itertools.chain object at 0x799f0a4e1db0>, 78: <function plus at 0x799f0a34e0e0>, 79: ['__annotations__', '__builtins__', '__call__', '__class__', '__closure__', '__code__', '__defaults__', '__delattr__', '__dict__', '__dir__', '__doc__', '__eq__', '__format__', '__ge__', '__get__', '__getattribute__', '__globals__', '__gt__', '__hash__', '__init__', '__init_subclass__', '__kwdefaults__', '__le__', '__lt__', '__module__', '__name__', '__ne__', '__new__', '__qualname__', '__reduce__', '__reduce_ex__', '__repr__', '__setattr__', '__sizeof__', '__str__', '__subclasshook__'], 80: 5, 81: '12', 83: 3, 84: 3, 85: 3, 89: <function plus at 0x799f0a245b40>, 91: <function plus at 0x799f0a246cb0>, 93: {...}, 96: {...}, 97: {...}}, '_dh': ['/content'], 'In': ['', 'min(a) # работает не всегда!', \"a = [1, '2', '3', [4, 5]]\\na.append(1.2)\\na\", 'min(a) # работает не всегда!', 'max([10, 1000, 1, 2, 5000, 3])', 'min([\\'1\\', \\'2\\', \\'3\\', \\'abc\\', \"абв\"])', 'a.index([4, 5])\\n[4, 5] in a', 'a.index([4, 5])\\n#[4, 5] in a', \"a[0] = '123'\\na\", \"a.append('data science')\\na\", \"s = 'one,two,three'\\ns.split(',')\", '\", \".join([\\'arb\\', \\'borb\\', \\'kork\\'])', 'a = (1, )\\na', 'a = (1, 2, 3)\\na', 'a[0] = 7', \"c = ('1', 2, 3)\\nc\", 'a = range(3, 17, 3)\\na', 'for x in a:\\n  print(type(x))', \"a = {1, 2, 3, 3, 2, 4}\\na\\na.add('1')\\na\\na.add((1, 2, 3))\\na\", 'a = {1, 2, 3, 3, 2, 4}\\na', \"a = {1, 2, 3, 3, 2, 4}\\na\\na.add('1')\\na\", \"a = {1, 2, 3, 3, 2, 4}\\na\\na.add('1')\\na\\na.add((1, 2, 3))\\na\", \"a = {1, 2, 3, 3, 2, 4}\\na\\na.add('1')\\na\\na.add((1, 2, 3))\\na\\na.add(1)\", \"a = {1, 2, 3, 3, 2, 4}\\na\\na.add('1')\\na\\na.add((1, 2, 3))\\na\\na.add(1)\\na\", 'a[1]', 'a - {1}', 'a * {1, 3, 7}', 'a + {1, 3, 7}', 'a.add({1, 3, 7})', 'a.add(frozenset({1, 3, 7}))', 'a', \"b = frozenset('aabc')\\nb\\nb[2] = \", \"b = frozenset('aabc')\\nb\", \"d = {1: 3, '1': 4, (1, 2, 3): 5, b: 10}\\nd\", 'd[b]', \"d[frozenset('abbbbc')]\", '{1} - a', 'dir({1, 2})', 'a & b', \"b = frozenset('aabc1')\\nb\", 'a & b', 'a | b', 'help({})', 'help({1, 2})', '0 ^ 0 = 0', '# 0 ^ 0 = 0\\n# 0 ^ 1 = 1\\n# 1 ^ 0 = 1\\n# 1 ^ 1 = 0', 'a ^ b', 'a.symmetric_difference(b)', 'a.symmetric_difference_update(b)', 'a.symmetric_difference_update(b)', 'a.symmetric_difference_update(b)\\na', 'c = {[1, 2, 3]: 3}', 'c = {(1, 2, 3}: 3}', 'c = {(1, 2, 3): 3}', 'c = {(): 3}', 'for i in a:\\n  print(i)', 'for i, j in enumerate(a):\\n  print(i, j)\\nk, b, c = (1, 2, 3)\\nprint(k, b, c)', 'for i, j in enumerate(a):\\n  print(i, j)\\nk, b, c = (1, 2, 3)\\nprint(k, b, c)\\nx, y = [1, 2]\\nprint(x, y)', 'for i, j in enumerate(a):\\n  print(i, j)\\nk, b, c = (1, 2, 3)\\nprint(k, b, c)\\nx, y, n, m = [1, 2]\\nprint(x, y)', 'for i, j in enumerate(a):\\n  print(i, j)\\nk, b, c = (1, 2, 3)\\nprint(k, b, c)\\nx, y = [1, 2, 3]\\nprint(x, y)', 'for i, j in enumerate(a):\\n  print(i, j)\\nk, b, c = (1, 2, 3)\\nprint(k, b, c)\\n# x, y = [1, 2, 3]\\n# print(x, y)', 'for k, v in d.items():\\n  print(k, v)', 'for k, v in d:\\n  print(k, v)', 'for k in d:\\n  print(k)', 'print(d)', 'for i in sorted([2, 4, 3, 1, 5, 8, 7]):\\n  print(i)', \"chain('ABC', 'DEF', [1, 2, 3])\", \"import itertools\\nitertools.chain('ABC', 'DEF', [1, 2, 3])\", \"import itertools\\nfor elem in itertools.chain('ABC', 'DEF', [1, 2, 3]):\\n  print(elem)\", 'a = [1, 2, 3, 4]\\nb = [1, 2, 3, 4, 5, 6]\\nfor i in zip(a * 2, b):\\n  print(i)', 'a = [1, 2, 3, 4]\\nb = [1, 2, 3, 4, 5, 6]\\nfor i in zip(a * 2, b, d):\\n  print(i)', 'a = [1, 2, 3, 4]\\nb = [1, 2, 3, 4, 5, 6]\\nfor i in zip(a * 2, b, d.items()):\\n  print(i)', 'a = [1, 2, 3, 4]\\nb = [1, 2, 3, 4, 5, 6]\\nfor i, j, k in zip(a * 2, b, d.items()):\\n  print(i)', 'a = [1, 2, 3, 4]\\nb = [1, 2, 3, 4, 5, 6]\\nfor i, j, k in zip(a * 2, b, d.items()):\\n  print(i, j, k_', 'a = [1, 2, 3, 4]\\nb = [1, 2, 3, 4, 5, 6]\\nfor i, j, k in zip(a * 2, b, d.items()):\\n  print(i, j, k)', 'for i in sorted(set(reversed(l))):\\n  print(i)', 'l = [1, 2, 3, 4, 5, 5]\\nfor i in reversed(l):\\n  print(i)', 'for i in sorted(set(reversed(l))):\\n  print(i)', 'def plus(a, b):\\n  return a + b\\n\\nprint(plus)\\nplus', 'dir(plus)', 'plus(2, 3)', \"plus('1', '2')\", \"plus(1, '2')\", 'plus.__call__(1, 2)', 'plus.__call__.__call__(1, 2)', 'plus.__call__.__call__.__call__(1, 2)', 'help(plus)', '```This is function to summarize to elements```\\ndef plus(a, b):\\n  return a + b\\n\\nprint(plus)\\nplus', 'def plus(a, b):\\n  ```This is function to summarize to elements```\\n  return a + b\\n\\nprint(plus)\\nplus', \"def plus(a, b):\\n  '''This is function to summarize to elements'''\\n  return a + b\\n\\nprint(plus)\\nplus\", 'help(plus)', \"def plus(a, b):\\n  '''This is function to summarize two elements'''\\n  return a + b\\n\\nprint(plus)\\nplus\", 'help(plus)', 'locals()', 'def print_locals():\\n  print(locals())', 'print_locals()', 'locals()', 'globals()', 'def print_globals():\\n  print(globals)', 'print_globals()', 'def print_globals():\\n  print(globals())', 'print_globals()'], 'Out': {2: ['123', '2', '3', [4, 5], 1.2, 'data science'], 4: 5000, 5: '1', 6: True, 7: 3, 8: ['123', '2', '3', [4, 5], 1.2, 'data science'], 9: ['123', '2', '3', [4, 5], 1.2, 'data science'], 10: ['one', 'two', 'three'], 11: 'arb, borb, kork', 12: (1,), 13: (1, 2, 3), 15: ('1', 2, 3), 16: range(3, 17, 3), 18: {1, 2, 3, 4, (1, 2, 3), '1'}, 19: {1, 2, 3, 4}, 20: {1, 2, 3, 4, '1'}, 21: {1, 2, 3, 4, (1, 2, 3), '1'}, 23: {1, 2, 3, 4, 'a', frozenset({1, 3, 7}), (1, 2, 3), 'b', 'c'}, 25: {2, 3, 4, (1, 2, 3), '1'}, 30: {1, 2, 3, 4, 'a', frozenset({1, 3, 7}), (1, 2, 3), 'b', 'c'}, 32: frozenset({'a', 'b', 'c'}), 33: {1: 3, '1': 4, (1, 2, 3): 5, frozenset({'a', 'b', 'c'}): 10}, 34: 10, 35: 10, 36: set(), 37: ['__and__', '__class__', '__class_getitem__', '__contains__', '__delattr__', '__dir__', '__doc__', '__eq__', '__format__', '__ge__', '__getattribute__', '__gt__', '__hash__', '__iand__', '__init__', '__init_subclass__', '__ior__', '__isub__', '__iter__', '__ixor__', '__le__', '__len__', '__lt__', '__ne__', '__new__', '__or__', '__rand__', '__reduce__', '__reduce_ex__', '__repr__', '__ror__', '__rsub__', '__rxor__', '__setattr__', '__sizeof__', '__str__', '__sub__', '__subclasshook__', '__xor__', 'add', 'clear', 'copy', 'difference', 'difference_update', 'discard', 'intersection', 'intersection_update', 'isdisjoint', 'issubset', 'issuperset', 'pop', 'remove', 'symmetric_difference', 'symmetric_difference_update', 'union', 'update'], 38: set(), 39: frozenset({'a', 'b', '1', 'c'}), 40: {'1'}, 41: {1, 2, 3, 4, 'a', frozenset({1, 3, 7}), (1, 2, 3), '1', 'b', 'c'}, 46: {1, 2, 3, 4, 'a', frozenset({1, 3, 7}), (1, 2, 3), 'b', 'c'}, 47: {1, 2, 3, 4, 'a', frozenset({1, 3, 7}), (1, 2, 3), 'b', 'c'}, 50: {1, 2, 3, 4, 'a', frozenset({1, 3, 7}), (1, 2, 3), 'b', 'c'}, 67: <itertools.chain object at 0x799f0a4e1db0>, 78: <function plus at 0x799f0a34e0e0>, 79: ['__annotations__', '__builtins__', '__call__', '__class__', '__closure__', '__code__', '__defaults__', '__delattr__', '__dict__', '__dir__', '__doc__', '__eq__', '__format__', '__ge__', '__get__', '__getattribute__', '__globals__', '__gt__', '__hash__', '__init__', '__init_subclass__', '__kwdefaults__', '__le__', '__lt__', '__module__', '__name__', '__ne__', '__new__', '__qualname__', '__reduce__', '__reduce_ex__', '__repr__', '__setattr__', '__sizeof__', '__str__', '__subclasshook__'], 80: 5, 81: '12', 83: 3, 84: 3, 85: 3, 89: <function plus at 0x799f0a245b40>, 91: <function plus at 0x799f0a246cb0>, 93: {...}, 96: {...}, 97: {...}}, 'get_ipython': <bound method InteractiveShell.get_ipython of <google.colab._shell.Shell object at 0x799f4dbb9ff0>>, 'exit': <IPython.core.autocall.ZMQExitAutocall object at 0x799f4dbba590>, 'quit': <IPython.core.autocall.ZMQExitAutocall object at 0x799f4dbba590>, '_': {...}, '__': {...}, '___': {...}, '_i': 'def print_globals():\\n  print(globals())', '_ii': 'print_globals()', '_iii': 'def print_globals():\\n  print(globals)', '_i1': 'min(a) # работает не всегда!', '_i2': \"a = [1, '2', '3', [4, 5]]\\na.append(1.2)\\na\", 'a': [1, 2, 3, 4], '_2': ['123', '2', '3', [4, 5], 1.2, 'data science'], '_i3': 'min(a) # работает не всегда!', '_i4': 'max([10, 1000, 1, 2, 5000, 3])', '_4': 5000, '_i5': 'min([\\'1\\', \\'2\\', \\'3\\', \\'abc\\', \"абв\"])', '_5': '1', '_i6': 'a.index([4, 5])\\n[4, 5] in a', '_6': True, '_i7': 'a.index([4, 5])\\n#[4, 5] in a', '_7': 3, '_i8': \"a[0] = '123'\\na\", '_8': ['123', '2', '3', [4, 5], 1.2, 'data science'], '_i9': \"a.append('data science')\\na\", '_9': ['123', '2', '3', [4, 5], 1.2, 'data science'], '_i10': \"s = 'one,two,three'\\ns.split(',')\", 's': 'one,two,three', '_10': ['one', 'two', 'three'], '_i11': '\", \".join([\\'arb\\', \\'borb\\', \\'kork\\'])', '_11': 'arb, borb, kork', '_i12': 'a = (1, )\\na', '_12': (1,), '_i13': 'a = (1, 2, 3)\\na', '_13': (1, 2, 3), '_i14': 'a[0] = 7', '_i15': \"c = ('1', 2, 3)\\nc\", 'c': 3, '_15': ('1', 2, 3), '_i16': 'a = range(3, 17, 3)\\na', '_16': range(3, 17, 3), '_i17': 'for x in a:\\n  print(type(x))', 'x': 1, '_i18': \"a = {1, 2, 3, 3, 2, 4}\\na\\na.add('1')\\na\\na.add((1, 2, 3))\\na\", '_18': {1, 2, 3, 4, (1, 2, 3), '1'}, '_i19': 'a = {1, 2, 3, 3, 2, 4}\\na', '_19': {1, 2, 3, 4}, '_i20': \"a = {1, 2, 3, 3, 2, 4}\\na\\na.add('1')\\na\", '_20': {1, 2, 3, 4, '1'}, '_i21': \"a = {1, 2, 3, 3, 2, 4}\\na\\na.add('1')\\na\\na.add((1, 2, 3))\\na\", '_21': {1, 2, 3, 4, (1, 2, 3), '1'}, '_i22': \"a = {1, 2, 3, 3, 2, 4}\\na\\na.add('1')\\na\\na.add((1, 2, 3))\\na\\na.add(1)\", '_i23': \"a = {1, 2, 3, 3, 2, 4}\\na\\na.add('1')\\na\\na.add((1, 2, 3))\\na\\na.add(1)\\na\", '_23': {1, 2, 3, 4, 'a', frozenset({1, 3, 7}), (1, 2, 3), 'b', 'c'}, '_i24': 'a[1]', '_i25': 'a - {1}', '_25': {2, 3, 4, (1, 2, 3), '1'}, '_i26': 'a * {1, 3, 7}', '_i27': 'a + {1, 3, 7}', '_i28': 'a.add({1, 3, 7})', '_i29': 'a.add(frozenset({1, 3, 7}))', '_i30': 'a', '_30': {1, 2, 3, 4, 'a', frozenset({1, 3, 7}), (1, 2, 3), 'b', 'c'}, '_i31': \"b = frozenset('aabc')\\nb\\nb[2] = \", '_i32': \"b = frozenset('aabc')\\nb\", 'b': [1, 2, 3, 4, 5, 6], '_32': frozenset({'a', 'b', 'c'}), '_i33': \"d = {1: 3, '1': 4, (1, 2, 3): 5, b: 10}\\nd\", 'd': {1: 3, '1': 4, (1, 2, 3): 5, frozenset({'a', 'b', 'c'}): 10}, '_33': {1: 3, '1': 4, (1, 2, 3): 5, frozenset({'a', 'b', 'c'}): 10}, '_i34': 'd[b]', '_34': 10, '_i35': \"d[frozenset('abbbbc')]\", '_35': 10, '_i36': '{1} - a', '_36': set(), '_i37': 'dir({1, 2})', '_37': ['__and__', '__class__', '__class_getitem__', '__contains__', '__delattr__', '__dir__', '__doc__', '__eq__', '__format__', '__ge__', '__getattribute__', '__gt__', '__hash__', '__iand__', '__init__', '__init_subclass__', '__ior__', '__isub__', '__iter__', '__ixor__', '__le__', '__len__', '__lt__', '__ne__', '__new__', '__or__', '__rand__', '__reduce__', '__reduce_ex__', '__repr__', '__ror__', '__rsub__', '__rxor__', '__setattr__', '__sizeof__', '__str__', '__sub__', '__subclasshook__', '__xor__', 'add', 'clear', 'copy', 'difference', 'difference_update', 'discard', 'intersection', 'intersection_update', 'isdisjoint', 'issubset', 'issuperset', 'pop', 'remove', 'symmetric_difference', 'symmetric_difference_update', 'union', 'update'], '_i38': 'a & b', '_38': set(), '_i39': \"b = frozenset('aabc1')\\nb\", '_39': frozenset({'a', 'b', '1', 'c'}), '_i40': 'a & b', '_40': {'1'}, '_i41': 'a | b', '_41': {1, 2, 3, 4, 'a', frozenset({1, 3, 7}), (1, 2, 3), '1', 'b', 'c'}, '_i42': 'help({})', '_i43': 'help({1, 2})', '_i44': '0 ^ 0 = 0', '_i45': '# 0 ^ 0 = 0\\n# 0 ^ 1 = 1\\n# 1 ^ 0 = 1\\n# 1 ^ 1 = 0', '_i46': 'a ^ b', '_46': {1, 2, 3, 4, 'a', frozenset({1, 3, 7}), (1, 2, 3), 'b', 'c'}, '_i47': 'a.symmetric_difference(b)', '_47': {1, 2, 3, 4, 'a', frozenset({1, 3, 7}), (1, 2, 3), 'b', 'c'}, '_i48': 'a.symmetric_difference_update(b)', '_i49': 'a.symmetric_difference_update(b)', '_i50': 'a.symmetric_difference_update(b)\\na', '_50': {1, 2, 3, 4, 'a', frozenset({1, 3, 7}), (1, 2, 3), 'b', 'c'}, '_i51': 'c = {[1, 2, 3]: 3}', '_i52': 'c = {(1, 2, 3}: 3}', '_i53': 'c = {(1, 2, 3): 3}', '_i54': 'c = {(): 3}', '_i55': 'for i in a:\\n  print(i)', 'i': 5, '_i56': 'for i, j in enumerate(a):\\n  print(i, j)\\nk, b, c = (1, 2, 3)\\nprint(k, b, c)', 'j': 4, 'k': (frozenset({'a', 'b', 'c'}), 10), '_i57': 'for i, j in enumerate(a):\\n  print(i, j)\\nk, b, c = (1, 2, 3)\\nprint(k, b, c)\\nx, y = [1, 2]\\nprint(x, y)', 'y': 2, '_i58': 'for i, j in enumerate(a):\\n  print(i, j)\\nk, b, c = (1, 2, 3)\\nprint(k, b, c)\\nx, y, n, m = [1, 2]\\nprint(x, y)', '_i59': 'for i, j in enumerate(a):\\n  print(i, j)\\nk, b, c = (1, 2, 3)\\nprint(k, b, c)\\nx, y = [1, 2, 3]\\nprint(x, y)', '_i60': 'for i, j in enumerate(a):\\n  print(i, j)\\nk, b, c = (1, 2, 3)\\nprint(k, b, c)\\n# x, y = [1, 2, 3]\\n# print(x, y)', '_i61': 'for k, v in d.items():\\n  print(k, v)', 'v': 10, '_i62': 'for k, v in d:\\n  print(k, v)', '_i63': 'for k in d:\\n  print(k)', '_i64': 'print(d)', '_i65': 'for i in sorted([2, 4, 3, 1, 5, 8, 7]):\\n  print(i)', '_i66': \"chain('ABC', 'DEF', [1, 2, 3])\", '_i67': \"import itertools\\nitertools.chain('ABC', 'DEF', [1, 2, 3])\", 'itertools': <module 'itertools' (built-in)>, '_67': <itertools.chain object at 0x799f0a4e1db0>, '_i68': \"import itertools\\nfor elem in itertools.chain('ABC', 'DEF', [1, 2, 3]):\\n  print(elem)\", 'elem': 3, '_i69': 'a = [1, 2, 3, 4]\\nb = [1, 2, 3, 4, 5, 6]\\nfor i in zip(a * 2, b):\\n  print(i)', '_i70': 'a = [1, 2, 3, 4]\\nb = [1, 2, 3, 4, 5, 6]\\nfor i in zip(a * 2, b, d):\\n  print(i)', '_i71': 'a = [1, 2, 3, 4]\\nb = [1, 2, 3, 4, 5, 6]\\nfor i in zip(a * 2, b, d.items()):\\n  print(i)', '_i72': 'a = [1, 2, 3, 4]\\nb = [1, 2, 3, 4, 5, 6]\\nfor i, j, k in zip(a * 2, b, d.items()):\\n  print(i)', '_i73': 'a = [1, 2, 3, 4]\\nb = [1, 2, 3, 4, 5, 6]\\nfor i, j, k in zip(a * 2, b, d.items()):\\n  print(i, j, k_', '_i74': 'a = [1, 2, 3, 4]\\nb = [1, 2, 3, 4, 5, 6]\\nfor i, j, k in zip(a * 2, b, d.items()):\\n  print(i, j, k)', '_i75': 'for i in sorted(set(reversed(l))):\\n  print(i)', '_i76': 'l = [1, 2, 3, 4, 5, 5]\\nfor i in reversed(l):\\n  print(i)', 'l': [1, 2, 3, 4, 5, 5], '_i77': 'for i in sorted(set(reversed(l))):\\n  print(i)', '_i78': 'def plus(a, b):\\n  return a + b\\n\\nprint(plus)\\nplus', 'plus': <function plus at 0x799f0a246cb0>, '_78': <function plus at 0x799f0a34e0e0>, '_i79': 'dir(plus)', '_79': ['__annotations__', '__builtins__', '__call__', '__class__', '__closure__', '__code__', '__defaults__', '__delattr__', '__dict__', '__dir__', '__doc__', '__eq__', '__format__', '__ge__', '__get__', '__getattribute__', '__globals__', '__gt__', '__hash__', '__init__', '__init_subclass__', '__kwdefaults__', '__le__', '__lt__', '__module__', '__name__', '__ne__', '__new__', '__qualname__', '__reduce__', '__reduce_ex__', '__repr__', '__setattr__', '__sizeof__', '__str__', '__subclasshook__'], '_i80': 'plus(2, 3)', '_80': 5, '_i81': \"plus('1', '2')\", '_81': '12', '_i82': \"plus(1, '2')\", '_i83': 'plus.__call__(1, 2)', '_83': 3, '_i84': 'plus.__call__.__call__(1, 2)', '_84': 3, '_i85': 'plus.__call__.__call__.__call__(1, 2)', '_85': 3, '_i86': 'help(plus)', '_i87': '```This is function to summarize to elements```\\ndef plus(a, b):\\n  return a + b\\n\\nprint(plus)\\nplus', '_i88': 'def plus(a, b):\\n  ```This is function to summarize to elements```\\n  return a + b\\n\\nprint(plus)\\nplus', '_i89': \"def plus(a, b):\\n  '''This is function to summarize to elements'''\\n  return a + b\\n\\nprint(plus)\\nplus\", '_89': <function plus at 0x799f0a245b40>, '_i90': 'help(plus)', '_i91': \"def plus(a, b):\\n  '''This is function to summarize two elements'''\\n  return a + b\\n\\nprint(plus)\\nplus\", '_91': <function plus at 0x799f0a246cb0>, '_i92': 'help(plus)', '_i93': 'locals()', '_93': {...}, '_i94': 'def print_locals():\\n  print(locals())', 'print_locals': <function print_locals at 0x799f0a2455a0>, '_i95': 'print_locals()', '_i96': 'locals()', '_96': {...}, '_i97': 'globals()', '_97': {...}, '_i98': 'def print_globals():\\n  print(globals)', 'print_globals': <function print_globals at 0x799f0a2441f0>, '_i99': 'print_globals()', '_i100': 'def print_globals():\\n  print(globals())', '_i101': 'print_globals()'}\n"
          ]
        }
      ]
    },
    {
      "cell_type": "code",
      "source": [
        "def print_locals():\n",
        "  a = 10\n",
        "  print(locals())\n",
        "  variable_name = input('Напишите переменную, значение которой хотите узнать: ')\n",
        "  print(locals()[variable_name])"
      ],
      "metadata": {
        "id": "Oy5LLyvH2zvE"
      },
      "execution_count": 110,
      "outputs": []
    },
    {
      "cell_type": "code",
      "source": [
        "print_locals()"
      ],
      "metadata": {
        "id": "8UbjWc2U24Cw",
        "outputId": "2f92248f-9853-4000-87ab-93dc8f41c29f",
        "colab": {
          "base_uri": "https://localhost:8080/"
        }
      },
      "execution_count": 111,
      "outputs": [
        {
          "output_type": "stream",
          "name": "stdout",
          "text": [
            "{'a': 10}\n",
            "Напишите переменную, значение которой хотите узнать: a\n",
            "10\n"
          ]
        }
      ]
    },
    {
      "cell_type": "code",
      "source": [
        "variable_name = input('Напишите переменную, значение которой хотите узнать: ')\n",
        "print(globals()[variable_name])"
      ],
      "metadata": {
        "id": "xn7bKj1p3Ceq",
        "outputId": "6ea47511-9fd7-458a-d548-0c7020d14ab9",
        "colab": {
          "base_uri": "https://localhost:8080/"
        }
      },
      "execution_count": 112,
      "outputs": [
        {
          "output_type": "stream",
          "name": "stdout",
          "text": [
            "Напишите переменную, значение которой хотите узнать: _i10\n",
            "s = 'one,two,three'\n",
            "s.split(',')\n"
          ]
        }
      ]
    },
    {
      "cell_type": "code",
      "source": [
        "def func():\n",
        "  pass"
      ],
      "metadata": {
        "id": "A1KboqiY4sqw"
      },
      "execution_count": 120,
      "outputs": []
    },
    {
      "cell_type": "code",
      "source": [
        "func()['a']"
      ],
      "metadata": {
        "id": "khVUPNON4wzT",
        "outputId": "a11a24d8-6605-4d76-e51d-f6c4eabfecb6",
        "colab": {
          "base_uri": "https://localhost:8080/",
          "height": 175
        }
      },
      "execution_count": 121,
      "outputs": [
        {
          "output_type": "error",
          "ename": "TypeError",
          "evalue": "ignored",
          "traceback": [
            "\u001b[0;31m---------------------------------------------------------------------------\u001b[0m",
            "\u001b[0;31mTypeError\u001b[0m                                 Traceback (most recent call last)",
            "\u001b[0;32m<ipython-input-121-df0161e085a1>\u001b[0m in \u001b[0;36m<cell line: 1>\u001b[0;34m()\u001b[0m\n\u001b[0;32m----> 1\u001b[0;31m \u001b[0mfunc\u001b[0m\u001b[0;34m(\u001b[0m\u001b[0;34m)\u001b[0m\u001b[0;34m[\u001b[0m\u001b[0;34m'a'\u001b[0m\u001b[0;34m]\u001b[0m\u001b[0;34m\u001b[0m\u001b[0;34m\u001b[0m\u001b[0m\n\u001b[0m",
            "\u001b[0;31mTypeError\u001b[0m: 'NoneType' object is not subscriptable"
          ]
        }
      ]
    },
    {
      "cell_type": "code",
      "source": [
        "None"
      ],
      "metadata": {
        "id": "Qo217B8P42Nb"
      },
      "execution_count": 122,
      "outputs": []
    },
    {
      "cell_type": "code",
      "source": [
        "type(None)"
      ],
      "metadata": {
        "id": "JCRuJxLB46B1",
        "outputId": "f0b3f2e6-a96a-4ad7-f8b5-cfc55de40c7c",
        "colab": {
          "base_uri": "https://localhost:8080/"
        }
      },
      "execution_count": 123,
      "outputs": [
        {
          "output_type": "execute_result",
          "data": {
            "text/plain": [
              "NoneType"
            ]
          },
          "metadata": {},
          "execution_count": 123
        }
      ]
    },
    {
      "cell_type": "code",
      "source": [
        "help(None)"
      ],
      "metadata": {
        "id": "dZEFDpDX48Ee",
        "outputId": "05467884-d312-4cd7-f575-922cfa5e0a7d",
        "colab": {
          "base_uri": "https://localhost:8080/"
        }
      },
      "execution_count": 124,
      "outputs": [
        {
          "output_type": "stream",
          "name": "stdout",
          "text": [
            "Help on NoneType object:\n",
            "\n",
            "class NoneType(object)\n",
            " |  Methods defined here:\n",
            " |  \n",
            " |  __bool__(self, /)\n",
            " |      True if self else False\n",
            " |  \n",
            " |  __repr__(self, /)\n",
            " |      Return repr(self).\n",
            " |  \n",
            " |  ----------------------------------------------------------------------\n",
            " |  Static methods defined here:\n",
            " |  \n",
            " |  __new__(*args, **kwargs) from builtins.type\n",
            " |      Create and return a new object.  See help(type) for accurate signature.\n",
            "\n"
          ]
        }
      ]
    },
    {
      "cell_type": "code",
      "source": [
        "if None:\n",
        "  print(1)"
      ],
      "metadata": {
        "id": "6dn73UP05Ahy"
      },
      "execution_count": 125,
      "outputs": []
    },
    {
      "cell_type": "code",
      "source": [
        "def func():\n",
        "  print(1)\n",
        "  return 2"
      ],
      "metadata": {
        "id": "kDdpeOmP5Lt4"
      },
      "execution_count": 135,
      "outputs": []
    },
    {
      "cell_type": "code",
      "source": [
        "func()"
      ],
      "metadata": {
        "id": "8ScUpKAU5PI2",
        "outputId": "67f06b8f-64c2-4274-f6d0-eaf9c6cbfcf2",
        "colab": {
          "base_uri": "https://localhost:8080/"
        }
      },
      "execution_count": 136,
      "outputs": [
        {
          "output_type": "stream",
          "name": "stdout",
          "text": [
            "1\n"
          ]
        },
        {
          "output_type": "execute_result",
          "data": {
            "text/plain": [
              "2"
            ]
          },
          "metadata": {},
          "execution_count": 136
        }
      ]
    },
    {
      "cell_type": "code",
      "source": [
        "my_globals = globals"
      ],
      "metadata": {
        "id": "C6Qs7yyn54hv"
      },
      "execution_count": 143,
      "outputs": []
    },
    {
      "cell_type": "code",
      "source": [
        "type(my_globals)"
      ],
      "metadata": {
        "id": "uNSzIpyi56xJ",
        "outputId": "9c116e67-3664-4786-92ed-5b4ae98dbf10",
        "colab": {
          "base_uri": "https://localhost:8080/"
        }
      },
      "execution_count": 144,
      "outputs": [
        {
          "output_type": "execute_result",
          "data": {
            "text/plain": [
              "builtin_function_or_method"
            ]
          },
          "metadata": {},
          "execution_count": 144
        }
      ]
    },
    {
      "cell_type": "code",
      "source": [
        "my_globals_return_value = globals()"
      ],
      "metadata": {
        "id": "qOMNoNZ559cs"
      },
      "execution_count": 145,
      "outputs": []
    },
    {
      "cell_type": "code",
      "source": [
        "type(my_globals_return_value)"
      ],
      "metadata": {
        "id": "_2vppz9G6BHQ",
        "outputId": "a816a4bb-7bab-471e-8638-ce4afc033f84",
        "colab": {
          "base_uri": "https://localhost:8080/"
        }
      },
      "execution_count": 146,
      "outputs": [
        {
          "output_type": "execute_result",
          "data": {
            "text/plain": [
              "dict"
            ]
          },
          "metadata": {},
          "execution_count": 146
        }
      ]
    },
    {
      "cell_type": "code",
      "source": [
        "my_object = func()\n",
        "my_new_func = func"
      ],
      "metadata": {
        "id": "Ib_h69yo5QdN",
        "outputId": "36c933c4-7a14-4a1f-80aa-3f6b75db830f",
        "colab": {
          "base_uri": "https://localhost:8080/"
        }
      },
      "execution_count": 137,
      "outputs": [
        {
          "output_type": "stream",
          "name": "stdout",
          "text": [
            "1\n"
          ]
        }
      ]
    },
    {
      "cell_type": "code",
      "source": [
        "my_object == None"
      ],
      "metadata": {
        "id": "9jeewvcb5a_C",
        "outputId": "cb6e5790-c535-484c-f21e-79729a90c174",
        "colab": {
          "base_uri": "https://localhost:8080/"
        }
      },
      "execution_count": 138,
      "outputs": [
        {
          "output_type": "execute_result",
          "data": {
            "text/plain": [
              "False"
            ]
          },
          "metadata": {},
          "execution_count": 138
        }
      ]
    },
    {
      "cell_type": "code",
      "source": [
        "my_object"
      ],
      "metadata": {
        "id": "8awimo6S5vyk",
        "outputId": "a8e239c7-1909-4b96-a35a-c1b2e8150a25",
        "colab": {
          "base_uri": "https://localhost:8080/"
        }
      },
      "execution_count": 139,
      "outputs": [
        {
          "output_type": "execute_result",
          "data": {
            "text/plain": [
              "2"
            ]
          },
          "metadata": {},
          "execution_count": 139
        }
      ]
    },
    {
      "cell_type": "code",
      "source": [
        "my_object()"
      ],
      "metadata": {
        "id": "HbXyg6dB5kZW",
        "outputId": "aa415a1f-7be4-4b2d-a666-7204e2783db9",
        "colab": {
          "base_uri": "https://localhost:8080/",
          "height": 175
        }
      },
      "execution_count": 140,
      "outputs": [
        {
          "output_type": "error",
          "ename": "TypeError",
          "evalue": "ignored",
          "traceback": [
            "\u001b[0;31m---------------------------------------------------------------------------\u001b[0m",
            "\u001b[0;31mTypeError\u001b[0m                                 Traceback (most recent call last)",
            "\u001b[0;32m<ipython-input-140-6273fe54e89a>\u001b[0m in \u001b[0;36m<cell line: 1>\u001b[0;34m()\u001b[0m\n\u001b[0;32m----> 1\u001b[0;31m \u001b[0mmy_object\u001b[0m\u001b[0;34m(\u001b[0m\u001b[0;34m)\u001b[0m\u001b[0;34m\u001b[0m\u001b[0;34m\u001b[0m\u001b[0m\n\u001b[0m",
            "\u001b[0;31mTypeError\u001b[0m: 'int' object is not callable"
          ]
        }
      ]
    },
    {
      "cell_type": "code",
      "source": [
        "my_new_func"
      ],
      "metadata": {
        "id": "IFKXAeg45ex6",
        "outputId": "68071d6d-b2a3-4017-84a6-3abf19be3450",
        "colab": {
          "base_uri": "https://localhost:8080/"
        }
      },
      "execution_count": 141,
      "outputs": [
        {
          "output_type": "execute_result",
          "data": {
            "text/plain": [
              "<function __main__.func()>"
            ]
          },
          "metadata": {},
          "execution_count": 141
        }
      ]
    },
    {
      "cell_type": "code",
      "source": [
        "my_new_func()"
      ],
      "metadata": {
        "id": "ry47OkLd5ghK",
        "outputId": "14965c5c-af62-46c8-9898-798681f34f7e",
        "colab": {
          "base_uri": "https://localhost:8080/"
        }
      },
      "execution_count": 142,
      "outputs": [
        {
          "output_type": "stream",
          "name": "stdout",
          "text": [
            "1\n"
          ]
        },
        {
          "output_type": "execute_result",
          "data": {
            "text/plain": [
              "2"
            ]
          },
          "metadata": {},
          "execution_count": 142
        }
      ]
    },
    {
      "cell_type": "code",
      "source": [
        "dictionary = globals()\n",
        "dictionary[variable_name]"
      ],
      "metadata": {
        "id": "dpQ4YaXE4bdB",
        "outputId": "23a9a5e8-44fa-4f70-ea43-785130539f92",
        "colab": {
          "base_uri": "https://localhost:8080/",
          "height": 36
        }
      },
      "execution_count": 119,
      "outputs": [
        {
          "output_type": "execute_result",
          "data": {
            "text/plain": [
              "\"s = 'one,two,three'\\ns.split(',')\""
            ],
            "application/vnd.google.colaboratory.intrinsic+json": {
              "type": "string"
            }
          },
          "metadata": {},
          "execution_count": 119
        }
      ]
    },
    {
      "cell_type": "markdown",
      "source": [
        "**Рекурсия**"
      ],
      "metadata": {
        "id": "crvbxdOb60qS"
      }
    },
    {
      "cell_type": "code",
      "source": [
        "def sum(a, b):\n",
        "  sum(a + 3 * b, 2 * a - 2 * b)"
      ],
      "metadata": {
        "id": "kcfXD2cR39S5"
      },
      "execution_count": 117,
      "outputs": []
    },
    {
      "cell_type": "code",
      "source": [
        "sum(1, 2)"
      ],
      "metadata": {
        "id": "9XmEwUT74Hgt",
        "outputId": "3f234314-cdc6-4df7-bc2a-157902a9d7ef",
        "colab": {
          "base_uri": "https://localhost:8080/",
          "height": 373
        }
      },
      "execution_count": 118,
      "outputs": [
        {
          "output_type": "error",
          "ename": "RecursionError",
          "evalue": "ignored",
          "traceback": [
            "\u001b[0;31m---------------------------------------------------------------------------\u001b[0m",
            "\u001b[0;31mRecursionError\u001b[0m                            Traceback (most recent call last)",
            "\u001b[0;32m<ipython-input-118-67d1519cc1ff>\u001b[0m in \u001b[0;36m<cell line: 1>\u001b[0;34m()\u001b[0m\n\u001b[0;32m----> 1\u001b[0;31m \u001b[0msum\u001b[0m\u001b[0;34m(\u001b[0m\u001b[0;36m1\u001b[0m\u001b[0;34m,\u001b[0m \u001b[0;36m2\u001b[0m\u001b[0;34m)\u001b[0m\u001b[0;34m\u001b[0m\u001b[0;34m\u001b[0m\u001b[0m\n\u001b[0m",
            "\u001b[0;32m<ipython-input-117-ffd2ae62c51d>\u001b[0m in \u001b[0;36msum\u001b[0;34m(a, b)\u001b[0m\n\u001b[1;32m      1\u001b[0m \u001b[0;32mdef\u001b[0m \u001b[0msum\u001b[0m\u001b[0;34m(\u001b[0m\u001b[0ma\u001b[0m\u001b[0;34m,\u001b[0m \u001b[0mb\u001b[0m\u001b[0;34m)\u001b[0m\u001b[0;34m:\u001b[0m\u001b[0;34m\u001b[0m\u001b[0;34m\u001b[0m\u001b[0m\n\u001b[0;32m----> 2\u001b[0;31m   \u001b[0msum\u001b[0m\u001b[0;34m(\u001b[0m\u001b[0ma\u001b[0m \u001b[0;34m+\u001b[0m \u001b[0;36m3\u001b[0m \u001b[0;34m*\u001b[0m \u001b[0mb\u001b[0m\u001b[0;34m,\u001b[0m \u001b[0;36m2\u001b[0m \u001b[0;34m*\u001b[0m \u001b[0ma\u001b[0m \u001b[0;34m-\u001b[0m \u001b[0;36m2\u001b[0m \u001b[0;34m*\u001b[0m \u001b[0mb\u001b[0m\u001b[0;34m)\u001b[0m\u001b[0;34m\u001b[0m\u001b[0;34m\u001b[0m\u001b[0m\n\u001b[0m",
            "... last 1 frames repeated, from the frame below ...\n",
            "\u001b[0;32m<ipython-input-117-ffd2ae62c51d>\u001b[0m in \u001b[0;36msum\u001b[0;34m(a, b)\u001b[0m\n\u001b[1;32m      1\u001b[0m \u001b[0;32mdef\u001b[0m \u001b[0msum\u001b[0m\u001b[0;34m(\u001b[0m\u001b[0ma\u001b[0m\u001b[0;34m,\u001b[0m \u001b[0mb\u001b[0m\u001b[0;34m)\u001b[0m\u001b[0;34m:\u001b[0m\u001b[0;34m\u001b[0m\u001b[0;34m\u001b[0m\u001b[0m\n\u001b[0;32m----> 2\u001b[0;31m   \u001b[0msum\u001b[0m\u001b[0;34m(\u001b[0m\u001b[0ma\u001b[0m \u001b[0;34m+\u001b[0m \u001b[0;36m3\u001b[0m \u001b[0;34m*\u001b[0m \u001b[0mb\u001b[0m\u001b[0;34m,\u001b[0m \u001b[0;36m2\u001b[0m \u001b[0;34m*\u001b[0m \u001b[0ma\u001b[0m \u001b[0;34m-\u001b[0m \u001b[0;36m2\u001b[0m \u001b[0;34m*\u001b[0m \u001b[0mb\u001b[0m\u001b[0;34m)\u001b[0m\u001b[0;34m\u001b[0m\u001b[0;34m\u001b[0m\u001b[0m\n\u001b[0m",
            "\u001b[0;31mRecursionError\u001b[0m: maximum recursion depth exceeded"
          ]
        }
      ]
    }
  ]
}