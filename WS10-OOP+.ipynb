{
  "nbformat": 4,
  "nbformat_minor": 0,
  "metadata": {
    "kernelspec": {
      "display_name": "Python 3",
      "language": "python",
      "name": "python3"
    },
    "language_info": {
      "codemirror_mode": {
        "name": "ipython",
        "version": 3
      },
      "file_extension": ".py",
      "mimetype": "text/x-python",
      "name": "python",
      "nbconvert_exporter": "python",
      "pygments_lexer": "ipython3",
      "version": "3.8.5"
    },
    "toc": {
      "base_numbering": 1,
      "nav_menu": {},
      "number_sections": true,
      "sideBar": true,
      "skip_h1_title": false,
      "title_cell": "Table of Contents",
      "title_sidebar": "Contents",
      "toc_cell": false,
      "toc_position": {},
      "toc_section_display": true,
      "toc_window_display": true
    },
    "varInspector": {
      "cols": {
        "lenName": 16,
        "lenType": 16,
        "lenVar": 40
      },
      "kernels_config": {
        "python": {
          "delete_cmd_postfix": "",
          "delete_cmd_prefix": "del ",
          "library": "var_list.py",
          "varRefreshCmd": "print(var_dic_list())"
        },
        "r": {
          "delete_cmd_postfix": ") ",
          "delete_cmd_prefix": "rm(",
          "library": "var_list.r",
          "varRefreshCmd": "cat(var_dic_list()) "
        }
      },
      "types_to_exclude": [
        "module",
        "function",
        "builtin_function_or_method",
        "instance",
        "_Feature"
      ],
      "window_display": false
    },
    "colab": {
      "provenance": []
    }
  },
  "cells": [
    {
      "cell_type": "markdown",
      "metadata": {
        "collapsed": false,
        "id": "qrN7lJzWDI6V"
      },
      "source": [
        "## 0. Объектно-ориентированное программирование в Python."
      ]
    },
    {
      "cell_type": "markdown",
      "metadata": {
        "collapsed": false,
        "id": "57byHXhMDI6V"
      },
      "source": [
        "Бывает, что вам нужно написать программу, которую вы запустите один раз и которая просто должна решить некоторую задачу. В этом случае все средства хороши, и можно оформлять код так, как вам удобно. Есть и другая ситуация: вам надо запрограммировать что-то, что потом вы будете использовать много раз, а ещё этот код могут захотеть редактировать другие люди. Тут надо задуматься о правильном оформлении кода.\n",
        "\n",
        "В машинном обучении главное — это модели, их обучение, применение, подсчёт качества и прочие связанные операции. Допустим, вы собрались запрограммировать обучение и применение метода k ближайших соседей и выложить в открытый доступ. Тогда будет логично потребовать от вашего кода следующее:\n",
        "1. Вы можете что-то улучшить в нём, не поменяв логику работы, и это не сломает ничего у пользователей. Будет странно, если вы, скажем, замените циклы на векторные операции в numpy, опубликуете новую версию, и любой код, зависящий от вашего, перестанет работать. Ведь суть того, что делает ваш код, не поменялась!\n",
        "2. Достаточно легко можно сделать расширенные версии kNN на основе вашего кода — например, запрограммировать kNN с весами.\n",
        "3. От пользователей скрыты все детали вашей реализации — чтобы пользоваться вашим кодом для kNN, им не нужно вникать, как вы храните данные, как ищете ближайших соседей и т.д. Они просто вызывают нужные функции, и всё работает.\n",
        "\n",
        "Объектно-ориентированное программирование (ООП) — это подход к организации кода, который (наверное) лучше всего подходит для оформления операций из машинного обучения. В его основе лежат классы и объекты, а также три важных свойства: инкапсуляция, наследование и полиморфизм. Ниже мы разберёмся со всем этим.\n",
        "\n",
        "Программист может создать класс, своеобразный чертёж, который будет определять поведение объектов этого класса: какие данные они могут хранить и какой код исполнять. После этого можно создавать объекты класса с ожидаемым поведением.\n",
        "\n",
        "Поломать голову над формальными определениями ООП можно [на вики](https://ru.wikipedia.org/wiki/%D0%9E%D0%B1%D1%8A%D0%B5%D0%BA%D1%82%D0%BD%D0%BE-%D0%BE%D1%80%D0%B8%D0%B5%D0%BD%D1%82%D0%B8%D1%80%D0%BE%D0%B2%D0%B0%D0%BD%D0%BD%D0%BE%D0%B5_%D0%BF%D1%80%D0%BE%D0%B3%D1%80%D0%B0%D0%BC%D0%BC%D0%B8%D1%80%D0%BE%D0%B2%D0%B0%D0%BD%D0%B8%D0%B5)."
      ]
    },
    {
      "cell_type": "markdown",
      "metadata": {
        "collapsed": false,
        "id": "S9rhmW7rDI6W"
      },
      "source": [
        "Оглавление:\n",
        "* [Как создать класс](#Как-создать-класс)\n",
        "* [Методы](#Методы)\n",
        "* [Атрибуты класса и метод `__init__`](#Атрибуты-класса-и-метод-__init__)\n",
        "* [Magic методы](#Magic-методы)\n",
        "* [Копирование](#Копирование)\n",
        "* [getter, setter](#getter,-setter)\n",
        "* [`@staticmethod`](#@staticmethod)\n",
        "* [`@classmethod`](#@classmethod)\n",
        "* [Наследование, `super()`](#Наследование,-super())\n",
        "* [ABC — Abstract Base Classes](#ABC-—-Abstract-Base-Classes)\n",
        "* [Datacasses](#Dataclasses)\n",
        "\n",
        "<a name=\"introduction\"></a>"
      ]
    },
    {
      "cell_type": "markdown",
      "metadata": {
        "collapsed": false,
        "id": "2CIa0wejDI6W"
      },
      "source": [
        "### Как создать класс"
      ]
    },
    {
      "cell_type": "markdown",
      "metadata": {
        "collapsed": false,
        "id": "zKeAbgxwDI6W"
      },
      "source": [
        "Класс в питоне создаётся специальной конструкцией `class`. Экземпляр (объект, instance) класса создаётся вызовом класса со скобками."
      ]
    },
    {
      "cell_type": "code",
      "metadata": {
        "pycharm": {
          "name": "#%%\n"
        },
        "id": "79i_EYnmDI6W",
        "colab": {
          "base_uri": "https://localhost:8080/"
        },
        "outputId": "3bf50491-850f-4f9f-bbe9-bfbfb76efe72"
      },
      "source": [
        "class DummyClass:\n",
        "    a = 0\n",
        "    pass\n",
        "\n",
        "\n",
        "dummy_object = DummyClass()\n",
        "\n",
        "dummy_object\n",
        "type(dummy_object)"
      ],
      "execution_count": 2,
      "outputs": [
        {
          "output_type": "execute_result",
          "data": {
            "text/plain": [
              "__main__.DummyClass"
            ]
          },
          "metadata": {},
          "execution_count": 2
        }
      ]
    },
    {
      "cell_type": "code",
      "source": [
        "type(DummyClass)"
      ],
      "metadata": {
        "id": "5MrGWidMOV7X",
        "outputId": "c860889c-8cf8-4b8a-9392-bda76fe3fa91",
        "colab": {
          "base_uri": "https://localhost:8080/"
        }
      },
      "execution_count": 10,
      "outputs": [
        {
          "output_type": "execute_result",
          "data": {
            "text/plain": [
              "type"
            ]
          },
          "metadata": {},
          "execution_count": 10
        }
      ]
    },
    {
      "cell_type": "code",
      "source": [
        "dir(DummyClass)"
      ],
      "metadata": {
        "id": "iUW_WhPJOTUt",
        "outputId": "ed81ac10-b829-47b7-a6b9-f7a8986ab844",
        "colab": {
          "base_uri": "https://localhost:8080/"
        }
      },
      "execution_count": 9,
      "outputs": [
        {
          "output_type": "execute_result",
          "data": {
            "text/plain": [
              "['__annotations__',\n",
              " '__class__',\n",
              " '__delattr__',\n",
              " '__dict__',\n",
              " '__dir__',\n",
              " '__doc__',\n",
              " '__eq__',\n",
              " '__format__',\n",
              " '__ge__',\n",
              " '__getattribute__',\n",
              " '__gt__',\n",
              " '__hash__',\n",
              " '__init__',\n",
              " '__init_subclass__',\n",
              " '__le__',\n",
              " '__lt__',\n",
              " '__module__',\n",
              " '__ne__',\n",
              " '__new__',\n",
              " '__reduce__',\n",
              " '__reduce_ex__',\n",
              " '__repr__',\n",
              " '__setattr__',\n",
              " '__sizeof__',\n",
              " '__str__',\n",
              " '__subclasshook__',\n",
              " '__weakref__',\n",
              " 'a']"
            ]
          },
          "metadata": {},
          "execution_count": 9
        }
      ]
    },
    {
      "cell_type": "code",
      "source": [
        "dir(dummy_object)"
      ],
      "metadata": {
        "id": "OvXUc3WtPZW7",
        "outputId": "d5707190-a054-4281-a3ac-2279bbeb25d1",
        "colab": {
          "base_uri": "https://localhost:8080/"
        }
      },
      "execution_count": 15,
      "outputs": [
        {
          "output_type": "execute_result",
          "data": {
            "text/plain": [
              "['__annotations__',\n",
              " '__class__',\n",
              " '__delattr__',\n",
              " '__dict__',\n",
              " '__dir__',\n",
              " '__doc__',\n",
              " '__eq__',\n",
              " '__format__',\n",
              " '__ge__',\n",
              " '__getattribute__',\n",
              " '__gt__',\n",
              " '__hash__',\n",
              " '__init__',\n",
              " '__init_subclass__',\n",
              " '__le__',\n",
              " '__lt__',\n",
              " '__module__',\n",
              " '__ne__',\n",
              " '__new__',\n",
              " '__reduce__',\n",
              " '__reduce_ex__',\n",
              " '__repr__',\n",
              " '__setattr__',\n",
              " '__sizeof__',\n",
              " '__str__',\n",
              " '__subclasshook__',\n",
              " '__weakref__',\n",
              " 'a']"
            ]
          },
          "metadata": {},
          "execution_count": 15
        }
      ]
    },
    {
      "cell_type": "code",
      "source": [
        "DummyClass.__dict__"
      ],
      "metadata": {
        "id": "H6KxdcNGPCdP",
        "outputId": "be3a4953-1aad-45e2-c1c0-a166959f7130",
        "colab": {
          "base_uri": "https://localhost:8080/"
        }
      },
      "execution_count": 13,
      "outputs": [
        {
          "output_type": "execute_result",
          "data": {
            "text/plain": [
              "mappingproxy({'__module__': '__main__',\n",
              "              'a': 0,\n",
              "              '__dict__': <attribute '__dict__' of 'DummyClass' objects>,\n",
              "              '__weakref__': <attribute '__weakref__' of 'DummyClass' objects>,\n",
              "              '__doc__': None,\n",
              "              '__annotations__': {}})"
            ]
          },
          "metadata": {},
          "execution_count": 13
        }
      ]
    },
    {
      "cell_type": "code",
      "source": [
        "object"
      ],
      "metadata": {
        "id": "JfKsY2-xOMpf",
        "outputId": "f842837a-1b50-464a-9d56-6da00da4220f",
        "colab": {
          "base_uri": "https://localhost:8080/"
        }
      },
      "execution_count": 8,
      "outputs": [
        {
          "output_type": "execute_result",
          "data": {
            "text/plain": [
              "object"
            ]
          },
          "metadata": {},
          "execution_count": 8
        }
      ]
    },
    {
      "cell_type": "code",
      "source": [
        "DummyClass.__bases__"
      ],
      "metadata": {
        "id": "ON7_Ez37OFS3",
        "outputId": "0e90a9ff-82ed-47bb-f831-68ed1e32ca84",
        "colab": {
          "base_uri": "https://localhost:8080/"
        }
      },
      "execution_count": 7,
      "outputs": [
        {
          "output_type": "execute_result",
          "data": {
            "text/plain": [
              "(object,)"
            ]
          },
          "metadata": {},
          "execution_count": 7
        }
      ]
    },
    {
      "cell_type": "code",
      "source": [
        "DummyClass.__mro__"
      ],
      "metadata": {
        "id": "5wWqN9hwM8Rd",
        "outputId": "a78c12b7-ca89-434c-dac8-6dd8a0219ad8",
        "colab": {
          "base_uri": "https://localhost:8080/"
        }
      },
      "execution_count": 6,
      "outputs": [
        {
          "output_type": "execute_result",
          "data": {
            "text/plain": [
              "(__main__.DummyClass, object)"
            ]
          },
          "metadata": {},
          "execution_count": 6
        }
      ]
    },
    {
      "cell_type": "code",
      "metadata": {
        "pycharm": {
          "name": "#%%\n"
        },
        "id": "6nwBilljDI6X",
        "colab": {
          "base_uri": "https://localhost:8080/"
        },
        "outputId": "6d5a3f83-9fe1-461e-9fc1-9ba9418bafd5"
      },
      "source": [
        "import math\n",
        "vars(DummyClass)"
      ],
      "execution_count": null,
      "outputs": [
        {
          "output_type": "execute_result",
          "data": {
            "text/plain": [
              "mappingproxy({'__module__': '__main__',\n",
              "              'a': 0,\n",
              "              '__dict__': <attribute '__dict__' of 'DummyClass' objects>,\n",
              "              '__weakref__': <attribute '__weakref__' of 'DummyClass' objects>,\n",
              "              '__doc__': None})"
            ]
          },
          "metadata": {},
          "execution_count": 8
        }
      ]
    },
    {
      "cell_type": "markdown",
      "metadata": {
        "collapsed": false,
        "id": "DyCg5UmdDI6X"
      },
      "source": [
        "Названия классов в питоне пишутся CamelCase, названия функций/объектов/переменных snake_case."
      ]
    },
    {
      "cell_type": "markdown",
      "metadata": {
        "collapsed": false,
        "id": "-iCFJYh0DI6X"
      },
      "source": [
        "### Методы"
      ]
    },
    {
      "cell_type": "markdown",
      "metadata": {
        "collapsed": false,
        "id": "ReOX6JVeDI6X"
      },
      "source": [
        "Классы могут определять функции, которые можно будет вызывать от их объектов. Такие функции называются методами. В любом (почти) методе первым аргументом является self. В него будет передан сам объект, от которого вызывается метод.\n",
        "\n",
        "Наш класс не особо полезен, так как ничего не делает. Давайте напишем класс с методом. Вызов методов происходит через оператор `.`"
      ]
    },
    {
      "cell_type": "code",
      "metadata": {
        "pycharm": {
          "name": "#%%\n"
        },
        "id": "uIe4LRcPDI6X",
        "colab": {
          "base_uri": "https://localhost:8080/"
        },
        "outputId": "be6b8504-8806-4599-df11-9f2bb16a3989"
      },
      "source": [
        "GOOSE = \"\"\"\n",
        "░░░░░▄▀▀▀▄░░░░░░░░\n",
        "▄███▀░◐░░░▌░░░░░░░\n",
        "░░░░▌░░░░░▐░░░░░░░\n",
        "░░░░▐░░░░░▐░░░░░░░\n",
        "░░░░▌░░░░░▐▄▄░░░░░\n",
        "░░░░▌░░░░▄▀▒▒▀▀▀▀▄\n",
        "░░░▐░░░░▐▒▒▒▒▒▒▒▒▀▀▄\n",
        "░░░▐░░░░▐▄▒▒▒▒▒▒▒▒▒▒▀▄\n",
        "░░░░▀▄░░░░▀▄▒▒▒▒▒▒▒▒▒▒▀▄\n",
        "░░░░░░▀▄▄▄▄▄█▄▄▄▄▄▄▄▄▄▄▄▀▄\n",
        "░░░░░░░░░░░▌▌▌▌░░░░░\n",
        "░░░░░░░░░░░▌▌░▌▌░░░░░\n",
        "░░░░░░░░░▄▄▌▌▄▌▌░░░░░\"\"\"\n",
        "\n",
        "class GoosePrinter:\n",
        "    GOOSE = 'goose'\n",
        "    def print_goose(self) -> None:\n",
        "        print(self.GOOSE)\n",
        "\n",
        "# class GoosePrinter:\n",
        "#     GOOSE = 'goose'\n",
        "#     def print_goose() -> None:\n",
        "#         print(GoosePrinter.GOOSE)\n",
        "\n",
        "goose_printer = GoosePrinter()\n",
        "ret = goose_printer.print_goose()\n",
        "\n",
        "# GoosePrinter.print_goose()\n",
        "\n",
        "print(ret)"
      ],
      "execution_count": 34,
      "outputs": [
        {
          "output_type": "stream",
          "name": "stdout",
          "text": [
            "goose\n",
            "None\n"
          ]
        }
      ]
    },
    {
      "cell_type": "code",
      "metadata": {
        "pycharm": {
          "name": "#%%\n"
        },
        "id": "WJeeqPgiDI6Y",
        "colab": {
          "base_uri": "https://localhost:8080/"
        },
        "outputId": "e213348d-cfe2-4220-f452-153dd92b2cd3"
      },
      "source": [
        "vars(GoosePrinter)"
      ],
      "execution_count": null,
      "outputs": [
        {
          "output_type": "execute_result",
          "data": {
            "text/plain": [
              "mappingproxy({'__module__': '__main__',\n",
              "              'GOOSE': 'goose',\n",
              "              'print_goose': <staticmethod at 0x7fcc6deb93d0>,\n",
              "              '__dict__': <attribute '__dict__' of 'GoosePrinter' objects>,\n",
              "              '__weakref__': <attribute '__weakref__' of 'GoosePrinter' objects>,\n",
              "              '__doc__': None})"
            ]
          },
          "metadata": {},
          "execution_count": 22
        }
      ]
    },
    {
      "cell_type": "markdown",
      "metadata": {
        "collapsed": false,
        "id": "t2qmFba2DI6Y"
      },
      "source": [
        "Обратите внимание, что мы вызвали метод без аргументов, хотя в сигнатуре есть аргумент `self`. `self` подаётся \"автоматически\"."
      ]
    },
    {
      "cell_type": "markdown",
      "metadata": {
        "collapsed": false,
        "id": "E21HgeRADI6Y"
      },
      "source": [
        "**NB:** первый аргумент можно назвать как угодно, не обязательно `self`. Но не нужно."
      ]
    },
    {
      "cell_type": "markdown",
      "metadata": {
        "collapsed": false,
        "id": "p_jqonyODI6Y"
      },
      "source": [
        "### Атрибуты класса и метод `__init__`"
      ]
    },
    {
      "cell_type": "markdown",
      "metadata": {
        "collapsed": false,
        "id": "vZVJPZcIDI6Y"
      },
      "source": [
        "Помимо методов у объектов класса могут быть атрибуты &mdash; переменные. К ним так же можно обращаться через `.`, а создавать внутри класса их как раз можно при помощи вышеупомянутого `self`.\n",
        "\n",
        "Любой класс может определить метод `__init__` &mdash; конструктор: он выполняется при создании объекта класса, а его аргументы передаются в скобках после названия класса во время создания. Обычно именно в нём и задаются атрибуты класса.\n",
        "\n",
        "Давайте напишем класс целочисленной точки на плоскости, объекты которого будут уметь выводить свои координаты:"
      ]
    },
    {
      "cell_type": "code",
      "metadata": {
        "pycharm": {
          "name": "#%%\n"
        },
        "id": "BY3N2D_8DI6Z",
        "colab": {
          "base_uri": "https://localhost:8080/"
        },
        "outputId": "e6e7c14d-8fdb-4c21-936d-054c67e72124"
      },
      "source": [
        "class Point2D:\n",
        "    \"\"\"\n",
        "    A point in 2D space\n",
        "    :param x: x coordinate\n",
        "    :param y: y coordinate\n",
        "    \"\"\"\n",
        "    def __init__(self, x: int, y: int) -> None:\n",
        "        # Создаём атрибуты и присваиваем им переданные значения координат\n",
        "        self.x = x\n",
        "        self.y = y\n",
        "\n",
        "    def print_coords(self) -> None:\n",
        "        \"\"\"Выводим координаты, обращаясь к ним через self с точкой\"\"\"\n",
        "        # Выводим координаты, обращаясь к ним через self с точкой\n",
        "        print(f\"({self.x}, {self.y})\")\n",
        "\n",
        "    def first_coord(self) -> int:\n",
        "        return self.n\n",
        "\n",
        "\n",
        "point = Point2D(3, 5)\n",
        "point.print_coords()\n",
        "\n",
        "# vars(Point2D)\n",
        "\n",
        "# point.x\n",
        "\n",
        "# del point.x\n",
        "\n",
        "# point.x\n",
        "\n",
        "# print(point.first_coord())\n",
        "\n",
        "# # point.print_coords()\n",
        "\n",
        "# point.n = 10\n",
        "\n",
        "# print(point.n)\n",
        "\n",
        "# point.first_coord()\n",
        "\n",
        "print(point)\n",
        "\n",
        "point"
      ],
      "execution_count": 57,
      "outputs": [
        {
          "output_type": "stream",
          "name": "stdout",
          "text": [
            "(3, 5)\n",
            "<__main__.Point2D object at 0x7e32b670f160>\n"
          ]
        },
        {
          "output_type": "execute_result",
          "data": {
            "text/plain": [
              "<__main__.Point2D at 0x7e32b670f160>"
            ]
          },
          "metadata": {},
          "execution_count": 57
        }
      ]
    },
    {
      "cell_type": "code",
      "source": [
        "help(Point2D)"
      ],
      "metadata": {
        "id": "wO5dETflTgo5",
        "outputId": "a7f3a52e-ef09-48a4-dbc0-1e0dbed4dee3",
        "colab": {
          "base_uri": "https://localhost:8080/"
        }
      },
      "execution_count": 40,
      "outputs": [
        {
          "output_type": "stream",
          "name": "stdout",
          "text": [
            "Help on class Point2D in module __main__:\n",
            "\n",
            "class Point2D(builtins.object)\n",
            " |  Point2D(x: int, y: int) -> None\n",
            " |  \n",
            " |  A point in 2D space\n",
            " |  :param x: x coordinate\n",
            " |  :param y: y coordinate\n",
            " |  \n",
            " |  Methods defined here:\n",
            " |  \n",
            " |  __init__(self, x: int, y: int) -> None\n",
            " |      Initialize self.  See help(type(self)) for accurate signature.\n",
            " |  \n",
            " |  first_coord(self) -> int\n",
            " |  \n",
            " |  print_coords(self) -> None\n",
            " |      Выводим координаты, обращаясь к ним через self с точкой\n",
            " |  \n",
            " |  ----------------------------------------------------------------------\n",
            " |  Data descriptors defined here:\n",
            " |  \n",
            " |  __dict__\n",
            " |      dictionary for instance variables (if defined)\n",
            " |  \n",
            " |  __weakref__\n",
            " |      list of weak references to the object (if defined)\n",
            "\n"
          ]
        }
      ]
    },
    {
      "cell_type": "markdown",
      "metadata": {
        "collapsed": false,
        "id": "mkSztPH2DI6Z"
      },
      "source": [
        "Мы задаём координаты в конструкторе, присваивая их `self` через точку, и потом можем использовать их в методе."
      ]
    },
    {
      "cell_type": "markdown",
      "metadata": {
        "collapsed": false,
        "id": "AgksAiRIDI6Z"
      },
      "source": [
        "### Magic методы"
      ]
    },
    {
      "cell_type": "markdown",
      "metadata": {
        "collapsed": false,
        "id": "42aEngaBDI6Z"
      },
      "source": [
        "В питоне у классов могут быть так называемые магические методы. Это методы, которые может определить класс, которые позволяют ему действовать определённым образом. Обычно они не вызываются напрямую.\n",
        "\n",
        "Все магические методы отличаются тем, что их названия начинаются и заканчиваются на двойные подчёркивания (`__method__`). С одним таким мы уже познакомились &mdash; это метод `__init__`, который вызывается при создании объекта класса. Давайте посмотрим, какие ещё бывают магические методы:"
      ]
    },
    {
      "cell_type": "markdown",
      "metadata": {
        "collapsed": false,
        "id": "XHQEELK_DI6a"
      },
      "source": [
        "#### \\_\\_str\\_\\_ и \\_\\_repr\\_\\_ [(Документация)](https://docs.python.org/3/reference/datamodel.html#object.__repr__)"
      ]
    },
    {
      "cell_type": "markdown",
      "metadata": {
        "collapsed": false,
        "id": "uwNcaox3DI6a"
      },
      "source": [
        "Методы `__str__` и `__repr__` позволяют добавить текстовое описание к объекту класса. Они возвращают строку, описывающую объект.\n",
        "\n",
        "Метод `__str__` должен возвращать строку, описывающую объект простым, понятным, читаемым образом, а метод `__repr__` предназаначен больше для дебага и должен возвращать всю информацию об объекте, а его вывод должен в идеале быть исполняемым кодом, с помощью которого можно было бы создать такой же объект.\n",
        "\n",
        "Метод `__str__` вызывается, например, когда мы принтим объект или берём `str` от него (например, `str(point)`).\n",
        "Метод `__repr__` вызывается, например, когда мы просто выводим объект в консоли или берём `repr` от него.\n",
        "Если `__str__` не определён, по дефолту его роль будет играть `__repr__`.\n",
        "\n",
        "Давайте избавимся от метода `print_coords` и добавим нашим точкам хорошее форматирование:"
      ]
    },
    {
      "cell_type": "code",
      "metadata": {
        "pycharm": {
          "name": "#%%\n"
        },
        "id": "emSxWDoPDI6a",
        "colab": {
          "base_uri": "https://localhost:8080/"
        },
        "outputId": "87781b72-c03e-4a8f-dd3b-a91fd72b70b5"
      },
      "source": [
        "# Для начала убедимся, что по дефолту наши точки не умеют красиво печататься:\n",
        "print(f\"Некрасивая точка: {Point2D(5, 5)}\")\n",
        "\n",
        "class Point2D:\n",
        "    \"\"\"\n",
        "    A point in 2D space\n",
        "    :param x: x coordinate\n",
        "    :param y: y coordinate\n",
        "    \"\"\"\n",
        "    def __init__(self, x: int, y: int) -> None:\n",
        "        # Создаём атрибуты и присваиваем им переданные значения координат\n",
        "        self.x = x\n",
        "        self.y = y\n",
        "\n",
        "    def __repr__(self) -> str:\n",
        "        return f\"Point2D({self.x}, {self.y})\"\n",
        "\n",
        "    def __str__(self) -> str:\n",
        "        return f\"A 2D point with coordinates ({self.x}, {self.y})\"\n",
        "\n",
        "# Посмотрим, что у нас есть теперь:\n",
        "print(Point2D(5, 5))\n",
        "Point2D(3, 4)"
      ],
      "execution_count": 64,
      "outputs": [
        {
          "output_type": "stream",
          "name": "stdout",
          "text": [
            "Некрасивая точка: A 2D point with coordinates (5, 5)\n",
            "A 2D point with coordinates (5, 5)\n"
          ]
        },
        {
          "output_type": "execute_result",
          "data": {
            "text/plain": [
              "Point2D(3, 4)"
            ]
          },
          "metadata": {},
          "execution_count": 64
        }
      ]
    },
    {
      "cell_type": "code",
      "metadata": {
        "pycharm": {
          "name": "#%%\n"
        },
        "id": "fVbzdcZvDI6a",
        "colab": {
          "base_uri": "https://localhost:8080/"
        },
        "outputId": "08dd9e27-d0ae-4809-881a-0d0b7cbd7cfa"
      },
      "source": [
        "p = Point2D(10, 11)\n",
        "p"
      ],
      "execution_count": 65,
      "outputs": [
        {
          "output_type": "execute_result",
          "data": {
            "text/plain": [
              "Point2D(10, 11)"
            ]
          },
          "metadata": {},
          "execution_count": 65
        }
      ]
    },
    {
      "cell_type": "code",
      "metadata": {
        "pycharm": {
          "name": "#%%\n"
        },
        "id": "uV6iL3PBDI6a",
        "colab": {
          "base_uri": "https://localhost:8080/",
          "height": 210
        },
        "outputId": "aa06971c-3321-4877-f686-d27311fc0fea"
      },
      "source": [
        "print(p)\n",
        "p + Point2D(1, 1)"
      ],
      "execution_count": 66,
      "outputs": [
        {
          "output_type": "stream",
          "name": "stdout",
          "text": [
            "A 2D point with coordinates (10, 11)\n"
          ]
        },
        {
          "output_type": "error",
          "ename": "TypeError",
          "evalue": "ignored",
          "traceback": [
            "\u001b[0;31m---------------------------------------------------------------------------\u001b[0m",
            "\u001b[0;31mTypeError\u001b[0m                                 Traceback (most recent call last)",
            "\u001b[0;32m<ipython-input-66-6a46ff8d6649>\u001b[0m in \u001b[0;36m<cell line: 2>\u001b[0;34m()\u001b[0m\n\u001b[1;32m      1\u001b[0m \u001b[0mprint\u001b[0m\u001b[0;34m(\u001b[0m\u001b[0mp\u001b[0m\u001b[0;34m)\u001b[0m\u001b[0;34m\u001b[0m\u001b[0;34m\u001b[0m\u001b[0m\n\u001b[0;32m----> 2\u001b[0;31m \u001b[0mp\u001b[0m \u001b[0;34m+\u001b[0m \u001b[0mPoint2D\u001b[0m\u001b[0;34m(\u001b[0m\u001b[0;36m1\u001b[0m\u001b[0;34m,\u001b[0m \u001b[0;36m1\u001b[0m\u001b[0;34m)\u001b[0m\u001b[0;34m\u001b[0m\u001b[0;34m\u001b[0m\u001b[0m\n\u001b[0m",
            "\u001b[0;31mTypeError\u001b[0m: unsupported operand type(s) for +: 'Point2D' and 'Point2D'"
          ]
        }
      ]
    },
    {
      "cell_type": "markdown",
      "metadata": {
        "collapsed": false,
        "id": "nSeeQGQ_DI6b"
      },
      "source": [
        "Обратите внимание, что `__str__` вызвался, когда мы запринтили объект, а `__repr__`, когда мы вывели его в конце ячейки."
      ]
    },
    {
      "cell_type": "markdown",
      "metadata": {
        "collapsed": false,
        "id": "HlTeTyJwDI6b"
      },
      "source": [
        "#### \\_\\_add\\_\\_, \\_\\_sub\\_\\_, \\_\\_mul\\_\\_, \\_\\_truediv\\_\\_, etc. [(Документация)](https://docs.python.org/3/reference/datamodel.html#emulating-numeric-types)"
      ]
    },
    {
      "cell_type": "markdown",
      "metadata": {
        "collapsed": false,
        "id": "DR7FklQdDI6b"
      },
      "source": [
        "Методы `__add__`, `__sub__`, `__mul__`, `__truediv__` позовляют добавить классу функционал сложения, вычитания, умножения, деления и так далее, (операторы `+`, `-`, `*`, `/`, etc.). Они вызываются от левого операнда и применяются к правому, возвращая результат. Давайте научим наши точки складываться и вычитаться:"
      ]
    },
    {
      "cell_type": "code",
      "metadata": {
        "pycharm": {
          "name": "#%%\n"
        },
        "id": "BYA5_43VDI6b"
      },
      "source": [
        "class Point2D:\n",
        "    \"\"\"\n",
        "    A point in 2D space\n",
        "    :param x: x coordinate\n",
        "    :param y: y coordinate\n",
        "    \"\"\"\n",
        "    def __init__(self, x: int, y: int) -> None:\n",
        "        # Создаём атрибуты и присваиваем им переданные значения координат\n",
        "        # self.set_x(x)\n",
        "        self.x = x\n",
        "        self.y = y\n",
        "\n",
        "    def __repr__(self) -> str:\n",
        "        return f\"Point2D({self.x}, {self.y})\"\n",
        "\n",
        "    def __str__(self) -> str:\n",
        "        return f\"A 2D point with coordinates ({self.x}, {self.y})\"\n",
        "\n",
        "    def __add__(self, other: Point2D) -> Point2D:\n",
        "        return Point2D(self.x + other.x, self.y + other.y)\n",
        "\n",
        "    def __sub__(self, other: Point2D) -> Point2D:\n",
        "        return Point2D(self.x - other.x, self.y - other.y)\n",
        "\n",
        "    # def set_x(self, value):\n",
        "    #     self.x = value\n",
        "\n",
        "    # def get_x(self):\n",
        "    #     return self.x"
      ],
      "execution_count": 73,
      "outputs": []
    },
    {
      "cell_type": "code",
      "source": [
        "point = Point2D(3, 5)\n",
        "print(point + Point2D(4, 7))\n",
        "print(point - Point2D(4, 7))"
      ],
      "metadata": {
        "id": "hqPDyLxvXt_k",
        "outputId": "717a03cb-7f98-4e20-a518-3d9dd7d30f89",
        "colab": {
          "base_uri": "https://localhost:8080/"
        }
      },
      "execution_count": 76,
      "outputs": [
        {
          "output_type": "stream",
          "name": "stdout",
          "text": [
            "A 2D point with coordinates (7, 12)\n",
            "A 2D point with coordinates (-1, -2)\n"
          ]
        }
      ]
    },
    {
      "cell_type": "markdown",
      "metadata": {
        "collapsed": false,
        "id": "BcHy0-BNDI6c"
      },
      "source": [
        "У каждого из вышеописанных методов есть так же версия \"i\" в начале, отвечающая за операцию с присвоением (`__iadd__` &mdash; `+=`, `__isub__` &mdash; `-=`, etc.)\n",
        "\n",
        "В принципе, операции с присовением будут работать и так, питон сам выведет их из обычных операций. Но на самом деле они не будут модифицировать объект in-place, а будут возвращать новый объект и присваивать его переменной:"
      ]
    },
    {
      "cell_type": "code",
      "metadata": {
        "pycharm": {
          "name": "#%%\n"
        },
        "id": "eJHiiwi5DI6c",
        "colab": {
          "base_uri": "https://localhost:8080/"
        },
        "outputId": "aec2edd9-9124-485e-e5eb-5a9b110d24cf"
      },
      "source": [
        "a = Point2D(3, 3)\n",
        "print(id(a))\n",
        "print(a)\n",
        "\n",
        "a += Point2D(1, 1)\n",
        "print(id(a))\n",
        "print(a)"
      ],
      "execution_count": 83,
      "outputs": [
        {
          "output_type": "stream",
          "name": "stdout",
          "text": [
            "138755430174864\n",
            "A 2D point with coordinates (3, 3)\n",
            "138755430174864\n",
            "A 2D point with coordinates (4, 4)\n"
          ]
        }
      ]
    },
    {
      "cell_type": "code",
      "source": [
        "b = a + point\n",
        "b"
      ],
      "metadata": {
        "id": "KZAMMISyYcyi",
        "outputId": "a8692f1f-a266-4e2b-a193-06903277ef56",
        "colab": {
          "base_uri": "https://localhost:8080/"
        }
      },
      "execution_count": 79,
      "outputs": [
        {
          "output_type": "execute_result",
          "data": {
            "text/plain": [
              "Point2D(7, 9)"
            ]
          },
          "metadata": {},
          "execution_count": 79
        }
      ]
    },
    {
      "cell_type": "code",
      "source": [
        "print(id(a), id(b), id(point), sep='\\n')"
      ],
      "metadata": {
        "id": "CdnLi5YYYfjN",
        "outputId": "a45047c7-f401-4bc5-f8da-69b7fa6ec5c9",
        "colab": {
          "base_uri": "https://localhost:8080/"
        }
      },
      "execution_count": 80,
      "outputs": [
        {
          "output_type": "stream",
          "name": "stdout",
          "text": [
            "138755797300608\n",
            "138755430174816\n",
            "138755797301760\n"
          ]
        }
      ]
    },
    {
      "cell_type": "markdown",
      "metadata": {
        "collapsed": false,
        "id": "rBhIpwPCDI6c"
      },
      "source": [
        "В данном случае это скорее правильное поведение, но давайте для практики добавим в наш класс эти методы:"
      ]
    },
    {
      "cell_type": "code",
      "metadata": {
        "pycharm": {
          "name": "#%%\n"
        },
        "id": "8RkpFz-CDI6c"
      },
      "source": [
        "class Point2D:\n",
        "    \"\"\"\n",
        "    A point in 2D space\n",
        "    :param x: x coordinate\n",
        "    :param y: y coordinate\n",
        "    \"\"\"\n",
        "    def __init__(self, x: int, y: int) -> None:\n",
        "        # Создаём атрибуты и присваиваем им переданные значения координат\n",
        "        self.x = x\n",
        "        self.y = y\n",
        "\n",
        "    def __repr__(self) -> str:\n",
        "        return f\"Point2D({self.x}, {self.y})\"\n",
        "\n",
        "    def __str__(self) -> str:\n",
        "        return f\"A 2D point with coordinates ({self.x}, {self.y})\"\n",
        "\n",
        "    def __add__(self, other: Point2D) -> Point2D:\n",
        "        return Point2D(self.x + other.x, self.y + other.y)\n",
        "\n",
        "    def __sub__(self, other: Point2D) -> Point2D:\n",
        "        return Point2D(self.x - other.x, self.y - other.y)\n",
        "\n",
        "    def __iadd__(self, other: Point2D) -> Point2D:\n",
        "        self.x += other.x\n",
        "        self.y += other.y\n",
        "        return self\n",
        "\n",
        "    def __isub__(self, other: Point2D) -> Point2D:\n",
        "        self.x -= other.x\n",
        "        self.y -= other.y\n",
        "        return self"
      ],
      "execution_count": 81,
      "outputs": []
    },
    {
      "cell_type": "code",
      "metadata": {
        "pycharm": {
          "name": "#%%\n"
        },
        "id": "JcPagzzgDI6c",
        "colab": {
          "base_uri": "https://localhost:8080/"
        },
        "outputId": "75923e38-1b3a-4c77-97b8-2810f7422a83"
      },
      "source": [
        "a = Point2D(3, 3)\n",
        "print(id(a))\n",
        "\n",
        "a += Point2D(2, 2)\n",
        "print(id(a))\n",
        "print(a)\n",
        "\n",
        "a += Point2D(2, 2)\n",
        "print(id(a))\n",
        "print(a)"
      ],
      "execution_count": 84,
      "outputs": [
        {
          "output_type": "stream",
          "name": "stdout",
          "text": [
            "138755430177312\n",
            "138755430177312\n",
            "A 2D point with coordinates (5, 5)\n",
            "138755430177312\n",
            "A 2D point with coordinates (7, 7)\n"
          ]
        }
      ]
    },
    {
      "cell_type": "markdown",
      "metadata": {
        "collapsed": false,
        "id": "jqf5IscXDI6d"
      },
      "source": [
        "Теперь при использовании `+=` мы остаёмся с тем же объектом."
      ]
    },
    {
      "cell_type": "markdown",
      "metadata": {
        "collapsed": false,
        "id": "B6DWpUovDI6d"
      },
      "source": [
        "#### \\_\\_eq\\_\\_, \\_\\_ne\\_\\_, \\_\\_lt\\_\\_, \\_\\_le\\_\\_, \\_\\_gt\\_\\_, \\_\\_ge\\_\\_,  [(Документация)](https://docs.python.org/3/reference/datamodel.html#object.__lt__)"
      ]
    },
    {
      "cell_type": "markdown",
      "metadata": {
        "collapsed": false,
        "id": "MaIJiWD0DI6d"
      },
      "source": [
        "По умолчанию объекты классов в питоне не имеют порядка и сравниваются на равенство при помощи `is`.\n",
        "Таким образом, две точки будут равны друг другу только тогда когда они представляют один и тот же объект в памяти:"
      ]
    },
    {
      "cell_type": "code",
      "metadata": {
        "pycharm": {
          "name": "#%%\n"
        },
        "id": "47czREhWDI6d",
        "colab": {
          "base_uri": "https://localhost:8080/"
        },
        "outputId": "a5c11114-bf6b-44ce-e9d8-b4e6df3bd31b"
      },
      "source": [
        "a = Point2D(1, 1)\n",
        "b = Point2D(1, 1)\n",
        "\n",
        "a == b, a == a"
      ],
      "execution_count": 95,
      "outputs": [
        {
          "output_type": "execute_result",
          "data": {
            "text/plain": [
              "(True, True)"
            ]
          },
          "metadata": {},
          "execution_count": 95
        }
      ]
    },
    {
      "cell_type": "code",
      "source": [
        "a is b"
      ],
      "metadata": {
        "id": "IynMd1mcZLRt",
        "outputId": "1fb88c0c-696d-4ae8-827e-62555e77e6d7",
        "colab": {
          "base_uri": "https://localhost:8080/"
        }
      },
      "execution_count": 94,
      "outputs": [
        {
          "output_type": "execute_result",
          "data": {
            "text/plain": [
              "False"
            ]
          },
          "metadata": {},
          "execution_count": 94
        }
      ]
    },
    {
      "cell_type": "markdown",
      "metadata": {
        "collapsed": false,
        "id": "cQZaiz_fDI6d"
      },
      "source": [
        "Методы `__eq__`, `__ne__`, `__lt__`, `__le__`, `__gt__`, `__ge__` позволяют задать правила сравнения для объектов класса.\n",
        "\n",
        "Давайте научим наши точки сравниваться:"
      ]
    },
    {
      "cell_type": "code",
      "metadata": {
        "pycharm": {
          "name": "#%%\n"
        },
        "id": "NwaGlmg2DI6d",
        "colab": {
          "base_uri": "https://localhost:8080/"
        },
        "outputId": "4b8c6ff2-edda-491f-84f1-fb794576cedb"
      },
      "source": [
        "class Point2D:\n",
        "    \"\"\"\n",
        "    A point in 2D space\n",
        "    :param x: x coordinate\n",
        "    :param y: y coordinate\n",
        "    \"\"\"\n",
        "    def __init__(self, x: int, y: int) -> None:\n",
        "        # Создаём атрибуты и присваиваем им переданные значения координат\n",
        "        self.x = x\n",
        "        self.y = y\n",
        "\n",
        "    def __repr__(self) -> str:\n",
        "        return f\"Point2D({self.x}, {self.y})\"\n",
        "\n",
        "    def __str__(self) -> str:\n",
        "        return f\"A 2D point with coordinates ({self.x}, {self.y})\"\n",
        "\n",
        "    def __add__(self, other: Point2D) -> Point2D:\n",
        "        return Point2D(self.x + other.x, self.y + other.y)\n",
        "\n",
        "    def __sub__(self, other: Point2D) -> Point2D:\n",
        "        return Point2D(self.x - other.x, self.y - other.y)\n",
        "\n",
        "    def __iadd__(self, other: Point2D) -> Point2D:\n",
        "        self.x += other.x\n",
        "        self.y += other.y\n",
        "        return self\n",
        "\n",
        "    def __isub__(self, other: Point2D) -> Point2D:\n",
        "        self.x -= other.x\n",
        "        self.y -= other.y\n",
        "        return self\n",
        "\n",
        "    def __eq__(self, other: Point2D) -> Point2D:\n",
        "        return self.x == other.x and self.y == other.y\n",
        "\n",
        "    # def __call__(self):\n",
        "    #     print('сall', end=' ')\n",
        "    #     print(self)\n",
        "\n",
        "print(Point2D(1, 1) == Point2D(1, 1))\n",
        "print(Point2D(1, 1) != Point2D(1, 1))\n",
        "print(Point2D(1, 1) == Point2D(1, 2))\n",
        "print(Point2D(1, 1) != Point2D(1, 2))\n",
        "\n",
        "p = Point2D(1, 1)\n",
        "# p()"
      ],
      "execution_count": 97,
      "outputs": [
        {
          "output_type": "stream",
          "name": "stdout",
          "text": [
            "True\n",
            "False\n",
            "False\n",
            "True\n"
          ]
        }
      ]
    },
    {
      "cell_type": "markdown",
      "metadata": {
        "collapsed": false,
        "id": "I1pqo2nLDI6e"
      },
      "source": [
        "Обратите внимание, что когда мы определили `__eq__` (==) для сравнения, `__ne__` (!=) вывелся автоматически. Однако, это исключение. Если мы, например, определим ещё и `__gt__` (>), операция `__le__` (<=) сама не выведется.\n",
        "\n",
        "**NB**: Если вам хочется написать одну операцию, чтобы остальные вывелись автоматически, используйте декоратор [`functools.total_ordering`](https://docs.python.org/3/library/functools.html#functools.total_ordering)\n",
        "\n",
        "\n"
      ]
    },
    {
      "cell_type": "markdown",
      "metadata": {
        "collapsed": false,
        "id": "6jWMexRKDI6e"
      },
      "source": [
        "Кроме описанных в питоне есть ещё великое множество магических методов, которые способны осуществить примерно любое поведение, которое вы видели в питоне. Все их можно посмотреть [в документации](https://docs.python.org/3/reference/datamodel.html#special-method-names) или нагуглить.\n",
        "\n",
        "Из полезных можно отметить:\n",
        "* `__new__` и `__del__` &mdash; создание и удаление объекта.\n",
        "* `__len__` &mdash; возвращение длины объекта (например, контейнера). Используется функцией `len`.\n",
        "* `__getitem__`, `__setitem__` &mdash; индексация квадратными скобками.\n",
        "* `__getattr__`, `__setattr__` &mdash; обращение к атрибутам по точке.\n",
        "* `__iter__` &mdash; возвращает итератор, проходящий по объекту. Используется, например, for.\n",
        "* `__next__` &mdash; возвращает следующее состояние итератора\n",
        "* `__nonzero__` &mdash; определяет поведение функции `bool` на объекте.\n",
        "* `__contains__` &mdash; определяет поведение оператора `in` (полезно для контейнеров)\n",
        "* `__call__` &mdash; вызывается, когда объект класса вызывается со скобками (как функция). Позволяет сделать объекты класса callable.\n",
        "* `__copy__`, `__deepcopy__` &mdash; определяют, как объект класса копируется."
      ]
    },
    {
      "cell_type": "code",
      "source": [
        "b = a"
      ],
      "metadata": {
        "id": "IrmwLR-tb_sA"
      },
      "execution_count": 111,
      "outputs": []
    },
    {
      "cell_type": "code",
      "source": [
        "a = [1, 2, 3, 4]"
      ],
      "metadata": {
        "id": "g7s2W-35bGxD"
      },
      "execution_count": 98,
      "outputs": []
    },
    {
      "cell_type": "code",
      "source": [
        "b[1] = -1"
      ],
      "metadata": {
        "id": "SEE9QOdFcBLD"
      },
      "execution_count": 112,
      "outputs": []
    },
    {
      "cell_type": "code",
      "source": [
        "a"
      ],
      "metadata": {
        "id": "dsCSITs1cEI5",
        "outputId": "b9ccfcfb-786e-40ea-e633-da6476008df0",
        "colab": {
          "base_uri": "https://localhost:8080/"
        }
      },
      "execution_count": 113,
      "outputs": [
        {
          "output_type": "execute_result",
          "data": {
            "text/plain": [
              "[1, -1, 3, 4]"
            ]
          },
          "metadata": {},
          "execution_count": 113
        }
      ]
    },
    {
      "cell_type": "code",
      "source": [
        "a is b"
      ],
      "metadata": {
        "id": "EL_ChesrcHRF",
        "outputId": "74e3e7f0-c59d-4f6b-e306-d4c564256ea5",
        "colab": {
          "base_uri": "https://localhost:8080/"
        }
      },
      "execution_count": 114,
      "outputs": [
        {
          "output_type": "execute_result",
          "data": {
            "text/plain": [
              "True"
            ]
          },
          "metadata": {},
          "execution_count": 114
        }
      ]
    },
    {
      "cell_type": "code",
      "source": [
        "10 in a"
      ],
      "metadata": {
        "id": "0VxmiOTqb5Hv",
        "outputId": "53b43fd1-ee43-4154-d0e7-9e96324962af",
        "colab": {
          "base_uri": "https://localhost:8080/"
        }
      },
      "execution_count": 110,
      "outputs": [
        {
          "output_type": "execute_result",
          "data": {
            "text/plain": [
              "False"
            ]
          },
          "metadata": {},
          "execution_count": 110
        }
      ]
    },
    {
      "cell_type": "code",
      "source": [
        "for elem in a:\n",
        "  print(elem)"
      ],
      "metadata": {
        "id": "7Zyso9NrbIxS",
        "outputId": "0d452184-5431-4a9c-b9f8-9e1725c3bc59",
        "colab": {
          "base_uri": "https://localhost:8080/"
        }
      },
      "execution_count": 99,
      "outputs": [
        {
          "output_type": "stream",
          "name": "stdout",
          "text": [
            "1\n",
            "2\n",
            "3\n",
            "4\n"
          ]
        }
      ]
    },
    {
      "cell_type": "code",
      "source": [
        "iterator = a.__iter__()\n",
        "iterator = iter(a)"
      ],
      "metadata": {
        "id": "xn44Bro7bMw5"
      },
      "execution_count": 101,
      "outputs": []
    },
    {
      "cell_type": "code",
      "source": [
        "dir(iterator)"
      ],
      "metadata": {
        "id": "fbVVMKaLbVRU",
        "outputId": "a4e5183d-024d-471d-c3ff-53b5e1ac8846",
        "colab": {
          "base_uri": "https://localhost:8080/"
        }
      },
      "execution_count": 108,
      "outputs": [
        {
          "output_type": "execute_result",
          "data": {
            "text/plain": [
              "['__class__',\n",
              " '__delattr__',\n",
              " '__dir__',\n",
              " '__doc__',\n",
              " '__eq__',\n",
              " '__format__',\n",
              " '__ge__',\n",
              " '__getattribute__',\n",
              " '__gt__',\n",
              " '__hash__',\n",
              " '__init__',\n",
              " '__init_subclass__',\n",
              " '__iter__',\n",
              " '__le__',\n",
              " '__length_hint__',\n",
              " '__lt__',\n",
              " '__ne__',\n",
              " '__new__',\n",
              " '__next__',\n",
              " '__reduce__',\n",
              " '__reduce_ex__',\n",
              " '__repr__',\n",
              " '__setattr__',\n",
              " '__setstate__',\n",
              " '__sizeof__',\n",
              " '__str__',\n",
              " '__subclasshook__']"
            ]
          },
          "metadata": {},
          "execution_count": 108
        }
      ]
    },
    {
      "cell_type": "code",
      "source": [
        "iterator.__next__()"
      ],
      "metadata": {
        "id": "OukTmAmKbXMH",
        "outputId": "7ba754ca-56fc-4edc-de97-40bdf62afb83",
        "colab": {
          "base_uri": "https://localhost:8080/"
        }
      },
      "execution_count": 103,
      "outputs": [
        {
          "output_type": "execute_result",
          "data": {
            "text/plain": [
              "1"
            ]
          },
          "metadata": {},
          "execution_count": 103
        }
      ]
    },
    {
      "cell_type": "code",
      "source": [
        "next(iterator)"
      ],
      "metadata": {
        "id": "-63hyeibbbFa",
        "outputId": "071acae5-54e7-45d7-8934-7d20af9cb07b",
        "colab": {
          "base_uri": "https://localhost:8080/",
          "height": 175
        }
      },
      "execution_count": 107,
      "outputs": [
        {
          "output_type": "error",
          "ename": "StopIteration",
          "evalue": "ignored",
          "traceback": [
            "\u001b[0;31m---------------------------------------------------------------------------\u001b[0m",
            "\u001b[0;31mStopIteration\u001b[0m                             Traceback (most recent call last)",
            "\u001b[0;32m<ipython-input-107-4ce711c44abc>\u001b[0m in \u001b[0;36m<cell line: 1>\u001b[0;34m()\u001b[0m\n\u001b[0;32m----> 1\u001b[0;31m \u001b[0mnext\u001b[0m\u001b[0;34m(\u001b[0m\u001b[0miterator\u001b[0m\u001b[0;34m)\u001b[0m\u001b[0;34m\u001b[0m\u001b[0;34m\u001b[0m\u001b[0m\n\u001b[0m",
            "\u001b[0;31mStopIteration\u001b[0m: "
          ]
        }
      ]
    }
  ]
}